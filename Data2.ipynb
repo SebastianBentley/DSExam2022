{
 "cells": [
  {
   "cell_type": "markdown",
   "id": "2265ea85",
   "metadata": {},
   "source": [
    "# Dataset 2 - Heart Disease 2020"
   ]
  },
  {
   "cell_type": "code",
   "execution_count": 44,
   "id": "6fb00e66",
   "metadata": {},
   "outputs": [],
   "source": [
    "#imports\n",
    "import pandas as pd\n",
    "import numpy as np\n",
    "from sklearn import datasets, svm, tree, preprocessing, metrics\n",
    "import statistics\n",
    "import matplotlib.pyplot as plt\n",
    "import seaborn as sns\n",
    "import pandas_profiling\n",
    "from sklearn.model_selection import train_test_split"
   ]
  },
  {
   "cell_type": "markdown",
   "id": "c934fab2",
   "metadata": {},
   "source": [
    "## About the data\n",
    "The data is gathered from the United Stated Center for Disease Control and Prevention (CDC), and contains heart disease data and parameter from 2020."
   ]
  },
  {
   "cell_type": "markdown",
   "id": "ee77baee",
   "metadata": {},
   "source": [
    "## 1. Downloading and understanding the data"
   ]
  },
  {
   "cell_type": "code",
   "execution_count": 45,
   "id": "c1c66f9c",
   "metadata": {},
   "outputs": [
    {
     "name": "stdout",
     "output_type": "stream",
     "text": [
      "(319795, 18)\n"
     ]
    },
    {
     "data": {
      "text/html": [
       "<div>\n",
       "<style scoped>\n",
       "    .dataframe tbody tr th:only-of-type {\n",
       "        vertical-align: middle;\n",
       "    }\n",
       "\n",
       "    .dataframe tbody tr th {\n",
       "        vertical-align: top;\n",
       "    }\n",
       "\n",
       "    .dataframe thead th {\n",
       "        text-align: right;\n",
       "    }\n",
       "</style>\n",
       "<table border=\"1\" class=\"dataframe\">\n",
       "  <thead>\n",
       "    <tr style=\"text-align: right;\">\n",
       "      <th></th>\n",
       "      <th>HeartDisease</th>\n",
       "      <th>BMI</th>\n",
       "      <th>Smoking</th>\n",
       "      <th>AlcoholDrinking</th>\n",
       "      <th>Stroke</th>\n",
       "      <th>PhysicalHealth</th>\n",
       "      <th>MentalHealth</th>\n",
       "      <th>DiffWalking</th>\n",
       "      <th>Sex</th>\n",
       "      <th>AgeCategory</th>\n",
       "      <th>Race</th>\n",
       "      <th>Diabetic</th>\n",
       "      <th>PhysicalActivity</th>\n",
       "      <th>GenHealth</th>\n",
       "      <th>SleepTime</th>\n",
       "      <th>Asthma</th>\n",
       "      <th>KidneyDisease</th>\n",
       "      <th>SkinCancer</th>\n",
       "    </tr>\n",
       "  </thead>\n",
       "  <tbody>\n",
       "    <tr>\n",
       "      <th>0</th>\n",
       "      <td>No</td>\n",
       "      <td>16.60</td>\n",
       "      <td>Yes</td>\n",
       "      <td>No</td>\n",
       "      <td>No</td>\n",
       "      <td>3.0</td>\n",
       "      <td>30.0</td>\n",
       "      <td>No</td>\n",
       "      <td>Female</td>\n",
       "      <td>55-59</td>\n",
       "      <td>White</td>\n",
       "      <td>Yes</td>\n",
       "      <td>Yes</td>\n",
       "      <td>Very good</td>\n",
       "      <td>5.0</td>\n",
       "      <td>Yes</td>\n",
       "      <td>No</td>\n",
       "      <td>Yes</td>\n",
       "    </tr>\n",
       "    <tr>\n",
       "      <th>1</th>\n",
       "      <td>No</td>\n",
       "      <td>20.34</td>\n",
       "      <td>No</td>\n",
       "      <td>No</td>\n",
       "      <td>Yes</td>\n",
       "      <td>0.0</td>\n",
       "      <td>0.0</td>\n",
       "      <td>No</td>\n",
       "      <td>Female</td>\n",
       "      <td>80 or older</td>\n",
       "      <td>White</td>\n",
       "      <td>No</td>\n",
       "      <td>Yes</td>\n",
       "      <td>Very good</td>\n",
       "      <td>7.0</td>\n",
       "      <td>No</td>\n",
       "      <td>No</td>\n",
       "      <td>No</td>\n",
       "    </tr>\n",
       "    <tr>\n",
       "      <th>2</th>\n",
       "      <td>No</td>\n",
       "      <td>26.58</td>\n",
       "      <td>Yes</td>\n",
       "      <td>No</td>\n",
       "      <td>No</td>\n",
       "      <td>20.0</td>\n",
       "      <td>30.0</td>\n",
       "      <td>No</td>\n",
       "      <td>Male</td>\n",
       "      <td>65-69</td>\n",
       "      <td>White</td>\n",
       "      <td>Yes</td>\n",
       "      <td>Yes</td>\n",
       "      <td>Fair</td>\n",
       "      <td>8.0</td>\n",
       "      <td>Yes</td>\n",
       "      <td>No</td>\n",
       "      <td>No</td>\n",
       "    </tr>\n",
       "    <tr>\n",
       "      <th>3</th>\n",
       "      <td>No</td>\n",
       "      <td>24.21</td>\n",
       "      <td>No</td>\n",
       "      <td>No</td>\n",
       "      <td>No</td>\n",
       "      <td>0.0</td>\n",
       "      <td>0.0</td>\n",
       "      <td>No</td>\n",
       "      <td>Female</td>\n",
       "      <td>75-79</td>\n",
       "      <td>White</td>\n",
       "      <td>No</td>\n",
       "      <td>No</td>\n",
       "      <td>Good</td>\n",
       "      <td>6.0</td>\n",
       "      <td>No</td>\n",
       "      <td>No</td>\n",
       "      <td>Yes</td>\n",
       "    </tr>\n",
       "    <tr>\n",
       "      <th>4</th>\n",
       "      <td>No</td>\n",
       "      <td>23.71</td>\n",
       "      <td>No</td>\n",
       "      <td>No</td>\n",
       "      <td>No</td>\n",
       "      <td>28.0</td>\n",
       "      <td>0.0</td>\n",
       "      <td>Yes</td>\n",
       "      <td>Female</td>\n",
       "      <td>40-44</td>\n",
       "      <td>White</td>\n",
       "      <td>No</td>\n",
       "      <td>Yes</td>\n",
       "      <td>Very good</td>\n",
       "      <td>8.0</td>\n",
       "      <td>No</td>\n",
       "      <td>No</td>\n",
       "      <td>No</td>\n",
       "    </tr>\n",
       "  </tbody>\n",
       "</table>\n",
       "</div>"
      ],
      "text/plain": [
       "  HeartDisease    BMI Smoking AlcoholDrinking Stroke  PhysicalHealth  \\\n",
       "0           No  16.60     Yes              No     No             3.0   \n",
       "1           No  20.34      No              No    Yes             0.0   \n",
       "2           No  26.58     Yes              No     No            20.0   \n",
       "3           No  24.21      No              No     No             0.0   \n",
       "4           No  23.71      No              No     No            28.0   \n",
       "\n",
       "   MentalHealth DiffWalking     Sex  AgeCategory   Race Diabetic  \\\n",
       "0          30.0          No  Female        55-59  White      Yes   \n",
       "1           0.0          No  Female  80 or older  White       No   \n",
       "2          30.0          No    Male        65-69  White      Yes   \n",
       "3           0.0          No  Female        75-79  White       No   \n",
       "4           0.0         Yes  Female        40-44  White       No   \n",
       "\n",
       "  PhysicalActivity  GenHealth  SleepTime Asthma KidneyDisease SkinCancer  \n",
       "0              Yes  Very good        5.0    Yes            No        Yes  \n",
       "1              Yes  Very good        7.0     No            No         No  \n",
       "2              Yes       Fair        8.0    Yes            No         No  \n",
       "3               No       Good        6.0     No            No        Yes  \n",
       "4              Yes  Very good        8.0     No            No         No  "
      ]
     },
     "execution_count": 45,
     "metadata": {},
     "output_type": "execute_result"
    }
   ],
   "source": [
    "#First, the data is read with pandas, and the head of the data is viewed. \n",
    "df = pd.read_csv('datasets/heart_2020_cleaned.csv')\n",
    "print(df.shape)\n",
    "df.head()"
   ]
  },
  {
   "cell_type": "code",
   "execution_count": 46,
   "id": "dc24d793",
   "metadata": {},
   "outputs": [
    {
     "name": "stdout",
     "output_type": "stream",
     "text": [
      "<class 'pandas.core.frame.DataFrame'>\n",
      "RangeIndex: 319795 entries, 0 to 319794\n",
      "Data columns (total 18 columns):\n",
      " #   Column            Non-Null Count   Dtype  \n",
      "---  ------            --------------   -----  \n",
      " 0   HeartDisease      319795 non-null  object \n",
      " 1   BMI               319795 non-null  float64\n",
      " 2   Smoking           319795 non-null  object \n",
      " 3   AlcoholDrinking   319795 non-null  object \n",
      " 4   Stroke            319795 non-null  object \n",
      " 5   PhysicalHealth    319795 non-null  float64\n",
      " 6   MentalHealth      319795 non-null  float64\n",
      " 7   DiffWalking       319795 non-null  object \n",
      " 8   Sex               319795 non-null  object \n",
      " 9   AgeCategory       319795 non-null  object \n",
      " 10  Race              319795 non-null  object \n",
      " 11  Diabetic          319795 non-null  object \n",
      " 12  PhysicalActivity  319795 non-null  object \n",
      " 13  GenHealth         319795 non-null  object \n",
      " 14  SleepTime         319795 non-null  float64\n",
      " 15  Asthma            319795 non-null  object \n",
      " 16  KidneyDisease     319795 non-null  object \n",
      " 17  SkinCancer        319795 non-null  object \n",
      "dtypes: float64(4), object(14)\n",
      "memory usage: 43.9+ MB\n"
     ]
    }
   ],
   "source": [
    "#The head showed different type of values, let's look at all the different types.\n",
    "#There are no null values but many different types.\n",
    "df.info()"
   ]
  },
  {
   "cell_type": "code",
   "execution_count": 47,
   "id": "b355d382",
   "metadata": {},
   "outputs": [
    {
     "data": {
      "text/html": [
       "<div>\n",
       "<style scoped>\n",
       "    .dataframe tbody tr th:only-of-type {\n",
       "        vertical-align: middle;\n",
       "    }\n",
       "\n",
       "    .dataframe tbody tr th {\n",
       "        vertical-align: top;\n",
       "    }\n",
       "\n",
       "    .dataframe thead th {\n",
       "        text-align: right;\n",
       "    }\n",
       "</style>\n",
       "<table border=\"1\" class=\"dataframe\">\n",
       "  <thead>\n",
       "    <tr style=\"text-align: right;\">\n",
       "      <th></th>\n",
       "      <th>BMI</th>\n",
       "      <th>PhysicalHealth</th>\n",
       "      <th>MentalHealth</th>\n",
       "      <th>SleepTime</th>\n",
       "    </tr>\n",
       "  </thead>\n",
       "  <tbody>\n",
       "    <tr>\n",
       "      <th>count</th>\n",
       "      <td>319795.000000</td>\n",
       "      <td>319795.00000</td>\n",
       "      <td>319795.000000</td>\n",
       "      <td>319795.000000</td>\n",
       "    </tr>\n",
       "    <tr>\n",
       "      <th>mean</th>\n",
       "      <td>28.325399</td>\n",
       "      <td>3.37171</td>\n",
       "      <td>3.898366</td>\n",
       "      <td>7.097075</td>\n",
       "    </tr>\n",
       "    <tr>\n",
       "      <th>std</th>\n",
       "      <td>6.356100</td>\n",
       "      <td>7.95085</td>\n",
       "      <td>7.955235</td>\n",
       "      <td>1.436007</td>\n",
       "    </tr>\n",
       "    <tr>\n",
       "      <th>min</th>\n",
       "      <td>12.020000</td>\n",
       "      <td>0.00000</td>\n",
       "      <td>0.000000</td>\n",
       "      <td>1.000000</td>\n",
       "    </tr>\n",
       "    <tr>\n",
       "      <th>25%</th>\n",
       "      <td>24.030000</td>\n",
       "      <td>0.00000</td>\n",
       "      <td>0.000000</td>\n",
       "      <td>6.000000</td>\n",
       "    </tr>\n",
       "    <tr>\n",
       "      <th>50%</th>\n",
       "      <td>27.340000</td>\n",
       "      <td>0.00000</td>\n",
       "      <td>0.000000</td>\n",
       "      <td>7.000000</td>\n",
       "    </tr>\n",
       "    <tr>\n",
       "      <th>75%</th>\n",
       "      <td>31.420000</td>\n",
       "      <td>2.00000</td>\n",
       "      <td>3.000000</td>\n",
       "      <td>8.000000</td>\n",
       "    </tr>\n",
       "    <tr>\n",
       "      <th>max</th>\n",
       "      <td>94.850000</td>\n",
       "      <td>30.00000</td>\n",
       "      <td>30.000000</td>\n",
       "      <td>24.000000</td>\n",
       "    </tr>\n",
       "  </tbody>\n",
       "</table>\n",
       "</div>"
      ],
      "text/plain": [
       "                 BMI  PhysicalHealth   MentalHealth      SleepTime\n",
       "count  319795.000000    319795.00000  319795.000000  319795.000000\n",
       "mean       28.325399         3.37171       3.898366       7.097075\n",
       "std         6.356100         7.95085       7.955235       1.436007\n",
       "min        12.020000         0.00000       0.000000       1.000000\n",
       "25%        24.030000         0.00000       0.000000       6.000000\n",
       "50%        27.340000         0.00000       0.000000       7.000000\n",
       "75%        31.420000         2.00000       3.000000       8.000000\n",
       "max        94.850000        30.00000      30.000000      24.000000"
      ]
     },
     "execution_count": 47,
     "metadata": {},
     "output_type": "execute_result"
    }
   ],
   "source": [
    "#By descibing the data, we see that BMI has a higher value than the rest. and Standard deviation is low for SleepTime.\n",
    "#This means that we might have to standardize the data later, so it fits better with a model.\n",
    "df.describe()"
   ]
  },
  {
   "cell_type": "code",
   "execution_count": 48,
   "id": "e84fd09e",
   "metadata": {},
   "outputs": [
    {
     "data": {
      "text/plain": [
       "array([[<AxesSubplot:title={'center':'BMI'}>,\n",
       "        <AxesSubplot:title={'center':'PhysicalHealth'}>],\n",
       "       [<AxesSubplot:title={'center':'MentalHealth'}>,\n",
       "        <AxesSubplot:title={'center':'SleepTime'}>]], dtype=object)"
      ]
     },
     "execution_count": 48,
     "metadata": {},
     "output_type": "execute_result"
    },
    {
     "data": {
      "image/png": "[encoded data removed]",
      "text/plain": [
       "<Figure size 720x576 with 4 Axes>"
      ]
     },
     "metadata": {
      "needs_background": "light"
     },
     "output_type": "display_data"
    }
   ],
   "source": [
    "#Let's create a histogram, to get an idea of potentioal outliers, and knowlegde, by vizualising the data.\n",
    "#The histogram show that there might be a few outliers on PhsycalHealth and MentalHealth, however the data might be imoprtant,\n",
    "#since the context is health, and we want to look at people with high value for there parameters aswell.\n",
    "df.hist(bins= 40, figsize=(10, 8))"
   ]
  },
  {
   "cell_type": "code",
   "execution_count": 49,
   "id": "88b849f9",
   "metadata": {},
   "outputs": [
    {
     "data": {
      "text/plain": [
       "<AxesSubplot:xlabel='BMI'>"
      ]
     },
     "execution_count": 49,
     "metadata": {},
     "output_type": "execute_result"
    },
    {
     "data": {
      "image/png": "[encoded data removed]",
      "text/plain": [
       "<Figure size 432x288 with 1 Axes>"
      ]
     },
     "metadata": {
      "needs_background": "light"
     },
     "output_type": "display_data"
    }
   ],
   "source": [
    "#Looking at BMI, we can se an outlier with very low BMI, let's remove that.\n",
    "sns.boxplot(x = df['BMI'])"
   ]
  },
  {
   "cell_type": "code",
   "execution_count": 50,
   "id": "c0395a35",
   "metadata": {},
   "outputs": [
    {
     "data": {
      "text/plain": [
       "<AxesSubplot:xlabel='BMI'>"
      ]
     },
     "execution_count": 50,
     "metadata": {},
     "output_type": "execute_result"
    },
    {
     "data": {
      "image/png": "[encoded data removed]",
      "text/plain": [
       "<Figure size 432x288 with 1 Axes>"
      ]
     },
     "metadata": {
      "needs_background": "light"
     },
     "output_type": "display_data"
    }
   ],
   "source": [
    "#SHOW COUNT OF < 13\n",
    "df.drop(df.index[df['BMI'] < 13], inplace=True)\n",
    "sns.boxplot(x = df['BMI'])"
   ]
  },
  {
   "cell_type": "markdown",
   "id": "41a9b40b",
   "metadata": {},
   "source": [
    "## 2. Data preparation"
   ]
  },
  {
   "cell_type": "code",
   "execution_count": 51,
   "id": "598b3f65",
   "metadata": {},
   "outputs": [],
   "source": [
    "#Now we encode the object values from Object to Integer or float, so it fits with machine learning alhorithms.\n",
    "\n",
    "#Function to encode 'Yes/No' to '1/0'.\n",
    "def boolEncode(s):\n",
    "    result = s.map(dict(Yes=1, No=0))\n",
    "    return result\n",
    "\n",
    "#Function to encode age from Category to mean of individual category range.\n",
    "def ageEncode(s):\n",
    "    result = []\n",
    "    for i in s:\n",
    "        if (\"-\" in str(i)):\n",
    "            split = i.split(\"-\")\n",
    "            newAge = statistics.mean([int(split[0]), int(split[1])])\n",
    "        else:\n",
    "            newAge = 80\n",
    "            \n",
    "        result.append(newAge)   \n",
    "    \n",
    "    return result\n",
    "\n",
    "#Function to preprocess a dataframe, and return a copy of encoded df.\n",
    "def preprocessor(df):\n",
    "    processed_df = df.copy()\n",
    "    le = preprocessing.LabelEncoder()\n",
    "    #LabelEncode categorical data.\n",
    "    processed_df.Sex = le.fit_transform(df.Sex)\n",
    "    processed_df.Race = le.fit_transform(df.Race)\n",
    "    processed_df.GenHealth = le.fit_transform(df.GenHealth)\n",
    "    #Encode 'Yes/No' to '1/0'\n",
    "    processed_df.HeartDisease = boolEncode(df.HeartDisease)\n",
    "    processed_df.Smoking = boolEncode(df.Smoking)\n",
    "    processed_df.AlcoholDrinking = boolEncode(df.AlcoholDrinking)\n",
    "    processed_df.Stroke = boolEncode(df.Stroke)\n",
    "    processed_df.DiffWalking = boolEncode(df.DiffWalking)\n",
    "    processed_df.Diabetic = boolEncode(df.Diabetic)\n",
    "    processed_df.PhysicalActivity = boolEncode(df.PhysicalActivity)\n",
    "    processed_df.Asthma = boolEncode(df.Asthma)\n",
    "    processed_df.KidneyDisease = boolEncode(df.KidneyDisease)\n",
    "    processed_df.SkinCancer = boolEncode(df.SkinCancer)\n",
    "    #Encode the age to mean of category\n",
    "    processed_df.AgeCategory = ageEncode(df.AgeCategory)\n",
    "    processed_df.Diabetic = processed_df.Diabetic.fillna(0)\n",
    "    return processed_df\n",
    "\n",
    "\n",
    "p_df = preprocessor(df)"
   ]
  },
  {
   "cell_type": "code",
   "execution_count": 52,
   "id": "dcc67c1c",
   "metadata": {},
   "outputs": [
    {
     "data": {
      "text/plain": [
       "HeartDisease          int64\n",
       "BMI                 float64\n",
       "Smoking               int64\n",
       "AlcoholDrinking       int64\n",
       "Stroke                int64\n",
       "PhysicalHealth      float64\n",
       "MentalHealth        float64\n",
       "DiffWalking           int64\n",
       "Sex                   int32\n",
       "AgeCategory           int64\n",
       "Race                  int32\n",
       "Diabetic            float64\n",
       "PhysicalActivity      int64\n",
       "GenHealth             int32\n",
       "SleepTime           float64\n",
       "Asthma                int64\n",
       "KidneyDisease         int64\n",
       "SkinCancer            int64\n",
       "dtype: object"
      ]
     },
     "execution_count": 52,
     "metadata": {},
     "output_type": "execute_result"
    }
   ],
   "source": [
    "#Looking at the new types, we see that they are all of type int64 or float64, which means that it is ready for further evaluation.\n",
    "p_df.dtypes"
   ]
  },
  {
   "cell_type": "code",
   "execution_count": 53,
   "id": "34878173",
   "metadata": {},
   "outputs": [
    {
     "data": {
      "text/plain": [
       "HeartDisease        0\n",
       "BMI                 0\n",
       "Smoking             0\n",
       "AlcoholDrinking     0\n",
       "Stroke              0\n",
       "PhysicalHealth      0\n",
       "MentalHealth        0\n",
       "DiffWalking         0\n",
       "Sex                 0\n",
       "AgeCategory         0\n",
       "Race                0\n",
       "Diabetic            0\n",
       "PhysicalActivity    0\n",
       "GenHealth           0\n",
       "SleepTime           0\n",
       "Asthma              0\n",
       "KidneyDisease       0\n",
       "SkinCancer          0\n",
       "dtype: int64"
      ]
     },
     "execution_count": 53,
     "metadata": {},
     "output_type": "execute_result"
    }
   ],
   "source": [
    "p_df.isna().sum()"
   ]
  },
  {
   "cell_type": "markdown",
   "id": "67632ade",
   "metadata": {},
   "source": [
    "## 3. Vizualising the data to gain insights"
   ]
  },
  {
   "cell_type": "code",
   "execution_count": 54,
   "id": "31e18311",
   "metadata": {},
   "outputs": [
    {
     "data": {
      "text/plain": [
       "HeartDisease        1.000000\n",
       "AgeCategory         0.231610\n",
       "DiffWalking         0.201226\n",
       "Stroke              0.196742\n",
       "Diabetic            0.183061\n",
       "PhysicalHealth      0.170719\n",
       "KidneyDisease       0.145099\n",
       "Smoking             0.107762\n",
       "SkinCancer          0.093282\n",
       "Sex                 0.070041\n",
       "BMI                 0.051917\n",
       "Asthma              0.041420\n",
       "Race                0.034900\n",
       "MentalHealth        0.028556\n",
       "SleepTime           0.008361\n",
       "GenHealth          -0.011044\n",
       "AlcoholDrinking    -0.032100\n",
       "PhysicalActivity   -0.099997\n",
       "Name: HeartDisease, dtype: float64"
      ]
     },
     "execution_count": 54,
     "metadata": {},
     "output_type": "execute_result"
    }
   ],
   "source": [
    "#Let's look at the correlations for the Heart disease\n",
    "corr_matrix = p_df.corr()\n",
    "corr_matrix[\"HeartDisease\"].sort_values(ascending=False)"
   ]
  },
  {
   "cell_type": "code",
   "execution_count": 55,
   "id": "ec415879",
   "metadata": {},
   "outputs": [
    {
     "name": "stdout",
     "output_type": "stream",
     "text": [
      "People younger than 50: 120105\n",
      "Number of heart diseases: 2014\n",
      "People older than 50: 199644\n",
      "Number of heart diseases: 25352\n",
      "This tells us that we a have many younger people, without heart disease, which is why there seems to be a low correlation\n"
     ]
    },
    {
     "name": "stderr",
     "output_type": "stream",
     "text": [
      "C:\\Users\\sebas\\AppData\\Local\\Temp/ipykernel_11244/1515836151.py:5: UserWarning: Boolean Series key will be reindexed to match DataFrame index.\n",
      "  print('Number of heart diseases:', (p_df[p_df.AgeCategory < 50][p_df.HeartDisease == 1]).HeartDisease.sum())\n",
      "C:\\Users\\sebas\\AppData\\Local\\Temp/ipykernel_11244/1515836151.py:7: UserWarning: Boolean Series key will be reindexed to match DataFrame index.\n",
      "  print('Number of heart diseases:', (p_df[p_df.AgeCategory > 50][p_df.HeartDisease == 1]).HeartDisease.sum())\n"
     ]
    },
    {
     "data": {
      "image/png": "[encoded data removed]",
      "text/plain": [
       "<Figure size 432x288 with 1 Axes>"
      ]
     },
     "metadata": {
      "needs_background": "light"
     },
     "output_type": "display_data"
    }
   ],
   "source": [
    "#Looking at the highest correlation, we can se that a higher age, means more likely to get heart disease.\n",
    "#The reason we might have a semi-low correlation, can be because there are many young people in the dataset.\n",
    "p_df.groupby('AgeCategory')['HeartDisease'].mean().plot(kind='line')\n",
    "print('People younger than 50:', (p_df.AgeCategory < 50).sum())\n",
    "print('Number of heart diseases:', (p_df[p_df.AgeCategory < 50][p_df.HeartDisease == 1]).HeartDisease.sum())\n",
    "print('People older than 50:', (p_df.AgeCategory > 50).sum())\n",
    "print('Number of heart diseases:', (p_df[p_df.AgeCategory > 50][p_df.HeartDisease == 1]).HeartDisease.sum())\n",
    "print('This tells us that we a have many younger people, without heart disease, which is why there seems to be a low correlation')"
   ]
  },
  {
   "cell_type": "markdown",
   "id": "31c598ba",
   "metadata": {},
   "source": [
    "**Pandas profiling file:**\\\n",
    "Looking at *Profilling/profiling_data2.html* We can get even more vizualiton of the data and its correlation."
   ]
  },
  {
   "cell_type": "code",
   "execution_count": 56,
   "id": "afe29869",
   "metadata": {
    "scrolled": true
   },
   "outputs": [],
   "source": [
    "#pandas_profiling.ProfileReport(p_df).to_file(\"profilling/profiling_data2.html\")"
   ]
  },
  {
   "cell_type": "markdown",
   "id": "513a11da",
   "metadata": {},
   "source": [
    "## 4. Using Principal Component Analysius (PCA) to reduce dimensions"
   ]
  },
  {
   "cell_type": "code",
   "execution_count": 57,
   "id": "ec7e9dd2",
   "metadata": {},
   "outputs": [],
   "source": [
    "#Converting the data into two arrays (with and without target)\n",
    "array = p_df.values\n",
    "X = array[:, 1:]\n",
    "y = array[:, :1]"
   ]
  },
  {
   "cell_type": "code",
   "execution_count": 58,
   "id": "3f9f174a",
   "metadata": {},
   "outputs": [],
   "source": [
    "#Standard scaling results in a worse score!\n",
    "#from sklearn.preprocessing import StandardScaler\n",
    "#X = StandardScaler().fit_transform(X)"
   ]
  },
  {
   "cell_type": "code",
   "execution_count": 59,
   "id": "9d99a3a5",
   "metadata": {},
   "outputs": [
    {
     "data": {
      "text/plain": [
       "4"
      ]
     },
     "execution_count": 59,
     "metadata": {},
     "output_type": "execute_result"
    }
   ],
   "source": [
    "# To run the model faster, we use dimensional reduction (PCA)\n",
    "from sklearn.decomposition import PCA\n",
    "\n",
    "pca = PCA(0.98) #keep 98% accuracy\n",
    "X_pca = pca.fit_transform(X)\n",
    "\n",
    "pca.n_components_"
   ]
  },
  {
   "cell_type": "code",
   "execution_count": 60,
   "id": "49baf278",
   "metadata": {},
   "outputs": [
    {
     "data": {
      "text/plain": [
       "array([0.64916198, 0.16879448, 0.08833453, 0.07950696])"
      ]
     },
     "execution_count": 60,
     "metadata": {},
     "output_type": "execute_result"
    }
   ],
   "source": [
    "#Looking at the explained Variance, we can see how accurate the model is,\n",
    "#after using dimentional reduction.\n",
    "pca.explained_variance_ratio_"
   ]
  },
  {
   "cell_type": "markdown",
   "id": "78c3cf49",
   "metadata": {},
   "source": [
    "## 5. Splitting the data into training and test set. "
   ]
  },
  {
   "cell_type": "code",
   "execution_count": 61,
   "id": "96bfe66e",
   "metadata": {},
   "outputs": [],
   "source": [
    "#We need to have a training and a test set, so we can train a model, and test it.\n",
    "#In this case, we splitting the data into 80% training, and 20% test.\n",
    "\n",
    "#inital value for randomization(seed)\n",
    "seed = 7\n",
    "test_set_size = 0.2\n",
    "X_train, X_test, y_train, y_test = train_test_split(X_pca, y, test_size=test_set_size, random_state=seed)"
   ]
  },
  {
   "cell_type": "markdown",
   "id": "28193fe2",
   "metadata": {},
   "source": [
    "## 6. Select and train models"
   ]
  },
  {
   "cell_type": "markdown",
   "id": "2ad0bc78",
   "metadata": {},
   "source": [
    "### 6.1 Starting with Bayes Classification"
   ]
  },
  {
   "cell_type": "code",
   "execution_count": 19,
   "id": "2e173f36",
   "metadata": {
    "scrolled": true
   },
   "outputs": [
    {
     "data": {
      "text/plain": [
       "GaussianNB()"
      ]
     },
     "execution_count": 19,
     "metadata": {},
     "output_type": "execute_result"
    }
   ],
   "source": [
    "from sklearn.naive_bayes import GaussianNB\n",
    "model = GaussianNB()\n",
    "#ravel() will convert that array shape to (n, ) (i.e. flatten it)\n",
    "model.fit(X_train, y_train.ravel())"
   ]
  },
  {
   "cell_type": "code",
   "execution_count": 20,
   "id": "e1d3bf63",
   "metadata": {},
   "outputs": [
    {
     "name": "stdout",
     "output_type": "stream",
     "text": [
      "0.8768569194683347\n"
     ]
    }
   ],
   "source": [
    "score = model.score(X_test, y_test)\n",
    "print(score)"
   ]
  },
  {
   "cell_type": "code",
   "execution_count": 21,
   "id": "3e75537f",
   "metadata": {},
   "outputs": [
    {
     "data": {
      "text/plain": [
       "array([0., 0., 0., ..., 0., 0., 0.])"
      ]
     },
     "execution_count": 21,
     "metadata": {},
     "output_type": "execute_result"
    }
   ],
   "source": [
    "# Test on the test data, try prediction\n",
    "prediction = model.predict(X_test)\n",
    "prediction"
   ]
  },
  {
   "cell_type": "markdown",
   "id": "6327d33d",
   "metadata": {},
   "source": [
    "### 6.2 Cross validating several models"
   ]
  },
  {
   "cell_type": "code",
   "execution_count": 22,
   "id": "cdc821f8",
   "metadata": {},
   "outputs": [],
   "source": [
    "from sklearn import model_selection\n",
    "from sklearn.metrics import classification_report\n",
    "from sklearn.metrics import confusion_matrix\n",
    "from sklearn.metrics import accuracy_score\n",
    "from sklearn.linear_model import LogisticRegression\n",
    "from sklearn.tree import DecisionTreeClassifier\n",
    "from sklearn.neighbors import KNeighborsClassifier\n",
    "from sklearn.naive_bayes import GaussianNB\n",
    "from sklearn.svm import SVC"
   ]
  },
  {
   "cell_type": "code",
   "execution_count": 23,
   "id": "107b8921",
   "metadata": {},
   "outputs": [],
   "source": [
    "# We store each trained model into array called models[]\n",
    "models = []\n",
    "models.append(('LR', LogisticRegression()))\n",
    "models.append(('KNN', KNeighborsClassifier()))\n",
    "models.append(('CART', DecisionTreeClassifier()))\n",
    "models.append(('NB', GaussianNB()))"
   ]
  },
  {
   "cell_type": "code",
   "execution_count": 73,
   "id": "aae4894e",
   "metadata": {},
   "outputs": [],
   "source": [
    "# Give a fixed value for seed to be used in all tests\n",
    "seed = 7\n",
    "\n",
    "# Give fixed value for the number of repeted trainings of one model\n",
    "num_repeat = 10 #also called Folds"
   ]
  },
  {
   "cell_type": "code",
   "execution_count": 25,
   "id": "7f823c6f",
   "metadata": {},
   "outputs": [
    {
     "name": "stdout",
     "output_type": "stream",
     "text": [
      "LR: 0.913792 (0.003687)\n",
      "KNN: 0.903284 (0.003228)\n",
      "CART: 0.856935 (0.003516)\n",
      "NB: 0.876497 (0.004801)\n"
     ]
    }
   ],
   "source": [
    "# Run all the algorithms and store their results in results[] and names in names[]\n",
    "# For each we use the specific parameters preliminary stored in modelss[]\n",
    "results = []\n",
    "names = []\n",
    "scoring = 'accuracy'\n",
    "for name, model in models:\n",
    "    # prepare randomization of splits\n",
    "    kfold = model_selection.KFold(n_splits=num_repeat, random_state=seed, shuffle=True)\n",
    "    \n",
    "    # implement the model and calcilate a score based on 'accuracy' (scoring)\n",
    "    cv_results = model_selection.cross_val_score(model, X_test, y_test.ravel(), cv=kfold, scoring=scoring)\n",
    "    \n",
    "    # store the result of this method in array results[]\n",
    "    results.append(cv_results)\n",
    "    \n",
    "    # store the name of this method in array names[]\n",
    "    names.append(name)\n",
    "    \n",
    "    # tell what you have done so far\n",
    "    msg = \"%s: %f (%f)\" % (name, cv_results.mean(), cv_results.std())\n",
    "    print(msg)   \n",
    "# repeat the same for next method"
   ]
  },
  {
   "cell_type": "markdown",
   "id": "7e3d0a28",
   "metadata": {},
   "source": [
    "### 6.3 Selecting the best scoring model\n",
    "It seems that Logistical Regression gives the best score, which makes sense! We are trying to create a model to predict likelyhood of heart disease, or not heart disease."
   ]
  },
  {
   "cell_type": "code",
   "execution_count": 62,
   "id": "cd5bfd75",
   "metadata": {},
   "outputs": [
    {
     "data": {
      "text/plain": [
       "0.9137607505863956"
      ]
     },
     "execution_count": 62,
     "metadata": {},
     "output_type": "execute_result"
    }
   ],
   "source": [
    "l_model = LogisticRegression()\n",
    "l_model.fit(X_train, y_train.ravel())\n",
    "l_model.score(X_test, y_test)"
   ]
  },
  {
   "cell_type": "code",
   "execution_count": 72,
   "id": "c41a1934",
   "metadata": {},
   "outputs": [
    {
     "data": {
      "text/plain": [
       "<AxesSubplot:xlabel='AgeCategory', ylabel='HeartDisease'>"
      ]
     },
     "execution_count": 72,
     "metadata": {},
     "output_type": "execute_result"
    },
    {
     "data": {
      "image/png": "[encoded data removed]",
      "text/plain": [
       "<Figure size 432x288 with 1 Axes>"
      ]
     },
     "metadata": {
      "needs_background": "light"
     },
     "output_type": "display_data"
    }
   ],
   "source": [
    "sns.regplot(x=p_df.AgeCategory, y=p_df.HeartDisease, data=p_df, logistic=True, ci=None)"
   ]
  },
  {
   "cell_type": "markdown",
   "id": "35855b79",
   "metadata": {},
   "source": [
    "This logistical plot, shows the probability of heart disease, given AgeCategory, which we know has low correlation, so why does the model seem to be very accurate?"
   ]
  },
  {
   "cell_type": "code",
   "execution_count": 64,
   "id": "2f1a6b27",
   "metadata": {},
   "outputs": [
    {
     "name": "stdout",
     "output_type": "stream",
     "text": [
      "[[58379   100]\n",
      " [ 5415    56]]\n"
     ]
    }
   ],
   "source": [
    "y_pred = l_model.predict(X_test)\n",
    "from sklearn.metrics import confusion_matrix\n",
    "confusion_matrix = confusion_matrix(y_test, y_pred)\n",
    "print(confusion_matrix)"
   ]
  },
  {
   "cell_type": "markdown",
   "id": "47e2f3cb",
   "metadata": {},
   "source": [
    "**Confusion matrix** show that there are 58379 **True positives**, 100 **False Positives**, 5415 **False Negatvies** and 56 **True Negatives**"
   ]
  },
  {
   "cell_type": "code",
   "execution_count": 65,
   "id": "17c6c97a",
   "metadata": {},
   "outputs": [
    {
     "name": "stdout",
     "output_type": "stream",
     "text": [
      "              precision    recall  f1-score   support\n",
      "\n",
      "         0.0       0.92      1.00      0.95     58479\n",
      "         1.0       0.36      0.01      0.02      5471\n",
      "\n",
      "    accuracy                           0.91     63950\n",
      "   macro avg       0.64      0.50      0.49     63950\n",
      "weighted avg       0.87      0.91      0.87     63950\n",
      "\n"
     ]
    }
   ],
   "source": [
    "from sklearn.metrics import classification_report\n",
    "print(classification_report(y_test, y_pred))"
   ]
  },
  {
   "cell_type": "markdown",
   "id": "df40993a",
   "metadata": {},
   "source": [
    "**Classification report** show that precision is high, and f1_score (combination of precision and recall) is high, which is good!"
   ]
  },
  {
   "cell_type": "code",
   "execution_count": 66,
   "id": "1d2eb954",
   "metadata": {},
   "outputs": [
    {
     "data": {
      "image/png": "[encoded data removed]",
      "text/plain": [
       "<Figure size 432x288 with 1 Axes>"
      ]
     },
     "metadata": {
      "needs_background": "light"
     },
     "output_type": "display_data"
    }
   ],
   "source": [
    "from sklearn.metrics import roc_auc_score\n",
    "from sklearn.metrics import roc_curve\n",
    "logit_roc_auc = roc_auc_score(y_test, l_model.predict(X_test))\n",
    "fpr, tpr, thresholds = roc_curve(y_test, l_model.predict_proba(X_test)[:,1])\n",
    "plt.figure()\n",
    "plt.plot(fpr, tpr, label='Logistic Regression (area = %0.2f)' % logit_roc_auc)\n",
    "plt.plot([0, 1], [0, 1],'r--')\n",
    "plt.xlim([0.0, 1.0])\n",
    "plt.ylim([0.0, 1.05])\n",
    "plt.xlabel('False Positive Rate')\n",
    "plt.ylabel('True Positive Rate')\n",
    "plt.title('Receiver operating characteristic')\n",
    "plt.legend(loc=\"lower right\")\n",
    "plt.savefig('Log_ROC')\n",
    "plt.show()"
   ]
  },
  {
   "cell_type": "markdown",
   "id": "963183fa",
   "metadata": {},
   "source": [
    "**ROC Curve** Show that high specificity(X) are associated with high sensitivity(Y).\\\n",
    "*Note:* Look at the formula for these."
   ]
  },
  {
   "cell_type": "markdown",
   "id": "378e142b",
   "metadata": {},
   "source": [
    "## 7. Storing the model"
   ]
  },
  {
   "cell_type": "code",
   "execution_count": null,
   "id": "02470bb2",
   "metadata": {},
   "outputs": [],
   "source": [
    "#import joblib\n",
    "#joblib.dump(msmodel, 'data2_model.pkl')"
   ]
  },
  {
   "cell_type": "code",
   "execution_count": null,
   "id": "0bdca20e",
   "metadata": {},
   "outputs": [],
   "source": [
    "#Notes for later:\n",
    "#USE PRINCIPAL COMPONENT ANALYSIS\n",
    "#BAYES CLASSIFICATION?\n",
    "#Logistical Regression?\n",
    "#Random Forest?\n",
    "#E10-1 IRIS BAYES"
   ]
  }
 ],
 "metadata": {
  "kernelspec": {
   "display_name": "Python 3 (ipykernel)",
   "language": "python",
   "name": "python3"
  },
  "language_info": {
   "codemirror_mode": {
    "name": "ipython",
    "version": 3
   },
   "file_extension": ".py",
   "mimetype": "text/x-python",
   "name": "python",
   "nbconvert_exporter": "python",
   "pygments_lexer": "ipython3",
   "version": "3.9.7"
  }
 },
 "nbformat": 4,
 "nbformat_minor": 5
}
