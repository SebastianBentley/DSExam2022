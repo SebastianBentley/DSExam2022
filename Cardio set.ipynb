{
 "cells": [
  {
   "cell_type": "code",
   "execution_count": 392,
   "id": "fe2bc0c6",
   "metadata": {},
   "outputs": [],
   "source": [
    "import pandas as pd\n",
    "import numpy as np\n",
    "import pandas_profiling\n",
    "# import libs for diagrams inline with the text\n",
    "import matplotlib.pyplot as plt\n",
    "%matplotlib inline\n",
    "import seaborn as sns\n",
    "\n",
    "# other utilities\n",
    "from sklearn import datasets, preprocessing, metrics"
   ]
  },
  {
   "cell_type": "code",
   "execution_count": 394,
   "id": "a6f7168d",
   "metadata": {},
   "outputs": [
    {
     "name": "stdout",
     "output_type": "stream",
     "text": [
      "(70000, 13)\n"
     ]
    },
    {
     "data": {
      "text/html": [
       "<div>\n",
       "<style scoped>\n",
       "    .dataframe tbody tr th:only-of-type {\n",
       "        vertical-align: middle;\n",
       "    }\n",
       "\n",
       "    .dataframe tbody tr th {\n",
       "        vertical-align: top;\n",
       "    }\n",
       "\n",
       "    .dataframe thead th {\n",
       "        text-align: right;\n",
       "    }\n",
       "</style>\n",
       "<table border=\"1\" class=\"dataframe\">\n",
       "  <thead>\n",
       "    <tr style=\"text-align: right;\">\n",
       "      <th></th>\n",
       "      <th>id</th>\n",
       "      <th>age</th>\n",
       "      <th>gender</th>\n",
       "      <th>height</th>\n",
       "      <th>weight</th>\n",
       "      <th>ap_hi</th>\n",
       "      <th>ap_lo</th>\n",
       "      <th>cholesterol</th>\n",
       "      <th>gluc</th>\n",
       "      <th>smoke</th>\n",
       "      <th>alco</th>\n",
       "      <th>active</th>\n",
       "      <th>cardio</th>\n",
       "    </tr>\n",
       "  </thead>\n",
       "  <tbody>\n",
       "    <tr>\n",
       "      <th>0</th>\n",
       "      <td>0</td>\n",
       "      <td>18393</td>\n",
       "      <td>2</td>\n",
       "      <td>168</td>\n",
       "      <td>62.0</td>\n",
       "      <td>110</td>\n",
       "      <td>80</td>\n",
       "      <td>1</td>\n",
       "      <td>1</td>\n",
       "      <td>0</td>\n",
       "      <td>0</td>\n",
       "      <td>1</td>\n",
       "      <td>0</td>\n",
       "    </tr>\n",
       "    <tr>\n",
       "      <th>1</th>\n",
       "      <td>1</td>\n",
       "      <td>20228</td>\n",
       "      <td>1</td>\n",
       "      <td>156</td>\n",
       "      <td>85.0</td>\n",
       "      <td>140</td>\n",
       "      <td>90</td>\n",
       "      <td>3</td>\n",
       "      <td>1</td>\n",
       "      <td>0</td>\n",
       "      <td>0</td>\n",
       "      <td>1</td>\n",
       "      <td>1</td>\n",
       "    </tr>\n",
       "    <tr>\n",
       "      <th>2</th>\n",
       "      <td>2</td>\n",
       "      <td>18857</td>\n",
       "      <td>1</td>\n",
       "      <td>165</td>\n",
       "      <td>64.0</td>\n",
       "      <td>130</td>\n",
       "      <td>70</td>\n",
       "      <td>3</td>\n",
       "      <td>1</td>\n",
       "      <td>0</td>\n",
       "      <td>0</td>\n",
       "      <td>0</td>\n",
       "      <td>1</td>\n",
       "    </tr>\n",
       "    <tr>\n",
       "      <th>3</th>\n",
       "      <td>3</td>\n",
       "      <td>17623</td>\n",
       "      <td>2</td>\n",
       "      <td>169</td>\n",
       "      <td>82.0</td>\n",
       "      <td>150</td>\n",
       "      <td>100</td>\n",
       "      <td>1</td>\n",
       "      <td>1</td>\n",
       "      <td>0</td>\n",
       "      <td>0</td>\n",
       "      <td>1</td>\n",
       "      <td>1</td>\n",
       "    </tr>\n",
       "    <tr>\n",
       "      <th>4</th>\n",
       "      <td>4</td>\n",
       "      <td>17474</td>\n",
       "      <td>1</td>\n",
       "      <td>156</td>\n",
       "      <td>56.0</td>\n",
       "      <td>100</td>\n",
       "      <td>60</td>\n",
       "      <td>1</td>\n",
       "      <td>1</td>\n",
       "      <td>0</td>\n",
       "      <td>0</td>\n",
       "      <td>0</td>\n",
       "      <td>0</td>\n",
       "    </tr>\n",
       "  </tbody>\n",
       "</table>\n",
       "</div>"
      ],
      "text/plain": [
       "   id    age  gender  height  weight  ap_hi  ap_lo  cholesterol  gluc  smoke  \\\n",
       "0   0  18393       2     168    62.0    110     80            1     1      0   \n",
       "1   1  20228       1     156    85.0    140     90            3     1      0   \n",
       "2   2  18857       1     165    64.0    130     70            3     1      0   \n",
       "3   3  17623       2     169    82.0    150    100            1     1      0   \n",
       "4   4  17474       1     156    56.0    100     60            1     1      0   \n",
       "\n",
       "   alco  active  cardio  \n",
       "0     0       1       0  \n",
       "1     0       1       1  \n",
       "2     0       0       1  \n",
       "3     0       1       1  \n",
       "4     0       0       0  "
      ]
     },
     "execution_count": 394,
     "metadata": {},
     "output_type": "execute_result"
    }
   ],
   "source": [
    "df3 = pd.read_csv('datasets/cardio_train.csv', delimiter=';')\n",
    "print(df3.shape)\n",
    "df3.head()"
   ]
  },
  {
   "cell_type": "markdown",
   "id": "6b65afcd",
   "metadata": {},
   "source": [
    "#### Getting information"
   ]
  },
  {
   "cell_type": "code",
   "execution_count": 395,
   "id": "029394ad",
   "metadata": {},
   "outputs": [
    {
     "data": {
      "text/html": [
       "<div>\n",
       "<style scoped>\n",
       "    .dataframe tbody tr th:only-of-type {\n",
       "        vertical-align: middle;\n",
       "    }\n",
       "\n",
       "    .dataframe tbody tr th {\n",
       "        vertical-align: top;\n",
       "    }\n",
       "\n",
       "    .dataframe thead th {\n",
       "        text-align: right;\n",
       "    }\n",
       "</style>\n",
       "<table border=\"1\" class=\"dataframe\">\n",
       "  <thead>\n",
       "    <tr style=\"text-align: right;\">\n",
       "      <th></th>\n",
       "      <th>id</th>\n",
       "      <th>age</th>\n",
       "      <th>gender</th>\n",
       "      <th>height</th>\n",
       "      <th>weight</th>\n",
       "      <th>ap_hi</th>\n",
       "      <th>ap_lo</th>\n",
       "      <th>cholesterol</th>\n",
       "      <th>gluc</th>\n",
       "      <th>smoke</th>\n",
       "      <th>alco</th>\n",
       "      <th>active</th>\n",
       "      <th>cardio</th>\n",
       "    </tr>\n",
       "  </thead>\n",
       "  <tbody>\n",
       "    <tr>\n",
       "      <th>count</th>\n",
       "      <td>70000.000000</td>\n",
       "      <td>70000.000000</td>\n",
       "      <td>70000.000000</td>\n",
       "      <td>70000.000000</td>\n",
       "      <td>70000.000000</td>\n",
       "      <td>70000.000000</td>\n",
       "      <td>70000.000000</td>\n",
       "      <td>70000.000000</td>\n",
       "      <td>70000.000000</td>\n",
       "      <td>70000.000000</td>\n",
       "      <td>70000.000000</td>\n",
       "      <td>70000.000000</td>\n",
       "      <td>70000.000000</td>\n",
       "    </tr>\n",
       "    <tr>\n",
       "      <th>mean</th>\n",
       "      <td>49972.419900</td>\n",
       "      <td>19468.865814</td>\n",
       "      <td>1.349571</td>\n",
       "      <td>164.359229</td>\n",
       "      <td>74.205690</td>\n",
       "      <td>128.817286</td>\n",
       "      <td>96.630414</td>\n",
       "      <td>1.366871</td>\n",
       "      <td>1.226457</td>\n",
       "      <td>0.088129</td>\n",
       "      <td>0.053771</td>\n",
       "      <td>0.803729</td>\n",
       "      <td>0.499700</td>\n",
       "    </tr>\n",
       "    <tr>\n",
       "      <th>std</th>\n",
       "      <td>28851.302323</td>\n",
       "      <td>2467.251667</td>\n",
       "      <td>0.476838</td>\n",
       "      <td>8.210126</td>\n",
       "      <td>14.395757</td>\n",
       "      <td>154.011419</td>\n",
       "      <td>188.472530</td>\n",
       "      <td>0.680250</td>\n",
       "      <td>0.572270</td>\n",
       "      <td>0.283484</td>\n",
       "      <td>0.225568</td>\n",
       "      <td>0.397179</td>\n",
       "      <td>0.500003</td>\n",
       "    </tr>\n",
       "    <tr>\n",
       "      <th>min</th>\n",
       "      <td>0.000000</td>\n",
       "      <td>10798.000000</td>\n",
       "      <td>1.000000</td>\n",
       "      <td>55.000000</td>\n",
       "      <td>10.000000</td>\n",
       "      <td>-150.000000</td>\n",
       "      <td>-70.000000</td>\n",
       "      <td>1.000000</td>\n",
       "      <td>1.000000</td>\n",
       "      <td>0.000000</td>\n",
       "      <td>0.000000</td>\n",
       "      <td>0.000000</td>\n",
       "      <td>0.000000</td>\n",
       "    </tr>\n",
       "    <tr>\n",
       "      <th>25%</th>\n",
       "      <td>25006.750000</td>\n",
       "      <td>17664.000000</td>\n",
       "      <td>1.000000</td>\n",
       "      <td>159.000000</td>\n",
       "      <td>65.000000</td>\n",
       "      <td>120.000000</td>\n",
       "      <td>80.000000</td>\n",
       "      <td>1.000000</td>\n",
       "      <td>1.000000</td>\n",
       "      <td>0.000000</td>\n",
       "      <td>0.000000</td>\n",
       "      <td>1.000000</td>\n",
       "      <td>0.000000</td>\n",
       "    </tr>\n",
       "    <tr>\n",
       "      <th>50%</th>\n",
       "      <td>50001.500000</td>\n",
       "      <td>19703.000000</td>\n",
       "      <td>1.000000</td>\n",
       "      <td>165.000000</td>\n",
       "      <td>72.000000</td>\n",
       "      <td>120.000000</td>\n",
       "      <td>80.000000</td>\n",
       "      <td>1.000000</td>\n",
       "      <td>1.000000</td>\n",
       "      <td>0.000000</td>\n",
       "      <td>0.000000</td>\n",
       "      <td>1.000000</td>\n",
       "      <td>0.000000</td>\n",
       "    </tr>\n",
       "    <tr>\n",
       "      <th>75%</th>\n",
       "      <td>74889.250000</td>\n",
       "      <td>21327.000000</td>\n",
       "      <td>2.000000</td>\n",
       "      <td>170.000000</td>\n",
       "      <td>82.000000</td>\n",
       "      <td>140.000000</td>\n",
       "      <td>90.000000</td>\n",
       "      <td>2.000000</td>\n",
       "      <td>1.000000</td>\n",
       "      <td>0.000000</td>\n",
       "      <td>0.000000</td>\n",
       "      <td>1.000000</td>\n",
       "      <td>1.000000</td>\n",
       "    </tr>\n",
       "    <tr>\n",
       "      <th>max</th>\n",
       "      <td>99999.000000</td>\n",
       "      <td>23713.000000</td>\n",
       "      <td>2.000000</td>\n",
       "      <td>250.000000</td>\n",
       "      <td>200.000000</td>\n",
       "      <td>16020.000000</td>\n",
       "      <td>11000.000000</td>\n",
       "      <td>3.000000</td>\n",
       "      <td>3.000000</td>\n",
       "      <td>1.000000</td>\n",
       "      <td>1.000000</td>\n",
       "      <td>1.000000</td>\n",
       "      <td>1.000000</td>\n",
       "    </tr>\n",
       "  </tbody>\n",
       "</table>\n",
       "</div>"
      ],
      "text/plain": [
       "                 id           age        gender        height        weight  \\\n",
       "count  70000.000000  70000.000000  70000.000000  70000.000000  70000.000000   \n",
       "mean   49972.419900  19468.865814      1.349571    164.359229     74.205690   \n",
       "std    28851.302323   2467.251667      0.476838      8.210126     14.395757   \n",
       "min        0.000000  10798.000000      1.000000     55.000000     10.000000   \n",
       "25%    25006.750000  17664.000000      1.000000    159.000000     65.000000   \n",
       "50%    50001.500000  19703.000000      1.000000    165.000000     72.000000   \n",
       "75%    74889.250000  21327.000000      2.000000    170.000000     82.000000   \n",
       "max    99999.000000  23713.000000      2.000000    250.000000    200.000000   \n",
       "\n",
       "              ap_hi         ap_lo   cholesterol          gluc         smoke  \\\n",
       "count  70000.000000  70000.000000  70000.000000  70000.000000  70000.000000   \n",
       "mean     128.817286     96.630414      1.366871      1.226457      0.088129   \n",
       "std      154.011419    188.472530      0.680250      0.572270      0.283484   \n",
       "min     -150.000000    -70.000000      1.000000      1.000000      0.000000   \n",
       "25%      120.000000     80.000000      1.000000      1.000000      0.000000   \n",
       "50%      120.000000     80.000000      1.000000      1.000000      0.000000   \n",
       "75%      140.000000     90.000000      2.000000      1.000000      0.000000   \n",
       "max    16020.000000  11000.000000      3.000000      3.000000      1.000000   \n",
       "\n",
       "               alco        active        cardio  \n",
       "count  70000.000000  70000.000000  70000.000000  \n",
       "mean       0.053771      0.803729      0.499700  \n",
       "std        0.225568      0.397179      0.500003  \n",
       "min        0.000000      0.000000      0.000000  \n",
       "25%        0.000000      1.000000      0.000000  \n",
       "50%        0.000000      1.000000      0.000000  \n",
       "75%        0.000000      1.000000      1.000000  \n",
       "max        1.000000      1.000000      1.000000  "
      ]
     },
     "execution_count": 395,
     "metadata": {},
     "output_type": "execute_result"
    }
   ],
   "source": [
    "df3.describe(include='all')"
   ]
  },
  {
   "cell_type": "markdown",
   "id": "f26ae023",
   "metadata": {},
   "source": [
    "### Checking for null values"
   ]
  },
  {
   "cell_type": "code",
   "execution_count": 396,
   "id": "c26528d9",
   "metadata": {},
   "outputs": [
    {
     "data": {
      "text/plain": [
       "id             0\n",
       "age            0\n",
       "gender         0\n",
       "height         0\n",
       "weight         0\n",
       "ap_hi          0\n",
       "ap_lo          0\n",
       "cholesterol    0\n",
       "gluc           0\n",
       "smoke          0\n",
       "alco           0\n",
       "active         0\n",
       "cardio         0\n",
       "dtype: int64"
      ]
     },
     "execution_count": 396,
     "metadata": {},
     "output_type": "execute_result"
    }
   ],
   "source": [
    "df3.isnull().sum()"
   ]
  },
  {
   "cell_type": "code",
   "execution_count": 397,
   "id": "a83908a2",
   "metadata": {},
   "outputs": [
    {
     "data": {
      "text/plain": [
       "id             0\n",
       "age            0\n",
       "gender         0\n",
       "height         0\n",
       "weight         0\n",
       "ap_hi          0\n",
       "ap_lo          0\n",
       "cholesterol    0\n",
       "gluc           0\n",
       "smoke          0\n",
       "alco           0\n",
       "active         0\n",
       "cardio         0\n",
       "dtype: int64"
      ]
     },
     "execution_count": 397,
     "metadata": {},
     "output_type": "execute_result"
    }
   ],
   "source": [
    "df3.isna().sum()"
   ]
  },
  {
   "cell_type": "markdown",
   "id": "6d9ef7da",
   "metadata": {},
   "source": [
    "#### Checking for extreme values"
   ]
  },
  {
   "cell_type": "code",
   "execution_count": null,
   "id": "5835aee1",
   "metadata": {},
   "outputs": [],
   "source": []
  },
  {
   "cell_type": "code",
   "execution_count": 398,
   "id": "c286ff03",
   "metadata": {},
   "outputs": [],
   "source": [
    "df3 = df3.drop(df3['ap_hi'].idxmax())"
   ]
  },
  {
   "cell_type": "code",
   "execution_count": 399,
   "id": "228ec4f3",
   "metadata": {},
   "outputs": [
    {
     "data": {
      "text/plain": [
       "14020"
      ]
     },
     "execution_count": 399,
     "metadata": {},
     "output_type": "execute_result"
    }
   ],
   "source": [
    "df3['ap_hi'].max()"
   ]
  },
  {
   "cell_type": "code",
   "execution_count": 400,
   "id": "b13ce226",
   "metadata": {},
   "outputs": [
    {
     "data": {
      "text/plain": [
       "<AxesSubplot:>"
      ]
     },
     "execution_count": 400,
     "metadata": {},
     "output_type": "execute_result"
    },
    {
     "data": {
      "image/png": "[encoded data removed]",
      "text/plain": [
       "<Figure size 432x288 with 1 Axes>"
      ]
     },
     "metadata": {
      "needs_background": "light"
     },
     "output_type": "display_data"
    }
   ],
   "source": [
    "df3['ap_hi'].plot.box()\n"
   ]
  },
  {
   "cell_type": "markdown",
   "id": "7d813b70",
   "metadata": {},
   "source": [
    "#### Ap hi has very extreme values which should not be possible and a large amount of them so dont feel like its responsible to use this data"
   ]
  },
  {
   "cell_type": "code",
   "execution_count": 401,
   "id": "d2039eb9",
   "metadata": {},
   "outputs": [],
   "source": [
    "df3 = df3.drop(df3['ap_lo'].idxmax())"
   ]
  },
  {
   "cell_type": "code",
   "execution_count": 402,
   "id": "39f23834",
   "metadata": {},
   "outputs": [
    {
     "data": {
      "text/plain": [
       "10000"
      ]
     },
     "execution_count": 402,
     "metadata": {},
     "output_type": "execute_result"
    }
   ],
   "source": [
    "df3['ap_lo'].max()"
   ]
  },
  {
   "cell_type": "code",
   "execution_count": 403,
   "id": "4cb1e2f8",
   "metadata": {},
   "outputs": [
    {
     "data": {
      "text/plain": [
       "<AxesSubplot:>"
      ]
     },
     "execution_count": 403,
     "metadata": {},
     "output_type": "execute_result"
    },
    {
     "data": {
      "image/png": "[encoded data removed]",
      "text/plain": [
       "<Figure size 432x288 with 1 Axes>"
      ]
     },
     "metadata": {
      "needs_background": "light"
     },
     "output_type": "display_data"
    }
   ],
   "source": [
    "df3['ap_lo'].plot.box()\n"
   ]
  },
  {
   "cell_type": "markdown",
   "id": "e45e7b19",
   "metadata": {},
   "source": [
    "#### Same with ap_lo, so i decide to remove them"
   ]
  },
  {
   "cell_type": "code",
   "execution_count": 378,
   "id": "3b8805db",
   "metadata": {},
   "outputs": [
    {
     "data": {
      "text/html": [
       "<div>\n",
       "<style scoped>\n",
       "    .dataframe tbody tr th:only-of-type {\n",
       "        vertical-align: middle;\n",
       "    }\n",
       "\n",
       "    .dataframe tbody tr th {\n",
       "        vertical-align: top;\n",
       "    }\n",
       "\n",
       "    .dataframe thead th {\n",
       "        text-align: right;\n",
       "    }\n",
       "</style>\n",
       "<table border=\"1\" class=\"dataframe\">\n",
       "  <thead>\n",
       "    <tr style=\"text-align: right;\">\n",
       "      <th></th>\n",
       "      <th>id</th>\n",
       "      <th>age</th>\n",
       "      <th>gender</th>\n",
       "      <th>height</th>\n",
       "      <th>weight</th>\n",
       "      <th>cholesterol</th>\n",
       "      <th>gluc</th>\n",
       "      <th>smoke</th>\n",
       "      <th>alco</th>\n",
       "      <th>active</th>\n",
       "      <th>cardio</th>\n",
       "    </tr>\n",
       "  </thead>\n",
       "  <tbody>\n",
       "    <tr>\n",
       "      <th>0</th>\n",
       "      <td>0</td>\n",
       "      <td>18393</td>\n",
       "      <td>2</td>\n",
       "      <td>168</td>\n",
       "      <td>62.0</td>\n",
       "      <td>1</td>\n",
       "      <td>1</td>\n",
       "      <td>0</td>\n",
       "      <td>0</td>\n",
       "      <td>1</td>\n",
       "      <td>0</td>\n",
       "    </tr>\n",
       "    <tr>\n",
       "      <th>1</th>\n",
       "      <td>1</td>\n",
       "      <td>20228</td>\n",
       "      <td>1</td>\n",
       "      <td>156</td>\n",
       "      <td>85.0</td>\n",
       "      <td>3</td>\n",
       "      <td>1</td>\n",
       "      <td>0</td>\n",
       "      <td>0</td>\n",
       "      <td>1</td>\n",
       "      <td>1</td>\n",
       "    </tr>\n",
       "    <tr>\n",
       "      <th>2</th>\n",
       "      <td>2</td>\n",
       "      <td>18857</td>\n",
       "      <td>1</td>\n",
       "      <td>165</td>\n",
       "      <td>64.0</td>\n",
       "      <td>3</td>\n",
       "      <td>1</td>\n",
       "      <td>0</td>\n",
       "      <td>0</td>\n",
       "      <td>0</td>\n",
       "      <td>1</td>\n",
       "    </tr>\n",
       "    <tr>\n",
       "      <th>3</th>\n",
       "      <td>3</td>\n",
       "      <td>17623</td>\n",
       "      <td>2</td>\n",
       "      <td>169</td>\n",
       "      <td>82.0</td>\n",
       "      <td>1</td>\n",
       "      <td>1</td>\n",
       "      <td>0</td>\n",
       "      <td>0</td>\n",
       "      <td>1</td>\n",
       "      <td>1</td>\n",
       "    </tr>\n",
       "    <tr>\n",
       "      <th>4</th>\n",
       "      <td>4</td>\n",
       "      <td>17474</td>\n",
       "      <td>1</td>\n",
       "      <td>156</td>\n",
       "      <td>56.0</td>\n",
       "      <td>1</td>\n",
       "      <td>1</td>\n",
       "      <td>0</td>\n",
       "      <td>0</td>\n",
       "      <td>0</td>\n",
       "      <td>0</td>\n",
       "    </tr>\n",
       "    <tr>\n",
       "      <th>...</th>\n",
       "      <td>...</td>\n",
       "      <td>...</td>\n",
       "      <td>...</td>\n",
       "      <td>...</td>\n",
       "      <td>...</td>\n",
       "      <td>...</td>\n",
       "      <td>...</td>\n",
       "      <td>...</td>\n",
       "      <td>...</td>\n",
       "      <td>...</td>\n",
       "      <td>...</td>\n",
       "    </tr>\n",
       "    <tr>\n",
       "      <th>69995</th>\n",
       "      <td>99993</td>\n",
       "      <td>19240</td>\n",
       "      <td>2</td>\n",
       "      <td>168</td>\n",
       "      <td>76.0</td>\n",
       "      <td>1</td>\n",
       "      <td>1</td>\n",
       "      <td>1</td>\n",
       "      <td>0</td>\n",
       "      <td>1</td>\n",
       "      <td>0</td>\n",
       "    </tr>\n",
       "    <tr>\n",
       "      <th>69996</th>\n",
       "      <td>99995</td>\n",
       "      <td>22601</td>\n",
       "      <td>1</td>\n",
       "      <td>158</td>\n",
       "      <td>126.0</td>\n",
       "      <td>2</td>\n",
       "      <td>2</td>\n",
       "      <td>0</td>\n",
       "      <td>0</td>\n",
       "      <td>1</td>\n",
       "      <td>1</td>\n",
       "    </tr>\n",
       "    <tr>\n",
       "      <th>69997</th>\n",
       "      <td>99996</td>\n",
       "      <td>19066</td>\n",
       "      <td>2</td>\n",
       "      <td>183</td>\n",
       "      <td>105.0</td>\n",
       "      <td>3</td>\n",
       "      <td>1</td>\n",
       "      <td>0</td>\n",
       "      <td>1</td>\n",
       "      <td>0</td>\n",
       "      <td>1</td>\n",
       "    </tr>\n",
       "    <tr>\n",
       "      <th>69998</th>\n",
       "      <td>99998</td>\n",
       "      <td>22431</td>\n",
       "      <td>1</td>\n",
       "      <td>163</td>\n",
       "      <td>72.0</td>\n",
       "      <td>1</td>\n",
       "      <td>2</td>\n",
       "      <td>0</td>\n",
       "      <td>0</td>\n",
       "      <td>0</td>\n",
       "      <td>1</td>\n",
       "    </tr>\n",
       "    <tr>\n",
       "      <th>69999</th>\n",
       "      <td>99999</td>\n",
       "      <td>20540</td>\n",
       "      <td>1</td>\n",
       "      <td>170</td>\n",
       "      <td>72.0</td>\n",
       "      <td>2</td>\n",
       "      <td>1</td>\n",
       "      <td>0</td>\n",
       "      <td>0</td>\n",
       "      <td>1</td>\n",
       "      <td>0</td>\n",
       "    </tr>\n",
       "  </tbody>\n",
       "</table>\n",
       "<p>69998 rows × 11 columns</p>\n",
       "</div>"
      ],
      "text/plain": [
       "          id    age  gender  height  weight  cholesterol  gluc  smoke  alco  \\\n",
       "0          0  18393       2     168    62.0            1     1      0     0   \n",
       "1          1  20228       1     156    85.0            3     1      0     0   \n",
       "2          2  18857       1     165    64.0            3     1      0     0   \n",
       "3          3  17623       2     169    82.0            1     1      0     0   \n",
       "4          4  17474       1     156    56.0            1     1      0     0   \n",
       "...      ...    ...     ...     ...     ...          ...   ...    ...   ...   \n",
       "69995  99993  19240       2     168    76.0            1     1      1     0   \n",
       "69996  99995  22601       1     158   126.0            2     2      0     0   \n",
       "69997  99996  19066       2     183   105.0            3     1      0     1   \n",
       "69998  99998  22431       1     163    72.0            1     2      0     0   \n",
       "69999  99999  20540       1     170    72.0            2     1      0     0   \n",
       "\n",
       "       active  cardio  \n",
       "0           1       0  \n",
       "1           1       1  \n",
       "2           0       1  \n",
       "3           1       1  \n",
       "4           0       0  \n",
       "...       ...     ...  \n",
       "69995       1       0  \n",
       "69996       1       1  \n",
       "69997       0       1  \n",
       "69998       0       1  \n",
       "69999       1       0  \n",
       "\n",
       "[69998 rows x 11 columns]"
      ]
     },
     "execution_count": 378,
     "metadata": {},
     "output_type": "execute_result"
    }
   ],
   "source": [
    "df3=df3.loc[:, ~df3.columns.isin(['ap_hi', 'ap_lo'])]\n",
    "df3"
   ]
  },
  {
   "cell_type": "markdown",
   "id": "d6cd4a7d",
   "metadata": {},
   "source": [
    "#### Changed the age from days to years"
   ]
  },
  {
   "cell_type": "code",
   "execution_count": 379,
   "id": "c9e63b90",
   "metadata": {},
   "outputs": [],
   "source": [
    "df3['age']=df3['age']/365"
   ]
  },
  {
   "cell_type": "markdown",
   "id": "8f9e1a58",
   "metadata": {},
   "source": [
    "#### Changed the age into a int"
   ]
  },
  {
   "cell_type": "code",
   "execution_count": 380,
   "id": "3d4f3162",
   "metadata": {},
   "outputs": [],
   "source": [
    "df3['age']=df3['age'].astype(int)\n"
   ]
  },
  {
   "cell_type": "markdown",
   "id": "cac0baad",
   "metadata": {},
   "source": [
    "#### thought it would be nice to now use the data I have to get new data\n",
    "#### The BMI"
   ]
  },
  {
   "cell_type": "markdown",
   "id": "ed31fd13",
   "metadata": {},
   "source": [
    "#### I change height to be in meters"
   ]
  },
  {
   "cell_type": "code",
   "execution_count": 381,
   "id": "9bca20f2",
   "metadata": {},
   "outputs": [],
   "source": [
    "df3['height']=df3['height']/100"
   ]
  },
  {
   "cell_type": "markdown",
   "id": "f63d22f7",
   "metadata": {},
   "source": [
    "#### Run the formular"
   ]
  },
  {
   "cell_type": "code",
   "execution_count": 382,
   "id": "c8916c25",
   "metadata": {},
   "outputs": [],
   "source": [
    "height2=(df3['height'])*(df3['height']);\n",
    "df3['bmi']=(df3['weight']/height2)\n",
    "df3['bmi']=df3['bmi'].astype(int)"
   ]
  },
  {
   "cell_type": "code",
   "execution_count": 383,
   "id": "e8ea3807",
   "metadata": {},
   "outputs": [
    {
     "data": {
      "text/html": [
       "<div>\n",
       "<style scoped>\n",
       "    .dataframe tbody tr th:only-of-type {\n",
       "        vertical-align: middle;\n",
       "    }\n",
       "\n",
       "    .dataframe tbody tr th {\n",
       "        vertical-align: top;\n",
       "    }\n",
       "\n",
       "    .dataframe thead th {\n",
       "        text-align: right;\n",
       "    }\n",
       "</style>\n",
       "<table border=\"1\" class=\"dataframe\">\n",
       "  <thead>\n",
       "    <tr style=\"text-align: right;\">\n",
       "      <th></th>\n",
       "      <th>id</th>\n",
       "      <th>age</th>\n",
       "      <th>gender</th>\n",
       "      <th>height</th>\n",
       "      <th>weight</th>\n",
       "      <th>cholesterol</th>\n",
       "      <th>gluc</th>\n",
       "      <th>smoke</th>\n",
       "      <th>alco</th>\n",
       "      <th>active</th>\n",
       "      <th>cardio</th>\n",
       "      <th>bmi</th>\n",
       "    </tr>\n",
       "  </thead>\n",
       "  <tbody>\n",
       "    <tr>\n",
       "      <th>0</th>\n",
       "      <td>0</td>\n",
       "      <td>50</td>\n",
       "      <td>2</td>\n",
       "      <td>1.68</td>\n",
       "      <td>62.0</td>\n",
       "      <td>1</td>\n",
       "      <td>1</td>\n",
       "      <td>0</td>\n",
       "      <td>0</td>\n",
       "      <td>1</td>\n",
       "      <td>0</td>\n",
       "      <td>21</td>\n",
       "    </tr>\n",
       "    <tr>\n",
       "      <th>1</th>\n",
       "      <td>1</td>\n",
       "      <td>55</td>\n",
       "      <td>1</td>\n",
       "      <td>1.56</td>\n",
       "      <td>85.0</td>\n",
       "      <td>3</td>\n",
       "      <td>1</td>\n",
       "      <td>0</td>\n",
       "      <td>0</td>\n",
       "      <td>1</td>\n",
       "      <td>1</td>\n",
       "      <td>34</td>\n",
       "    </tr>\n",
       "    <tr>\n",
       "      <th>2</th>\n",
       "      <td>2</td>\n",
       "      <td>51</td>\n",
       "      <td>1</td>\n",
       "      <td>1.65</td>\n",
       "      <td>64.0</td>\n",
       "      <td>3</td>\n",
       "      <td>1</td>\n",
       "      <td>0</td>\n",
       "      <td>0</td>\n",
       "      <td>0</td>\n",
       "      <td>1</td>\n",
       "      <td>23</td>\n",
       "    </tr>\n",
       "    <tr>\n",
       "      <th>3</th>\n",
       "      <td>3</td>\n",
       "      <td>48</td>\n",
       "      <td>2</td>\n",
       "      <td>1.69</td>\n",
       "      <td>82.0</td>\n",
       "      <td>1</td>\n",
       "      <td>1</td>\n",
       "      <td>0</td>\n",
       "      <td>0</td>\n",
       "      <td>1</td>\n",
       "      <td>1</td>\n",
       "      <td>28</td>\n",
       "    </tr>\n",
       "    <tr>\n",
       "      <th>4</th>\n",
       "      <td>4</td>\n",
       "      <td>47</td>\n",
       "      <td>1</td>\n",
       "      <td>1.56</td>\n",
       "      <td>56.0</td>\n",
       "      <td>1</td>\n",
       "      <td>1</td>\n",
       "      <td>0</td>\n",
       "      <td>0</td>\n",
       "      <td>0</td>\n",
       "      <td>0</td>\n",
       "      <td>23</td>\n",
       "    </tr>\n",
       "    <tr>\n",
       "      <th>...</th>\n",
       "      <td>...</td>\n",
       "      <td>...</td>\n",
       "      <td>...</td>\n",
       "      <td>...</td>\n",
       "      <td>...</td>\n",
       "      <td>...</td>\n",
       "      <td>...</td>\n",
       "      <td>...</td>\n",
       "      <td>...</td>\n",
       "      <td>...</td>\n",
       "      <td>...</td>\n",
       "      <td>...</td>\n",
       "    </tr>\n",
       "    <tr>\n",
       "      <th>69995</th>\n",
       "      <td>99993</td>\n",
       "      <td>52</td>\n",
       "      <td>2</td>\n",
       "      <td>1.68</td>\n",
       "      <td>76.0</td>\n",
       "      <td>1</td>\n",
       "      <td>1</td>\n",
       "      <td>1</td>\n",
       "      <td>0</td>\n",
       "      <td>1</td>\n",
       "      <td>0</td>\n",
       "      <td>26</td>\n",
       "    </tr>\n",
       "    <tr>\n",
       "      <th>69996</th>\n",
       "      <td>99995</td>\n",
       "      <td>61</td>\n",
       "      <td>1</td>\n",
       "      <td>1.58</td>\n",
       "      <td>126.0</td>\n",
       "      <td>2</td>\n",
       "      <td>2</td>\n",
       "      <td>0</td>\n",
       "      <td>0</td>\n",
       "      <td>1</td>\n",
       "      <td>1</td>\n",
       "      <td>50</td>\n",
       "    </tr>\n",
       "    <tr>\n",
       "      <th>69997</th>\n",
       "      <td>99996</td>\n",
       "      <td>52</td>\n",
       "      <td>2</td>\n",
       "      <td>1.83</td>\n",
       "      <td>105.0</td>\n",
       "      <td>3</td>\n",
       "      <td>1</td>\n",
       "      <td>0</td>\n",
       "      <td>1</td>\n",
       "      <td>0</td>\n",
       "      <td>1</td>\n",
       "      <td>31</td>\n",
       "    </tr>\n",
       "    <tr>\n",
       "      <th>69998</th>\n",
       "      <td>99998</td>\n",
       "      <td>61</td>\n",
       "      <td>1</td>\n",
       "      <td>1.63</td>\n",
       "      <td>72.0</td>\n",
       "      <td>1</td>\n",
       "      <td>2</td>\n",
       "      <td>0</td>\n",
       "      <td>0</td>\n",
       "      <td>0</td>\n",
       "      <td>1</td>\n",
       "      <td>27</td>\n",
       "    </tr>\n",
       "    <tr>\n",
       "      <th>69999</th>\n",
       "      <td>99999</td>\n",
       "      <td>56</td>\n",
       "      <td>1</td>\n",
       "      <td>1.70</td>\n",
       "      <td>72.0</td>\n",
       "      <td>2</td>\n",
       "      <td>1</td>\n",
       "      <td>0</td>\n",
       "      <td>0</td>\n",
       "      <td>1</td>\n",
       "      <td>0</td>\n",
       "      <td>24</td>\n",
       "    </tr>\n",
       "  </tbody>\n",
       "</table>\n",
       "<p>69998 rows × 12 columns</p>\n",
       "</div>"
      ],
      "text/plain": [
       "          id  age  gender  height  weight  cholesterol  gluc  smoke  alco  \\\n",
       "0          0   50       2    1.68    62.0            1     1      0     0   \n",
       "1          1   55       1    1.56    85.0            3     1      0     0   \n",
       "2          2   51       1    1.65    64.0            3     1      0     0   \n",
       "3          3   48       2    1.69    82.0            1     1      0     0   \n",
       "4          4   47       1    1.56    56.0            1     1      0     0   \n",
       "...      ...  ...     ...     ...     ...          ...   ...    ...   ...   \n",
       "69995  99993   52       2    1.68    76.0            1     1      1     0   \n",
       "69996  99995   61       1    1.58   126.0            2     2      0     0   \n",
       "69997  99996   52       2    1.83   105.0            3     1      0     1   \n",
       "69998  99998   61       1    1.63    72.0            1     2      0     0   \n",
       "69999  99999   56       1    1.70    72.0            2     1      0     0   \n",
       "\n",
       "       active  cardio  bmi  \n",
       "0           1       0   21  \n",
       "1           1       1   34  \n",
       "2           0       1   23  \n",
       "3           1       1   28  \n",
       "4           0       0   23  \n",
       "...       ...     ...  ...  \n",
       "69995       1       0   26  \n",
       "69996       1       1   50  \n",
       "69997       0       1   31  \n",
       "69998       0       1   27  \n",
       "69999       1       0   24  \n",
       "\n",
       "[69998 rows x 12 columns]"
      ]
     },
     "execution_count": 383,
     "metadata": {},
     "output_type": "execute_result"
    }
   ],
   "source": [
    "df3"
   ]
  },
  {
   "cell_type": "code",
   "execution_count": 384,
   "id": "a45f7769",
   "metadata": {},
   "outputs": [
    {
     "data": {
      "application/vnd.jupyter.widget-view+json": {
       "model_id": "a9069576b904401594fbab858d77dfd5",
       "version_major": 2,
       "version_minor": 0
      },
      "text/plain": [
       "Summarize dataset:   0%|          | 0/27 [00:00<?, ?it/s]"
      ]
     },
     "metadata": {},
     "output_type": "display_data"
    },
    {
     "data": {
      "application/vnd.jupyter.widget-view+json": {
       "model_id": "75b0abc0cd7f48ad9898785a2d20a0b4",
       "version_major": 2,
       "version_minor": 0
      },
      "text/plain": [
       "Generate report structure:   0%|          | 0/1 [00:00<?, ?it/s]"
      ]
     },
     "metadata": {},
     "output_type": "display_data"
    },
    {
     "data": {
      "application/vnd.jupyter.widget-view+json": {
       "model_id": "3fab6d717f9d4691a570768823b39402",
       "version_major": 2,
       "version_minor": 0
      },
      "text/plain": [
       "Render HTML:   0%|          | 0/1 [00:00<?, ?it/s]"
      ]
     },
     "metadata": {},
     "output_type": "display_data"
    },
    {
     "data": {
      "application/vnd.jupyter.widget-view+json": {
       "model_id": "ebd86b0f296a4b8d9f06f1a6aa92b14d",
       "version_major": 2,
       "version_minor": 0
      },
      "text/plain": [
       "Export report to file:   0%|          | 0/1 [00:00<?, ?it/s]"
      ]
     },
     "metadata": {},
     "output_type": "display_data"
    }
   ],
   "source": [
    "pandas_profiling.ProfileReport(df3).to_file(\"cardio.html\")\n"
   ]
  },
  {
   "cell_type": "markdown",
   "id": "57293491",
   "metadata": {},
   "source": [
    "#### In this picture under, you can see that chol, bmi, weight and age all correlate with cardiovascular disease"
   ]
  },
  {
   "attachments": {
    "image-2.png": {
     "image/png": "[encoded data removed]"
    },
    "image.png": {
     "image/png": "[encoded data removed]"
    }
   },
   "cell_type": "markdown",
   "id": "023cf004",
   "metadata": {},
   "source": [
    "![image.png](attachment:image.png)\n",
    "![image-2.png](attachment:image-2.png)"
   ]
  },
  {
   "cell_type": "code",
   "execution_count": 415,
   "id": "7527c7dc",
   "metadata": {},
   "outputs": [
    {
     "data": {
      "text/html": [
       "<style type=\"text/css\">\n",
       "#T_72321_row0_col0, #T_72321_row1_col1, #T_72321_row2_col2, #T_72321_row3_col3, #T_72321_row4_col4, #T_72321_row5_col5, #T_72321_row6_col6, #T_72321_row7_col7, #T_72321_row8_col8, #T_72321_row9_col9, #T_72321_row10_col10, #T_72321_row11_col11, #T_72321_row12_col12 {\n",
       "  background-color: #2369bd;\n",
       "  color: #f1f1f1;\n",
       "}\n",
       "#T_72321_row0_col1, #T_72321_row5_col3, #T_72321_row6_col3, #T_72321_row10_col7 {\n",
       "  background-color: #b75756;\n",
       "  color: #f1f1f1;\n",
       "}\n",
       "#T_72321_row0_col2, #T_72321_row0_col11, #T_72321_row0_col12, #T_72321_row5_col11, #T_72321_row6_col11 {\n",
       "  background-color: #af4647;\n",
       "  color: #f1f1f1;\n",
       "}\n",
       "#T_72321_row0_col3, #T_72321_row5_col7, #T_72321_row6_col7 {\n",
       "  background-color: #b65453;\n",
       "  color: #f1f1f1;\n",
       "}\n",
       "#T_72321_row0_col4, #T_72321_row1_col2, #T_72321_row2_col7, #T_72321_row8_col2, #T_72321_row8_col5, #T_72321_row8_col6, #T_72321_row9_col8, #T_72321_row10_col6, #T_72321_row11_col8 {\n",
       "  background-color: #ab3c3f;\n",
       "  color: #f1f1f1;\n",
       "}\n",
       "#T_72321_row0_col5, #T_72321_row0_col6, #T_72321_row1_col3, #T_72321_row1_col9, #T_72321_row1_col10, #T_72321_row2_col8, #T_72321_row3_col0, #T_72321_row3_col1, #T_72321_row3_col7, #T_72321_row3_col8, #T_72321_row4_col0, #T_72321_row6_col0, #T_72321_row7_col2, #T_72321_row9_col0, #T_72321_row9_col5, #T_72321_row10_col5, #T_72321_row11_col4, #T_72321_row11_col5, #T_72321_row11_col12, #T_72321_row12_col11 {\n",
       "  background-color: #a9373b;\n",
       "  color: #f1f1f1;\n",
       "}\n",
       "#T_72321_row0_col7, #T_72321_row2_col1, #T_72321_row6_col9, #T_72321_row11_col10 {\n",
       "  background-color: #b24c4c;\n",
       "  color: #f1f1f1;\n",
       "}\n",
       "#T_72321_row0_col8, #T_72321_row1_col6, #T_72321_row5_col6, #T_72321_row12_col10 {\n",
       "  background-color: #ac3f42;\n",
       "  color: #f1f1f1;\n",
       "}\n",
       "#T_72321_row0_col9, #T_72321_row2_col11, #T_72321_row2_col12, #T_72321_row5_col2, #T_72321_row6_col10, #T_72321_row8_col9, #T_72321_row8_col10, #T_72321_row11_col2, #T_72321_row12_col2 {\n",
       "  background-color: #b04748;\n",
       "  color: #f1f1f1;\n",
       "}\n",
       "#T_72321_row0_col10, #T_72321_row3_col11, #T_72321_row5_col10, #T_72321_row7_col3, #T_72321_row7_col6, #T_72321_row8_col11, #T_72321_row10_col8, #T_72321_row12_col9 {\n",
       "  background-color: #ae4244;\n",
       "  color: #f1f1f1;\n",
       "}\n",
       "#T_72321_row1_col0, #T_72321_row2_col0, #T_72321_row3_col5, #T_72321_row5_col0, #T_72321_row8_col0, #T_72321_row10_col0, #T_72321_row11_col0, #T_72321_row11_col6, #T_72321_row12_col0 {\n",
       "  background-color: #a9393c;\n",
       "  color: #f1f1f1;\n",
       "}\n",
       "#T_72321_row1_col4, #T_72321_row11_col3, #T_72321_row11_col9, #T_72321_row12_col6 {\n",
       "  background-color: #b55252;\n",
       "  color: #f1f1f1;\n",
       "}\n",
       "#T_72321_row1_col5, #T_72321_row1_col11, #T_72321_row3_col12, #T_72321_row7_col5, #T_72321_row10_col12 {\n",
       "  background-color: #ad4143;\n",
       "  color: #f1f1f1;\n",
       "}\n",
       "#T_72321_row1_col7, #T_72321_row2_col10, #T_72321_row12_col4 {\n",
       "  background-color: #ca827f;\n",
       "  color: #f1f1f1;\n",
       "}\n",
       "#T_72321_row1_col8 {\n",
       "  background-color: #be6463;\n",
       "  color: #f1f1f1;\n",
       "}\n",
       "#T_72321_row1_col12 {\n",
       "  background-color: #d59d9a;\n",
       "  color: #f1f1f1;\n",
       "}\n",
       "#T_72321_row2_col3 {\n",
       "  background-color: #f2f0f2;\n",
       "  color: #000000;\n",
       "}\n",
       "#T_72321_row2_col4 {\n",
       "  background-color: #c77977;\n",
       "  color: #f1f1f1;\n",
       "}\n",
       "#T_72321_row2_col5, #T_72321_row3_col6, #T_72321_row7_col0, #T_72321_row9_col6 {\n",
       "  background-color: #aa3a3e;\n",
       "  color: #f1f1f1;\n",
       "}\n",
       "#T_72321_row2_col6, #T_72321_row4_col11, #T_72321_row6_col5, #T_72321_row9_col12 {\n",
       "  background-color: #ac3e40;\n",
       "  color: #f1f1f1;\n",
       "}\n",
       "#T_72321_row2_col9, #T_72321_row10_col9 {\n",
       "  background-color: #e7c7c5;\n",
       "  color: #000000;\n",
       "}\n",
       "#T_72321_row3_col2 {\n",
       "  background-color: #f8f4f5;\n",
       "  color: #000000;\n",
       "}\n",
       "#T_72321_row3_col4 {\n",
       "  background-color: #dcacaa;\n",
       "  color: #000000;\n",
       "}\n",
       "#T_72321_row3_col9 {\n",
       "  background-color: #cf8e8b;\n",
       "  color: #f1f1f1;\n",
       "}\n",
       "#T_72321_row3_col10, #T_72321_row8_col12 {\n",
       "  background-color: #be6664;\n",
       "  color: #f1f1f1;\n",
       "}\n",
       "#T_72321_row4_col1, #T_72321_row4_col8, #T_72321_row8_col4 {\n",
       "  background-color: #bf6765;\n",
       "  color: #f1f1f1;\n",
       "}\n",
       "#T_72321_row4_col2 {\n",
       "  background-color: #c97f7d;\n",
       "  color: #f1f1f1;\n",
       "}\n",
       "#T_72321_row4_col3 {\n",
       "  background-color: #e3bdbb;\n",
       "  color: #000000;\n",
       "}\n",
       "#T_72321_row4_col5, #T_72321_row5_col8, #T_72321_row6_col8, #T_72321_row9_col1 {\n",
       "  background-color: #af4446;\n",
       "  color: #f1f1f1;\n",
       "}\n",
       "#T_72321_row4_col6, #T_72321_row5_col9, #T_72321_row7_col11 {\n",
       "  background-color: #b1494a;\n",
       "  color: #f1f1f1;\n",
       "}\n",
       "#T_72321_row4_col7 {\n",
       "  background-color: #c87e7b;\n",
       "  color: #f1f1f1;\n",
       "}\n",
       "#T_72321_row4_col9 {\n",
       "  background-color: #bd6361;\n",
       "  color: #f1f1f1;\n",
       "}\n",
       "#T_72321_row4_col10, #T_72321_row5_col1 {\n",
       "  background-color: #ba5d5c;\n",
       "  color: #f1f1f1;\n",
       "}\n",
       "#T_72321_row4_col12 {\n",
       "  background-color: #cd8885;\n",
       "  color: #f1f1f1;\n",
       "}\n",
       "#T_72321_row5_col4, #T_72321_row6_col2, #T_72321_row10_col1 {\n",
       "  background-color: #b24a4b;\n",
       "  color: #f1f1f1;\n",
       "}\n",
       "#T_72321_row5_col12, #T_72321_row6_col1 {\n",
       "  background-color: #b95b5a;\n",
       "  color: #f1f1f1;\n",
       "}\n",
       "#T_72321_row6_col4, #T_72321_row9_col11, #T_72321_row10_col11 {\n",
       "  background-color: #b44f4f;\n",
       "  color: #f1f1f1;\n",
       "}\n",
       "#T_72321_row6_col12 {\n",
       "  background-color: #bb5e5d;\n",
       "  color: #f1f1f1;\n",
       "}\n",
       "#T_72321_row7_col1 {\n",
       "  background-color: #ce8b88;\n",
       "  color: #f1f1f1;\n",
       "}\n",
       "#T_72321_row7_col4 {\n",
       "  background-color: #c47371;\n",
       "  color: #f1f1f1;\n",
       "}\n",
       "#T_72321_row7_col8 {\n",
       "  background-color: #f8edeb;\n",
       "  color: #000000;\n",
       "}\n",
       "#T_72321_row7_col9, #T_72321_row8_col3, #T_72321_row9_col7, #T_72321_row11_col7, #T_72321_row12_col5 {\n",
       "  background-color: #b34d4e;\n",
       "  color: #f1f1f1;\n",
       "}\n",
       "#T_72321_row7_col10, #T_72321_row11_col1, #T_72321_row12_col3 {\n",
       "  background-color: #b55151;\n",
       "  color: #f1f1f1;\n",
       "}\n",
       "#T_72321_row7_col12, #T_72321_row9_col3 {\n",
       "  background-color: #d39794;\n",
       "  color: #f1f1f1;\n",
       "}\n",
       "#T_72321_row8_col1 {\n",
       "  background-color: #c67875;\n",
       "  color: #f1f1f1;\n",
       "}\n",
       "#T_72321_row8_col7 {\n",
       "  background-color: #faf2f1;\n",
       "  color: #000000;\n",
       "}\n",
       "#T_72321_row9_col2 {\n",
       "  background-color: #e5c3c1;\n",
       "  color: #000000;\n",
       "}\n",
       "#T_72321_row9_col4, #T_72321_row10_col4 {\n",
       "  background-color: #b85857;\n",
       "  color: #f1f1f1;\n",
       "}\n",
       "#T_72321_row9_col10 {\n",
       "  background-color: #e5c2c0;\n",
       "  color: #000000;\n",
       "}\n",
       "#T_72321_row10_col2 {\n",
       "  background-color: #cc8582;\n",
       "  color: #f1f1f1;\n",
       "}\n",
       "#T_72321_row10_col3 {\n",
       "  background-color: #c57674;\n",
       "  color: #f1f1f1;\n",
       "}\n",
       "#T_72321_row12_col1 {\n",
       "  background-color: #daa9a7;\n",
       "  color: #000000;\n",
       "}\n",
       "#T_72321_row12_col7 {\n",
       "  background-color: #d59c99;\n",
       "  color: #f1f1f1;\n",
       "}\n",
       "#T_72321_row12_col8 {\n",
       "  background-color: #bc6160;\n",
       "  color: #f1f1f1;\n",
       "}\n",
       "</style>\n",
       "<table id=\"T_72321_\">\n",
       "  <thead>\n",
       "    <tr>\n",
       "      <th class=\"blank level0\" >&nbsp;</th>\n",
       "      <th class=\"col_heading level0 col0\" >id</th>\n",
       "      <th class=\"col_heading level0 col1\" >age</th>\n",
       "      <th class=\"col_heading level0 col2\" >gender</th>\n",
       "      <th class=\"col_heading level0 col3\" >height</th>\n",
       "      <th class=\"col_heading level0 col4\" >weight</th>\n",
       "      <th class=\"col_heading level0 col5\" >ap_hi</th>\n",
       "      <th class=\"col_heading level0 col6\" >ap_lo</th>\n",
       "      <th class=\"col_heading level0 col7\" >cholesterol</th>\n",
       "      <th class=\"col_heading level0 col8\" >gluc</th>\n",
       "      <th class=\"col_heading level0 col9\" >smoke</th>\n",
       "      <th class=\"col_heading level0 col10\" >alco</th>\n",
       "      <th class=\"col_heading level0 col11\" >active</th>\n",
       "      <th class=\"col_heading level0 col12\" >cardio</th>\n",
       "    </tr>\n",
       "  </thead>\n",
       "  <tbody>\n",
       "    <tr>\n",
       "      <th id=\"T_72321_level0_row0\" class=\"row_heading level0 row0\" >id</th>\n",
       "      <td id=\"T_72321_row0_col0\" class=\"data row0 col0\" >1.000000</td>\n",
       "      <td id=\"T_72321_row0_col1\" class=\"data row0 col1\" >0.003451</td>\n",
       "      <td id=\"T_72321_row0_col2\" class=\"data row0 col2\" >0.003510</td>\n",
       "      <td id=\"T_72321_row0_col3\" class=\"data row0 col3\" >-0.003037</td>\n",
       "      <td id=\"T_72321_row0_col4\" class=\"data row0 col4\" >-0.001841</td>\n",
       "      <td id=\"T_72321_row0_col5\" class=\"data row0 col5\" >0.003175</td>\n",
       "      <td id=\"T_72321_row0_col6\" class=\"data row0 col6\" >-0.002942</td>\n",
       "      <td id=\"T_72321_row0_col7\" class=\"data row0 col7\" >0.006112</td>\n",
       "      <td id=\"T_72321_row0_col8\" class=\"data row0 col8\" >0.002471</td>\n",
       "      <td id=\"T_72321_row0_col9\" class=\"data row0 col9\" >-0.003696</td>\n",
       "      <td id=\"T_72321_row0_col10\" class=\"data row0 col10\" >0.001212</td>\n",
       "      <td id=\"T_72321_row0_col11\" class=\"data row0 col11\" >0.003761</td>\n",
       "      <td id=\"T_72321_row0_col12\" class=\"data row0 col12\" >0.003789</td>\n",
       "    </tr>\n",
       "    <tr>\n",
       "      <th id=\"T_72321_level0_row1\" class=\"row_heading level0 row1\" >age</th>\n",
       "      <td id=\"T_72321_row1_col0\" class=\"data row1 col0\" >0.003451</td>\n",
       "      <td id=\"T_72321_row1_col1\" class=\"data row1 col1\" >1.000000</td>\n",
       "      <td id=\"T_72321_row1_col2\" class=\"data row1 col2\" >-0.022804</td>\n",
       "      <td id=\"T_72321_row1_col3\" class=\"data row1 col3\" >-0.081499</td>\n",
       "      <td id=\"T_72321_row1_col4\" class=\"data row1 col4\" >0.053637</td>\n",
       "      <td id=\"T_72321_row1_col5\" class=\"data row1 col5\" >0.023857</td>\n",
       "      <td id=\"T_72321_row1_col6\" class=\"data row1 col6\" >0.016796</td>\n",
       "      <td id=\"T_72321_row1_col7\" class=\"data row1 col7\" >0.154433</td>\n",
       "      <td id=\"T_72321_row1_col8\" class=\"data row1 col8\" >0.098709</td>\n",
       "      <td id=\"T_72321_row1_col9\" class=\"data row1 col9\" >-0.047631</td>\n",
       "      <td id=\"T_72321_row1_col10\" class=\"data row1 col10\" >-0.029721</td>\n",
       "      <td id=\"T_72321_row1_col11\" class=\"data row1 col11\" >-0.009962</td>\n",
       "      <td id=\"T_72321_row1_col12\" class=\"data row1 col12\" >0.238158</td>\n",
       "    </tr>\n",
       "    <tr>\n",
       "      <th id=\"T_72321_level0_row2\" class=\"row_heading level0 row2\" >gender</th>\n",
       "      <td id=\"T_72321_row2_col0\" class=\"data row2 col0\" >0.003510</td>\n",
       "      <td id=\"T_72321_row2_col1\" class=\"data row2 col1\" >-0.022804</td>\n",
       "      <td id=\"T_72321_row2_col2\" class=\"data row2 col2\" >1.000000</td>\n",
       "      <td id=\"T_72321_row2_col3\" class=\"data row2 col3\" >0.499040</td>\n",
       "      <td id=\"T_72321_row2_col4\" class=\"data row2 col4\" >0.155431</td>\n",
       "      <td id=\"T_72321_row2_col5\" class=\"data row2 col5\" >0.007701</td>\n",
       "      <td id=\"T_72321_row2_col6\" class=\"data row2 col6\" >0.016252</td>\n",
       "      <td id=\"T_72321_row2_col7\" class=\"data row2 col7\" >-0.035833</td>\n",
       "      <td id=\"T_72321_row2_col8\" class=\"data row2 col8\" >-0.020500</td>\n",
       "      <td id=\"T_72321_row2_col9\" class=\"data row2 col9\" >0.338132</td>\n",
       "      <td id=\"T_72321_row2_col10\" class=\"data row2 col10\" >0.170963</td>\n",
       "      <td id=\"T_72321_row2_col11\" class=\"data row2 col11\" >0.005850</td>\n",
       "      <td id=\"T_72321_row2_col12\" class=\"data row2 col12\" >0.008131</td>\n",
       "    </tr>\n",
       "    <tr>\n",
       "      <th id=\"T_72321_level0_row3\" class=\"row_heading level0 row3\" >height</th>\n",
       "      <td id=\"T_72321_row3_col0\" class=\"data row3 col0\" >-0.003037</td>\n",
       "      <td id=\"T_72321_row3_col1\" class=\"data row3 col1\" >-0.081499</td>\n",
       "      <td id=\"T_72321_row3_col2\" class=\"data row3 col2\" >0.499040</td>\n",
       "      <td id=\"T_72321_row3_col3\" class=\"data row3 col3\" >1.000000</td>\n",
       "      <td id=\"T_72321_row3_col4\" class=\"data row3 col4\" >0.290997</td>\n",
       "      <td id=\"T_72321_row3_col5\" class=\"data row3 col5\" >0.005059</td>\n",
       "      <td id=\"T_72321_row3_col6\" class=\"data row3 col6\" >0.006753</td>\n",
       "      <td id=\"T_72321_row3_col7\" class=\"data row3 col7\" >-0.050226</td>\n",
       "      <td id=\"T_72321_row3_col8\" class=\"data row3 col8\" >-0.018595</td>\n",
       "      <td id=\"T_72321_row3_col9\" class=\"data row3 col9\" >0.187991</td>\n",
       "      <td id=\"T_72321_row3_col10\" class=\"data row3 col10\" >0.094419</td>\n",
       "      <td id=\"T_72321_row3_col11\" class=\"data row3 col11\" >-0.006550</td>\n",
       "      <td id=\"T_72321_row3_col12\" class=\"data row3 col12\" >-0.010822</td>\n",
       "    </tr>\n",
       "    <tr>\n",
       "      <th id=\"T_72321_level0_row4\" class=\"row_heading level0 row4\" >weight</th>\n",
       "      <td id=\"T_72321_row4_col0\" class=\"data row4 col0\" >-0.001841</td>\n",
       "      <td id=\"T_72321_row4_col1\" class=\"data row4 col1\" >0.053637</td>\n",
       "      <td id=\"T_72321_row4_col2\" class=\"data row4 col2\" >0.155431</td>\n",
       "      <td id=\"T_72321_row4_col3\" class=\"data row4 col3\" >0.290997</td>\n",
       "      <td id=\"T_72321_row4_col4\" class=\"data row4 col4\" >1.000000</td>\n",
       "      <td id=\"T_72321_row4_col5\" class=\"data row4 col5\" >0.033796</td>\n",
       "      <td id=\"T_72321_row4_col6\" class=\"data row4 col6\" >0.042983</td>\n",
       "      <td id=\"T_72321_row4_col7\" class=\"data row4 col7\" >0.141787</td>\n",
       "      <td id=\"T_72321_row4_col8\" class=\"data row4 col8\" >0.106872</td>\n",
       "      <td id=\"T_72321_row4_col9\" class=\"data row4 col9\" >0.067791</td>\n",
       "      <td id=\"T_72321_row4_col10\" class=\"data row4 col10\" >0.067121</td>\n",
       "      <td id=\"T_72321_row4_col11\" class=\"data row4 col11\" >-0.016891</td>\n",
       "      <td id=\"T_72321_row4_col12\" class=\"data row4 col12\" >0.181642</td>\n",
       "    </tr>\n",
       "    <tr>\n",
       "      <th id=\"T_72321_level0_row5\" class=\"row_heading level0 row5\" >ap_hi</th>\n",
       "      <td id=\"T_72321_row5_col0\" class=\"data row5 col0\" >0.003175</td>\n",
       "      <td id=\"T_72321_row5_col1\" class=\"data row5 col1\" >0.023857</td>\n",
       "      <td id=\"T_72321_row5_col2\" class=\"data row5 col2\" >0.007701</td>\n",
       "      <td id=\"T_72321_row5_col3\" class=\"data row5 col3\" >0.005059</td>\n",
       "      <td id=\"T_72321_row5_col4\" class=\"data row5 col4\" >0.033796</td>\n",
       "      <td id=\"T_72321_row5_col5\" class=\"data row5 col5\" >1.000000</td>\n",
       "      <td id=\"T_72321_row5_col6\" class=\"data row5 col6\" >0.017620</td>\n",
       "      <td id=\"T_72321_row5_col7\" class=\"data row5 col7\" >0.026690</td>\n",
       "      <td id=\"T_72321_row5_col8\" class=\"data row5 col8\" >0.013495</td>\n",
       "      <td id=\"T_72321_row5_col9\" class=\"data row5 col9\" >-0.000501</td>\n",
       "      <td id=\"T_72321_row5_col10\" class=\"data row5 col10\" >0.001913</td>\n",
       "      <td id=\"T_72321_row5_col11\" class=\"data row5 col11\" >0.003200</td>\n",
       "      <td id=\"T_72321_row5_col12\" class=\"data row5 col12\" >0.057551</td>\n",
       "    </tr>\n",
       "    <tr>\n",
       "      <th id=\"T_72321_level0_row6\" class=\"row_heading level0 row6\" >ap_lo</th>\n",
       "      <td id=\"T_72321_row6_col0\" class=\"data row6 col0\" >-0.002942</td>\n",
       "      <td id=\"T_72321_row6_col1\" class=\"data row6 col1\" >0.016796</td>\n",
       "      <td id=\"T_72321_row6_col2\" class=\"data row6 col2\" >0.016252</td>\n",
       "      <td id=\"T_72321_row6_col3\" class=\"data row6 col3\" >0.006753</td>\n",
       "      <td id=\"T_72321_row6_col4\" class=\"data row6 col4\" >0.042983</td>\n",
       "      <td id=\"T_72321_row6_col5\" class=\"data row6 col5\" >0.017620</td>\n",
       "      <td id=\"T_72321_row6_col6\" class=\"data row6 col6\" >1.000000</td>\n",
       "      <td id=\"T_72321_row6_col7\" class=\"data row6 col7\" >0.025071</td>\n",
       "      <td id=\"T_72321_row6_col8\" class=\"data row6 col8\" >0.011408</td>\n",
       "      <td id=\"T_72321_row6_col9\" class=\"data row6 col9\" >0.005578</td>\n",
       "      <td id=\"T_72321_row6_col10\" class=\"data row6 col10\" >0.011066</td>\n",
       "      <td id=\"T_72321_row6_col11\" class=\"data row6 col11\" >0.004478</td>\n",
       "      <td id=\"T_72321_row6_col12\" class=\"data row6 col12\" >0.066503</td>\n",
       "    </tr>\n",
       "    <tr>\n",
       "      <th id=\"T_72321_level0_row7\" class=\"row_heading level0 row7\" >cholesterol</th>\n",
       "      <td id=\"T_72321_row7_col0\" class=\"data row7 col0\" >0.006112</td>\n",
       "      <td id=\"T_72321_row7_col1\" class=\"data row7 col1\" >0.154433</td>\n",
       "      <td id=\"T_72321_row7_col2\" class=\"data row7 col2\" >-0.035833</td>\n",
       "      <td id=\"T_72321_row7_col3\" class=\"data row7 col3\" >-0.050226</td>\n",
       "      <td id=\"T_72321_row7_col4\" class=\"data row7 col4\" >0.141787</td>\n",
       "      <td id=\"T_72321_row7_col5\" class=\"data row7 col5\" >0.026690</td>\n",
       "      <td id=\"T_72321_row7_col6\" class=\"data row7 col6\" >0.025071</td>\n",
       "      <td id=\"T_72321_row7_col7\" class=\"data row7 col7\" >1.000000</td>\n",
       "      <td id=\"T_72321_row7_col8\" class=\"data row7 col8\" >0.451574</td>\n",
       "      <td id=\"T_72321_row7_col9\" class=\"data row7 col9\" >0.010350</td>\n",
       "      <td id=\"T_72321_row7_col10\" class=\"data row7 col10\" >0.035757</td>\n",
       "      <td id=\"T_72321_row7_col11\" class=\"data row7 col11\" >0.009900</td>\n",
       "      <td id=\"T_72321_row7_col12\" class=\"data row7 col12\" >0.221167</td>\n",
       "    </tr>\n",
       "    <tr>\n",
       "      <th id=\"T_72321_level0_row8\" class=\"row_heading level0 row8\" >gluc</th>\n",
       "      <td id=\"T_72321_row8_col0\" class=\"data row8 col0\" >0.002471</td>\n",
       "      <td id=\"T_72321_row8_col1\" class=\"data row8 col1\" >0.098709</td>\n",
       "      <td id=\"T_72321_row8_col2\" class=\"data row8 col2\" >-0.020500</td>\n",
       "      <td id=\"T_72321_row8_col3\" class=\"data row8 col3\" >-0.018595</td>\n",
       "      <td id=\"T_72321_row8_col4\" class=\"data row8 col4\" >0.106872</td>\n",
       "      <td id=\"T_72321_row8_col5\" class=\"data row8 col5\" >0.013495</td>\n",
       "      <td id=\"T_72321_row8_col6\" class=\"data row8 col6\" >0.011408</td>\n",
       "      <td id=\"T_72321_row8_col7\" class=\"data row8 col7\" >0.451574</td>\n",
       "      <td id=\"T_72321_row8_col8\" class=\"data row8 col8\" >1.000000</td>\n",
       "      <td id=\"T_72321_row8_col9\" class=\"data row8 col9\" >-0.004760</td>\n",
       "      <td id=\"T_72321_row8_col10\" class=\"data row8 col10\" >0.011243</td>\n",
       "      <td id=\"T_72321_row8_col11\" class=\"data row8 col11\" >-0.006778</td>\n",
       "      <td id=\"T_72321_row8_col12\" class=\"data row8 col12\" >0.089320</td>\n",
       "    </tr>\n",
       "    <tr>\n",
       "      <th id=\"T_72321_level0_row9\" class=\"row_heading level0 row9\" >smoke</th>\n",
       "      <td id=\"T_72321_row9_col0\" class=\"data row9 col0\" >-0.003696</td>\n",
       "      <td id=\"T_72321_row9_col1\" class=\"data row9 col1\" >-0.047631</td>\n",
       "      <td id=\"T_72321_row9_col2\" class=\"data row9 col2\" >0.338132</td>\n",
       "      <td id=\"T_72321_row9_col3\" class=\"data row9 col3\" >0.187991</td>\n",
       "      <td id=\"T_72321_row9_col4\" class=\"data row9 col4\" >0.067791</td>\n",
       "      <td id=\"T_72321_row9_col5\" class=\"data row9 col5\" >-0.000501</td>\n",
       "      <td id=\"T_72321_row9_col6\" class=\"data row9 col6\" >0.005578</td>\n",
       "      <td id=\"T_72321_row9_col7\" class=\"data row9 col7\" >0.010350</td>\n",
       "      <td id=\"T_72321_row9_col8\" class=\"data row9 col8\" >-0.004760</td>\n",
       "      <td id=\"T_72321_row9_col9\" class=\"data row9 col9\" >1.000000</td>\n",
       "      <td id=\"T_72321_row9_col10\" class=\"data row9 col10\" >0.340092</td>\n",
       "      <td id=\"T_72321_row9_col11\" class=\"data row9 col11\" >0.025852</td>\n",
       "      <td id=\"T_72321_row9_col12\" class=\"data row9 col12\" >-0.015477</td>\n",
       "    </tr>\n",
       "    <tr>\n",
       "      <th id=\"T_72321_level0_row10\" class=\"row_heading level0 row10\" >alco</th>\n",
       "      <td id=\"T_72321_row10_col0\" class=\"data row10 col0\" >0.001212</td>\n",
       "      <td id=\"T_72321_row10_col1\" class=\"data row10 col1\" >-0.029721</td>\n",
       "      <td id=\"T_72321_row10_col2\" class=\"data row10 col2\" >0.170963</td>\n",
       "      <td id=\"T_72321_row10_col3\" class=\"data row10 col3\" >0.094419</td>\n",
       "      <td id=\"T_72321_row10_col4\" class=\"data row10 col4\" >0.067121</td>\n",
       "      <td id=\"T_72321_row10_col5\" class=\"data row10 col5\" >0.001913</td>\n",
       "      <td id=\"T_72321_row10_col6\" class=\"data row10 col6\" >0.011066</td>\n",
       "      <td id=\"T_72321_row10_col7\" class=\"data row10 col7\" >0.035757</td>\n",
       "      <td id=\"T_72321_row10_col8\" class=\"data row10 col8\" >0.011243</td>\n",
       "      <td id=\"T_72321_row10_col9\" class=\"data row10 col9\" >0.340092</td>\n",
       "      <td id=\"T_72321_row10_col10\" class=\"data row10 col10\" >1.000000</td>\n",
       "      <td id=\"T_72321_row10_col11\" class=\"data row10 col11\" >0.025471</td>\n",
       "      <td id=\"T_72321_row10_col12\" class=\"data row10 col12\" >-0.007324</td>\n",
       "    </tr>\n",
       "    <tr>\n",
       "      <th id=\"T_72321_level0_row11\" class=\"row_heading level0 row11\" >active</th>\n",
       "      <td id=\"T_72321_row11_col0\" class=\"data row11 col0\" >0.003761</td>\n",
       "      <td id=\"T_72321_row11_col1\" class=\"data row11 col1\" >-0.009962</td>\n",
       "      <td id=\"T_72321_row11_col2\" class=\"data row11 col2\" >0.005850</td>\n",
       "      <td id=\"T_72321_row11_col3\" class=\"data row11 col3\" >-0.006550</td>\n",
       "      <td id=\"T_72321_row11_col4\" class=\"data row11 col4\" >-0.016891</td>\n",
       "      <td id=\"T_72321_row11_col5\" class=\"data row11 col5\" >0.003200</td>\n",
       "      <td id=\"T_72321_row11_col6\" class=\"data row11 col6\" >0.004478</td>\n",
       "      <td id=\"T_72321_row11_col7\" class=\"data row11 col7\" >0.009900</td>\n",
       "      <td id=\"T_72321_row11_col8\" class=\"data row11 col8\" >-0.006778</td>\n",
       "      <td id=\"T_72321_row11_col9\" class=\"data row11 col9\" >0.025852</td>\n",
       "      <td id=\"T_72321_row11_col10\" class=\"data row11 col10\" >0.025471</td>\n",
       "      <td id=\"T_72321_row11_col11\" class=\"data row11 col11\" >1.000000</td>\n",
       "      <td id=\"T_72321_row11_col12\" class=\"data row11 col12\" >-0.035633</td>\n",
       "    </tr>\n",
       "    <tr>\n",
       "      <th id=\"T_72321_level0_row12\" class=\"row_heading level0 row12\" >cardio</th>\n",
       "      <td id=\"T_72321_row12_col0\" class=\"data row12 col0\" >0.003789</td>\n",
       "      <td id=\"T_72321_row12_col1\" class=\"data row12 col1\" >0.238158</td>\n",
       "      <td id=\"T_72321_row12_col2\" class=\"data row12 col2\" >0.008131</td>\n",
       "      <td id=\"T_72321_row12_col3\" class=\"data row12 col3\" >-0.010822</td>\n",
       "      <td id=\"T_72321_row12_col4\" class=\"data row12 col4\" >0.181642</td>\n",
       "      <td id=\"T_72321_row12_col5\" class=\"data row12 col5\" >0.057551</td>\n",
       "      <td id=\"T_72321_row12_col6\" class=\"data row12 col6\" >0.066503</td>\n",
       "      <td id=\"T_72321_row12_col7\" class=\"data row12 col7\" >0.221167</td>\n",
       "      <td id=\"T_72321_row12_col8\" class=\"data row12 col8\" >0.089320</td>\n",
       "      <td id=\"T_72321_row12_col9\" class=\"data row12 col9\" >-0.015477</td>\n",
       "      <td id=\"T_72321_row12_col10\" class=\"data row12 col10\" >-0.007324</td>\n",
       "      <td id=\"T_72321_row12_col11\" class=\"data row12 col11\" >-0.035633</td>\n",
       "      <td id=\"T_72321_row12_col12\" class=\"data row12 col12\" >1.000000</td>\n",
       "    </tr>\n",
       "  </tbody>\n",
       "</table>\n"
      ],
      "text/plain": [
       "<pandas.io.formats.style.Styler at 0x15c04094be0>"
      ]
     },
     "execution_count": 415,
     "metadata": {},
     "output_type": "execute_result"
    }
   ],
   "source": [
    "corr = df3.corr(method=\"pearson\")\n",
    "cmap = sns.cm.vlag_r\n",
    "corr.style.background_gradient(cmap=cmap)"
   ]
  },
  {
   "cell_type": "markdown",
   "id": "82315e89",
   "metadata": {},
   "source": [
    "#### also found it interesting that chol and gluc had such a high correlation"
   ]
  },
  {
   "cell_type": "code",
   "execution_count": 385,
   "id": "323ec307",
   "metadata": {},
   "outputs": [],
   "source": [
    "stats=df3"
   ]
  },
  {
   "cell_type": "markdown",
   "id": "a353bd06",
   "metadata": {},
   "source": [
    "#### Setting up data to be more graphical ready"
   ]
  },
  {
   "cell_type": "code",
   "execution_count": 386,
   "id": "a7d72b33",
   "metadata": {},
   "outputs": [],
   "source": [
    "ranges = [10,20,30,40,50,60,70,80,90,100]\n",
    "stats['bmi']=pd.cut(stats.bmi, ranges)"
   ]
  },
  {
   "cell_type": "code",
   "execution_count": 387,
   "id": "02c3ce41",
   "metadata": {},
   "outputs": [],
   "source": [
    "ranges = [0,10,20,30,40,50,60,70,80,90,100]\n",
    "stats['age']=pd.cut(df3.age, ranges)"
   ]
  },
  {
   "cell_type": "code",
   "execution_count": 388,
   "id": "694d9b7a",
   "metadata": {},
   "outputs": [
    {
     "data": {
      "text/plain": [
       "<AxesSubplot:xlabel='gender'>"
      ]
     },
     "execution_count": 388,
     "metadata": {},
     "output_type": "execute_result"
    },
    {
     "data": {
      "image/png": "[encoded data removed]",
      "text/plain": [
       "<Figure size 432x288 with 1 Axes>"
      ]
     },
     "metadata": {
      "needs_background": "light"
     },
     "output_type": "display_data"
    }
   ],
   "source": [
    "stats.groupby('gender')['cardio'].mean().plot(kind='bar')"
   ]
  },
  {
   "cell_type": "code",
   "execution_count": 389,
   "id": "a8ada205",
   "metadata": {},
   "outputs": [
    {
     "data": {
      "text/plain": [
       "<AxesSubplot:xlabel='age'>"
      ]
     },
     "execution_count": 389,
     "metadata": {},
     "output_type": "execute_result"
    },
    {
     "data": {
      "image/png": "[encoded data removed]",
      "text/plain": [
       "<Figure size 432x288 with 1 Axes>"
      ]
     },
     "metadata": {
      "needs_background": "light"
     },
     "output_type": "display_data"
    }
   ],
   "source": [
    "stats.groupby('age')['cardio'].mean().plot(kind='line')"
   ]
  },
  {
   "cell_type": "code",
   "execution_count": 413,
   "id": "b2a9ab81",
   "metadata": {},
   "outputs": [
    {
     "data": {
      "text/plain": [
       "<AxesSubplot:xlabel='cholesterol'>"
      ]
     },
     "execution_count": 413,
     "metadata": {},
     "output_type": "execute_result"
    },
    {
     "data": {
      "image/png": "[encoded data removed]",
      "text/plain": [
       "<Figure size 432x288 with 1 Axes>"
      ]
     },
     "metadata": {
      "needs_background": "light"
     },
     "output_type": "display_data"
    }
   ],
   "source": [
    "stats.groupby('cholesterol')['cardio'].mean().plot(kind='line')"
   ]
  },
  {
   "cell_type": "code",
   "execution_count": 390,
   "id": "f31ddd7d",
   "metadata": {},
   "outputs": [
    {
     "data": {
      "text/plain": [
       "<AxesSubplot:ylabel='cardio'>"
      ]
     },
     "execution_count": 390,
     "metadata": {},
     "output_type": "execute_result"
    },
    {
     "data": {
      "image/png": "[encoded data removed]",
      "text/plain": [
       "<Figure size 432x288 with 1 Axes>"
      ]
     },
     "metadata": {},
     "output_type": "display_data"
    }
   ],
   "source": [
    "stats.groupby('age')['cardio'].mean().plot(kind='pie')"
   ]
  },
  {
   "cell_type": "code",
   "execution_count": 391,
   "id": "88d0c759",
   "metadata": {},
   "outputs": [
    {
     "data": {
      "text/plain": [
       "<AxesSubplot:xlabel='bmi'>"
      ]
     },
     "execution_count": 391,
     "metadata": {},
     "output_type": "execute_result"
    },
    {
     "data": {
      "image/png": "[encoded data removed]",
      "text/plain": [
       "<Figure size 432x288 with 1 Axes>"
      ]
     },
     "metadata": {
      "needs_background": "light"
     },
     "output_type": "display_data"
    }
   ],
   "source": [
    "stats.groupby('bmi')['cardio'].mean().plot(kind='line')"
   ]
  },
  {
   "cell_type": "code",
   "execution_count": null,
   "id": "137f3384",
   "metadata": {},
   "outputs": [],
   "source": []
  }
 ],
 "metadata": {
  "kernelspec": {
   "display_name": "Python 3 (ipykernel)",
   "language": "python",
   "name": "python3"
  },
  "language_info": {
   "codemirror_mode": {
    "name": "ipython",
    "version": 3
   },
   "file_extension": ".py",
   "mimetype": "text/x-python",
   "name": "python",
   "nbconvert_exporter": "python",
   "pygments_lexer": "ipython3",
   "version": "3.9.7"
  }
 },
 "nbformat": 4,
 "nbformat_minor": 5
}
