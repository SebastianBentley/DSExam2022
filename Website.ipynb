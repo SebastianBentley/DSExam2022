{
 "cells": [
  {
   "cell_type": "code",
   "execution_count": 6,
   "id": "bd3b1727",
   "metadata": {},
   "outputs": [],
   "source": [
    "import numpy as np\n",
    "import pandas as pd\n",
    "from sklearn.cluster import  MeanShift, estimate_bandwidth\n",
    "from sklearn import metrics\n",
    "import matplotlib.pyplot as plt\n",
    "from scipy.spatial.distance import cdist\n",
    "import seaborn as sns\n"
   ]
  },
  {
   "cell_type": "code",
   "execution_count": 7,
   "id": "d82eefe5",
   "metadata": {},
   "outputs": [
    {
     "name": "stdout",
     "output_type": "stream",
     "text": [
      "Overwriting mswebapp.py\n"
     ]
    }
   ],
   "source": [
    "%%writefile mswebapp.py\n",
    "\n",
    "# Import libraries\n",
    "import numpy as np\n",
    "\n",
    "# from sklearn.externals \n",
    "import joblib\n",
    "import pickle\n",
    "from flask import Flask, request, jsonify, render_template\n",
    "\n",
    "# create an instance (our app)\n",
    "app = Flask(__name__, template_folder='./templates')\n",
    "# app = Flask(__name__, template_folder='somefolder')\n",
    "\n",
    "model1 = joblib.load('./deploy/data1_model.pkl')\n",
    "model2 = joblib.load('./deploy/data2_model.pkl')\n",
    "model3 = joblib.load('./deploy/data3_model.pkl')\n",
    "\n",
    "@app.route('/', methods=['GET', 'POST'])\n",
    "\n",
    "@app.route('/predict')\n",
    "def predict():\n",
    "    return render_template('prediction.html')\n",
    "\n",
    "@app.route('/graph')\n",
    "def visualization():\n",
    "    return render_template('visualization.html')\n",
    "\n",
    "@app.route('/predicted', methods=['GET', 'POST'])\n",
    "def predicted():\n",
    "    if request.method == 'POST':\n",
    "        height = request.form['height']\n",
    "        weight = request.form['weight']\n",
    "        age = request.form['age']\n",
    "        cholesterollvl = request.form['cholesterollvl']\n",
    "        systolic = request.form['systolic']\n",
    "        dystolic = request.form['dystolic']\n",
    "        gender = request.form['gender']\n",
    "        chestpain = request.form['chestpain']\n",
    "        exangina = request.form['exangina']\n",
    "        heartratemax = request.form['heartratemax']\n",
    "        STDepression = request.form['STDep']\n",
    "        cholesterol = request.form['cholesterol']\n",
    "        trestbps = request.form['trestbps']\n",
    "        fbs = request.form['fbs']\n",
    "        restecg = request.form['restecg']\n",
    "        slope = request.form['slope']\n",
    "        ca = request.form['ca']\n",
    "        thal = request.form['thal']\n",
    "        smoke = request.form['smoke']\n",
    "        stroke = request.form['stroke']\n",
    "        physicalHealth = request.form['physicalHealth']\n",
    "        mentalHealth = request.form['mentalHealth']\n",
    "        diffWalking = request.form['diffWalking']\n",
    "        diabetic = request.form['diabetic']\n",
    "        skinCancer = request.form['skinCancer']\n",
    "        \n",
    "        # calculate bmi and obese\n",
    "        bmi = round((float(weight) / (float(height) * float(height))), 2)\n",
    "        obese = 0\n",
    "        if(bmi > 30):\n",
    "            obese = 1\n",
    "\n",
    "        \n",
    "        # collect data from form into three datapoints\n",
    "        X1 = [[age, gender, chestpain, trestbps, cholesterol, fbs, restecg, heartratemax, exangina, STDepression,\n",
    "              slope, ca, thal]]\n",
    "        X2 = [[bmi, smoke, stroke, physicalHealth, mentalHealth, diffWalking, age, diabetic, skinCancer]]\n",
    "        X3 = [[bmi, age, cholesterollvl, systolic, dystolic, obese]]\n",
    "        \n",
    "        # use each model to predict the outcome\n",
    "        predicted1 = model1.predict(X1)\n",
    "        predicted2 = model2.predict(X2)\n",
    "        predicted3 = model3.predict(X3)\n",
    "        \n",
    "        predicted1 = \"<p style=\\\"{color:red}\\\">YES</p>\" if predicted1[0] == 1 else \"<p style=\\\"{color:green}\\\">NO</p>\"\n",
    "        predicted2 = \"<p style=\\\"{color:red}\\\">YES</p>\" if predicted2[0] == 1 else \"<p style=\\\"{color:green}\\\">NO</p>\"\n",
    "        predicted3 = \"<p style=\\\"{color:red}\\\">YES</p>\" if predicted3[0] == 1 else \"<p style=\\\"{color:green}\\\">NO</p>\"\n",
    "          \n",
    "        return render_template(\"predicted.html\", content1=X1, content2=X2, content3=X3,\n",
    "                               prediction1=predicted1, prediction2=predicted2,\n",
    "                              prediction3=predicted3)\n",
    "    \n",
    "@app.route('/bye')\n",
    "def bye():\n",
    "    return render_template('bye.html')\n",
    "\n",
    "if __name__ == '__main__':\n",
    "    app.run(debug=True)"
   ]
  },
  {
   "cell_type": "code",
   "execution_count": null,
   "id": "5abf2a17",
   "metadata": {},
   "outputs": [],
   "source": [
    "!python mswebapp.py"
   ]
  },
  {
   "cell_type": "code",
   "execution_count": null,
   "id": "02d0dea5",
   "metadata": {},
   "outputs": [],
   "source": []
  }
 ],
 "metadata": {
  "kernelspec": {
   "display_name": "Python 3 (ipykernel)",
   "language": "python",
   "name": "python3"
  },
  "language_info": {
   "codemirror_mode": {
    "name": "ipython",
    "version": 3
   },
   "file_extension": ".py",
   "mimetype": "text/x-python",
   "name": "python",
   "nbconvert_exporter": "python",
   "pygments_lexer": "ipython3",
   "version": "3.9.7"
  }
 },
 "nbformat": 4,
 "nbformat_minor": 5
}
