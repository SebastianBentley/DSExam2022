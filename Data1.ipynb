{
 "cells": [
  {
   "cell_type": "markdown",
   "id": "923fa614",
   "metadata": {},
   "source": [
    "# Data analysis and modeling on dataset 1"
   ]
  },
  {
   "cell_type": "markdown",
   "id": "57fbba29",
   "metadata": {},
   "source": [
    "## Data preparation"
   ]
  },
  {
   "cell_type": "markdown",
   "id": "8497db40",
   "metadata": {},
   "source": [
    "First we import all the libraries we plan on using at this point in time:"
   ]
  },
  {
   "cell_type": "code",
   "execution_count": 1,
   "id": "533e9dbc",
   "metadata": {},
   "outputs": [],
   "source": [
    "# import pandas for structuring the data\n",
    "import pandas as pd\n",
    "import pandas_profiling\n",
    "from pandas.plotting import scatter_matrix\n",
    "\n",
    "# import numpy for numerical analysis\n",
    "import numpy as np\n",
    "from scipy import stats\n",
    "\n",
    "# import libs for diagrams inline with the text\n",
    "import matplotlib.pyplot as plt\n",
    "%matplotlib inline\n",
    "import seaborn as sns\n",
    "\n",
    "# other utilities\n",
    "from sklearn import datasets, preprocessing, metrics, tree\n",
    "from sklearn.model_selection import train_test_split\n",
    "import sklearn.ensemble as ske\n",
    "from sklearn import model_selection\n",
    "from sklearn.metrics import classification_report\n",
    "from sklearn.metrics import confusion_matrix\n",
    "from sklearn.metrics import accuracy_score\n",
    "from sklearn.naive_bayes import GaussianNB\n",
    "from sklearn.linear_model import LogisticRegression\n",
    "from sklearn.tree import DecisionTreeClassifier\n",
    "from sklearn.neighbors import KNeighborsClassifier\n",
    "from sklearn.svm import SVC\n",
    "from sklearn.ensemble import RandomForestClassifier"
   ]
  },
  {
   "cell_type": "markdown",
   "id": "1f54ac4b",
   "metadata": {},
   "source": [
    " "
   ]
  },
  {
   "cell_type": "markdown",
   "id": "aaaf7778",
   "metadata": {},
   "source": [
    "Then we load our dataset into the notebook and print out the shape and the first five entries:"
   ]
  },
  {
   "cell_type": "code",
   "execution_count": 2,
   "id": "f43c3804",
   "metadata": {
    "scrolled": true
   },
   "outputs": [
    {
     "name": "stdout",
     "output_type": "stream",
     "text": [
      "(1025, 14)\n"
     ]
    },
    {
     "data": {
      "text/html": [
       "<div>\n",
       "<style scoped>\n",
       "    .dataframe tbody tr th:only-of-type {\n",
       "        vertical-align: middle;\n",
       "    }\n",
       "\n",
       "    .dataframe tbody tr th {\n",
       "        vertical-align: top;\n",
       "    }\n",
       "\n",
       "    .dataframe thead th {\n",
       "        text-align: right;\n",
       "    }\n",
       "</style>\n",
       "<table border=\"1\" class=\"dataframe\">\n",
       "  <thead>\n",
       "    <tr style=\"text-align: right;\">\n",
       "      <th></th>\n",
       "      <th>age</th>\n",
       "      <th>sex</th>\n",
       "      <th>cp</th>\n",
       "      <th>trestbps</th>\n",
       "      <th>chol</th>\n",
       "      <th>fbs</th>\n",
       "      <th>restecg</th>\n",
       "      <th>thalach</th>\n",
       "      <th>exang</th>\n",
       "      <th>oldpeak</th>\n",
       "      <th>slope</th>\n",
       "      <th>ca</th>\n",
       "      <th>thal</th>\n",
       "      <th>target</th>\n",
       "    </tr>\n",
       "  </thead>\n",
       "  <tbody>\n",
       "    <tr>\n",
       "      <th>0</th>\n",
       "      <td>52</td>\n",
       "      <td>1</td>\n",
       "      <td>0</td>\n",
       "      <td>125</td>\n",
       "      <td>212</td>\n",
       "      <td>0</td>\n",
       "      <td>1</td>\n",
       "      <td>168</td>\n",
       "      <td>0</td>\n",
       "      <td>1.0</td>\n",
       "      <td>2</td>\n",
       "      <td>2</td>\n",
       "      <td>3</td>\n",
       "      <td>0</td>\n",
       "    </tr>\n",
       "    <tr>\n",
       "      <th>1</th>\n",
       "      <td>53</td>\n",
       "      <td>1</td>\n",
       "      <td>0</td>\n",
       "      <td>140</td>\n",
       "      <td>203</td>\n",
       "      <td>1</td>\n",
       "      <td>0</td>\n",
       "      <td>155</td>\n",
       "      <td>1</td>\n",
       "      <td>3.1</td>\n",
       "      <td>0</td>\n",
       "      <td>0</td>\n",
       "      <td>3</td>\n",
       "      <td>0</td>\n",
       "    </tr>\n",
       "    <tr>\n",
       "      <th>2</th>\n",
       "      <td>70</td>\n",
       "      <td>1</td>\n",
       "      <td>0</td>\n",
       "      <td>145</td>\n",
       "      <td>174</td>\n",
       "      <td>0</td>\n",
       "      <td>1</td>\n",
       "      <td>125</td>\n",
       "      <td>1</td>\n",
       "      <td>2.6</td>\n",
       "      <td>0</td>\n",
       "      <td>0</td>\n",
       "      <td>3</td>\n",
       "      <td>0</td>\n",
       "    </tr>\n",
       "    <tr>\n",
       "      <th>3</th>\n",
       "      <td>61</td>\n",
       "      <td>1</td>\n",
       "      <td>0</td>\n",
       "      <td>148</td>\n",
       "      <td>203</td>\n",
       "      <td>0</td>\n",
       "      <td>1</td>\n",
       "      <td>161</td>\n",
       "      <td>0</td>\n",
       "      <td>0.0</td>\n",
       "      <td>2</td>\n",
       "      <td>1</td>\n",
       "      <td>3</td>\n",
       "      <td>0</td>\n",
       "    </tr>\n",
       "    <tr>\n",
       "      <th>4</th>\n",
       "      <td>62</td>\n",
       "      <td>0</td>\n",
       "      <td>0</td>\n",
       "      <td>138</td>\n",
       "      <td>294</td>\n",
       "      <td>1</td>\n",
       "      <td>1</td>\n",
       "      <td>106</td>\n",
       "      <td>0</td>\n",
       "      <td>1.9</td>\n",
       "      <td>1</td>\n",
       "      <td>3</td>\n",
       "      <td>2</td>\n",
       "      <td>0</td>\n",
       "    </tr>\n",
       "  </tbody>\n",
       "</table>\n",
       "</div>"
      ],
      "text/plain": [
       "   age  sex  cp  trestbps  chol  fbs  restecg  thalach  exang  oldpeak  slope  \\\n",
       "0   52    1   0       125   212    0        1      168      0      1.0      2   \n",
       "1   53    1   0       140   203    1        0      155      1      3.1      0   \n",
       "2   70    1   0       145   174    0        1      125      1      2.6      0   \n",
       "3   61    1   0       148   203    0        1      161      0      0.0      2   \n",
       "4   62    0   0       138   294    1        1      106      0      1.9      1   \n",
       "\n",
       "   ca  thal  target  \n",
       "0   2     3       0  \n",
       "1   0     3       0  \n",
       "2   0     3       0  \n",
       "3   1     3       0  \n",
       "4   3     2       0  "
      ]
     },
     "execution_count": 2,
     "metadata": {},
     "output_type": "execute_result"
    }
   ],
   "source": [
    "df = pd.read_csv('datasets/heart.csv')\n",
    "print(df.shape)\n",
    "df.head()"
   ]
  },
  {
   "cell_type": "markdown",
   "id": "677456da",
   "metadata": {},
   "source": [
    " "
   ]
  },
  {
   "cell_type": "markdown",
   "id": "8ff6a056",
   "metadata": {},
   "source": [
    "We then run df.describe() to give an overview of the data:"
   ]
  },
  {
   "cell_type": "code",
   "execution_count": 3,
   "id": "810eb3be",
   "metadata": {},
   "outputs": [
    {
     "data": {
      "text/html": [
       "<div>\n",
       "<style scoped>\n",
       "    .dataframe tbody tr th:only-of-type {\n",
       "        vertical-align: middle;\n",
       "    }\n",
       "\n",
       "    .dataframe tbody tr th {\n",
       "        vertical-align: top;\n",
       "    }\n",
       "\n",
       "    .dataframe thead th {\n",
       "        text-align: right;\n",
       "    }\n",
       "</style>\n",
       "<table border=\"1\" class=\"dataframe\">\n",
       "  <thead>\n",
       "    <tr style=\"text-align: right;\">\n",
       "      <th></th>\n",
       "      <th>age</th>\n",
       "      <th>sex</th>\n",
       "      <th>cp</th>\n",
       "      <th>trestbps</th>\n",
       "      <th>chol</th>\n",
       "      <th>fbs</th>\n",
       "      <th>restecg</th>\n",
       "      <th>thalach</th>\n",
       "      <th>exang</th>\n",
       "      <th>oldpeak</th>\n",
       "      <th>slope</th>\n",
       "      <th>ca</th>\n",
       "      <th>thal</th>\n",
       "      <th>target</th>\n",
       "    </tr>\n",
       "  </thead>\n",
       "  <tbody>\n",
       "    <tr>\n",
       "      <th>count</th>\n",
       "      <td>1025.000000</td>\n",
       "      <td>1025.000000</td>\n",
       "      <td>1025.000000</td>\n",
       "      <td>1025.000000</td>\n",
       "      <td>1025.00000</td>\n",
       "      <td>1025.000000</td>\n",
       "      <td>1025.000000</td>\n",
       "      <td>1025.000000</td>\n",
       "      <td>1025.000000</td>\n",
       "      <td>1025.000000</td>\n",
       "      <td>1025.000000</td>\n",
       "      <td>1025.000000</td>\n",
       "      <td>1025.000000</td>\n",
       "      <td>1025.000000</td>\n",
       "    </tr>\n",
       "    <tr>\n",
       "      <th>mean</th>\n",
       "      <td>54.434146</td>\n",
       "      <td>0.695610</td>\n",
       "      <td>0.942439</td>\n",
       "      <td>131.611707</td>\n",
       "      <td>246.00000</td>\n",
       "      <td>0.149268</td>\n",
       "      <td>0.529756</td>\n",
       "      <td>149.114146</td>\n",
       "      <td>0.336585</td>\n",
       "      <td>1.071512</td>\n",
       "      <td>1.385366</td>\n",
       "      <td>0.754146</td>\n",
       "      <td>2.323902</td>\n",
       "      <td>0.513171</td>\n",
       "    </tr>\n",
       "    <tr>\n",
       "      <th>std</th>\n",
       "      <td>9.072290</td>\n",
       "      <td>0.460373</td>\n",
       "      <td>1.029641</td>\n",
       "      <td>17.516718</td>\n",
       "      <td>51.59251</td>\n",
       "      <td>0.356527</td>\n",
       "      <td>0.527878</td>\n",
       "      <td>23.005724</td>\n",
       "      <td>0.472772</td>\n",
       "      <td>1.175053</td>\n",
       "      <td>0.617755</td>\n",
       "      <td>1.030798</td>\n",
       "      <td>0.620660</td>\n",
       "      <td>0.500070</td>\n",
       "    </tr>\n",
       "    <tr>\n",
       "      <th>min</th>\n",
       "      <td>29.000000</td>\n",
       "      <td>0.000000</td>\n",
       "      <td>0.000000</td>\n",
       "      <td>94.000000</td>\n",
       "      <td>126.00000</td>\n",
       "      <td>0.000000</td>\n",
       "      <td>0.000000</td>\n",
       "      <td>71.000000</td>\n",
       "      <td>0.000000</td>\n",
       "      <td>0.000000</td>\n",
       "      <td>0.000000</td>\n",
       "      <td>0.000000</td>\n",
       "      <td>0.000000</td>\n",
       "      <td>0.000000</td>\n",
       "    </tr>\n",
       "    <tr>\n",
       "      <th>25%</th>\n",
       "      <td>48.000000</td>\n",
       "      <td>0.000000</td>\n",
       "      <td>0.000000</td>\n",
       "      <td>120.000000</td>\n",
       "      <td>211.00000</td>\n",
       "      <td>0.000000</td>\n",
       "      <td>0.000000</td>\n",
       "      <td>132.000000</td>\n",
       "      <td>0.000000</td>\n",
       "      <td>0.000000</td>\n",
       "      <td>1.000000</td>\n",
       "      <td>0.000000</td>\n",
       "      <td>2.000000</td>\n",
       "      <td>0.000000</td>\n",
       "    </tr>\n",
       "    <tr>\n",
       "      <th>50%</th>\n",
       "      <td>56.000000</td>\n",
       "      <td>1.000000</td>\n",
       "      <td>1.000000</td>\n",
       "      <td>130.000000</td>\n",
       "      <td>240.00000</td>\n",
       "      <td>0.000000</td>\n",
       "      <td>1.000000</td>\n",
       "      <td>152.000000</td>\n",
       "      <td>0.000000</td>\n",
       "      <td>0.800000</td>\n",
       "      <td>1.000000</td>\n",
       "      <td>0.000000</td>\n",
       "      <td>2.000000</td>\n",
       "      <td>1.000000</td>\n",
       "    </tr>\n",
       "    <tr>\n",
       "      <th>75%</th>\n",
       "      <td>61.000000</td>\n",
       "      <td>1.000000</td>\n",
       "      <td>2.000000</td>\n",
       "      <td>140.000000</td>\n",
       "      <td>275.00000</td>\n",
       "      <td>0.000000</td>\n",
       "      <td>1.000000</td>\n",
       "      <td>166.000000</td>\n",
       "      <td>1.000000</td>\n",
       "      <td>1.800000</td>\n",
       "      <td>2.000000</td>\n",
       "      <td>1.000000</td>\n",
       "      <td>3.000000</td>\n",
       "      <td>1.000000</td>\n",
       "    </tr>\n",
       "    <tr>\n",
       "      <th>max</th>\n",
       "      <td>77.000000</td>\n",
       "      <td>1.000000</td>\n",
       "      <td>3.000000</td>\n",
       "      <td>200.000000</td>\n",
       "      <td>564.00000</td>\n",
       "      <td>1.000000</td>\n",
       "      <td>2.000000</td>\n",
       "      <td>202.000000</td>\n",
       "      <td>1.000000</td>\n",
       "      <td>6.200000</td>\n",
       "      <td>2.000000</td>\n",
       "      <td>4.000000</td>\n",
       "      <td>3.000000</td>\n",
       "      <td>1.000000</td>\n",
       "    </tr>\n",
       "  </tbody>\n",
       "</table>\n",
       "</div>"
      ],
      "text/plain": [
       "               age          sex           cp     trestbps        chol  \\\n",
       "count  1025.000000  1025.000000  1025.000000  1025.000000  1025.00000   \n",
       "mean     54.434146     0.695610     0.942439   131.611707   246.00000   \n",
       "std       9.072290     0.460373     1.029641    17.516718    51.59251   \n",
       "min      29.000000     0.000000     0.000000    94.000000   126.00000   \n",
       "25%      48.000000     0.000000     0.000000   120.000000   211.00000   \n",
       "50%      56.000000     1.000000     1.000000   130.000000   240.00000   \n",
       "75%      61.000000     1.000000     2.000000   140.000000   275.00000   \n",
       "max      77.000000     1.000000     3.000000   200.000000   564.00000   \n",
       "\n",
       "               fbs      restecg      thalach        exang      oldpeak  \\\n",
       "count  1025.000000  1025.000000  1025.000000  1025.000000  1025.000000   \n",
       "mean      0.149268     0.529756   149.114146     0.336585     1.071512   \n",
       "std       0.356527     0.527878    23.005724     0.472772     1.175053   \n",
       "min       0.000000     0.000000    71.000000     0.000000     0.000000   \n",
       "25%       0.000000     0.000000   132.000000     0.000000     0.000000   \n",
       "50%       0.000000     1.000000   152.000000     0.000000     0.800000   \n",
       "75%       0.000000     1.000000   166.000000     1.000000     1.800000   \n",
       "max       1.000000     2.000000   202.000000     1.000000     6.200000   \n",
       "\n",
       "             slope           ca         thal       target  \n",
       "count  1025.000000  1025.000000  1025.000000  1025.000000  \n",
       "mean      1.385366     0.754146     2.323902     0.513171  \n",
       "std       0.617755     1.030798     0.620660     0.500070  \n",
       "min       0.000000     0.000000     0.000000     0.000000  \n",
       "25%       1.000000     0.000000     2.000000     0.000000  \n",
       "50%       1.000000     0.000000     2.000000     1.000000  \n",
       "75%       2.000000     1.000000     3.000000     1.000000  \n",
       "max       2.000000     4.000000     3.000000     1.000000  "
      ]
     },
     "execution_count": 3,
     "metadata": {},
     "output_type": "execute_result"
    }
   ],
   "source": [
    "df.describe()"
   ]
  },
  {
   "cell_type": "markdown",
   "id": "2753556d",
   "metadata": {},
   "source": [
    " "
   ]
  },
  {
   "cell_type": "markdown",
   "id": "53314a57",
   "metadata": {},
   "source": [
    "We check if our data contains any null and n/a values we need to be aware of:"
   ]
  },
  {
   "cell_type": "code",
   "execution_count": 4,
   "id": "4172b7ec",
   "metadata": {},
   "outputs": [
    {
     "data": {
      "text/plain": [
       "age         0\n",
       "sex         0\n",
       "cp          0\n",
       "trestbps    0\n",
       "chol        0\n",
       "fbs         0\n",
       "restecg     0\n",
       "thalach     0\n",
       "exang       0\n",
       "oldpeak     0\n",
       "slope       0\n",
       "ca          0\n",
       "thal        0\n",
       "target      0\n",
       "dtype: int64"
      ]
     },
     "execution_count": 4,
     "metadata": {},
     "output_type": "execute_result"
    }
   ],
   "source": [
    "df.isna().sum()"
   ]
  },
  {
   "cell_type": "code",
   "execution_count": 5,
   "id": "0665b9cf",
   "metadata": {},
   "outputs": [
    {
     "data": {
      "text/plain": [
       "age         0\n",
       "sex         0\n",
       "cp          0\n",
       "trestbps    0\n",
       "chol        0\n",
       "fbs         0\n",
       "restecg     0\n",
       "thalach     0\n",
       "exang       0\n",
       "oldpeak     0\n",
       "slope       0\n",
       "ca          0\n",
       "thal        0\n",
       "target      0\n",
       "dtype: int64"
      ]
     },
     "execution_count": 5,
     "metadata": {},
     "output_type": "execute_result"
    }
   ],
   "source": [
    "df.isnull().sum()"
   ]
  },
  {
   "cell_type": "markdown",
   "id": "5f66855a",
   "metadata": {},
   "source": [
    " "
   ]
  },
  {
   "cell_type": "markdown",
   "id": "a7261f13",
   "metadata": {},
   "source": [
    "We would like to see the datatypes we have in our dataframe:"
   ]
  },
  {
   "cell_type": "code",
   "execution_count": 6,
   "id": "c7fe8b75",
   "metadata": {},
   "outputs": [
    {
     "data": {
      "text/plain": [
       "age           int64\n",
       "sex           int64\n",
       "cp            int64\n",
       "trestbps      int64\n",
       "chol          int64\n",
       "fbs           int64\n",
       "restecg       int64\n",
       "thalach       int64\n",
       "exang         int64\n",
       "oldpeak     float64\n",
       "slope         int64\n",
       "ca            int64\n",
       "thal          int64\n",
       "target        int64\n",
       "dtype: object"
      ]
     },
     "execution_count": 6,
     "metadata": {},
     "output_type": "execute_result"
    }
   ],
   "source": [
    "df.dtypes"
   ]
  },
  {
   "cell_type": "markdown",
   "id": "a4aa34e5",
   "metadata": {},
   "source": [
    "From this it looks like we won't have to do any converting of datatypes, since everything is numerical."
   ]
  },
  {
   "cell_type": "markdown",
   "id": "ddafa66e",
   "metadata": {},
   "source": [
    "Now we want to look at the data to see if we can identify any outliers. To do this we'll make some plots to help us visualize the data. First let's make a histogram of our columns to start with."
   ]
  },
  {
   "cell_type": "code",
   "execution_count": 7,
   "id": "f4fbb788",
   "metadata": {},
   "outputs": [
    {
     "data": {
      "text/plain": [
       "array([[<AxesSubplot:title={'center':'age'}>,\n",
       "        <AxesSubplot:title={'center':'sex'}>,\n",
       "        <AxesSubplot:title={'center':'cp'}>,\n",
       "        <AxesSubplot:title={'center':'trestbps'}>],\n",
       "       [<AxesSubplot:title={'center':'chol'}>,\n",
       "        <AxesSubplot:title={'center':'fbs'}>,\n",
       "        <AxesSubplot:title={'center':'restecg'}>,\n",
       "        <AxesSubplot:title={'center':'thalach'}>],\n",
       "       [<AxesSubplot:title={'center':'exang'}>,\n",
       "        <AxesSubplot:title={'center':'oldpeak'}>,\n",
       "        <AxesSubplot:title={'center':'slope'}>,\n",
       "        <AxesSubplot:title={'center':'ca'}>],\n",
       "       [<AxesSubplot:title={'center':'thal'}>,\n",
       "        <AxesSubplot:title={'center':'target'}>, <AxesSubplot:>,\n",
       "        <AxesSubplot:>]], dtype=object)"
      ]
     },
     "execution_count": 7,
     "metadata": {},
     "output_type": "execute_result"
    },
    {
     "data": {
      "image/png": "[encoded data removed]",
      "text/plain": [
       "<Figure size 1080x576 with 16 Axes>"
      ]
     },
     "metadata": {
      "needs_background": "light"
     },
     "output_type": "display_data"
    }
   ],
   "source": [
    "df.hist(bins= 40, figsize=(15, 8))"
   ]
  },
  {
   "cell_type": "markdown",
   "id": "4ee36c63",
   "metadata": {},
   "source": [
    "Now what we see here are the different distributions of our columns, and at first glance it would seem that \"age\", \"trestbps\", \"chol\", \"thalach\" and \"oldpeak\" has some outliers. Let's identify these outliers using the Z-score and IQR(Inter Quartile Range)."
   ]
  },
  {
   "cell_type": "code",
   "execution_count": 8,
   "id": "42255e12",
   "metadata": {},
   "outputs": [],
   "source": [
    "def iqr_calc(column):\n",
    "    # IQR\n",
    "    Q1 = np.percentile(df[column], 25,\n",
    "                   interpolation = 'midpoint')\n",
    " \n",
    "    Q3 = np.percentile(df[column], 75,\n",
    "                   interpolation = 'midpoint')\n",
    "    IQR = Q3 - Q1\n",
    "    \n",
    "    upperBound = (Q3+1.5*IQR)\n",
    "    lowerBound = (Q1-1.5*IQR)\n",
    "\n",
    "    # Above Upper bound\n",
    "    upper = df[column] >= upperBound\n",
    " \n",
    "    print(\"Upper bound:\",upperBound)\n",
    "    print(np.where(upper))\n",
    " \n",
    "    # Below Lower bound\n",
    "    lower = df[column] <= lowerBound\n",
    "    print(\"Lower bound:\", lowerBound)\n",
    "    print(np.where(lower))\n",
    "    \n",
    "def z_score(column):\n",
    "    # Z score \n",
    "    z = np.abs(stats.zscore(df['thalach']))\n",
    "    threshold = 3\n",
    "    # Position of the outlier\n",
    "    print(np.where(z > 3))"
   ]
  },
  {
   "cell_type": "markdown",
   "id": "a2fbb9c8",
   "metadata": {},
   "source": [
    "Now we'll use these above functions on our outlier suspects."
   ]
  },
  {
   "cell_type": "code",
   "execution_count": 9,
   "id": "7e47dca4",
   "metadata": {},
   "outputs": [
    {
     "name": "stdout",
     "output_type": "stream",
     "text": [
      "Upper bound: 80.5\n",
      "(array([], dtype=int64),)\n",
      "Lower bound: 28.5\n",
      "(array([], dtype=int64),)\n"
     ]
    }
   ],
   "source": [
    "# IQR for \"age\"\n",
    "iqr_calc(\"age\")"
   ]
  },
  {
   "cell_type": "code",
   "execution_count": 10,
   "id": "b5232094",
   "metadata": {},
   "outputs": [
    {
     "name": "stdout",
     "output_type": "stream",
     "text": [
      "(array([267, 296, 378, 559], dtype=int64),)\n"
     ]
    }
   ],
   "source": [
    "# Z-score for age\n",
    "z_score(\"age\")"
   ]
  },
  {
   "cell_type": "code",
   "execution_count": 11,
   "id": "c42c196d",
   "metadata": {},
   "outputs": [
    {
     "data": {
      "text/plain": [
       "<AxesSubplot:xlabel='age'>"
      ]
     },
     "execution_count": 11,
     "metadata": {},
     "output_type": "execute_result"
    },
    {
     "data": {
      "image/png": "[encoded data removed]",
      "text/plain": [
       "<Figure size 432x288 with 1 Axes>"
      ]
     },
     "metadata": {
      "needs_background": "light"
     },
     "output_type": "display_data"
    }
   ],
   "source": [
    "# To visualize the \"age\" outliers\n",
    "sns.boxplot(x = df['age'])"
   ]
  },
  {
   "cell_type": "markdown",
   "id": "46fca537",
   "metadata": {},
   "source": [
    "The IQR didn't identify any outliers, whilst the z-score did. We won't be removing any entries in \"age\" for now."
   ]
  },
  {
   "cell_type": "code",
   "execution_count": 12,
   "id": "2e62898a",
   "metadata": {},
   "outputs": [
    {
     "name": "stdout",
     "output_type": "stream",
     "text": [
      "Upper bound: 217.0\n",
      "(array([], dtype=int64),)\n",
      "Lower bound: 81.0\n",
      "(array([267, 296, 378, 559], dtype=int64),)\n"
     ]
    }
   ],
   "source": [
    "# IQR for \"thalach\"\n",
    "iqr_calc(\"thalach\")"
   ]
  },
  {
   "cell_type": "code",
   "execution_count": 13,
   "id": "ef49d9fb",
   "metadata": {},
   "outputs": [
    {
     "name": "stdout",
     "output_type": "stream",
     "text": [
      "(array([267, 296, 378, 559], dtype=int64),)\n"
     ]
    }
   ],
   "source": [
    "# Z-score for \"thalach\"\n",
    "z_score(\"thalach\")"
   ]
  },
  {
   "cell_type": "code",
   "execution_count": 14,
   "id": "a9283f72",
   "metadata": {},
   "outputs": [
    {
     "data": {
      "text/plain": [
       "<AxesSubplot:xlabel='thalach'>"
      ]
     },
     "execution_count": 14,
     "metadata": {},
     "output_type": "execute_result"
    },
    {
     "data": {
      "image/png": "[encoded data removed]",
      "text/plain": [
       "<Figure size 432x288 with 1 Axes>"
      ]
     },
     "metadata": {
      "needs_background": "light"
     },
     "output_type": "display_data"
    }
   ],
   "source": [
    "sns.boxplot(x = df['thalach'])"
   ]
  },
  {
   "cell_type": "markdown",
   "id": "ca01e384",
   "metadata": {},
   "source": [
    "Now for \"thalach\", IQR and Z-score identified the same four entries. We should probably remove these."
   ]
  },
  {
   "cell_type": "code",
   "execution_count": 15,
   "id": "be43aaea",
   "metadata": {},
   "outputs": [],
   "source": [
    "outliers = df[df['thalach'] < 81.0]\n",
    "df = df.drop(outliers.index.values)"
   ]
  },
  {
   "cell_type": "code",
   "execution_count": 16,
   "id": "f8946fc6",
   "metadata": {},
   "outputs": [
    {
     "name": "stdout",
     "output_type": "stream",
     "text": [
      "Upper bound: 170.0\n",
      "(array([ 29,  47,  65,  70,  87, 135, 137, 151, 165, 175, 203, 229, 235,\n",
      "       246, 257, 264, 293, 324, 341, 393, 411, 433, 449, 493, 505, 506,\n",
      "       525, 536, 605, 608, 620, 632, 675, 677, 684, 794, 815, 833, 858,\n",
      "       868, 887, 892, 940, 967, 982], dtype=int64),)\n",
      "Lower bound: 90.0\n",
      "(array([], dtype=int64),)\n"
     ]
    }
   ],
   "source": [
    "# IQR for \"trestbps\"\n",
    "iqr_calc(\"trestbps\")"
   ]
  },
  {
   "cell_type": "code",
   "execution_count": 17,
   "id": "d4f393a1",
   "metadata": {},
   "outputs": [
    {
     "name": "stdout",
     "output_type": "stream",
     "text": [
      "(array([], dtype=int64),)\n"
     ]
    }
   ],
   "source": [
    "# Z-score for \"trestbps\"\n",
    "z_score(\"trestbps\")"
   ]
  },
  {
   "cell_type": "code",
   "execution_count": 18,
   "id": "ced7a0b5",
   "metadata": {},
   "outputs": [
    {
     "data": {
      "text/plain": [
       "<AxesSubplot:xlabel='trestbps'>"
      ]
     },
     "execution_count": 18,
     "metadata": {},
     "output_type": "execute_result"
    },
    {
     "data": {
      "image/png": "[encoded data removed]",
      "text/plain": [
       "<Figure size 432x288 with 1 Axes>"
      ]
     },
     "metadata": {
      "needs_background": "light"
     },
     "output_type": "display_data"
    }
   ],
   "source": [
    "sns.boxplot(x = df['trestbps'])"
   ]
  },
  {
   "cell_type": "markdown",
   "id": "2e7abeda",
   "metadata": {},
   "source": [
    "For \"trestbps\" the IQR calculater found many entries above the upper bound, whilst the z-score found none. For now we won't be removing any entries since we thing there are too many entries above the upper bound."
   ]
  },
  {
   "cell_type": "code",
   "execution_count": 19,
   "id": "390095e1",
   "metadata": {},
   "outputs": [
    {
     "name": "stdout",
     "output_type": "stream",
     "text": [
      "Upper bound: 371.0\n",
      "(array([123, 158, 179, 192, 255, 447, 461, 478, 539, 574, 637, 661, 681,\n",
      "       885, 954, 992], dtype=int64),)\n",
      "Lower bound: 115.0\n",
      "(array([], dtype=int64),)\n"
     ]
    }
   ],
   "source": [
    "# IQR for \"chol\"\n",
    "iqr_calc(\"chol\")"
   ]
  },
  {
   "cell_type": "code",
   "execution_count": 20,
   "id": "6bb731a1",
   "metadata": {},
   "outputs": [
    {
     "name": "stdout",
     "output_type": "stream",
     "text": [
      "(array([], dtype=int64),)\n"
     ]
    }
   ],
   "source": [
    "# Z-score for \"chol\"\n",
    "z_score(\"chol\")"
   ]
  },
  {
   "cell_type": "code",
   "execution_count": 21,
   "id": "79fcae67",
   "metadata": {},
   "outputs": [
    {
     "data": {
      "text/plain": [
       "<AxesSubplot:xlabel='chol'>"
      ]
     },
     "execution_count": 21,
     "metadata": {},
     "output_type": "execute_result"
    },
    {
     "data": {
      "image/png": "[encoded data removed]",
      "text/plain": [
       "<Figure size 432x288 with 1 Axes>"
      ]
     },
     "metadata": {
      "needs_background": "light"
     },
     "output_type": "display_data"
    }
   ],
   "source": [
    "sns.boxplot(x = df['chol'])"
   ]
  },
  {
   "cell_type": "markdown",
   "id": "83e4df33",
   "metadata": {},
   "source": [
    "For now we won't be removing any entries based on this, since we believe there to be too many to remove."
   ]
  },
  {
   "cell_type": "code",
   "execution_count": 22,
   "id": "66b5a070",
   "metadata": {},
   "outputs": [
    {
     "name": "stdout",
     "output_type": "stream",
     "text": [
      "Upper bound: 4.5\n",
      "(array([ 54,  55,  69, 390, 523, 609, 829], dtype=int64),)\n",
      "Lower bound: -2.7\n",
      "(array([], dtype=int64),)\n"
     ]
    }
   ],
   "source": [
    "# IQR for \"oldpeak\"\n",
    "iqr_calc(\"oldpeak\")"
   ]
  },
  {
   "cell_type": "code",
   "execution_count": 23,
   "id": "0bb55661",
   "metadata": {},
   "outputs": [
    {
     "name": "stdout",
     "output_type": "stream",
     "text": [
      "(array([], dtype=int64),)\n"
     ]
    }
   ],
   "source": [
    "# Z-score for \"oldpeak\"\n",
    "z_score(\"oldpeak\")"
   ]
  },
  {
   "cell_type": "code",
   "execution_count": 24,
   "id": "71be714f",
   "metadata": {},
   "outputs": [
    {
     "data": {
      "text/plain": [
       "<AxesSubplot:xlabel='oldpeak'>"
      ]
     },
     "execution_count": 24,
     "metadata": {},
     "output_type": "execute_result"
    },
    {
     "data": {
      "image/png": "[encoded data removed]",
      "text/plain": [
       "<Figure size 432x288 with 1 Axes>"
      ]
     },
     "metadata": {
      "needs_background": "light"
     },
     "output_type": "display_data"
    }
   ],
   "source": [
    "sns.boxplot(x = df['oldpeak'])"
   ]
  },
  {
   "cell_type": "markdown",
   "id": "34db5a06",
   "metadata": {},
   "source": [
    "Based on these IQR and z-score calculations and also the boxplot, we believe it would benefit us to remove these 7 entries from the data."
   ]
  },
  {
   "cell_type": "code",
   "execution_count": 25,
   "id": "4f396155",
   "metadata": {},
   "outputs": [],
   "source": [
    "outliers = df[df['oldpeak'] > 4.5]\n",
    "df = df.drop(outliers.index.values)"
   ]
  },
  {
   "cell_type": "markdown",
   "id": "94986bac",
   "metadata": {},
   "source": [
    " "
   ]
  },
  {
   "cell_type": "markdown",
   "id": "148ea160",
   "metadata": {},
   "source": [
    "Below We will generate a pandas_profiling document that contains useful graphs and algoritms used on our data."
   ]
  },
  {
   "cell_type": "code",
   "execution_count": 26,
   "id": "41b3bfd9",
   "metadata": {},
   "outputs": [],
   "source": [
    "#pandas_profiling.ProfileReport(df).to_file(\"profiling/profiling_data1.html\")"
   ]
  },
  {
   "cell_type": "markdown",
   "id": "d02148a3",
   "metadata": {},
   "source": [
    " "
   ]
  },
  {
   "cell_type": "markdown",
   "id": "712077ad",
   "metadata": {},
   "source": [
    "From the results in this above profile report, we'll extract the highlights."
   ]
  },
  {
   "cell_type": "markdown",
   "id": "6a902a0c",
   "metadata": {},
   "source": [
    "First off, we will take a look at the correlation heatmap of our data using the \"Pearson's r\" to look at any linear correlations between the different parameters:"
   ]
  },
  {
   "attachments": {
    "image.png": {
     "image/png": "[encoded data removed]"
    }
   },
   "cell_type": "markdown",
   "id": "70096ad0",
   "metadata": {},
   "source": [
    "![image.png](attachment:image.png)"
   ]
  },
  {
   "cell_type": "markdown",
   "id": "f5149149",
   "metadata": {},
   "source": [
    "Based on this heatmap, we get an overview image of the different degrees of linear correlations. To quantify these correlations we can get the correlations with pandas:"
   ]
  },
  {
   "cell_type": "code",
   "execution_count": 27,
   "id": "2cf09e18",
   "metadata": {},
   "outputs": [
    {
     "data": {
      "text/html": [
       "<style type=\"text/css\">\n",
       "#T_ad20c_row0_col0, #T_ad20c_row1_col1, #T_ad20c_row2_col2, #T_ad20c_row3_col3, #T_ad20c_row4_col4, #T_ad20c_row5_col5, #T_ad20c_row6_col6, #T_ad20c_row7_col7, #T_ad20c_row8_col8, #T_ad20c_row9_col9, #T_ad20c_row10_col10, #T_ad20c_row11_col11, #T_ad20c_row12_col12, #T_ad20c_row13_col13 {\n",
       "  background-color: #2369bd;\n",
       "  color: #f1f1f1;\n",
       "}\n",
       "#T_ad20c_row0_col1, #T_ad20c_row8_col5 {\n",
       "  background-color: #c16d6b;\n",
       "  color: #f1f1f1;\n",
       "}\n",
       "#T_ad20c_row0_col2, #T_ad20c_row4_col3, #T_ad20c_row5_col1, #T_ad20c_row11_col4 {\n",
       "  background-color: #d29491;\n",
       "  color: #f1f1f1;\n",
       "}\n",
       "#T_ad20c_row0_col3, #T_ad20c_row8_col11, #T_ad20c_row11_col12 {\n",
       "  background-color: #e5c3c1;\n",
       "  color: #000000;\n",
       "}\n",
       "#T_ad20c_row0_col4 {\n",
       "  background-color: #e5c2c0;\n",
       "  color: #000000;\n",
       "}\n",
       "#T_ad20c_row0_col5, #T_ad20c_row11_col3 {\n",
       "  background-color: #cc8784;\n",
       "  color: #f1f1f1;\n",
       "}\n",
       "#T_ad20c_row0_col6, #T_ad20c_row6_col3 {\n",
       "  background-color: #ab3c3f;\n",
       "  color: #f1f1f1;\n",
       "}\n",
       "#T_ad20c_row0_col7 {\n",
       "  background-color: #a9393c;\n",
       "  color: #f1f1f1;\n",
       "}\n",
       "#T_ad20c_row0_col8, #T_ad20c_row5_col9, #T_ad20c_row10_col2 {\n",
       "  background-color: #e7c8c6;\n",
       "  color: #000000;\n",
       "}\n",
       "#T_ad20c_row0_col9 {\n",
       "  background-color: #faf4f3;\n",
       "  color: #000000;\n",
       "}\n",
       "#T_ad20c_row0_col10, #T_ad20c_row3_col7, #T_ad20c_row9_col4, #T_ad20c_row13_col6 {\n",
       "  background-color: #d49896;\n",
       "  color: #f1f1f1;\n",
       "}\n",
       "#T_ad20c_row0_col11 {\n",
       "  background-color: #faf2f1;\n",
       "  color: #000000;\n",
       "}\n",
       "#T_ad20c_row0_col12, #T_ad20c_row12_col10 {\n",
       "  background-color: #dcaeab;\n",
       "  color: #000000;\n",
       "}\n",
       "#T_ad20c_row0_col13, #T_ad20c_row2_col11 {\n",
       "  background-color: #c3726f;\n",
       "  color: #f1f1f1;\n",
       "}\n",
       "#T_ad20c_row1_col0 {\n",
       "  background-color: #cc8582;\n",
       "  color: #f1f1f1;\n",
       "}\n",
       "#T_ad20c_row1_col2, #T_ad20c_row3_col5, #T_ad20c_row4_col7, #T_ad20c_row12_col4 {\n",
       "  background-color: #d59c99;\n",
       "  color: #f1f1f1;\n",
       "}\n",
       "#T_ad20c_row1_col3, #T_ad20c_row12_col5 {\n",
       "  background-color: #b34d4e;\n",
       "  color: #f1f1f1;\n",
       "}\n",
       "#T_ad20c_row1_col4, #T_ad20c_row4_col6, #T_ad20c_row6_col5, #T_ad20c_row7_col0, #T_ad20c_row8_col2, #T_ad20c_row8_col7, #T_ad20c_row8_col13, #T_ad20c_row9_col10, #T_ad20c_row9_col13, #T_ad20c_row10_col9, #T_ad20c_row13_col1, #T_ad20c_row13_col3, #T_ad20c_row13_col8, #T_ad20c_row13_col11, #T_ad20c_row13_col12 {\n",
       "  background-color: #a9373b;\n",
       "  color: #f1f1f1;\n",
       "}\n",
       "#T_ad20c_row1_col5, #T_ad20c_row10_col8, #T_ad20c_row11_col7 {\n",
       "  background-color: #be6664;\n",
       "  color: #f1f1f1;\n",
       "}\n",
       "#T_ad20c_row1_col6, #T_ad20c_row7_col5, #T_ad20c_row13_col9 {\n",
       "  background-color: #b75555;\n",
       "  color: #f1f1f1;\n",
       "}\n",
       "#T_ad20c_row1_col7, #T_ad20c_row2_col9, #T_ad20c_row6_col8 {\n",
       "  background-color: #d49a97;\n",
       "  color: #f1f1f1;\n",
       "}\n",
       "#T_ad20c_row1_col8 {\n",
       "  background-color: #ecd3d2;\n",
       "  color: #000000;\n",
       "}\n",
       "#T_ad20c_row1_col9, #T_ad20c_row4_col9 {\n",
       "  background-color: #f0dbda;\n",
       "  color: #000000;\n",
       "}\n",
       "#T_ad20c_row1_col10, #T_ad20c_row4_col10, #T_ad20c_row4_col11 {\n",
       "  background-color: #e1bab8;\n",
       "  color: #000000;\n",
       "}\n",
       "#T_ad20c_row1_col11, #T_ad20c_row5_col0 {\n",
       "  background-color: #e7c7c5;\n",
       "  color: #000000;\n",
       "}\n",
       "#T_ad20c_row1_col12, #T_ad20c_row6_col13 {\n",
       "  background-color: #edd5d3;\n",
       "  color: #000000;\n",
       "}\n",
       "#T_ad20c_row1_col13 {\n",
       "  background-color: #bd6361;\n",
       "  color: #f1f1f1;\n",
       "}\n",
       "#T_ad20c_row2_col0, #T_ad20c_row6_col11, #T_ad20c_row10_col11 {\n",
       "  background-color: #d08f8d;\n",
       "  color: #f1f1f1;\n",
       "}\n",
       "#T_ad20c_row2_col1, #T_ad20c_row5_col4, #T_ad20c_row7_col1, #T_ad20c_row7_col6, #T_ad20c_row10_col12 {\n",
       "  background-color: #ca817e;\n",
       "  color: #f1f1f1;\n",
       "}\n",
       "#T_ad20c_row2_col3, #T_ad20c_row10_col0 {\n",
       "  background-color: #c57572;\n",
       "  color: #f1f1f1;\n",
       "}\n",
       "#T_ad20c_row2_col4 {\n",
       "  background-color: #ba5d5c;\n",
       "  color: #f1f1f1;\n",
       "}\n",
       "#T_ad20c_row2_col5, #T_ad20c_row3_col1, #T_ad20c_row11_col2 {\n",
       "  background-color: #c57674;\n",
       "  color: #f1f1f1;\n",
       "}\n",
       "#T_ad20c_row2_col6, #T_ad20c_row8_col3, #T_ad20c_row9_col2, #T_ad20c_row12_col2 {\n",
       "  background-color: #c77b78;\n",
       "  color: #f1f1f1;\n",
       "}\n",
       "#T_ad20c_row2_col7, #T_ad20c_row11_col9 {\n",
       "  background-color: #faf5f4;\n",
       "  color: #000000;\n",
       "}\n",
       "#T_ad20c_row2_col8, #T_ad20c_row3_col6 {\n",
       "  background-color: #ad4143;\n",
       "  color: #f1f1f1;\n",
       "}\n",
       "#T_ad20c_row2_col10 {\n",
       "  background-color: #f2e0df;\n",
       "  color: #000000;\n",
       "}\n",
       "#T_ad20c_row2_col12, #T_ad20c_row7_col9 {\n",
       "  background-color: #c06a68;\n",
       "  color: #f1f1f1;\n",
       "}\n",
       "#T_ad20c_row2_col13 {\n",
       "  background-color: #d7dae4;\n",
       "  color: #000000;\n",
       "}\n",
       "#T_ad20c_row3_col0, #T_ad20c_row11_col0, #T_ad20c_row12_col9 {\n",
       "  background-color: #faf0ef;\n",
       "  color: #000000;\n",
       "}\n",
       "#T_ad20c_row3_col2, #T_ad20c_row11_col1 {\n",
       "  background-color: #deb2b0;\n",
       "  color: #000000;\n",
       "}\n",
       "#T_ad20c_row3_col4, #T_ad20c_row5_col3 {\n",
       "  background-color: #d9a5a2;\n",
       "  color: #000000;\n",
       "}\n",
       "#T_ad20c_row3_col8 {\n",
       "  background-color: #e3bfbd;\n",
       "  color: #000000;\n",
       "}\n",
       "#T_ad20c_row3_col9 {\n",
       "  background-color: #f9eeed;\n",
       "  color: #000000;\n",
       "}\n",
       "#T_ad20c_row3_col10 {\n",
       "  background-color: #d9a6a4;\n",
       "  color: #000000;\n",
       "}\n",
       "#T_ad20c_row3_col11, #T_ad20c_row8_col0 {\n",
       "  background-color: #e3bdbb;\n",
       "  color: #000000;\n",
       "}\n",
       "#T_ad20c_row3_col12 {\n",
       "  background-color: #daa8a5;\n",
       "  color: #000000;\n",
       "}\n",
       "#T_ad20c_row3_col13 {\n",
       "  background-color: #cd8987;\n",
       "  color: #f1f1f1;\n",
       "}\n",
       "#T_ad20c_row4_col0, #T_ad20c_row12_col8 {\n",
       "  background-color: #f4e3e2;\n",
       "  color: #000000;\n",
       "}\n",
       "#T_ad20c_row4_col1 {\n",
       "  background-color: #b44f4f;\n",
       "  color: #f1f1f1;\n",
       "}\n",
       "#T_ad20c_row4_col2, #T_ad20c_row8_col4 {\n",
       "  background-color: #cf8e8b;\n",
       "  color: #f1f1f1;\n",
       "}\n",
       "#T_ad20c_row4_col5, #T_ad20c_row7_col11, #T_ad20c_row9_col5, #T_ad20c_row12_col6, #T_ad20c_row13_col0 {\n",
       "  background-color: #be6463;\n",
       "  color: #f1f1f1;\n",
       "}\n",
       "#T_ad20c_row4_col8 {\n",
       "  background-color: #e4c0be;\n",
       "  color: #000000;\n",
       "}\n",
       "#T_ad20c_row4_col12 {\n",
       "  background-color: #e1b9b6;\n",
       "  color: #000000;\n",
       "}\n",
       "#T_ad20c_row4_col13 {\n",
       "  background-color: #d1918e;\n",
       "  color: #f1f1f1;\n",
       "}\n",
       "#T_ad20c_row5_col2, #T_ad20c_row5_col8 {\n",
       "  background-color: #e2bcb9;\n",
       "  color: #000000;\n",
       "}\n",
       "#T_ad20c_row5_col6 {\n",
       "  background-color: #b04748;\n",
       "  color: #f1f1f1;\n",
       "}\n",
       "#T_ad20c_row5_col7 {\n",
       "  background-color: #d7a09d;\n",
       "  color: #000000;\n",
       "}\n",
       "#T_ad20c_row5_col10, #T_ad20c_row11_col10 {\n",
       "  background-color: #ddafad;\n",
       "  color: #000000;\n",
       "}\n",
       "#T_ad20c_row5_col11 {\n",
       "  background-color: #e9cbc9;\n",
       "  color: #000000;\n",
       "}\n",
       "#T_ad20c_row5_col12, #T_ad20c_row11_col5 {\n",
       "  background-color: #cf8c8a;\n",
       "  color: #f1f1f1;\n",
       "}\n",
       "#T_ad20c_row5_col13 {\n",
       "  background-color: #d7a29f;\n",
       "  color: #000000;\n",
       "}\n",
       "#T_ad20c_row6_col0, #T_ad20c_row7_col12 {\n",
       "  background-color: #c87c7a;\n",
       "  color: #f1f1f1;\n",
       "}\n",
       "#T_ad20c_row6_col1 {\n",
       "  background-color: #c77977;\n",
       "  color: #f1f1f1;\n",
       "}\n",
       "#T_ad20c_row6_col2, #T_ad20c_row6_col9 {\n",
       "  background-color: #dfb4b2;\n",
       "  color: #000000;\n",
       "}\n",
       "#T_ad20c_row6_col4 {\n",
       "  background-color: #b1494a;\n",
       "  color: #f1f1f1;\n",
       "}\n",
       "#T_ad20c_row6_col7, #T_ad20c_row12_col0 {\n",
       "  background-color: #e0b7b5;\n",
       "  color: #000000;\n",
       "}\n",
       "#T_ad20c_row6_col10 {\n",
       "  background-color: #efdad8;\n",
       "  color: #000000;\n",
       "}\n",
       "#T_ad20c_row6_col12 {\n",
       "  background-color: #d19290;\n",
       "  color: #f1f1f1;\n",
       "}\n",
       "#T_ad20c_row7_col2 {\n",
       "  background-color: #faf5f5;\n",
       "  color: #000000;\n",
       "}\n",
       "#T_ad20c_row7_col3, #T_ad20c_row13_col4 {\n",
       "  background-color: #b75756;\n",
       "  color: #f1f1f1;\n",
       "}\n",
       "#T_ad20c_row7_col4, #T_ad20c_row10_col4 {\n",
       "  background-color: #c3706e;\n",
       "  color: #f1f1f1;\n",
       "}\n",
       "#T_ad20c_row7_col8 {\n",
       "  background-color: #af4446;\n",
       "  color: #f1f1f1;\n",
       "}\n",
       "#T_ad20c_row7_col10 {\n",
       "  background-color: #d5d9e3;\n",
       "  color: #000000;\n",
       "}\n",
       "#T_ad20c_row7_col13 {\n",
       "  background-color: #dadde5;\n",
       "  color: #000000;\n",
       "}\n",
       "#T_ad20c_row8_col1 {\n",
       "  background-color: #dfb5b3;\n",
       "  color: #000000;\n",
       "}\n",
       "#T_ad20c_row8_col6 {\n",
       "  background-color: #b55252;\n",
       "  color: #f1f1f1;\n",
       "}\n",
       "#T_ad20c_row8_col9, #T_ad20c_row10_col7 {\n",
       "  background-color: #e9e9ed;\n",
       "  color: #000000;\n",
       "}\n",
       "#T_ad20c_row8_col10 {\n",
       "  background-color: #c97f7d;\n",
       "  color: #f1f1f1;\n",
       "}\n",
       "#T_ad20c_row8_col12 {\n",
       "  background-color: #ecd2d0;\n",
       "  color: #000000;\n",
       "}\n",
       "#T_ad20c_row9_col0 {\n",
       "  background-color: #f2dfdd;\n",
       "  color: #000000;\n",
       "}\n",
       "#T_ad20c_row9_col1 {\n",
       "  background-color: #dbaba8;\n",
       "  color: #000000;\n",
       "}\n",
       "#T_ad20c_row9_col3 {\n",
       "  background-color: #d69f9c;\n",
       "  color: #000000;\n",
       "}\n",
       "#T_ad20c_row9_col6 {\n",
       "  background-color: #b85857;\n",
       "  color: #f1f1f1;\n",
       "}\n",
       "#T_ad20c_row9_col7, #T_ad20c_row10_col5 {\n",
       "  background-color: #ae4244;\n",
       "  color: #f1f1f1;\n",
       "}\n",
       "#T_ad20c_row9_col8 {\n",
       "  background-color: #f5f2f4;\n",
       "  color: #000000;\n",
       "}\n",
       "#T_ad20c_row9_col11 {\n",
       "  background-color: #f3e2e0;\n",
       "  color: #000000;\n",
       "}\n",
       "#T_ad20c_row9_col12, #T_ad20c_row11_col8 {\n",
       "  background-color: #eacfcd;\n",
       "  color: #000000;\n",
       "}\n",
       "#T_ad20c_row10_col1 {\n",
       "  background-color: #cb8481;\n",
       "  color: #f1f1f1;\n",
       "}\n",
       "#T_ad20c_row10_col3 {\n",
       "  background-color: #ac3f42;\n",
       "  color: #f1f1f1;\n",
       "}\n",
       "#T_ad20c_row10_col6, #T_ad20c_row12_col7 {\n",
       "  background-color: #cd8885;\n",
       "  color: #f1f1f1;\n",
       "}\n",
       "#T_ad20c_row10_col13 {\n",
       "  background-color: #f2f0f2;\n",
       "  color: #000000;\n",
       "}\n",
       "#T_ad20c_row11_col6, #T_ad20c_row12_col13 {\n",
       "  background-color: #b65453;\n",
       "  color: #f1f1f1;\n",
       "}\n",
       "#T_ad20c_row11_col13 {\n",
       "  background-color: #af4647;\n",
       "  color: #f1f1f1;\n",
       "}\n",
       "#T_ad20c_row12_col1 {\n",
       "  background-color: #e8cac8;\n",
       "  color: #000000;\n",
       "}\n",
       "#T_ad20c_row12_col3 {\n",
       "  background-color: #c67875;\n",
       "  color: #f1f1f1;\n",
       "}\n",
       "#T_ad20c_row12_col11 {\n",
       "  background-color: #eacdcb;\n",
       "  color: #000000;\n",
       "}\n",
       "#T_ad20c_row13_col2 {\n",
       "  background-color: #dcdee6;\n",
       "  color: #000000;\n",
       "}\n",
       "#T_ad20c_row13_col5 {\n",
       "  background-color: #b24c4c;\n",
       "  color: #f1f1f1;\n",
       "}\n",
       "#T_ad20c_row13_col7 {\n",
       "  background-color: #e1e2e9;\n",
       "  color: #000000;\n",
       "}\n",
       "#T_ad20c_row13_col10 {\n",
       "  background-color: #e4e5eb;\n",
       "  color: #000000;\n",
       "}\n",
       "</style>\n",
       "<table id=\"T_ad20c_\">\n",
       "  <thead>\n",
       "    <tr>\n",
       "      <th class=\"blank level0\" >&nbsp;</th>\n",
       "      <th class=\"col_heading level0 col0\" >age</th>\n",
       "      <th class=\"col_heading level0 col1\" >sex</th>\n",
       "      <th class=\"col_heading level0 col2\" >cp</th>\n",
       "      <th class=\"col_heading level0 col3\" >trestbps</th>\n",
       "      <th class=\"col_heading level0 col4\" >chol</th>\n",
       "      <th class=\"col_heading level0 col5\" >fbs</th>\n",
       "      <th class=\"col_heading level0 col6\" >restecg</th>\n",
       "      <th class=\"col_heading level0 col7\" >thalach</th>\n",
       "      <th class=\"col_heading level0 col8\" >exang</th>\n",
       "      <th class=\"col_heading level0 col9\" >oldpeak</th>\n",
       "      <th class=\"col_heading level0 col10\" >slope</th>\n",
       "      <th class=\"col_heading level0 col11\" >ca</th>\n",
       "      <th class=\"col_heading level0 col12\" >thal</th>\n",
       "      <th class=\"col_heading level0 col13\" >target</th>\n",
       "    </tr>\n",
       "  </thead>\n",
       "  <tbody>\n",
       "    <tr>\n",
       "      <th id=\"T_ad20c_level0_row0\" class=\"row_heading level0 row0\" >age</th>\n",
       "      <td id=\"T_ad20c_row0_col0\" class=\"data row0 col0\" >1.000000</td>\n",
       "      <td id=\"T_ad20c_row0_col1\" class=\"data row0 col1\" >-0.104322</td>\n",
       "      <td id=\"T_ad20c_row0_col2\" class=\"data row0 col2\" >-0.065083</td>\n",
       "      <td id=\"T_ad20c_row0_col3\" class=\"data row0 col3\" >0.273323</td>\n",
       "      <td id=\"T_ad20c_row0_col4\" class=\"data row0 col4\" >0.226939</td>\n",
       "      <td id=\"T_ad20c_row0_col5\" class=\"data row0 col5\" >0.125393</td>\n",
       "      <td id=\"T_ad20c_row0_col6\" class=\"data row0 col6\" >-0.136597</td>\n",
       "      <td id=\"T_ad20c_row0_col7\" class=\"data row0 col7\" >-0.383593</td>\n",
       "      <td id=\"T_ad20c_row0_col8\" class=\"data row0 col8\" >0.094388</td>\n",
       "      <td id=\"T_ad20c_row0_col9\" class=\"data row0 col9\" >0.209989</td>\n",
       "      <td id=\"T_ad20c_row0_col10\" class=\"data row0 col10\" >-0.163316</td>\n",
       "      <td id=\"T_ad20c_row0_col11\" class=\"data row0 col11\" >0.274158</td>\n",
       "      <td id=\"T_ad20c_row0_col12\" class=\"data row0 col12\" >0.072835</td>\n",
       "      <td id=\"T_ad20c_row0_col13\" class=\"data row0 col13\" >-0.223274</td>\n",
       "    </tr>\n",
       "    <tr>\n",
       "      <th id=\"T_ad20c_level0_row1\" class=\"row_heading level0 row1\" >sex</th>\n",
       "      <td id=\"T_ad20c_row1_col0\" class=\"data row1 col0\" >-0.104322</td>\n",
       "      <td id=\"T_ad20c_row1_col1\" class=\"data row1 col1\" >1.000000</td>\n",
       "      <td id=\"T_ad20c_row1_col2\" class=\"data row1 col2\" >-0.040827</td>\n",
       "      <td id=\"T_ad20c_row1_col3\" class=\"data row1 col3\" >-0.072064</td>\n",
       "      <td id=\"T_ad20c_row1_col4\" class=\"data row1 col4\" >-0.205328</td>\n",
       "      <td id=\"T_ad20c_row1_col5\" class=\"data row1 col5\" >0.027680</td>\n",
       "      <td id=\"T_ad20c_row1_col6\" class=\"data row1 col6\" >-0.064788</td>\n",
       "      <td id=\"T_ad20c_row1_col7\" class=\"data row1 col7\" >-0.038377</td>\n",
       "      <td id=\"T_ad20c_row1_col8\" class=\"data row1 col8\" >0.135662</td>\n",
       "      <td id=\"T_ad20c_row1_col9\" class=\"data row1 col9\" >0.100610</td>\n",
       "      <td id=\"T_ad20c_row1_col10\" class=\"data row1 col10\" >-0.029872</td>\n",
       "      <td id=\"T_ad20c_row1_col11\" class=\"data row1 col11\" >0.126943</td>\n",
       "      <td id=\"T_ad20c_row1_col12\" class=\"data row1 col12\" >0.203744</td>\n",
       "      <td id=\"T_ad20c_row1_col13\" class=\"data row1 col13\" >-0.281769</td>\n",
       "    </tr>\n",
       "    <tr>\n",
       "      <th id=\"T_ad20c_level0_row2\" class=\"row_heading level0 row2\" >cp</th>\n",
       "      <td id=\"T_ad20c_row2_col0\" class=\"data row2 col0\" >-0.065083</td>\n",
       "      <td id=\"T_ad20c_row2_col1\" class=\"data row2 col1\" >-0.040827</td>\n",
       "      <td id=\"T_ad20c_row2_col2\" class=\"data row2 col2\" >1.000000</td>\n",
       "      <td id=\"T_ad20c_row2_col3\" class=\"data row2 col3\" >0.042316</td>\n",
       "      <td id=\"T_ad20c_row2_col4\" class=\"data row2 col4\" >-0.089412</td>\n",
       "      <td id=\"T_ad20c_row2_col5\" class=\"data row2 col5\" >0.075548</td>\n",
       "      <td id=\"T_ad20c_row2_col6\" class=\"data row2 col6\" >0.047735</td>\n",
       "      <td id=\"T_ad20c_row2_col7\" class=\"data row2 col7\" >0.297917</td>\n",
       "      <td id=\"T_ad20c_row2_col8\" class=\"data row2 col8\" >-0.405046</td>\n",
       "      <td id=\"T_ad20c_row2_col9\" class=\"data row2 col9\" >-0.159283</td>\n",
       "      <td id=\"T_ad20c_row2_col10\" class=\"data row2 col10\" >0.117876</td>\n",
       "      <td id=\"T_ad20c_row2_col11\" class=\"data row2 col11\" >-0.178011</td>\n",
       "      <td id=\"T_ad20c_row2_col12\" class=\"data row2 col12\" >-0.159800</td>\n",
       "      <td id=\"T_ad20c_row2_col13\" class=\"data row2 col13\" >0.429060</td>\n",
       "    </tr>\n",
       "    <tr>\n",
       "      <th id=\"T_ad20c_level0_row3\" class=\"row_heading level0 row3\" >trestbps</th>\n",
       "      <td id=\"T_ad20c_row3_col0\" class=\"data row3 col0\" >0.273323</td>\n",
       "      <td id=\"T_ad20c_row3_col1\" class=\"data row3 col1\" >-0.072064</td>\n",
       "      <td id=\"T_ad20c_row3_col2\" class=\"data row3 col2\" >0.042316</td>\n",
       "      <td id=\"T_ad20c_row3_col3\" class=\"data row3 col3\" >1.000000</td>\n",
       "      <td id=\"T_ad20c_row3_col4\" class=\"data row3 col4\" >0.137469</td>\n",
       "      <td id=\"T_ad20c_row3_col5\" class=\"data row3 col5\" >0.184602</td>\n",
       "      <td id=\"T_ad20c_row3_col6\" class=\"data row3 col6\" >-0.119570</td>\n",
       "      <td id=\"T_ad20c_row3_col7\" class=\"data row3 col7\" >-0.045555</td>\n",
       "      <td id=\"T_ad20c_row3_col8\" class=\"data row3 col8\" >0.060759</td>\n",
       "      <td id=\"T_ad20c_row3_col9\" class=\"data row3 col9\" >0.170105</td>\n",
       "      <td id=\"T_ad20c_row3_col10\" class=\"data row3 col10\" >-0.109708</td>\n",
       "      <td id=\"T_ad20c_row3_col11\" class=\"data row3 col11\" >0.095031</td>\n",
       "      <td id=\"T_ad20c_row3_col12\" class=\"data row3 col12\" >0.051193</td>\n",
       "      <td id=\"T_ad20c_row3_col13\" class=\"data row3 col13\" >-0.136073</td>\n",
       "    </tr>\n",
       "    <tr>\n",
       "      <th id=\"T_ad20c_level0_row4\" class=\"row_heading level0 row4\" >chol</th>\n",
       "      <td id=\"T_ad20c_row4_col0\" class=\"data row4 col0\" >0.226939</td>\n",
       "      <td id=\"T_ad20c_row4_col1\" class=\"data row4 col1\" >-0.205328</td>\n",
       "      <td id=\"T_ad20c_row4_col2\" class=\"data row4 col2\" >-0.089412</td>\n",
       "      <td id=\"T_ad20c_row4_col3\" class=\"data row4 col3\" >0.137469</td>\n",
       "      <td id=\"T_ad20c_row4_col4\" class=\"data row4 col4\" >1.000000</td>\n",
       "      <td id=\"T_ad20c_row4_col5\" class=\"data row4 col5\" >0.023857</td>\n",
       "      <td id=\"T_ad20c_row4_col6\" class=\"data row4 col6\" >-0.150846</td>\n",
       "      <td id=\"T_ad20c_row4_col7\" class=\"data row4 col7\" >-0.029685</td>\n",
       "      <td id=\"T_ad20c_row4_col8\" class=\"data row4 col8\" >0.067340</td>\n",
       "      <td id=\"T_ad20c_row4_col9\" class=\"data row4 col9\" >0.100164</td>\n",
       "      <td id=\"T_ad20c_row4_col10\" class=\"data row4 col10\" >-0.030872</td>\n",
       "      <td id=\"T_ad20c_row4_col11\" class=\"data row4 col11\" >0.083428</td>\n",
       "      <td id=\"T_ad20c_row4_col12\" class=\"data row4 col12\" >0.108370</td>\n",
       "      <td id=\"T_ad20c_row4_col13\" class=\"data row4 col13\" >-0.108883</td>\n",
       "    </tr>\n",
       "    <tr>\n",
       "      <th id=\"T_ad20c_level0_row5\" class=\"row_heading level0 row5\" >fbs</th>\n",
       "      <td id=\"T_ad20c_row5_col0\" class=\"data row5 col0\" >0.125393</td>\n",
       "      <td id=\"T_ad20c_row5_col1\" class=\"data row5 col1\" >0.027680</td>\n",
       "      <td id=\"T_ad20c_row5_col2\" class=\"data row5 col2\" >0.075548</td>\n",
       "      <td id=\"T_ad20c_row5_col3\" class=\"data row5 col3\" >0.184602</td>\n",
       "      <td id=\"T_ad20c_row5_col4\" class=\"data row5 col4\" >0.023857</td>\n",
       "      <td id=\"T_ad20c_row5_col5\" class=\"data row5 col5\" >1.000000</td>\n",
       "      <td id=\"T_ad20c_row5_col6\" class=\"data row5 col6\" >-0.102921</td>\n",
       "      <td id=\"T_ad20c_row5_col7\" class=\"data row5 col7\" >-0.017969</td>\n",
       "      <td id=\"T_ad20c_row5_col8\" class=\"data row5 col8\" >0.049847</td>\n",
       "      <td id=\"T_ad20c_row5_col9\" class=\"data row5 col9\" >0.023979</td>\n",
       "      <td id=\"T_ad20c_row5_col10\" class=\"data row5 col10\" >-0.070781</td>\n",
       "      <td id=\"T_ad20c_row5_col11\" class=\"data row5 col11\" >0.138831</td>\n",
       "      <td id=\"T_ad20c_row5_col12\" class=\"data row5 col12\" >-0.040112</td>\n",
       "      <td id=\"T_ad20c_row5_col13\" class=\"data row5 col13\" >-0.046137</td>\n",
       "    </tr>\n",
       "    <tr>\n",
       "      <th id=\"T_ad20c_level0_row6\" class=\"row_heading level0 row6\" >restecg</th>\n",
       "      <td id=\"T_ad20c_row6_col0\" class=\"data row6 col0\" >-0.136597</td>\n",
       "      <td id=\"T_ad20c_row6_col1\" class=\"data row6 col1\" >-0.064788</td>\n",
       "      <td id=\"T_ad20c_row6_col2\" class=\"data row6 col2\" >0.047735</td>\n",
       "      <td id=\"T_ad20c_row6_col3\" class=\"data row6 col3\" >-0.119570</td>\n",
       "      <td id=\"T_ad20c_row6_col4\" class=\"data row6 col4\" >-0.150846</td>\n",
       "      <td id=\"T_ad20c_row6_col5\" class=\"data row6 col5\" >-0.102921</td>\n",
       "      <td id=\"T_ad20c_row6_col6\" class=\"data row6 col6\" >1.000000</td>\n",
       "      <td id=\"T_ad20c_row6_col7\" class=\"data row6 col7\" >0.067784</td>\n",
       "      <td id=\"T_ad20c_row6_col8\" class=\"data row6 col8\" >-0.070827</td>\n",
       "      <td id=\"T_ad20c_row6_col9\" class=\"data row6 col9\" >-0.054016</td>\n",
       "      <td id=\"T_ad20c_row6_col10\" class=\"data row6 col10\" >0.091627</td>\n",
       "      <td id=\"T_ad20c_row6_col11\" class=\"data row6 col11\" >-0.067498</td>\n",
       "      <td id=\"T_ad20c_row6_col12\" class=\"data row6 col12\" >-0.019477</td>\n",
       "      <td id=\"T_ad20c_row6_col13\" class=\"data row6 col13\" >0.140081</td>\n",
       "    </tr>\n",
       "    <tr>\n",
       "      <th id=\"T_ad20c_level0_row7\" class=\"row_heading level0 row7\" >thalach</th>\n",
       "      <td id=\"T_ad20c_row7_col0\" class=\"data row7 col0\" >-0.383593</td>\n",
       "      <td id=\"T_ad20c_row7_col1\" class=\"data row7 col1\" >-0.038377</td>\n",
       "      <td id=\"T_ad20c_row7_col2\" class=\"data row7 col2\" >0.297917</td>\n",
       "      <td id=\"T_ad20c_row7_col3\" class=\"data row7 col3\" >-0.045555</td>\n",
       "      <td id=\"T_ad20c_row7_col4\" class=\"data row7 col4\" >-0.029685</td>\n",
       "      <td id=\"T_ad20c_row7_col5\" class=\"data row7 col5\" >-0.017969</td>\n",
       "      <td id=\"T_ad20c_row7_col6\" class=\"data row7 col6\" >0.067784</td>\n",
       "      <td id=\"T_ad20c_row7_col7\" class=\"data row7 col7\" >1.000000</td>\n",
       "      <td id=\"T_ad20c_row7_col8\" class=\"data row7 col8\" >-0.394402</td>\n",
       "      <td id=\"T_ad20c_row7_col9\" class=\"data row7 col9\" >-0.353147</td>\n",
       "      <td id=\"T_ad20c_row7_col10\" class=\"data row7 col10\" >0.388990</td>\n",
       "      <td id=\"T_ad20c_row7_col11\" class=\"data row7 col11\" >-0.229757</td>\n",
       "      <td id=\"T_ad20c_row7_col12\" class=\"data row7 col12\" >-0.100580</td>\n",
       "      <td id=\"T_ad20c_row7_col13\" class=\"data row7 col13\" >0.416073</td>\n",
       "    </tr>\n",
       "    <tr>\n",
       "      <th id=\"T_ad20c_level0_row8\" class=\"row_heading level0 row8\" >exang</th>\n",
       "      <td id=\"T_ad20c_row8_col0\" class=\"data row8 col0\" >0.094388</td>\n",
       "      <td id=\"T_ad20c_row8_col1\" class=\"data row8 col1\" >0.135662</td>\n",
       "      <td id=\"T_ad20c_row8_col2\" class=\"data row8 col2\" >-0.405046</td>\n",
       "      <td id=\"T_ad20c_row8_col3\" class=\"data row8 col3\" >0.060759</td>\n",
       "      <td id=\"T_ad20c_row8_col4\" class=\"data row8 col4\" >0.067340</td>\n",
       "      <td id=\"T_ad20c_row8_col5\" class=\"data row8 col5\" >0.049847</td>\n",
       "      <td id=\"T_ad20c_row8_col6\" class=\"data row8 col6\" >-0.070827</td>\n",
       "      <td id=\"T_ad20c_row8_col7\" class=\"data row8 col7\" >-0.394402</td>\n",
       "      <td id=\"T_ad20c_row8_col8\" class=\"data row8 col8\" >1.000000</td>\n",
       "      <td id=\"T_ad20c_row8_col9\" class=\"data row8 col9\" >0.319161</td>\n",
       "      <td id=\"T_ad20c_row8_col10\" class=\"data row8 col10\" >-0.267810</td>\n",
       "      <td id=\"T_ad20c_row8_col11\" class=\"data row8 col11\" >0.116066</td>\n",
       "      <td id=\"T_ad20c_row8_col12\" class=\"data row8 col12\" >0.194023</td>\n",
       "      <td id=\"T_ad20c_row8_col13\" class=\"data row8 col13\" >-0.442388</td>\n",
       "    </tr>\n",
       "    <tr>\n",
       "      <th id=\"T_ad20c_level0_row9\" class=\"row_heading level0 row9\" >oldpeak</th>\n",
       "      <td id=\"T_ad20c_row9_col0\" class=\"data row9 col0\" >0.209989</td>\n",
       "      <td id=\"T_ad20c_row9_col1\" class=\"data row9 col1\" >0.100610</td>\n",
       "      <td id=\"T_ad20c_row9_col2\" class=\"data row9 col2\" >-0.159283</td>\n",
       "      <td id=\"T_ad20c_row9_col3\" class=\"data row9 col3\" >0.170105</td>\n",
       "      <td id=\"T_ad20c_row9_col4\" class=\"data row9 col4\" >0.100164</td>\n",
       "      <td id=\"T_ad20c_row9_col5\" class=\"data row9 col5\" >0.023979</td>\n",
       "      <td id=\"T_ad20c_row9_col6\" class=\"data row9 col6\" >-0.054016</td>\n",
       "      <td id=\"T_ad20c_row9_col7\" class=\"data row9 col7\" >-0.353147</td>\n",
       "      <td id=\"T_ad20c_row9_col8\" class=\"data row9 col8\" >0.319161</td>\n",
       "      <td id=\"T_ad20c_row9_col9\" class=\"data row9 col9\" >1.000000</td>\n",
       "      <td id=\"T_ad20c_row9_col10\" class=\"data row9 col10\" >-0.554699</td>\n",
       "      <td id=\"T_ad20c_row9_col11\" class=\"data row9 col11\" >0.219624</td>\n",
       "      <td id=\"T_ad20c_row9_col12\" class=\"data row9 col12\" >0.183715</td>\n",
       "      <td id=\"T_ad20c_row9_col13\" class=\"data row9 col13\" >-0.438036</td>\n",
       "    </tr>\n",
       "    <tr>\n",
       "      <th id=\"T_ad20c_level0_row10\" class=\"row_heading level0 row10\" >slope</th>\n",
       "      <td id=\"T_ad20c_row10_col0\" class=\"data row10 col0\" >-0.163316</td>\n",
       "      <td id=\"T_ad20c_row10_col1\" class=\"data row10 col1\" >-0.029872</td>\n",
       "      <td id=\"T_ad20c_row10_col2\" class=\"data row10 col2\" >0.117876</td>\n",
       "      <td id=\"T_ad20c_row10_col3\" class=\"data row10 col3\" >-0.109708</td>\n",
       "      <td id=\"T_ad20c_row10_col4\" class=\"data row10 col4\" >-0.030872</td>\n",
       "      <td id=\"T_ad20c_row10_col5\" class=\"data row10 col5\" >-0.070781</td>\n",
       "      <td id=\"T_ad20c_row10_col6\" class=\"data row10 col6\" >0.091627</td>\n",
       "      <td id=\"T_ad20c_row10_col7\" class=\"data row10 col7\" >0.388990</td>\n",
       "      <td id=\"T_ad20c_row10_col8\" class=\"data row10 col8\" >-0.267810</td>\n",
       "      <td id=\"T_ad20c_row10_col9\" class=\"data row10 col9\" >-0.554699</td>\n",
       "      <td id=\"T_ad20c_row10_col10\" class=\"data row10 col10\" >1.000000</td>\n",
       "      <td id=\"T_ad20c_row10_col11\" class=\"data row10 col11\" >-0.069187</td>\n",
       "      <td id=\"T_ad20c_row10_col12\" class=\"data row10 col12\" >-0.080399</td>\n",
       "      <td id=\"T_ad20c_row10_col13\" class=\"data row10 col13\" >0.335092</td>\n",
       "    </tr>\n",
       "    <tr>\n",
       "      <th id=\"T_ad20c_level0_row11\" class=\"row_heading level0 row11\" >ca</th>\n",
       "      <td id=\"T_ad20c_row11_col0\" class=\"data row11 col0\" >0.274158</td>\n",
       "      <td id=\"T_ad20c_row11_col1\" class=\"data row11 col1\" >0.126943</td>\n",
       "      <td id=\"T_ad20c_row11_col2\" class=\"data row11 col2\" >-0.178011</td>\n",
       "      <td id=\"T_ad20c_row11_col3\" class=\"data row11 col3\" >0.095031</td>\n",
       "      <td id=\"T_ad20c_row11_col4\" class=\"data row11 col4\" >0.083428</td>\n",
       "      <td id=\"T_ad20c_row11_col5\" class=\"data row11 col5\" >0.138831</td>\n",
       "      <td id=\"T_ad20c_row11_col6\" class=\"data row11 col6\" >-0.067498</td>\n",
       "      <td id=\"T_ad20c_row11_col7\" class=\"data row11 col7\" >-0.229757</td>\n",
       "      <td id=\"T_ad20c_row11_col8\" class=\"data row11 col8\" >0.116066</td>\n",
       "      <td id=\"T_ad20c_row11_col9\" class=\"data row11 col9\" >0.219624</td>\n",
       "      <td id=\"T_ad20c_row11_col10\" class=\"data row11 col10\" >-0.069187</td>\n",
       "      <td id=\"T_ad20c_row11_col11\" class=\"data row11 col11\" >1.000000</td>\n",
       "      <td id=\"T_ad20c_row11_col12\" class=\"data row11 col12\" >0.145668</td>\n",
       "      <td id=\"T_ad20c_row11_col13\" class=\"data row11 col13\" >-0.387110</td>\n",
       "    </tr>\n",
       "    <tr>\n",
       "      <th id=\"T_ad20c_level0_row12\" class=\"row_heading level0 row12\" >thal</th>\n",
       "      <td id=\"T_ad20c_row12_col0\" class=\"data row12 col0\" >0.072835</td>\n",
       "      <td id=\"T_ad20c_row12_col1\" class=\"data row12 col1\" >0.203744</td>\n",
       "      <td id=\"T_ad20c_row12_col2\" class=\"data row12 col2\" >-0.159800</td>\n",
       "      <td id=\"T_ad20c_row12_col3\" class=\"data row12 col3\" >0.051193</td>\n",
       "      <td id=\"T_ad20c_row12_col4\" class=\"data row12 col4\" >0.108370</td>\n",
       "      <td id=\"T_ad20c_row12_col5\" class=\"data row12 col5\" >-0.040112</td>\n",
       "      <td id=\"T_ad20c_row12_col6\" class=\"data row12 col6\" >-0.019477</td>\n",
       "      <td id=\"T_ad20c_row12_col7\" class=\"data row12 col7\" >-0.100580</td>\n",
       "      <td id=\"T_ad20c_row12_col8\" class=\"data row12 col8\" >0.194023</td>\n",
       "      <td id=\"T_ad20c_row12_col9\" class=\"data row12 col9\" >0.183715</td>\n",
       "      <td id=\"T_ad20c_row12_col10\" class=\"data row12 col10\" >-0.080399</td>\n",
       "      <td id=\"T_ad20c_row12_col11\" class=\"data row12 col11\" >0.145668</td>\n",
       "      <td id=\"T_ad20c_row12_col12\" class=\"data row12 col12\" >1.000000</td>\n",
       "      <td id=\"T_ad20c_row12_col13\" class=\"data row12 col13\" >-0.335693</td>\n",
       "    </tr>\n",
       "    <tr>\n",
       "      <th id=\"T_ad20c_level0_row13\" class=\"row_heading level0 row13\" >target</th>\n",
       "      <td id=\"T_ad20c_row13_col0\" class=\"data row13 col0\" >-0.223274</td>\n",
       "      <td id=\"T_ad20c_row13_col1\" class=\"data row13 col1\" >-0.281769</td>\n",
       "      <td id=\"T_ad20c_row13_col2\" class=\"data row13 col2\" >0.429060</td>\n",
       "      <td id=\"T_ad20c_row13_col3\" class=\"data row13 col3\" >-0.136073</td>\n",
       "      <td id=\"T_ad20c_row13_col4\" class=\"data row13 col4\" >-0.108883</td>\n",
       "      <td id=\"T_ad20c_row13_col5\" class=\"data row13 col5\" >-0.046137</td>\n",
       "      <td id=\"T_ad20c_row13_col6\" class=\"data row13 col6\" >0.140081</td>\n",
       "      <td id=\"T_ad20c_row13_col7\" class=\"data row13 col7\" >0.416073</td>\n",
       "      <td id=\"T_ad20c_row13_col8\" class=\"data row13 col8\" >-0.442388</td>\n",
       "      <td id=\"T_ad20c_row13_col9\" class=\"data row13 col9\" >-0.438036</td>\n",
       "      <td id=\"T_ad20c_row13_col10\" class=\"data row13 col10\" >0.335092</td>\n",
       "      <td id=\"T_ad20c_row13_col11\" class=\"data row13 col11\" >-0.387110</td>\n",
       "      <td id=\"T_ad20c_row13_col12\" class=\"data row13 col12\" >-0.335693</td>\n",
       "      <td id=\"T_ad20c_row13_col13\" class=\"data row13 col13\" >1.000000</td>\n",
       "    </tr>\n",
       "  </tbody>\n",
       "</table>\n"
      ],
      "text/plain": [
       "<pandas.io.formats.style.Styler at 0x223bda1e340>"
      ]
     },
     "execution_count": 27,
     "metadata": {},
     "output_type": "execute_result"
    }
   ],
   "source": [
    "corr = df.corr(method=\"pearson\")\n",
    "cmap = sns.cm.vlag_r\n",
    "corr.style.background_gradient(cmap=cmap)"
   ]
  },
  {
   "cell_type": "markdown",
   "id": "a2740fd4",
   "metadata": {},
   "source": [
    "Here is a numeric overview of the different correlations. From this we can get a sense of which values have the highest either positive or negative correlation with \"target\" which is whether or not a person has a heart disease. We would like to take a closer look at the most noticable values."
   ]
  },
  {
   "cell_type": "markdown",
   "id": "42e3eb98",
   "metadata": {},
   "source": [
    "#### \"cp\" - Chest pain type \n",
    "With a correlation coefficient of 0.435"
   ]
  },
  {
   "cell_type": "code",
   "execution_count": 28,
   "id": "9d5f04c4",
   "metadata": {},
   "outputs": [
    {
     "data": {
      "text/html": [
       "<div>\n",
       "<style scoped>\n",
       "    .dataframe tbody tr th:only-of-type {\n",
       "        vertical-align: middle;\n",
       "    }\n",
       "\n",
       "    .dataframe tbody tr th {\n",
       "        vertical-align: top;\n",
       "    }\n",
       "\n",
       "    .dataframe thead th {\n",
       "        text-align: right;\n",
       "    }\n",
       "</style>\n",
       "<table border=\"1\" class=\"dataframe\">\n",
       "  <thead>\n",
       "    <tr style=\"text-align: right;\">\n",
       "      <th></th>\n",
       "      <th>age</th>\n",
       "      <th>sex</th>\n",
       "      <th>trestbps</th>\n",
       "      <th>chol</th>\n",
       "      <th>fbs</th>\n",
       "      <th>restecg</th>\n",
       "      <th>thalach</th>\n",
       "      <th>exang</th>\n",
       "      <th>oldpeak</th>\n",
       "      <th>slope</th>\n",
       "      <th>ca</th>\n",
       "      <th>thal</th>\n",
       "      <th>target</th>\n",
       "    </tr>\n",
       "    <tr>\n",
       "      <th>cp</th>\n",
       "      <th></th>\n",
       "      <th></th>\n",
       "      <th></th>\n",
       "      <th></th>\n",
       "      <th></th>\n",
       "      <th></th>\n",
       "      <th></th>\n",
       "      <th></th>\n",
       "      <th></th>\n",
       "      <th></th>\n",
       "      <th></th>\n",
       "      <th></th>\n",
       "      <th></th>\n",
       "    </tr>\n",
       "  </thead>\n",
       "  <tbody>\n",
       "    <tr>\n",
       "      <th>0</th>\n",
       "      <td>55.660494</td>\n",
       "      <td>0.732510</td>\n",
       "      <td>132.078189</td>\n",
       "      <td>250.903292</td>\n",
       "      <td>0.135802</td>\n",
       "      <td>0.475309</td>\n",
       "      <td>140.829218</td>\n",
       "      <td>0.574074</td>\n",
       "      <td>1.378807</td>\n",
       "      <td>1.263374</td>\n",
       "      <td>0.985597</td>\n",
       "      <td>2.450617</td>\n",
       "      <td>0.251029</td>\n",
       "    </tr>\n",
       "    <tr>\n",
       "      <th>1</th>\n",
       "      <td>51.245509</td>\n",
       "      <td>0.658683</td>\n",
       "      <td>128.119760</td>\n",
       "      <td>244.700599</td>\n",
       "      <td>0.095808</td>\n",
       "      <td>0.616766</td>\n",
       "      <td>162.179641</td>\n",
       "      <td>0.071856</td>\n",
       "      <td>0.323952</td>\n",
       "      <td>1.658683</td>\n",
       "      <td>0.425150</td>\n",
       "      <td>2.155689</td>\n",
       "      <td>0.802395</td>\n",
       "    </tr>\n",
       "    <tr>\n",
       "      <th>2</th>\n",
       "      <td>53.517606</td>\n",
       "      <td>0.616197</td>\n",
       "      <td>130.077465</td>\n",
       "      <td>242.197183</td>\n",
       "      <td>0.193662</td>\n",
       "      <td>0.598592</td>\n",
       "      <td>155.116197</td>\n",
       "      <td>0.130282</td>\n",
       "      <td>0.784507</td>\n",
       "      <td>1.507042</td>\n",
       "      <td>0.619718</td>\n",
       "      <td>2.211268</td>\n",
       "      <td>0.771127</td>\n",
       "    </tr>\n",
       "    <tr>\n",
       "      <th>3</th>\n",
       "      <td>56.012987</td>\n",
       "      <td>0.831169</td>\n",
       "      <td>140.961039</td>\n",
       "      <td>237.064935</td>\n",
       "      <td>0.207792</td>\n",
       "      <td>0.402597</td>\n",
       "      <td>157.129870</td>\n",
       "      <td>0.168831</td>\n",
       "      <td>1.380519</td>\n",
       "      <td>1.259740</td>\n",
       "      <td>0.493506</td>\n",
       "      <td>2.259740</td>\n",
       "      <td>0.662338</td>\n",
       "    </tr>\n",
       "  </tbody>\n",
       "</table>\n",
       "</div>"
      ],
      "text/plain": [
       "          age       sex    trestbps        chol       fbs   restecg  \\\n",
       "cp                                                                    \n",
       "0   55.660494  0.732510  132.078189  250.903292  0.135802  0.475309   \n",
       "1   51.245509  0.658683  128.119760  244.700599  0.095808  0.616766   \n",
       "2   53.517606  0.616197  130.077465  242.197183  0.193662  0.598592   \n",
       "3   56.012987  0.831169  140.961039  237.064935  0.207792  0.402597   \n",
       "\n",
       "       thalach     exang   oldpeak     slope        ca      thal    target  \n",
       "cp                                                                          \n",
       "0   140.829218  0.574074  1.378807  1.263374  0.985597  2.450617  0.251029  \n",
       "1   162.179641  0.071856  0.323952  1.658683  0.425150  2.155689  0.802395  \n",
       "2   155.116197  0.130282  0.784507  1.507042  0.619718  2.211268  0.771127  \n",
       "3   157.129870  0.168831  1.380519  1.259740  0.493506  2.259740  0.662338  "
      ]
     },
     "execution_count": 28,
     "metadata": {},
     "output_type": "execute_result"
    }
   ],
   "source": [
    "chestPain = df.groupby('cp').mean()\n",
    "chestPain"
   ]
  },
  {
   "cell_type": "code",
   "execution_count": 29,
   "id": "f4ed1c58",
   "metadata": {},
   "outputs": [
    {
     "data": {
      "text/plain": [
       "<AxesSubplot:xlabel='Chest pain type'>"
      ]
     },
     "execution_count": 29,
     "metadata": {},
     "output_type": "execute_result"
    },
    {
     "data": {
      "image/png": "[encoded data removed]",
      "text/plain": [
       "<Figure size 432x288 with 1 Axes>"
      ]
     },
     "metadata": {
      "needs_background": "light"
     },
     "output_type": "display_data"
    }
   ],
   "source": [
    "# plot\n",
    "chestPain['target'].plot.bar(xlabel=\"Chest pain type\")"
   ]
  },
  {
   "cell_type": "markdown",
   "id": "016f9fe8",
   "metadata": {},
   "source": [
    "In this chart we can see a clear distinction between the different types of chest pain and whether or not a person has heart disease. Based on this chart looks like there might be a difference between chest pain type 0 and the rest."
   ]
  },
  {
   "cell_type": "markdown",
   "id": "c3284c5e",
   "metadata": {},
   "source": [
    " "
   ]
  },
  {
   "cell_type": "markdown",
   "id": "a77ea2f1",
   "metadata": {},
   "source": [
    "#### exang - Exercise induced angina\n",
    "With a correlation coefficient of -0.4380"
   ]
  },
  {
   "cell_type": "code",
   "execution_count": 30,
   "id": "c8e99883",
   "metadata": {},
   "outputs": [
    {
     "data": {
      "text/html": [
       "<div>\n",
       "<style scoped>\n",
       "    .dataframe tbody tr th:only-of-type {\n",
       "        vertical-align: middle;\n",
       "    }\n",
       "\n",
       "    .dataframe tbody tr th {\n",
       "        vertical-align: top;\n",
       "    }\n",
       "\n",
       "    .dataframe thead th {\n",
       "        text-align: right;\n",
       "    }\n",
       "</style>\n",
       "<table border=\"1\" class=\"dataframe\">\n",
       "  <thead>\n",
       "    <tr style=\"text-align: right;\">\n",
       "      <th></th>\n",
       "      <th>age</th>\n",
       "      <th>sex</th>\n",
       "      <th>cp</th>\n",
       "      <th>trestbps</th>\n",
       "      <th>chol</th>\n",
       "      <th>fbs</th>\n",
       "      <th>restecg</th>\n",
       "      <th>thalach</th>\n",
       "      <th>oldpeak</th>\n",
       "      <th>slope</th>\n",
       "      <th>ca</th>\n",
       "      <th>thal</th>\n",
       "      <th>target</th>\n",
       "    </tr>\n",
       "    <tr>\n",
       "      <th>exang</th>\n",
       "      <th></th>\n",
       "      <th></th>\n",
       "      <th></th>\n",
       "      <th></th>\n",
       "      <th></th>\n",
       "      <th></th>\n",
       "      <th></th>\n",
       "      <th></th>\n",
       "      <th></th>\n",
       "      <th></th>\n",
       "      <th></th>\n",
       "      <th></th>\n",
       "      <th></th>\n",
       "    </tr>\n",
       "  </thead>\n",
       "  <tbody>\n",
       "    <tr>\n",
       "      <th>0</th>\n",
       "      <td>53.750371</td>\n",
       "      <td>0.650817</td>\n",
       "      <td>1.249629</td>\n",
       "      <td>130.783061</td>\n",
       "      <td>243.918276</td>\n",
       "      <td>0.138187</td>\n",
       "      <td>0.554235</td>\n",
       "      <td>155.890045</td>\n",
       "      <td>0.78633</td>\n",
       "      <td>1.512630</td>\n",
       "      <td>0.668648</td>\n",
       "      <td>2.234770</td>\n",
       "      <td>0.676077</td>\n",
       "    </tr>\n",
       "    <tr>\n",
       "      <th>1</th>\n",
       "      <td>55.563050</td>\n",
       "      <td>0.782991</td>\n",
       "      <td>0.366569</td>\n",
       "      <td>133.035191</td>\n",
       "      <td>251.275660</td>\n",
       "      <td>0.175953</td>\n",
       "      <td>0.475073</td>\n",
       "      <td>137.140762</td>\n",
       "      <td>1.53695</td>\n",
       "      <td>1.167155</td>\n",
       "      <td>0.920821</td>\n",
       "      <td>2.489736</td>\n",
       "      <td>0.208211</td>\n",
       "    </tr>\n",
       "  </tbody>\n",
       "</table>\n",
       "</div>"
      ],
      "text/plain": [
       "             age       sex        cp    trestbps        chol       fbs  \\\n",
       "exang                                                                    \n",
       "0      53.750371  0.650817  1.249629  130.783061  243.918276  0.138187   \n",
       "1      55.563050  0.782991  0.366569  133.035191  251.275660  0.175953   \n",
       "\n",
       "        restecg     thalach  oldpeak     slope        ca      thal    target  \n",
       "exang                                                                         \n",
       "0      0.554235  155.890045  0.78633  1.512630  0.668648  2.234770  0.676077  \n",
       "1      0.475073  137.140762  1.53695  1.167155  0.920821  2.489736  0.208211  "
      ]
     },
     "execution_count": 30,
     "metadata": {},
     "output_type": "execute_result"
    }
   ],
   "source": [
    "exangina = df.groupby('exang').mean()\n",
    "exangina"
   ]
  },
  {
   "cell_type": "code",
   "execution_count": 31,
   "id": "a7e7eebd",
   "metadata": {},
   "outputs": [
    {
     "data": {
      "text/plain": [
       "<AxesSubplot:xlabel='exang'>"
      ]
     },
     "execution_count": 31,
     "metadata": {},
     "output_type": "execute_result"
    },
    {
     "data": {
      "image/png": "[encoded data removed]",
      "text/plain": [
       "<Figure size 432x288 with 1 Axes>"
      ]
     },
     "metadata": {
      "needs_background": "light"
     },
     "output_type": "display_data"
    }
   ],
   "source": [
    "exangina[\"target\"].plot.bar()"
   ]
  },
  {
   "cell_type": "markdown",
   "id": "4396ffb8",
   "metadata": {},
   "source": [
    "Based on this chart there seems to be a strong negative correlation between whether a person gets exercise enduced angina and if they have a heart disease. So it seems to indicate that if a person gets exercise enduces angina, then they have a lower risk of having a heart disease."
   ]
  },
  {
   "cell_type": "markdown",
   "id": "134b56d9",
   "metadata": {},
   "source": [
    " "
   ]
  },
  {
   "cell_type": "markdown",
   "id": "47b6a7aa",
   "metadata": {},
   "source": [
    "#### thalach - Maximum heart rate achieved\n",
    "With a correlation coefficient of 0.423"
   ]
  },
  {
   "cell_type": "code",
   "execution_count": 32,
   "id": "3f8a5b2a",
   "metadata": {},
   "outputs": [
    {
     "data": {
      "text/html": [
       "<div>\n",
       "<style scoped>\n",
       "    .dataframe tbody tr th:only-of-type {\n",
       "        vertical-align: middle;\n",
       "    }\n",
       "\n",
       "    .dataframe tbody tr th {\n",
       "        vertical-align: top;\n",
       "    }\n",
       "\n",
       "    .dataframe thead th {\n",
       "        text-align: right;\n",
       "    }\n",
       "</style>\n",
       "<table border=\"1\" class=\"dataframe\">\n",
       "  <thead>\n",
       "    <tr style=\"text-align: right;\">\n",
       "      <th></th>\n",
       "      <th>age</th>\n",
       "      <th>sex</th>\n",
       "      <th>cp</th>\n",
       "      <th>trestbps</th>\n",
       "      <th>chol</th>\n",
       "      <th>fbs</th>\n",
       "      <th>restecg</th>\n",
       "      <th>exang</th>\n",
       "      <th>oldpeak</th>\n",
       "      <th>slope</th>\n",
       "      <th>ca</th>\n",
       "      <th>thal</th>\n",
       "      <th>target</th>\n",
       "    </tr>\n",
       "    <tr>\n",
       "      <th>thalach</th>\n",
       "      <th></th>\n",
       "      <th></th>\n",
       "      <th></th>\n",
       "      <th></th>\n",
       "      <th></th>\n",
       "      <th></th>\n",
       "      <th></th>\n",
       "      <th></th>\n",
       "      <th></th>\n",
       "      <th></th>\n",
       "      <th></th>\n",
       "      <th></th>\n",
       "      <th></th>\n",
       "    </tr>\n",
       "  </thead>\n",
       "  <tbody>\n",
       "    <tr>\n",
       "      <th>88</th>\n",
       "      <td>57.000000</td>\n",
       "      <td>1.000000</td>\n",
       "      <td>0.000000</td>\n",
       "      <td>152.0</td>\n",
       "      <td>274.000000</td>\n",
       "      <td>0.000000</td>\n",
       "      <td>1.000000</td>\n",
       "      <td>1.000000</td>\n",
       "      <td>1.200000</td>\n",
       "      <td>1.000000</td>\n",
       "      <td>1.000000</td>\n",
       "      <td>3.0</td>\n",
       "      <td>0.000000</td>\n",
       "    </tr>\n",
       "    <tr>\n",
       "      <th>90</th>\n",
       "      <td>59.000000</td>\n",
       "      <td>1.000000</td>\n",
       "      <td>0.000000</td>\n",
       "      <td>164.0</td>\n",
       "      <td>176.000000</td>\n",
       "      <td>1.000000</td>\n",
       "      <td>0.000000</td>\n",
       "      <td>0.000000</td>\n",
       "      <td>1.000000</td>\n",
       "      <td>1.000000</td>\n",
       "      <td>2.000000</td>\n",
       "      <td>1.0</td>\n",
       "      <td>0.000000</td>\n",
       "    </tr>\n",
       "    <tr>\n",
       "      <th>95</th>\n",
       "      <td>53.000000</td>\n",
       "      <td>1.000000</td>\n",
       "      <td>0.000000</td>\n",
       "      <td>123.0</td>\n",
       "      <td>282.000000</td>\n",
       "      <td>0.000000</td>\n",
       "      <td>1.000000</td>\n",
       "      <td>1.000000</td>\n",
       "      <td>2.000000</td>\n",
       "      <td>1.000000</td>\n",
       "      <td>2.000000</td>\n",
       "      <td>3.0</td>\n",
       "      <td>0.000000</td>\n",
       "    </tr>\n",
       "    <tr>\n",
       "      <th>96</th>\n",
       "      <td>62.285714</td>\n",
       "      <td>0.571429</td>\n",
       "      <td>0.857143</td>\n",
       "      <td>120.0</td>\n",
       "      <td>216.857143</td>\n",
       "      <td>0.428571</td>\n",
       "      <td>0.428571</td>\n",
       "      <td>0.571429</td>\n",
       "      <td>1.257143</td>\n",
       "      <td>0.857143</td>\n",
       "      <td>0.571429</td>\n",
       "      <td>2.0</td>\n",
       "      <td>0.428571</td>\n",
       "    </tr>\n",
       "    <tr>\n",
       "      <th>97</th>\n",
       "      <td>62.000000</td>\n",
       "      <td>0.000000</td>\n",
       "      <td>2.000000</td>\n",
       "      <td>130.0</td>\n",
       "      <td>263.000000</td>\n",
       "      <td>0.000000</td>\n",
       "      <td>1.000000</td>\n",
       "      <td>0.000000</td>\n",
       "      <td>1.200000</td>\n",
       "      <td>1.000000</td>\n",
       "      <td>1.000000</td>\n",
       "      <td>3.0</td>\n",
       "      <td>0.000000</td>\n",
       "    </tr>\n",
       "  </tbody>\n",
       "</table>\n",
       "</div>"
      ],
      "text/plain": [
       "               age       sex        cp  trestbps        chol       fbs  \\\n",
       "thalach                                                                  \n",
       "88       57.000000  1.000000  0.000000     152.0  274.000000  0.000000   \n",
       "90       59.000000  1.000000  0.000000     164.0  176.000000  1.000000   \n",
       "95       53.000000  1.000000  0.000000     123.0  282.000000  0.000000   \n",
       "96       62.285714  0.571429  0.857143     120.0  216.857143  0.428571   \n",
       "97       62.000000  0.000000  2.000000     130.0  263.000000  0.000000   \n",
       "\n",
       "          restecg     exang   oldpeak     slope        ca  thal    target  \n",
       "thalach                                                                    \n",
       "88       1.000000  1.000000  1.200000  1.000000  1.000000   3.0  0.000000  \n",
       "90       0.000000  0.000000  1.000000  1.000000  2.000000   1.0  0.000000  \n",
       "95       1.000000  1.000000  2.000000  1.000000  2.000000   3.0  0.000000  \n",
       "96       0.428571  0.571429  1.257143  0.857143  0.571429   2.0  0.428571  \n",
       "97       1.000000  0.000000  1.200000  1.000000  1.000000   3.0  0.000000  "
      ]
     },
     "execution_count": 32,
     "metadata": {},
     "output_type": "execute_result"
    }
   ],
   "source": [
    "maxHR = df.groupby('thalach').mean()\n",
    "maxHR.head()"
   ]
  },
  {
   "cell_type": "code",
   "execution_count": 33,
   "id": "b9746997",
   "metadata": {},
   "outputs": [
    {
     "data": {
      "text/plain": [
       "<AxesSubplot:xlabel='Max heart rate'>"
      ]
     },
     "execution_count": 33,
     "metadata": {},
     "output_type": "execute_result"
    },
    {
     "data": {
      "image/png": "[encoded data removed]",
      "text/plain": [
       "<Figure size 1080x576 with 1 Axes>"
      ]
     },
     "metadata": {
      "needs_background": "light"
     },
     "output_type": "display_data"
    }
   ],
   "source": [
    "maxHR[\"target\"].plot.bar(xlabel=\"Max heart rate\", figsize=(15,8))"
   ]
  },
  {
   "cell_type": "markdown",
   "id": "5ac128ff",
   "metadata": {},
   "source": [
    "Based on this chart there seems to be a general increase increase in heart disease entries the higher the max heart rate is. So this seems to indicate that the higher your maximum heart rate can go, the more likely you are to have heart disease."
   ]
  },
  {
   "cell_type": "markdown",
   "id": "b8ebf9c2",
   "metadata": {},
   "source": [
    " "
   ]
  },
  {
   "cell_type": "markdown",
   "id": "9a202ee5",
   "metadata": {},
   "source": [
    "#### oldpeak - ST depression induced by exercise relative to rest\n",
    "With correlation coefficient -0.4384"
   ]
  },
  {
   "cell_type": "code",
   "execution_count": 34,
   "id": "13f5abee",
   "metadata": {},
   "outputs": [
    {
     "data": {
      "text/html": [
       "<div>\n",
       "<style scoped>\n",
       "    .dataframe tbody tr th:only-of-type {\n",
       "        vertical-align: middle;\n",
       "    }\n",
       "\n",
       "    .dataframe tbody tr th {\n",
       "        vertical-align: top;\n",
       "    }\n",
       "\n",
       "    .dataframe thead th {\n",
       "        text-align: right;\n",
       "    }\n",
       "</style>\n",
       "<table border=\"1\" class=\"dataframe\">\n",
       "  <thead>\n",
       "    <tr style=\"text-align: right;\">\n",
       "      <th></th>\n",
       "      <th>age</th>\n",
       "      <th>sex</th>\n",
       "      <th>cp</th>\n",
       "      <th>trestbps</th>\n",
       "      <th>chol</th>\n",
       "      <th>fbs</th>\n",
       "      <th>restecg</th>\n",
       "      <th>thalach</th>\n",
       "      <th>exang</th>\n",
       "      <th>slope</th>\n",
       "      <th>ca</th>\n",
       "      <th>thal</th>\n",
       "      <th>target</th>\n",
       "    </tr>\n",
       "    <tr>\n",
       "      <th>oldpeak</th>\n",
       "      <th></th>\n",
       "      <th></th>\n",
       "      <th></th>\n",
       "      <th></th>\n",
       "      <th></th>\n",
       "      <th></th>\n",
       "      <th></th>\n",
       "      <th></th>\n",
       "      <th></th>\n",
       "      <th></th>\n",
       "      <th></th>\n",
       "      <th></th>\n",
       "      <th></th>\n",
       "    </tr>\n",
       "  </thead>\n",
       "  <tbody>\n",
       "    <tr>\n",
       "      <th>0.0</th>\n",
       "      <td>50.753799</td>\n",
       "      <td>0.662614</td>\n",
       "      <td>1.079027</td>\n",
       "      <td>128.911854</td>\n",
       "      <td>240.431611</td>\n",
       "      <td>0.121581</td>\n",
       "      <td>0.562310</td>\n",
       "      <td>162.188450</td>\n",
       "      <td>0.185410</td>\n",
       "      <td>1.832827</td>\n",
       "      <td>0.550152</td>\n",
       "      <td>2.136778</td>\n",
       "      <td>0.735562</td>\n",
       "    </tr>\n",
       "    <tr>\n",
       "      <th>0.1</th>\n",
       "      <td>55.869565</td>\n",
       "      <td>0.869565</td>\n",
       "      <td>0.652174</td>\n",
       "      <td>121.391304</td>\n",
       "      <td>222.869565</td>\n",
       "      <td>0.391304</td>\n",
       "      <td>0.434783</td>\n",
       "      <td>145.695652</td>\n",
       "      <td>0.304348</td>\n",
       "      <td>1.608696</td>\n",
       "      <td>1.391304</td>\n",
       "      <td>2.434783</td>\n",
       "      <td>0.521739</td>\n",
       "    </tr>\n",
       "    <tr>\n",
       "      <th>0.2</th>\n",
       "      <td>56.567568</td>\n",
       "      <td>0.513514</td>\n",
       "      <td>1.216216</td>\n",
       "      <td>135.378378</td>\n",
       "      <td>254.918919</td>\n",
       "      <td>0.162162</td>\n",
       "      <td>0.648649</td>\n",
       "      <td>149.027027</td>\n",
       "      <td>0.324324</td>\n",
       "      <td>1.405405</td>\n",
       "      <td>0.405405</td>\n",
       "      <td>2.513514</td>\n",
       "      <td>0.729730</td>\n",
       "    </tr>\n",
       "    <tr>\n",
       "      <th>0.3</th>\n",
       "      <td>56.100000</td>\n",
       "      <td>0.400000</td>\n",
       "      <td>1.000000</td>\n",
       "      <td>116.800000</td>\n",
       "      <td>243.900000</td>\n",
       "      <td>0.000000</td>\n",
       "      <td>1.000000</td>\n",
       "      <td>143.700000</td>\n",
       "      <td>0.000000</td>\n",
       "      <td>1.700000</td>\n",
       "      <td>0.900000</td>\n",
       "      <td>2.400000</td>\n",
       "      <td>0.600000</td>\n",
       "    </tr>\n",
       "    <tr>\n",
       "      <th>0.4</th>\n",
       "      <td>58.133333</td>\n",
       "      <td>0.800000</td>\n",
       "      <td>0.966667</td>\n",
       "      <td>129.733333</td>\n",
       "      <td>241.266667</td>\n",
       "      <td>0.000000</td>\n",
       "      <td>0.533333</td>\n",
       "      <td>151.100000</td>\n",
       "      <td>0.100000</td>\n",
       "      <td>1.300000</td>\n",
       "      <td>0.866667</td>\n",
       "      <td>2.400000</td>\n",
       "      <td>0.866667</td>\n",
       "    </tr>\n",
       "  </tbody>\n",
       "</table>\n",
       "</div>"
      ],
      "text/plain": [
       "               age       sex        cp    trestbps        chol       fbs  \\\n",
       "oldpeak                                                                    \n",
       "0.0      50.753799  0.662614  1.079027  128.911854  240.431611  0.121581   \n",
       "0.1      55.869565  0.869565  0.652174  121.391304  222.869565  0.391304   \n",
       "0.2      56.567568  0.513514  1.216216  135.378378  254.918919  0.162162   \n",
       "0.3      56.100000  0.400000  1.000000  116.800000  243.900000  0.000000   \n",
       "0.4      58.133333  0.800000  0.966667  129.733333  241.266667  0.000000   \n",
       "\n",
       "          restecg     thalach     exang     slope        ca      thal  \\\n",
       "oldpeak                                                                 \n",
       "0.0      0.562310  162.188450  0.185410  1.832827  0.550152  2.136778   \n",
       "0.1      0.434783  145.695652  0.304348  1.608696  1.391304  2.434783   \n",
       "0.2      0.648649  149.027027  0.324324  1.405405  0.405405  2.513514   \n",
       "0.3      1.000000  143.700000  0.000000  1.700000  0.900000  2.400000   \n",
       "0.4      0.533333  151.100000  0.100000  1.300000  0.866667  2.400000   \n",
       "\n",
       "           target  \n",
       "oldpeak            \n",
       "0.0      0.735562  \n",
       "0.1      0.521739  \n",
       "0.2      0.729730  \n",
       "0.3      0.600000  \n",
       "0.4      0.866667  "
      ]
     },
     "execution_count": 34,
     "metadata": {},
     "output_type": "execute_result"
    }
   ],
   "source": [
    "st = df.groupby('oldpeak').mean()\n",
    "st.head()"
   ]
  },
  {
   "cell_type": "code",
   "execution_count": 35,
   "id": "8c0c09e5",
   "metadata": {},
   "outputs": [
    {
     "data": {
      "text/plain": [
       "<AxesSubplot:xlabel='ST depression induced by exercise relative to rest'>"
      ]
     },
     "execution_count": 35,
     "metadata": {},
     "output_type": "execute_result"
    },
    {
     "data": {
      "image/png": "[encoded data removed]",
      "text/plain": [
       "<Figure size 720x576 with 1 Axes>"
      ]
     },
     "metadata": {
      "needs_background": "light"
     },
     "output_type": "display_data"
    }
   ],
   "source": [
    "st[\"target\"].plot.bar(xlabel=\"ST depression induced by exercise relative to rest\", figsize=(10,8))"
   ]
  },
  {
   "cell_type": "markdown",
   "id": "cfbefd78",
   "metadata": {},
   "source": [
    "On this graph we see a drop in cases with heart disease the higher the value of ST depression. This seems to indicate that people with higher levels of ST depression have a lower chance of having a heart disease."
   ]
  },
  {
   "cell_type": "markdown",
   "id": "cfc848d4",
   "metadata": {},
   "source": [
    "#### Dimensionality reduction"
   ]
  },
  {
   "cell_type": "markdown",
   "id": "2383d6e0",
   "metadata": {},
   "source": [
    "Now we believe it would be smart to standarize our data, because we have wide spread data values."
   ]
  },
  {
   "cell_type": "code",
   "execution_count": 36,
   "id": "9da5acdd",
   "metadata": {},
   "outputs": [],
   "source": [
    "from sklearn.preprocessing import StandardScaler\n",
    "features = df.columns\n",
    "array = df.values\n",
    "# Separating out the features\n",
    "X = array[:, 0:13]\n",
    "# Separating out the target\n",
    "y = array[:,13]\n",
    "# Standardizing the features\n",
    "X = StandardScaler().fit_transform(X)"
   ]
  },
  {
   "cell_type": "markdown",
   "id": "35de8878",
   "metadata": {},
   "source": [
    "With this we should have prepared this dataset for machine learning and the modeling we will proceed with."
   ]
  },
  {
   "cell_type": "markdown",
   "id": "a5df1db5",
   "metadata": {},
   "source": [
    "## Training a model"
   ]
  },
  {
   "cell_type": "markdown",
   "id": "93677b7a",
   "metadata": {},
   "source": [
    "To train models on our data we want to split it into a training set and a test set. Since we are performing supervised learning we do this for all X-columns and the y-column."
   ]
  },
  {
   "cell_type": "code",
   "execution_count": 37,
   "id": "33f5de45",
   "metadata": {},
   "outputs": [],
   "source": [
    "# We use 80% of the data for training and the remaining 20% for testing\n",
    "test_set_size = 0.2\n",
    "\n",
    "# Initial value for randomization\n",
    "seed = 42\n",
    "X_train, X_test, y_train, y_test = model_selection.train_test_split(X, y, test_size=test_set_size, random_state=seed)"
   ]
  },
  {
   "cell_type": "markdown",
   "id": "5a24ddcb",
   "metadata": {},
   "source": [
    "Our training data is X_train and y_train with the validation data being X_test and y_test. Now we can train a model using some algoritms. First off let's try the Gaussian Naive Bayes."
   ]
  },
  {
   "cell_type": "code",
   "execution_count": 38,
   "id": "6b227d1f",
   "metadata": {},
   "outputs": [
    {
     "data": {
      "text/plain": [
       "GaussianNB()"
      ]
     },
     "execution_count": 38,
     "metadata": {},
     "output_type": "execute_result"
    }
   ],
   "source": [
    "model = GaussianNB()\n",
    "model.fit(X_train, y_train)"
   ]
  },
  {
   "cell_type": "code",
   "execution_count": 39,
   "id": "2cef49a9",
   "metadata": {},
   "outputs": [
    {
     "data": {
      "text/plain": [
       "array([1., 1., 1., 0., 0., 1., 0., 1., 0., 1., 1., 0., 0., 0., 1., 0., 1.,\n",
       "       1., 0., 0., 1., 0., 1., 1., 1., 1., 0., 0., 1., 1., 1., 1., 1., 1.,\n",
       "       0., 0., 1., 1., 0., 1., 1., 0., 1., 1., 0., 0., 1., 1., 1., 0., 1.,\n",
       "       0., 1., 1., 1., 0., 1., 1., 0., 0., 0., 1., 1., 1., 1., 1., 1., 0.,\n",
       "       0., 1., 0., 1., 0., 0., 1., 0., 1., 0., 0., 1., 1., 1., 1., 0., 1.,\n",
       "       0., 1., 1., 1., 0., 0., 0., 1., 1., 1., 1., 1., 0., 1., 0., 0., 1.,\n",
       "       0., 1., 1., 1., 1., 1., 1., 0., 1., 0., 0., 0., 1., 0., 0., 0., 0.,\n",
       "       0., 0., 1., 0., 1., 1., 0., 0., 0., 0., 0., 1., 1., 1., 0., 0., 0.,\n",
       "       0., 0., 1., 1., 1., 1., 1., 1., 1., 1., 1., 1., 0., 1., 1., 1., 0.,\n",
       "       1., 0., 1., 0., 1., 0., 0., 1., 0., 0., 1., 1., 0., 1., 1., 0., 0.,\n",
       "       0., 1., 1., 0., 1., 0., 1., 0., 1., 1., 1., 0., 0., 1., 0., 1., 1.,\n",
       "       0., 1., 1., 0., 1., 0., 1., 1., 1., 1., 0., 0., 0., 0., 1., 0.])"
      ]
     },
     "execution_count": 39,
     "metadata": {},
     "output_type": "execute_result"
    }
   ],
   "source": [
    "# Test on the test data, try prediction\n",
    "prediction = model.predict(X_test)\n",
    "prediction"
   ]
  },
  {
   "cell_type": "code",
   "execution_count": 40,
   "id": "83eaaaca",
   "metadata": {},
   "outputs": [
    {
     "name": "stdout",
     "output_type": "stream",
     "text": [
      "0.8325123152709359\n"
     ]
    }
   ],
   "source": [
    "# Calculated accuracy of the model over the validation set\n",
    "print(accuracy_score(y_test, prediction))"
   ]
  },
  {
   "cell_type": "code",
   "execution_count": 41,
   "id": "85bfca9b",
   "metadata": {},
   "outputs": [
    {
     "name": "stdout",
     "output_type": "stream",
     "text": [
      "[[80 25]\n",
      " [ 9 89]]\n"
     ]
    }
   ],
   "source": [
    "# Confusion matrix to give an idea about the errors\n",
    "print(confusion_matrix(y_test, prediction))"
   ]
  },
  {
   "cell_type": "code",
   "execution_count": 42,
   "id": "c34ba812",
   "metadata": {},
   "outputs": [
    {
     "name": "stdout",
     "output_type": "stream",
     "text": [
      "              precision    recall  f1-score   support\n",
      "\n",
      "         0.0       0.90      0.76      0.82       105\n",
      "         1.0       0.78      0.91      0.84        98\n",
      "\n",
      "    accuracy                           0.83       203\n",
      "   macro avg       0.84      0.84      0.83       203\n",
      "weighted avg       0.84      0.83      0.83       203\n",
      "\n"
     ]
    }
   ],
   "source": [
    "# Classification report provides a breakdown of each class by precision, recall, f1-score and support\n",
    "print(classification_report(y_test, prediction))"
   ]
  },
  {
   "cell_type": "markdown",
   "id": "4ddf8d17",
   "metadata": {},
   "source": [
    "Our model predicts the outcomes on the test set with a 83% accuracy, which isn't bad. Let's try predict the output with completely new data."
   ]
  },
  {
   "cell_type": "code",
   "execution_count": 43,
   "id": "4e82ac81",
   "metadata": {},
   "outputs": [
    {
     "data": {
      "text/plain": [
       "array([0.])"
      ]
     },
     "execution_count": 43,
     "metadata": {},
     "output_type": "execute_result"
    }
   ],
   "source": [
    "# perhaps get row from data that isn't trained on\n",
    "test = [[35, 0, 2, 130, 170, 1, 0, 150, 1, 2.0, 2, 0, 2]]\n",
    "new_prediction = model.predict(test)\n",
    "new_prediction"
   ]
  },
  {
   "cell_type": "markdown",
   "id": "ae31e604",
   "metadata": {},
   "source": [
    "This data we fabricated seem to result in the target value 0, which mean a person without heart disease. Let's try out some other models using cross validation."
   ]
  },
  {
   "cell_type": "code",
   "execution_count": 44,
   "id": "87ba8c19",
   "metadata": {},
   "outputs": [],
   "source": [
    "models = []\n",
    "models.append(('LR', LogisticRegression()))\n",
    "models.append(('KNN', KNeighborsClassifier()))\n",
    "models.append(('CART', DecisionTreeClassifier()))\n",
    "models.append(('RFC', RandomForestClassifier()))\n",
    "models.append(('NB', GaussianNB()))"
   ]
  },
  {
   "cell_type": "code",
   "execution_count": 45,
   "id": "25c3efd1",
   "metadata": {},
   "outputs": [
    {
     "name": "stdout",
     "output_type": "stream",
     "text": [
      "LR: 0.818333 (0.089075)\n",
      "KNN: 0.813810 (0.094670)\n",
      "CART: 0.808571 (0.100182)\n",
      "RFC: 0.862857 (0.075834)\n",
      "NB: 0.798333 (0.090156)\n"
     ]
    }
   ],
   "source": [
    "# We run all the algorithms on our data and store their results in results[] and names in names[]\n",
    "results = []\n",
    "names = []\n",
    "for name, model in models:\n",
    "    # We split the data into 10 folds at random\n",
    "    kfold = model_selection.KFold(n_splits=10, random_state=42, shuffle=True)\n",
    "    \n",
    "    # We use the model with the cross validation folds and get the score\n",
    "    cv_results = model_selection.cross_val_score(model, X_test, y_test, cv=kfold, scoring=\"accuracy\")\n",
    "    \n",
    "    # We save the score\n",
    "    results.append(cv_results)\n",
    "    \n",
    "    # We save the model name\n",
    "    names.append(name)\n",
    "    \n",
    "    # Here we then print the results\n",
    "    msg = \"%s: %f (%f)\" % (name, cv_results.mean(), cv_results.std())\n",
    "    print(msg)   \n"
   ]
  },
  {
   "cell_type": "markdown",
   "id": "76b08ec8",
   "metadata": {},
   "source": [
    "This approach has certainly saved a lot of time. We can see the results of each model above, and it would seem that the RandomForestClassifier performs the best on our data. Let's see if we can plot these performances in a graph."
   ]
  },
  {
   "cell_type": "code",
   "execution_count": 46,
   "id": "d1c92a67",
   "metadata": {},
   "outputs": [
    {
     "data": {
      "image/png": "[encoded data removed]",
      "text/plain": [
       "<Figure size 432x288 with 1 Axes>"
      ]
     },
     "metadata": {
      "needs_background": "light"
     },
     "output_type": "display_data"
    }
   ],
   "source": [
    "# We want to plot the performance of each algorithm\n",
    "fig = plt.figure()\n",
    "fig.suptitle('Algorithm Comparison')\n",
    "\n",
    "# x axis includes sub-plots\n",
    "ax = fig.add_subplot(111)\n",
    "\n",
    "# y axis result values\n",
    "plt.boxplot(results)\n",
    "\n",
    "# x axis labels\n",
    "ax.set_xticklabels(names)\n",
    "\n",
    "plt.show()"
   ]
  },
  {
   "cell_type": "markdown",
   "id": "ff015d3c",
   "metadata": {},
   "source": [
    "Based on these tests and the best performing algorithm is the RandomForestClassifier. Let's try to use it"
   ]
  },
  {
   "cell_type": "code",
   "execution_count": 47,
   "id": "cea5117c",
   "metadata": {},
   "outputs": [
    {
     "name": "stdout",
     "output_type": "stream",
     "text": [
      "Accuracy score: 1.0\n",
      "[[105   0]\n",
      " [  0  98]]\n",
      "              precision    recall  f1-score   support\n",
      "\n",
      "         0.0       1.00      1.00      1.00       105\n",
      "         1.0       1.00      1.00      1.00        98\n",
      "\n",
      "    accuracy                           1.00       203\n",
      "   macro avg       1.00      1.00      1.00       203\n",
      "weighted avg       1.00      1.00      1.00       203\n",
      "\n"
     ]
    }
   ],
   "source": [
    "model = RandomForestClassifier();\n",
    "model.fit(X_train, y_train)\n",
    "predictions = model.predict(X_test)\n",
    "# Calculated accuracy of the model over the validation set\n",
    "print(\"Accuracy score:\", accuracy_score(y_test, predictions))\n",
    "\n",
    "# Confusion matrix provides an indication of the three errors made ???? errors of predictions?\n",
    "print(confusion_matrix(y_test, predictions))\n",
    "    \n",
    "# Classification report provides a breakdown of each class by precision, recall, f1-score and support ????\n",
    "print(classification_report(y_test, predictions))"
   ]
  },
  {
   "cell_type": "markdown",
   "id": "82c39e9d",
   "metadata": {},
   "source": [
    "This random forest classifier seems to have an accuracy score of 100% and the confusion matrix also has 105 true negatives, 98 true positives, 0 false positives and 0 false negatives. This might be because our data has many highly correlated fields to the target. Let's try to calculate precision and recall."
   ]
  },
  {
   "cell_type": "code",
   "execution_count": 48,
   "id": "3fb502cf",
   "metadata": {},
   "outputs": [
    {
     "name": "stdout",
     "output_type": "stream",
     "text": [
      "1.0\n",
      "1.0\n"
     ]
    }
   ],
   "source": [
    "from sklearn.metrics import precision_score, recall_score\n",
    "\n",
    "print(precision_score(y_test, predictions))\n",
    "print(recall_score(y_test, predictions))"
   ]
  },
  {
   "cell_type": "markdown",
   "id": "a7d84222",
   "metadata": {},
   "source": [
    "The precision and recall also seem to be the highest it can be, which is suspicious. Let's try to calculate the f1 score."
   ]
  },
  {
   "cell_type": "code",
   "execution_count": 49,
   "id": "3c104463",
   "metadata": {},
   "outputs": [
    {
     "data": {
      "text/plain": [
       "1.0"
      ]
     },
     "execution_count": 49,
     "metadata": {},
     "output_type": "execute_result"
    }
   ],
   "source": [
    "from sklearn.metrics import f1_score\n",
    "\n",
    "f1_score(y_test, predictions)"
   ]
  },
  {
   "cell_type": "markdown",
   "id": "ac385024",
   "metadata": {},
   "source": [
    "So our model seem to be a \"perfect\" predicter on our data. This might be a result of this dataset possibly being biased, and the columns might have been specifically selected by experts because they might have insight into how much they impact heart disease prediction. We tried deviding the test set into a third of the data, but it gave the same result. I will continue for now with this model, because it seems to be good regardless."
   ]
  },
  {
   "cell_type": "markdown",
   "id": "d5cc3b9e",
   "metadata": {},
   "source": [
    "We now have a model that we can use for prediction. To be able to use this model however we want to export it so it can be imported in other projects."
   ]
  },
  {
   "cell_type": "code",
   "execution_count": 50,
   "id": "6b83084a",
   "metadata": {},
   "outputs": [
    {
     "data": {
      "text/plain": [
       "['deploy/data1_model.pkl']"
      ]
     },
     "execution_count": 50,
     "metadata": {},
     "output_type": "execute_result"
    }
   ],
   "source": [
    "import joblib\n",
    "joblib.dump(model, 'deploy/data1_model.pkl')"
   ]
  },
  {
   "cell_type": "code",
   "execution_count": 51,
   "id": "1a31f07c",
   "metadata": {},
   "outputs": [],
   "source": [
    "# deleteme\n",
    "#visual =df.copy()\n",
    "#bins = [20, 30, 40, 50, 60, 70, 80]\n",
    "#visual[\"age\"] = pd.cut(visual.age, bins)\n",
    "# Test til at se hvilken visualization der passer bedst\n",
    "#age = visual.groupby(\"age\").mean()\n",
    "#age_chart = age[\"target\"].plot(kind=\"area\", figsize=(15, 8))\n",
    "#fig = age_chart.get_figure()\n",
    "#fig.savefig('static/ageChartDS1.png')"
   ]
  },
  {
   "cell_type": "code",
   "execution_count": 52,
   "id": "8dcbdc89",
   "metadata": {},
   "outputs": [],
   "source": [
    "#age_pie = age[\"target\"].plot(kind=\"pie\", figsize=(15, 8), ylabel=\"\", title=\"Age groups and heart disease\", legend=[\"\"])\n",
    "#fig = age_pie.get_figure()\n",
    "#fig.savefig('static/agePieDS1.png')"
   ]
  },
  {
   "cell_type": "code",
   "execution_count": 53,
   "id": "9330cc8a",
   "metadata": {},
   "outputs": [],
   "source": [
    "#cp = visual.groupby('cp').mean()\n",
    "\n",
    "#cp['target'].plot.pie(title=\"Heart disease patients with chest pain types 0-3\", ylabel=\"\", legend=[\"\"])"
   ]
  },
  {
   "cell_type": "code",
   "execution_count": 54,
   "id": "404fdbc3",
   "metadata": {},
   "outputs": [],
   "source": [
    "#df.plot.scatter(x='target', y='age', figsize=(6, 6), marker = '$\\u25EF$')"
   ]
  },
  {
   "cell_type": "code",
   "execution_count": 55,
   "id": "2c06426d",
   "metadata": {},
   "outputs": [],
   "source": [
    "#sns.violinplot(df.target, df.age, inner=\"quartile\", color=\"yellow\")"
   ]
  },
  {
   "cell_type": "code",
   "execution_count": 56,
   "id": "95ecaae3",
   "metadata": {},
   "outputs": [],
   "source": [
    "#visual2 = df.copy()\n",
    "#bins2 = [90, 110, 130, 150, 170, 190, 210]\n",
    "#visual2[\"thalach\"] = pd.cut(visual2.thalach, bins2)\n",
    "#hr = visual2.groupby('thalach').mean()\n",
    "#hr_chart = hr[\"target\"].plot.bar(xlabel=\"Max heart rate\", ylabel=\"Heart disease\", figsize=(15,8))\n",
    "#fig = hr_chart.get_figure()\n",
    "#fig.savefig('static/hrChart.png')"
   ]
  },
  {
   "cell_type": "code",
   "execution_count": 58,
   "id": "fdbf7e81",
   "metadata": {},
   "outputs": [
    {
     "data": {
      "text/plain": [
       "(998, 14)"
      ]
     },
     "execution_count": 58,
     "metadata": {},
     "output_type": "execute_result"
    }
   ],
   "source": [
    "outliers = df[df['chol'] > 371.0] # removed some possible outliers to make visualization possible with website \"venngage\"\n",
    "df = df.drop(outliers.index.values)\n",
    "df.shape"
   ]
  },
  {
   "cell_type": "code",
   "execution_count": 73,
   "id": "1865cd65",
   "metadata": {},
   "outputs": [],
   "source": [
    "df.to_csv('datasets/data1_visualization.csv', index=True)"
   ]
  },
  {
   "cell_type": "code",
   "execution_count": 61,
   "id": "0c356341",
   "metadata": {},
   "outputs": [],
   "source": [
    "visual =df.copy()\n",
    "bins = [20, 30, 40, 50, 60, 70, 80]\n",
    "visual[\"age\"] = pd.cut(visual.age, bins)\n",
    "# Test til at se hvilken visualization der passer bedst\n",
    "age = visual.groupby(\"age\").mean()\n",
    "age.to_csv('datasets/data1_age_target.csv', index=True)"
   ]
  },
  {
   "cell_type": "code",
   "execution_count": 63,
   "id": "f7cb443c",
   "metadata": {},
   "outputs": [],
   "source": [
    "visual2 = df.copy()\n",
    "bins2 = [90, 110, 130, 150, 170, 190, 210]\n",
    "visual2[\"thalach\"] = pd.cut(visual2.thalach, bins2)\n",
    "hr = visual2.groupby('thalach').mean()\n",
    "hr.to_csv('datasets/data1_hr_target.csv', index=True)"
   ]
  },
  {
   "cell_type": "code",
   "execution_count": 76,
   "id": "771e1986",
   "metadata": {},
   "outputs": [],
   "source": [
    "visual =df.copy()\n",
    "#bins = [20, 30, 40, 50, 60, 70, 80]\n",
    "#visual[\"age\"] = pd.cut(visual.age, bins)\n",
    "# Test til at se hvilken visualization der passer bedst\n",
    "sex = visual.groupby(\"sex\").mean()\n",
    "sex.to_csv('datasets/data1_sex.csv', index=True)"
   ]
  }
 ],
 "metadata": {
  "kernelspec": {
   "display_name": "Python 3 (ipykernel)",
   "language": "python",
   "name": "python3"
  },
  "language_info": {
   "codemirror_mode": {
    "name": "ipython",
    "version": 3
   },
   "file_extension": ".py",
   "mimetype": "text/x-python",
   "name": "python",
   "nbconvert_exporter": "python",
   "pygments_lexer": "ipython3",
   "version": "3.9.7"
  }
 },
 "nbformat": 4,
 "nbformat_minor": 5
}
