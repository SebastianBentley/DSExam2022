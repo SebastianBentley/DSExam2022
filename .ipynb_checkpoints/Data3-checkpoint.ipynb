{
 "cells": [
  {
   "cell_type": "code",
   "execution_count": 2,
   "id": "fe2bc0c6",
   "metadata": {},
   "outputs": [],
   "source": [
    "import pandas as pd\n",
    "import numpy as np\n",
    "import pandas_profiling\n",
    "# import libs for diagrams inline with the text\n",
    "import matplotlib.pyplot as plt\n",
    "%matplotlib inline\n",
    "import seaborn as sns\n",
    "\n",
    "# other utilities\n",
    "from sklearn import datasets, preprocessing, metrics"
   ]
  },
  {
   "cell_type": "code",
   "execution_count": 3,
   "id": "a6f7168d",
   "metadata": {},
   "outputs": [
    {
     "name": "stdout",
     "output_type": "stream",
     "text": [
      "(70000, 13)\n"
     ]
    },
    {
     "data": {
      "text/html": [
       "<div>\n",
       "<style scoped>\n",
       "    .dataframe tbody tr th:only-of-type {\n",
       "        vertical-align: middle;\n",
       "    }\n",
       "\n",
       "    .dataframe tbody tr th {\n",
       "        vertical-align: top;\n",
       "    }\n",
       "\n",
       "    .dataframe thead th {\n",
       "        text-align: right;\n",
       "    }\n",
       "</style>\n",
       "<table border=\"1\" class=\"dataframe\">\n",
       "  <thead>\n",
       "    <tr style=\"text-align: right;\">\n",
       "      <th></th>\n",
       "      <th>id</th>\n",
       "      <th>age</th>\n",
       "      <th>gender</th>\n",
       "      <th>height</th>\n",
       "      <th>weight</th>\n",
       "      <th>ap_hi</th>\n",
       "      <th>ap_lo</th>\n",
       "      <th>cholesterol</th>\n",
       "      <th>gluc</th>\n",
       "      <th>smoke</th>\n",
       "      <th>alco</th>\n",
       "      <th>active</th>\n",
       "      <th>cardio</th>\n",
       "    </tr>\n",
       "  </thead>\n",
       "  <tbody>\n",
       "    <tr>\n",
       "      <th>0</th>\n",
       "      <td>0</td>\n",
       "      <td>18393</td>\n",
       "      <td>2</td>\n",
       "      <td>168</td>\n",
       "      <td>62.0</td>\n",
       "      <td>110</td>\n",
       "      <td>80</td>\n",
       "      <td>1</td>\n",
       "      <td>1</td>\n",
       "      <td>0</td>\n",
       "      <td>0</td>\n",
       "      <td>1</td>\n",
       "      <td>0</td>\n",
       "    </tr>\n",
       "    <tr>\n",
       "      <th>1</th>\n",
       "      <td>1</td>\n",
       "      <td>20228</td>\n",
       "      <td>1</td>\n",
       "      <td>156</td>\n",
       "      <td>85.0</td>\n",
       "      <td>140</td>\n",
       "      <td>90</td>\n",
       "      <td>3</td>\n",
       "      <td>1</td>\n",
       "      <td>0</td>\n",
       "      <td>0</td>\n",
       "      <td>1</td>\n",
       "      <td>1</td>\n",
       "    </tr>\n",
       "    <tr>\n",
       "      <th>2</th>\n",
       "      <td>2</td>\n",
       "      <td>18857</td>\n",
       "      <td>1</td>\n",
       "      <td>165</td>\n",
       "      <td>64.0</td>\n",
       "      <td>130</td>\n",
       "      <td>70</td>\n",
       "      <td>3</td>\n",
       "      <td>1</td>\n",
       "      <td>0</td>\n",
       "      <td>0</td>\n",
       "      <td>0</td>\n",
       "      <td>1</td>\n",
       "    </tr>\n",
       "    <tr>\n",
       "      <th>3</th>\n",
       "      <td>3</td>\n",
       "      <td>17623</td>\n",
       "      <td>2</td>\n",
       "      <td>169</td>\n",
       "      <td>82.0</td>\n",
       "      <td>150</td>\n",
       "      <td>100</td>\n",
       "      <td>1</td>\n",
       "      <td>1</td>\n",
       "      <td>0</td>\n",
       "      <td>0</td>\n",
       "      <td>1</td>\n",
       "      <td>1</td>\n",
       "    </tr>\n",
       "    <tr>\n",
       "      <th>4</th>\n",
       "      <td>4</td>\n",
       "      <td>17474</td>\n",
       "      <td>1</td>\n",
       "      <td>156</td>\n",
       "      <td>56.0</td>\n",
       "      <td>100</td>\n",
       "      <td>60</td>\n",
       "      <td>1</td>\n",
       "      <td>1</td>\n",
       "      <td>0</td>\n",
       "      <td>0</td>\n",
       "      <td>0</td>\n",
       "      <td>0</td>\n",
       "    </tr>\n",
       "  </tbody>\n",
       "</table>\n",
       "</div>"
      ],
      "text/plain": [
       "   id    age  gender  height  weight  ap_hi  ap_lo  cholesterol  gluc  smoke  \\\n",
       "0   0  18393       2     168    62.0    110     80            1     1      0   \n",
       "1   1  20228       1     156    85.0    140     90            3     1      0   \n",
       "2   2  18857       1     165    64.0    130     70            3     1      0   \n",
       "3   3  17623       2     169    82.0    150    100            1     1      0   \n",
       "4   4  17474       1     156    56.0    100     60            1     1      0   \n",
       "\n",
       "   alco  active  cardio  \n",
       "0     0       1       0  \n",
       "1     0       1       1  \n",
       "2     0       0       1  \n",
       "3     0       1       1  \n",
       "4     0       0       0  "
      ]
     },
     "execution_count": 3,
     "metadata": {},
     "output_type": "execute_result"
    }
   ],
   "source": [
    "df3 = pd.read_csv('datasets/cardio_train.csv', delimiter=';')\n",
    "print(df3.shape)\n",
    "df3.head()"
   ]
  },
  {
   "cell_type": "markdown",
   "id": "6b65afcd",
   "metadata": {},
   "source": [
    "#### Getting information"
   ]
  },
  {
   "cell_type": "code",
   "execution_count": 4,
   "id": "029394ad",
   "metadata": {},
   "outputs": [
    {
     "data": {
      "text/html": [
       "<div>\n",
       "<style scoped>\n",
       "    .dataframe tbody tr th:only-of-type {\n",
       "        vertical-align: middle;\n",
       "    }\n",
       "\n",
       "    .dataframe tbody tr th {\n",
       "        vertical-align: top;\n",
       "    }\n",
       "\n",
       "    .dataframe thead th {\n",
       "        text-align: right;\n",
       "    }\n",
       "</style>\n",
       "<table border=\"1\" class=\"dataframe\">\n",
       "  <thead>\n",
       "    <tr style=\"text-align: right;\">\n",
       "      <th></th>\n",
       "      <th>id</th>\n",
       "      <th>age</th>\n",
       "      <th>gender</th>\n",
       "      <th>height</th>\n",
       "      <th>weight</th>\n",
       "      <th>ap_hi</th>\n",
       "      <th>ap_lo</th>\n",
       "      <th>cholesterol</th>\n",
       "      <th>gluc</th>\n",
       "      <th>smoke</th>\n",
       "      <th>alco</th>\n",
       "      <th>active</th>\n",
       "      <th>cardio</th>\n",
       "    </tr>\n",
       "  </thead>\n",
       "  <tbody>\n",
       "    <tr>\n",
       "      <th>count</th>\n",
       "      <td>70000.000000</td>\n",
       "      <td>70000.000000</td>\n",
       "      <td>70000.000000</td>\n",
       "      <td>70000.000000</td>\n",
       "      <td>70000.000000</td>\n",
       "      <td>70000.000000</td>\n",
       "      <td>70000.000000</td>\n",
       "      <td>70000.000000</td>\n",
       "      <td>70000.000000</td>\n",
       "      <td>70000.000000</td>\n",
       "      <td>70000.000000</td>\n",
       "      <td>70000.000000</td>\n",
       "      <td>70000.000000</td>\n",
       "    </tr>\n",
       "    <tr>\n",
       "      <th>mean</th>\n",
       "      <td>49972.419900</td>\n",
       "      <td>19468.865814</td>\n",
       "      <td>1.349571</td>\n",
       "      <td>164.359229</td>\n",
       "      <td>74.205690</td>\n",
       "      <td>128.817286</td>\n",
       "      <td>96.630414</td>\n",
       "      <td>1.366871</td>\n",
       "      <td>1.226457</td>\n",
       "      <td>0.088129</td>\n",
       "      <td>0.053771</td>\n",
       "      <td>0.803729</td>\n",
       "      <td>0.499700</td>\n",
       "    </tr>\n",
       "    <tr>\n",
       "      <th>std</th>\n",
       "      <td>28851.302323</td>\n",
       "      <td>2467.251667</td>\n",
       "      <td>0.476838</td>\n",
       "      <td>8.210126</td>\n",
       "      <td>14.395757</td>\n",
       "      <td>154.011419</td>\n",
       "      <td>188.472530</td>\n",
       "      <td>0.680250</td>\n",
       "      <td>0.572270</td>\n",
       "      <td>0.283484</td>\n",
       "      <td>0.225568</td>\n",
       "      <td>0.397179</td>\n",
       "      <td>0.500003</td>\n",
       "    </tr>\n",
       "    <tr>\n",
       "      <th>min</th>\n",
       "      <td>0.000000</td>\n",
       "      <td>10798.000000</td>\n",
       "      <td>1.000000</td>\n",
       "      <td>55.000000</td>\n",
       "      <td>10.000000</td>\n",
       "      <td>-150.000000</td>\n",
       "      <td>-70.000000</td>\n",
       "      <td>1.000000</td>\n",
       "      <td>1.000000</td>\n",
       "      <td>0.000000</td>\n",
       "      <td>0.000000</td>\n",
       "      <td>0.000000</td>\n",
       "      <td>0.000000</td>\n",
       "    </tr>\n",
       "    <tr>\n",
       "      <th>25%</th>\n",
       "      <td>25006.750000</td>\n",
       "      <td>17664.000000</td>\n",
       "      <td>1.000000</td>\n",
       "      <td>159.000000</td>\n",
       "      <td>65.000000</td>\n",
       "      <td>120.000000</td>\n",
       "      <td>80.000000</td>\n",
       "      <td>1.000000</td>\n",
       "      <td>1.000000</td>\n",
       "      <td>0.000000</td>\n",
       "      <td>0.000000</td>\n",
       "      <td>1.000000</td>\n",
       "      <td>0.000000</td>\n",
       "    </tr>\n",
       "    <tr>\n",
       "      <th>50%</th>\n",
       "      <td>50001.500000</td>\n",
       "      <td>19703.000000</td>\n",
       "      <td>1.000000</td>\n",
       "      <td>165.000000</td>\n",
       "      <td>72.000000</td>\n",
       "      <td>120.000000</td>\n",
       "      <td>80.000000</td>\n",
       "      <td>1.000000</td>\n",
       "      <td>1.000000</td>\n",
       "      <td>0.000000</td>\n",
       "      <td>0.000000</td>\n",
       "      <td>1.000000</td>\n",
       "      <td>0.000000</td>\n",
       "    </tr>\n",
       "    <tr>\n",
       "      <th>75%</th>\n",
       "      <td>74889.250000</td>\n",
       "      <td>21327.000000</td>\n",
       "      <td>2.000000</td>\n",
       "      <td>170.000000</td>\n",
       "      <td>82.000000</td>\n",
       "      <td>140.000000</td>\n",
       "      <td>90.000000</td>\n",
       "      <td>2.000000</td>\n",
       "      <td>1.000000</td>\n",
       "      <td>0.000000</td>\n",
       "      <td>0.000000</td>\n",
       "      <td>1.000000</td>\n",
       "      <td>1.000000</td>\n",
       "    </tr>\n",
       "    <tr>\n",
       "      <th>max</th>\n",
       "      <td>99999.000000</td>\n",
       "      <td>23713.000000</td>\n",
       "      <td>2.000000</td>\n",
       "      <td>250.000000</td>\n",
       "      <td>200.000000</td>\n",
       "      <td>16020.000000</td>\n",
       "      <td>11000.000000</td>\n",
       "      <td>3.000000</td>\n",
       "      <td>3.000000</td>\n",
       "      <td>1.000000</td>\n",
       "      <td>1.000000</td>\n",
       "      <td>1.000000</td>\n",
       "      <td>1.000000</td>\n",
       "    </tr>\n",
       "  </tbody>\n",
       "</table>\n",
       "</div>"
      ],
      "text/plain": [
       "                 id           age        gender        height        weight  \\\n",
       "count  70000.000000  70000.000000  70000.000000  70000.000000  70000.000000   \n",
       "mean   49972.419900  19468.865814      1.349571    164.359229     74.205690   \n",
       "std    28851.302323   2467.251667      0.476838      8.210126     14.395757   \n",
       "min        0.000000  10798.000000      1.000000     55.000000     10.000000   \n",
       "25%    25006.750000  17664.000000      1.000000    159.000000     65.000000   \n",
       "50%    50001.500000  19703.000000      1.000000    165.000000     72.000000   \n",
       "75%    74889.250000  21327.000000      2.000000    170.000000     82.000000   \n",
       "max    99999.000000  23713.000000      2.000000    250.000000    200.000000   \n",
       "\n",
       "              ap_hi         ap_lo   cholesterol          gluc         smoke  \\\n",
       "count  70000.000000  70000.000000  70000.000000  70000.000000  70000.000000   \n",
       "mean     128.817286     96.630414      1.366871      1.226457      0.088129   \n",
       "std      154.011419    188.472530      0.680250      0.572270      0.283484   \n",
       "min     -150.000000    -70.000000      1.000000      1.000000      0.000000   \n",
       "25%      120.000000     80.000000      1.000000      1.000000      0.000000   \n",
       "50%      120.000000     80.000000      1.000000      1.000000      0.000000   \n",
       "75%      140.000000     90.000000      2.000000      1.000000      0.000000   \n",
       "max    16020.000000  11000.000000      3.000000      3.000000      1.000000   \n",
       "\n",
       "               alco        active        cardio  \n",
       "count  70000.000000  70000.000000  70000.000000  \n",
       "mean       0.053771      0.803729      0.499700  \n",
       "std        0.225568      0.397179      0.500003  \n",
       "min        0.000000      0.000000      0.000000  \n",
       "25%        0.000000      1.000000      0.000000  \n",
       "50%        0.000000      1.000000      0.000000  \n",
       "75%        0.000000      1.000000      1.000000  \n",
       "max        1.000000      1.000000      1.000000  "
      ]
     },
     "execution_count": 4,
     "metadata": {},
     "output_type": "execute_result"
    }
   ],
   "source": [
    "df3.describe(include='all')"
   ]
  },
  {
   "cell_type": "markdown",
   "id": "f26ae023",
   "metadata": {},
   "source": [
    "### Checking for null values"
   ]
  },
  {
   "cell_type": "code",
   "execution_count": 5,
   "id": "c26528d9",
   "metadata": {},
   "outputs": [
    {
     "data": {
      "text/plain": [
       "id             0\n",
       "age            0\n",
       "gender         0\n",
       "height         0\n",
       "weight         0\n",
       "ap_hi          0\n",
       "ap_lo          0\n",
       "cholesterol    0\n",
       "gluc           0\n",
       "smoke          0\n",
       "alco           0\n",
       "active         0\n",
       "cardio         0\n",
       "dtype: int64"
      ]
     },
     "execution_count": 5,
     "metadata": {},
     "output_type": "execute_result"
    }
   ],
   "source": [
    "df3.isnull().sum()"
   ]
  },
  {
   "cell_type": "code",
   "execution_count": 6,
   "id": "a83908a2",
   "metadata": {},
   "outputs": [
    {
     "data": {
      "text/plain": [
       "id             0\n",
       "age            0\n",
       "gender         0\n",
       "height         0\n",
       "weight         0\n",
       "ap_hi          0\n",
       "ap_lo          0\n",
       "cholesterol    0\n",
       "gluc           0\n",
       "smoke          0\n",
       "alco           0\n",
       "active         0\n",
       "cardio         0\n",
       "dtype: int64"
      ]
     },
     "execution_count": 6,
     "metadata": {},
     "output_type": "execute_result"
    }
   ],
   "source": [
    "df3.isna().sum()"
   ]
  },
  {
   "cell_type": "markdown",
   "id": "6d9ef7da",
   "metadata": {},
   "source": [
    "#### Checking for extreme values"
   ]
  },
  {
   "cell_type": "code",
   "execution_count": 7,
   "id": "4cb2c738",
   "metadata": {},
   "outputs": [
    {
     "data": {
      "image/png": "[encoded data removed]",
      "text/plain": [
       "<Figure size 432x288 with 1 Axes>"
      ]
     },
     "metadata": {
      "needs_background": "light"
     },
     "output_type": "display_data"
    }
   ],
   "source": [
    "df3['age'].plot.box()\n",
    "df3.drop(df3.index[df3['age'] < 12000], inplace=True)\n"
   ]
  },
  {
   "cell_type": "code",
   "execution_count": 8,
   "id": "bb62435d",
   "metadata": {},
   "outputs": [
    {
     "data": {
      "text/plain": [
       "<AxesSubplot:>"
      ]
     },
     "execution_count": 8,
     "metadata": {},
     "output_type": "execute_result"
    },
    {
     "data": {
      "image/png": "[encoded data removed]",
      "text/plain": [
       "<Figure size 432x288 with 1 Axes>"
      ]
     },
     "metadata": {
      "needs_background": "light"
     },
     "output_type": "display_data"
    }
   ],
   "source": [
    "df3['weight'].plot.box()\n"
   ]
  },
  {
   "cell_type": "code",
   "execution_count": 9,
   "id": "0799d317",
   "metadata": {},
   "outputs": [],
   "source": [
    "df3.drop(df3.index[df3['weight'] < 40], inplace=True)\n",
    "df3.drop(df3.index[df3['weight'] > 180], inplace=True)"
   ]
  },
  {
   "cell_type": "code",
   "execution_count": 10,
   "id": "7ae5a491",
   "metadata": {},
   "outputs": [
    {
     "data": {
      "text/plain": [
       "<AxesSubplot:>"
      ]
     },
     "execution_count": 10,
     "metadata": {},
     "output_type": "execute_result"
    },
    {
     "data": {
      "image/png": "[encoded data removed]",
      "text/plain": [
       "<Figure size 432x288 with 1 Axes>"
      ]
     },
     "metadata": {
      "needs_background": "light"
     },
     "output_type": "display_data"
    }
   ],
   "source": [
    "df3['weight'].plot.box()\n"
   ]
  },
  {
   "cell_type": "code",
   "execution_count": 11,
   "id": "001f6b4f",
   "metadata": {},
   "outputs": [
    {
     "data": {
      "text/plain": [
       "<AxesSubplot:>"
      ]
     },
     "execution_count": 11,
     "metadata": {},
     "output_type": "execute_result"
    },
    {
     "data": {
      "image/png": "[encoded data removed]",
      "text/plain": [
       "<Figure size 432x288 with 1 Axes>"
      ]
     },
     "metadata": {
      "needs_background": "light"
     },
     "output_type": "display_data"
    }
   ],
   "source": [
    "df3['height'].plot.box()"
   ]
  },
  {
   "cell_type": "code",
   "execution_count": 12,
   "id": "eb6a517a",
   "metadata": {},
   "outputs": [],
   "source": [
    "df3.drop(df3.index[df3['height'] < 150], inplace=True)\n",
    "df3.drop(df3.index[df3['height'] > 200], inplace=True)"
   ]
  },
  {
   "cell_type": "code",
   "execution_count": 13,
   "id": "f5204966",
   "metadata": {},
   "outputs": [
    {
     "data": {
      "text/plain": [
       "<AxesSubplot:>"
      ]
     },
     "execution_count": 13,
     "metadata": {},
     "output_type": "execute_result"
    },
    {
     "data": {
      "image/png": "[encoded data removed]",
      "text/plain": [
       "<Figure size 432x288 with 1 Axes>"
      ]
     },
     "metadata": {
      "needs_background": "light"
     },
     "output_type": "display_data"
    }
   ],
   "source": [
    "df3['height'].plot.box()"
   ]
  },
  {
   "cell_type": "code",
   "execution_count": 14,
   "id": "c286ff03",
   "metadata": {},
   "outputs": [
    {
     "data": {
      "text/plain": [
       "<AxesSubplot:>"
      ]
     },
     "execution_count": 14,
     "metadata": {},
     "output_type": "execute_result"
    },
    {
     "data": {
      "image/png": "[encoded data removed]",
      "text/plain": [
       "<Figure size 432x288 with 1 Axes>"
      ]
     },
     "metadata": {
      "needs_background": "light"
     },
     "output_type": "display_data"
    }
   ],
   "source": [
    "df3['ap_hi'].plot.box()\n"
   ]
  },
  {
   "cell_type": "code",
   "execution_count": 15,
   "id": "02c0d99a",
   "metadata": {},
   "outputs": [],
   "source": [
    "df3.drop(df3.index[df3['ap_hi'] > 240], inplace=True)\n",
    "df3.drop(df3.index[df3['ap_hi'] < 45], inplace=True)"
   ]
  },
  {
   "cell_type": "code",
   "execution_count": 16,
   "id": "228ec4f3",
   "metadata": {},
   "outputs": [
    {
     "data": {
      "text/plain": [
       "240"
      ]
     },
     "execution_count": 16,
     "metadata": {},
     "output_type": "execute_result"
    }
   ],
   "source": [
    "df3['ap_hi'].max()"
   ]
  },
  {
   "cell_type": "code",
   "execution_count": 17,
   "id": "b13ce226",
   "metadata": {},
   "outputs": [
    {
     "data": {
      "text/plain": [
       "<AxesSubplot:>"
      ]
     },
     "execution_count": 17,
     "metadata": {},
     "output_type": "execute_result"
    },
    {
     "data": {
      "image/png": "[encoded data removed]",
      "text/plain": [
       "<Figure size 432x288 with 1 Axes>"
      ]
     },
     "metadata": {
      "needs_background": "light"
     },
     "output_type": "display_data"
    }
   ],
   "source": [
    "df3['ap_hi'].plot.box()\n"
   ]
  },
  {
   "cell_type": "code",
   "execution_count": 18,
   "id": "1a1b8e61",
   "metadata": {},
   "outputs": [
    {
     "data": {
      "text/plain": [
       "<AxesSubplot:>"
      ]
     },
     "execution_count": 18,
     "metadata": {},
     "output_type": "execute_result"
    },
    {
     "data": {
      "image/png": "[encoded data removed]",
      "text/plain": [
       "<Figure size 432x288 with 1 Axes>"
      ]
     },
     "metadata": {
      "needs_background": "light"
     },
     "output_type": "display_data"
    }
   ],
   "source": [
    "df3['ap_lo'].plot.box()"
   ]
  },
  {
   "cell_type": "code",
   "execution_count": 19,
   "id": "39f23834",
   "metadata": {},
   "outputs": [],
   "source": [
    "df3.drop(df3.index[df3['ap_lo'] > 180], inplace=True)\n",
    "df3.drop(df3.index[df3['ap_lo'] < 40], inplace=True)"
   ]
  },
  {
   "cell_type": "code",
   "execution_count": 20,
   "id": "4cb1e2f8",
   "metadata": {},
   "outputs": [
    {
     "data": {
      "text/plain": [
       "<AxesSubplot:>"
      ]
     },
     "execution_count": 20,
     "metadata": {},
     "output_type": "execute_result"
    },
    {
     "data": {
      "image/png": "[encoded data removed]",
      "text/plain": [
       "<Figure size 432x288 with 1 Axes>"
      ]
     },
     "metadata": {
      "needs_background": "light"
     },
     "output_type": "display_data"
    }
   ],
   "source": [
    "df3['ap_lo'].plot.box()\n"
   ]
  },
  {
   "cell_type": "markdown",
   "id": "d6cd4a7d",
   "metadata": {},
   "source": [
    "#### Changed the age from days to years"
   ]
  },
  {
   "cell_type": "code",
   "execution_count": 21,
   "id": "c9e63b90",
   "metadata": {},
   "outputs": [],
   "source": [
    "df3['age']=df3['age']/365"
   ]
  },
  {
   "cell_type": "markdown",
   "id": "8f9e1a58",
   "metadata": {},
   "source": [
    "#### Changed the age into a int"
   ]
  },
  {
   "cell_type": "code",
   "execution_count": 22,
   "id": "3d4f3162",
   "metadata": {},
   "outputs": [],
   "source": [
    "df3['age']=df3['age'].astype(int)\n"
   ]
  },
  {
   "cell_type": "markdown",
   "id": "cac0baad",
   "metadata": {},
   "source": [
    "#### thought it would be nice to now use the data I have to get new data\n",
    "#### The BMI"
   ]
  },
  {
   "cell_type": "markdown",
   "id": "ed31fd13",
   "metadata": {},
   "source": [
    "#### I change height to be in meters"
   ]
  },
  {
   "cell_type": "code",
   "execution_count": 23,
   "id": "9bca20f2",
   "metadata": {},
   "outputs": [],
   "source": [
    "df3['height']=df3['height']/100"
   ]
  },
  {
   "cell_type": "markdown",
   "id": "f63d22f7",
   "metadata": {},
   "source": [
    "#### Run the formular"
   ]
  },
  {
   "cell_type": "code",
   "execution_count": 24,
   "id": "c8916c25",
   "metadata": {},
   "outputs": [],
   "source": [
    "height2=(df3['height'])*(df3['height']);\n",
    "df3['bmi']=(df3['weight']/height2)\n",
    "df3['bmi']=df3['bmi'].astype(int)"
   ]
  },
  {
   "cell_type": "code",
   "execution_count": 25,
   "id": "3a608e52",
   "metadata": {},
   "outputs": [
    {
     "data": {
      "text/plain": [
       "<AxesSubplot:>"
      ]
     },
     "execution_count": 25,
     "metadata": {},
     "output_type": "execute_result"
    },
    {
     "data": {
      "image/png": "[encoded data removed]",
      "text/plain": [
       "<Figure size 432x288 with 1 Axes>"
      ]
     },
     "metadata": {
      "needs_background": "light"
     },
     "output_type": "display_data"
    }
   ],
   "source": [
    "df3['bmi'].plot.box()\n"
   ]
  },
  {
   "cell_type": "code",
   "execution_count": 26,
   "id": "a443fd1c",
   "metadata": {},
   "outputs": [
    {
     "data": {
      "text/plain": [
       "Int64Index([], dtype='int64')"
      ]
     },
     "execution_count": 26,
     "metadata": {},
     "output_type": "execute_result"
    }
   ],
   "source": [
    "df3.index[df3['bmi'] > 105]"
   ]
  },
  {
   "cell_type": "code",
   "execution_count": 27,
   "id": "e8ea3807",
   "metadata": {},
   "outputs": [
    {
     "data": {
      "text/plain": [
       "68"
      ]
     },
     "execution_count": 27,
     "metadata": {},
     "output_type": "execute_result"
    }
   ],
   "source": [
    "df3.drop(df3.index[df3['bmi'] < 13], inplace=True)\n",
    "df3.drop(df3.index[df3['bmi'] > 105], inplace=True)\n",
    "\n",
    "df3['bmi'].max()"
   ]
  },
  {
   "cell_type": "markdown",
   "id": "49f553f3",
   "metadata": {},
   "source": [
    "##### pandas_profiling.ProfileReport(df3).to_file(\"cardio.html\")\n"
   ]
  },
  {
   "cell_type": "markdown",
   "id": "57293491",
   "metadata": {},
   "source": [
    "#### In this picture under, you can see that chol, bmi, weight and age all correlate with cardiovascular disease"
   ]
  },
  {
   "attachments": {
    "image-3.png": {
     "image/png": "[encoded data removed]"
    },
    "image-4.png": {
     "image/png": "[encoded data removed]"
    }
   },
   "cell_type": "markdown",
   "id": "023cf004",
   "metadata": {},
   "source": [
    "![image-3.png](attachment:image-3.png)\n",
    "![image-4.png](attachment:image-4.png)"
   ]
  },
  {
   "cell_type": "code",
   "execution_count": 28,
   "id": "7527c7dc",
   "metadata": {},
   "outputs": [
    {
     "data": {
      "text/html": [
       "<style type=\"text/css\">\n",
       "#T_ada98_row0_col0, #T_ada98_row1_col1, #T_ada98_row2_col2, #T_ada98_row3_col3, #T_ada98_row4_col4, #T_ada98_row5_col5, #T_ada98_row6_col6, #T_ada98_row7_col7, #T_ada98_row8_col8, #T_ada98_row9_col9, #T_ada98_row10_col10, #T_ada98_row11_col11, #T_ada98_row12_col12, #T_ada98_row13_col13 {\n",
       "  background-color: #2369bd;\n",
       "  color: #f1f1f1;\n",
       "}\n",
       "#T_ada98_row0_col1, #T_ada98_row5_col9 {\n",
       "  background-color: #b65453;\n",
       "  color: #f1f1f1;\n",
       "}\n",
       "#T_ada98_row0_col2 {\n",
       "  background-color: #bb5e5d;\n",
       "  color: #f1f1f1;\n",
       "}\n",
       "#T_ada98_row0_col3, #T_ada98_row0_col13, #T_ada98_row5_col2 {\n",
       "  background-color: #c47371;\n",
       "  color: #f1f1f1;\n",
       "}\n",
       "#T_ada98_row0_col4, #T_ada98_row9_col8, #T_ada98_row11_col8, #T_ada98_row13_col9 {\n",
       "  background-color: #ab3c3f;\n",
       "  color: #f1f1f1;\n",
       "}\n",
       "#T_ada98_row0_col5, #T_ada98_row0_col6, #T_ada98_row1_col9, #T_ada98_row1_col10, #T_ada98_row2_col8, #T_ada98_row3_col0, #T_ada98_row3_col1, #T_ada98_row3_col7, #T_ada98_row3_col8, #T_ada98_row3_col13, #T_ada98_row4_col0, #T_ada98_row6_col0, #T_ada98_row9_col0, #T_ada98_row10_col0, #T_ada98_row11_col4, #T_ada98_row11_col5, #T_ada98_row11_col6, #T_ada98_row11_col12, #T_ada98_row12_col11, #T_ada98_row13_col0, #T_ada98_row13_col2, #T_ada98_row13_col3 {\n",
       "  background-color: #a9373b;\n",
       "  color: #f1f1f1;\n",
       "}\n",
       "#T_ada98_row0_col7, #T_ada98_row7_col9, #T_ada98_row11_col7 {\n",
       "  background-color: #b34d4e;\n",
       "  color: #f1f1f1;\n",
       "}\n",
       "#T_ada98_row0_col8, #T_ada98_row1_col11, #T_ada98_row3_col5, #T_ada98_row9_col1, #T_ada98_row9_col6 {\n",
       "  background-color: #ad4143;\n",
       "  color: #f1f1f1;\n",
       "}\n",
       "#T_ada98_row0_col9, #T_ada98_row0_col11, #T_ada98_row0_col12, #T_ada98_row2_col11, #T_ada98_row3_col6, #T_ada98_row8_col9 {\n",
       "  background-color: #b04748;\n",
       "  color: #f1f1f1;\n",
       "}\n",
       "#T_ada98_row0_col10, #T_ada98_row3_col11, #T_ada98_row3_col12, #T_ada98_row8_col11, #T_ada98_row9_col5, #T_ada98_row10_col12, #T_ada98_row12_col9 {\n",
       "  background-color: #ae4244;\n",
       "  color: #f1f1f1;\n",
       "}\n",
       "#T_ada98_row1_col0, #T_ada98_row2_col0, #T_ada98_row5_col0, #T_ada98_row8_col0 {\n",
       "  background-color: #a9393c;\n",
       "  color: #f1f1f1;\n",
       "}\n",
       "#T_ada98_row1_col2, #T_ada98_row8_col2, #T_ada98_row9_col4 {\n",
       "  background-color: #b75756;\n",
       "  color: #f1f1f1;\n",
       "}\n",
       "#T_ada98_row1_col3, #T_ada98_row4_col10, #T_ada98_row8_col5 {\n",
       "  background-color: #b95b5a;\n",
       "  color: #f1f1f1;\n",
       "}\n",
       "#T_ada98_row1_col4, #T_ada98_row8_col6 {\n",
       "  background-color: #b75555;\n",
       "  color: #f1f1f1;\n",
       "}\n",
       "#T_ada98_row1_col5 {\n",
       "  background-color: #cc8784;\n",
       "  color: #f1f1f1;\n",
       "}\n",
       "#T_ada98_row1_col6 {\n",
       "  background-color: #c3726f;\n",
       "  color: #f1f1f1;\n",
       "}\n",
       "#T_ada98_row1_col7, #T_ada98_row2_col10, #T_ada98_row7_col5 {\n",
       "  background-color: #ca827f;\n",
       "  color: #f1f1f1;\n",
       "}\n",
       "#T_ada98_row1_col8 {\n",
       "  background-color: #be6664;\n",
       "  color: #f1f1f1;\n",
       "}\n",
       "#T_ada98_row1_col12, #T_ada98_row13_col5 {\n",
       "  background-color: #d69f9c;\n",
       "  color: #000000;\n",
       "}\n",
       "#T_ada98_row1_col13, #T_ada98_row10_col3 {\n",
       "  background-color: #d29491;\n",
       "  color: #f1f1f1;\n",
       "}\n",
       "#T_ada98_row2_col1, #T_ada98_row11_col10 {\n",
       "  background-color: #b24c4c;\n",
       "  color: #f1f1f1;\n",
       "}\n",
       "#T_ada98_row2_col3 {\n",
       "  background-color: #d9dce5;\n",
       "  color: #000000;\n",
       "}\n",
       "#T_ada98_row2_col4, #T_ada98_row13_col1 {\n",
       "  background-color: #c67875;\n",
       "  color: #f1f1f1;\n",
       "}\n",
       "#T_ada98_row2_col5, #T_ada98_row2_col13, #T_ada98_row7_col10 {\n",
       "  background-color: #b55151;\n",
       "  color: #f1f1f1;\n",
       "}\n",
       "#T_ada98_row2_col6, #T_ada98_row6_col9, #T_ada98_row6_col10, #T_ada98_row7_col2, #T_ada98_row11_col9 {\n",
       "  background-color: #b55252;\n",
       "  color: #f1f1f1;\n",
       "}\n",
       "#T_ada98_row2_col7 {\n",
       "  background-color: #ac3e40;\n",
       "  color: #f1f1f1;\n",
       "}\n",
       "#T_ada98_row2_col9 {\n",
       "  background-color: #e7c7c5;\n",
       "  color: #000000;\n",
       "}\n",
       "#T_ada98_row2_col12, #T_ada98_row7_col11, #T_ada98_row10_col1, #T_ada98_row10_col6, #T_ada98_row13_col10 {\n",
       "  background-color: #b1494a;\n",
       "  color: #f1f1f1;\n",
       "}\n",
       "#T_ada98_row3_col2 {\n",
       "  background-color: #e4e5eb;\n",
       "  color: #000000;\n",
       "}\n",
       "#T_ada98_row3_col4 {\n",
       "  background-color: #ddafad;\n",
       "  color: #000000;\n",
       "}\n",
       "#T_ada98_row3_col9, #T_ada98_row4_col2, #T_ada98_row5_col7 {\n",
       "  background-color: #d1918e;\n",
       "  color: #f1f1f1;\n",
       "}\n",
       "#T_ada98_row3_col10, #T_ada98_row8_col4, #T_ada98_row8_col12 {\n",
       "  background-color: #bf6765;\n",
       "  color: #f1f1f1;\n",
       "}\n",
       "#T_ada98_row4_col1, #T_ada98_row4_col8 {\n",
       "  background-color: #c06967;\n",
       "  color: #f1f1f1;\n",
       "}\n",
       "#T_ada98_row4_col3 {\n",
       "  background-color: #eed7d5;\n",
       "  color: #000000;\n",
       "}\n",
       "#T_ada98_row4_col5 {\n",
       "  background-color: #d7a09d;\n",
       "  color: #000000;\n",
       "}\n",
       "#T_ada98_row4_col6, #T_ada98_row10_col2 {\n",
       "  background-color: #d49896;\n",
       "  color: #f1f1f1;\n",
       "}\n",
       "#T_ada98_row4_col7 {\n",
       "  background-color: #c97f7d;\n",
       "  color: #f1f1f1;\n",
       "}\n",
       "#T_ada98_row4_col9, #T_ada98_row12_col2, #T_ada98_row12_col8 {\n",
       "  background-color: #bc6160;\n",
       "  color: #f1f1f1;\n",
       "}\n",
       "#T_ada98_row4_col11, #T_ada98_row9_col12, #T_ada98_row12_col10, #T_ada98_row13_col11 {\n",
       "  background-color: #ac3f42;\n",
       "  color: #f1f1f1;\n",
       "}\n",
       "#T_ada98_row4_col12, #T_ada98_row6_col1, #T_ada98_row7_col1, #T_ada98_row13_col7 {\n",
       "  background-color: #cd8987;\n",
       "  color: #f1f1f1;\n",
       "}\n",
       "#T_ada98_row4_col13 {\n",
       "  background-color: #5c85bd;\n",
       "  color: #f1f1f1;\n",
       "}\n",
       "#T_ada98_row5_col1, #T_ada98_row6_col4 {\n",
       "  background-color: #d59d9a;\n",
       "  color: #f1f1f1;\n",
       "}\n",
       "#T_ada98_row5_col3 {\n",
       "  background-color: #c87c7a;\n",
       "  color: #f1f1f1;\n",
       "}\n",
       "#T_ada98_row5_col4 {\n",
       "  background-color: #d9a5a2;\n",
       "  color: #000000;\n",
       "}\n",
       "#T_ada98_row5_col6, #T_ada98_row6_col5 {\n",
       "  background-color: #b0bdd2;\n",
       "  color: #000000;\n",
       "}\n",
       "#T_ada98_row5_col8, #T_ada98_row7_col3 {\n",
       "  background-color: #bd6361;\n",
       "  color: #f1f1f1;\n",
       "}\n",
       "#T_ada98_row5_col10, #T_ada98_row9_col7, #T_ada98_row9_col11, #T_ada98_row10_col11, #T_ada98_row11_col1 {\n",
       "  background-color: #b44f4f;\n",
       "  color: #f1f1f1;\n",
       "}\n",
       "#T_ada98_row5_col11, #T_ada98_row6_col11, #T_ada98_row8_col10 {\n",
       "  background-color: #af4647;\n",
       "  color: #f1f1f1;\n",
       "}\n",
       "#T_ada98_row5_col12 {\n",
       "  background-color: #f5e7e5;\n",
       "  color: #000000;\n",
       "}\n",
       "#T_ada98_row5_col13 {\n",
       "  background-color: #e9cbc9;\n",
       "  color: #000000;\n",
       "}\n",
       "#T_ada98_row6_col2, #T_ada98_row7_col4, #T_ada98_row7_col6 {\n",
       "  background-color: #c57572;\n",
       "  color: #f1f1f1;\n",
       "}\n",
       "#T_ada98_row6_col3 {\n",
       "  background-color: #ca817e;\n",
       "  color: #f1f1f1;\n",
       "}\n",
       "#T_ada98_row6_col7, #T_ada98_row12_col4 {\n",
       "  background-color: #cb8481;\n",
       "  color: #f1f1f1;\n",
       "}\n",
       "#T_ada98_row6_col8 {\n",
       "  background-color: #ba5d5c;\n",
       "  color: #f1f1f1;\n",
       "}\n",
       "#T_ada98_row6_col12, #T_ada98_row9_col10 {\n",
       "  background-color: #e5c3c1;\n",
       "  color: #000000;\n",
       "}\n",
       "#T_ada98_row6_col13 {\n",
       "  background-color: #e5c2c0;\n",
       "  color: #000000;\n",
       "}\n",
       "#T_ada98_row7_col0, #T_ada98_row11_col0, #T_ada98_row12_col0 {\n",
       "  background-color: #aa3a3e;\n",
       "  color: #f1f1f1;\n",
       "}\n",
       "#T_ada98_row7_col8 {\n",
       "  background-color: #f8edeb;\n",
       "  color: #000000;\n",
       "}\n",
       "#T_ada98_row7_col12 {\n",
       "  background-color: #d39794;\n",
       "  color: #f1f1f1;\n",
       "}\n",
       "#T_ada98_row7_col13 {\n",
       "  background-color: #dcacaa;\n",
       "  color: #000000;\n",
       "}\n",
       "#T_ada98_row8_col1 {\n",
       "  background-color: #c57674;\n",
       "  color: #f1f1f1;\n",
       "}\n",
       "#T_ada98_row8_col3, #T_ada98_row13_col8 {\n",
       "  background-color: #c16d6b;\n",
       "  color: #f1f1f1;\n",
       "}\n",
       "#T_ada98_row8_col7 {\n",
       "  background-color: #faf2f1;\n",
       "  color: #000000;\n",
       "}\n",
       "#T_ada98_row8_col13, #T_ada98_row12_col7 {\n",
       "  background-color: #d59c99;\n",
       "  color: #f1f1f1;\n",
       "}\n",
       "#T_ada98_row9_col2 {\n",
       "  background-color: #edd5d3;\n",
       "  color: #000000;\n",
       "}\n",
       "#T_ada98_row9_col3 {\n",
       "  background-color: #dfb4b2;\n",
       "  color: #000000;\n",
       "}\n",
       "#T_ada98_row9_col13 {\n",
       "  background-color: #c06a68;\n",
       "  color: #f1f1f1;\n",
       "}\n",
       "#T_ada98_row10_col4, #T_ada98_row10_col7 {\n",
       "  background-color: #b85857;\n",
       "  color: #f1f1f1;\n",
       "}\n",
       "#T_ada98_row10_col5, #T_ada98_row10_col8 {\n",
       "  background-color: #af4446;\n",
       "  color: #f1f1f1;\n",
       "}\n",
       "#T_ada98_row10_col9 {\n",
       "  background-color: #e7c8c6;\n",
       "  color: #000000;\n",
       "}\n",
       "#T_ada98_row10_col13 {\n",
       "  background-color: #c77977;\n",
       "  color: #f1f1f1;\n",
       "}\n",
       "#T_ada98_row11_col2 {\n",
       "  background-color: #bc605e;\n",
       "  color: #f1f1f1;\n",
       "}\n",
       "#T_ada98_row11_col3, #T_ada98_row12_col3 {\n",
       "  background-color: #c3706e;\n",
       "  color: #f1f1f1;\n",
       "}\n",
       "#T_ada98_row11_col13 {\n",
       "  background-color: #c26f6d;\n",
       "  color: #f1f1f1;\n",
       "}\n",
       "#T_ada98_row12_col1 {\n",
       "  background-color: #daa8a5;\n",
       "  color: #000000;\n",
       "}\n",
       "#T_ada98_row12_col5 {\n",
       "  background-color: #f1dddb;\n",
       "  color: #000000;\n",
       "}\n",
       "#T_ada98_row12_col6 {\n",
       "  background-color: #e1b9b6;\n",
       "  color: #000000;\n",
       "}\n",
       "#T_ada98_row12_col13 {\n",
       "  background-color: #deb2b0;\n",
       "  color: #000000;\n",
       "}\n",
       "#T_ada98_row13_col4 {\n",
       "  background-color: #6489be;\n",
       "  color: #f1f1f1;\n",
       "}\n",
       "#T_ada98_row13_col6 {\n",
       "  background-color: #d19290;\n",
       "  color: #f1f1f1;\n",
       "}\n",
       "#T_ada98_row13_col12 {\n",
       "  background-color: #cf8c8a;\n",
       "  color: #f1f1f1;\n",
       "}\n",
       "</style>\n",
       "<table id=\"T_ada98_\">\n",
       "  <thead>\n",
       "    <tr>\n",
       "      <th class=\"blank level0\" >&nbsp;</th>\n",
       "      <th class=\"col_heading level0 col0\" >id</th>\n",
       "      <th class=\"col_heading level0 col1\" >age</th>\n",
       "      <th class=\"col_heading level0 col2\" >gender</th>\n",
       "      <th class=\"col_heading level0 col3\" >height</th>\n",
       "      <th class=\"col_heading level0 col4\" >weight</th>\n",
       "      <th class=\"col_heading level0 col5\" >ap_hi</th>\n",
       "      <th class=\"col_heading level0 col6\" >ap_lo</th>\n",
       "      <th class=\"col_heading level0 col7\" >cholesterol</th>\n",
       "      <th class=\"col_heading level0 col8\" >gluc</th>\n",
       "      <th class=\"col_heading level0 col9\" >smoke</th>\n",
       "      <th class=\"col_heading level0 col10\" >alco</th>\n",
       "      <th class=\"col_heading level0 col11\" >active</th>\n",
       "      <th class=\"col_heading level0 col12\" >cardio</th>\n",
       "      <th class=\"col_heading level0 col13\" >bmi</th>\n",
       "    </tr>\n",
       "  </thead>\n",
       "  <tbody>\n",
       "    <tr>\n",
       "      <th id=\"T_ada98_level0_row0\" class=\"row_heading level0 row0\" >id</th>\n",
       "      <td id=\"T_ada98_row0_col0\" class=\"data row0 col0\" >1.000000</td>\n",
       "      <td id=\"T_ada98_row0_col1\" class=\"data row0 col1\" >0.003217</td>\n",
       "      <td id=\"T_ada98_row0_col2\" class=\"data row0 col2\" >0.003534</td>\n",
       "      <td id=\"T_ada98_row0_col3\" class=\"data row0 col3\" >-0.000100</td>\n",
       "      <td id=\"T_ada98_row0_col4\" class=\"data row0 col4\" >-0.001322</td>\n",
       "      <td id=\"T_ada98_row0_col5\" class=\"data row0 col5\" >0.002759</td>\n",
       "      <td id=\"T_ada98_row0_col6\" class=\"data row0 col6\" >-0.000199</td>\n",
       "      <td id=\"T_ada98_row0_col7\" class=\"data row0 col7\" >0.006205</td>\n",
       "      <td id=\"T_ada98_row0_col8\" class=\"data row0 col8\" >0.003245</td>\n",
       "      <td id=\"T_ada98_row0_col9\" class=\"data row0 col9\" >-0.003233</td>\n",
       "      <td id=\"T_ada98_row0_col10\" class=\"data row0 col10\" >0.000593</td>\n",
       "      <td id=\"T_ada98_row0_col11\" class=\"data row0 col11\" >0.004956</td>\n",
       "      <td id=\"T_ada98_row0_col12\" class=\"data row0 col12\" >0.004706</td>\n",
       "      <td id=\"T_ada98_row0_col13\" class=\"data row0 col13\" >-0.001774</td>\n",
       "    </tr>\n",
       "    <tr>\n",
       "      <th id=\"T_ada98_level0_row1\" class=\"row_heading level0 row1\" >age</th>\n",
       "      <td id=\"T_ada98_row1_col0\" class=\"data row1 col0\" >0.003217</td>\n",
       "      <td id=\"T_ada98_row1_col1\" class=\"data row1 col1\" >1.000000</td>\n",
       "      <td id=\"T_ada98_row1_col2\" class=\"data row1 col2\" >-0.019110</td>\n",
       "      <td id=\"T_ada98_row1_col3\" class=\"data row1 col3\" >-0.076206</td>\n",
       "      <td id=\"T_ada98_row1_col4\" class=\"data row1 col4\" >0.059945</td>\n",
       "      <td id=\"T_ada98_row1_col5\" class=\"data row1 col5\" >0.205653</td>\n",
       "      <td id=\"T_ada98_row1_col6\" class=\"data row1 col6\" >0.151451</td>\n",
       "      <td id=\"T_ada98_row1_col7\" class=\"data row1 col7\" >0.153263</td>\n",
       "      <td id=\"T_ada98_row1_col8\" class=\"data row1 col8\" >0.098658</td>\n",
       "      <td id=\"T_ada98_row1_col9\" class=\"data row1 col9\" >-0.047281</td>\n",
       "      <td id=\"T_ada98_row1_col10\" class=\"data row1 col10\" >-0.028864</td>\n",
       "      <td id=\"T_ada98_row1_col11\" class=\"data row1 col11\" >-0.010881</td>\n",
       "      <td id=\"T_ada98_row1_col12\" class=\"data row1 col12\" >0.238073</td>\n",
       "      <td id=\"T_ada98_row1_col13\" class=\"data row1 col13\" >0.101012</td>\n",
       "    </tr>\n",
       "    <tr>\n",
       "      <th id=\"T_ada98_level0_row2\" class=\"row_heading level0 row2\" >gender</th>\n",
       "      <td id=\"T_ada98_row2_col0\" class=\"data row2 col0\" >0.003534</td>\n",
       "      <td id=\"T_ada98_row2_col1\" class=\"data row2 col1\" >-0.019110</td>\n",
       "      <td id=\"T_ada98_row2_col2\" class=\"data row2 col2\" >1.000000</td>\n",
       "      <td id=\"T_ada98_row2_col3\" class=\"data row2 col3\" >0.524757</td>\n",
       "      <td id=\"T_ada98_row2_col4\" class=\"data row2 col4\" >0.150469</td>\n",
       "      <td id=\"T_ada98_row2_col5\" class=\"data row2 col5\" >0.064308</td>\n",
       "      <td id=\"T_ada98_row2_col6\" class=\"data row2 col6\" >0.069077</td>\n",
       "      <td id=\"T_ada98_row2_col7\" class=\"data row2 col7\" >-0.034386</td>\n",
       "      <td id=\"T_ada98_row2_col8\" class=\"data row2 col8\" >-0.020900</td>\n",
       "      <td id=\"T_ada98_row2_col9\" class=\"data row2 col9\" >0.337871</td>\n",
       "      <td id=\"T_ada98_row2_col10\" class=\"data row2 col10\" >0.171093</td>\n",
       "      <td id=\"T_ada98_row2_col11\" class=\"data row2 col11\" >0.006578</td>\n",
       "      <td id=\"T_ada98_row2_col12\" class=\"data row2 col12\" >0.009029</td>\n",
       "      <td id=\"T_ada98_row2_col13\" class=\"data row2 col13\" >-0.108026</td>\n",
       "    </tr>\n",
       "    <tr>\n",
       "      <th id=\"T_ada98_level0_row3\" class=\"row_heading level0 row3\" >height</th>\n",
       "      <td id=\"T_ada98_row3_col0\" class=\"data row3 col0\" >-0.000100</td>\n",
       "      <td id=\"T_ada98_row3_col1\" class=\"data row3 col1\" >-0.076206</td>\n",
       "      <td id=\"T_ada98_row3_col2\" class=\"data row3 col2\" >0.524757</td>\n",
       "      <td id=\"T_ada98_row3_col3\" class=\"data row3 col3\" >1.000000</td>\n",
       "      <td id=\"T_ada98_row3_col4\" class=\"data row3 col4\" >0.299331</td>\n",
       "      <td id=\"T_ada98_row3_col5\" class=\"data row3 col5\" >0.024991</td>\n",
       "      <td id=\"T_ada98_row3_col6\" class=\"data row3 col6\" >0.039988</td>\n",
       "      <td id=\"T_ada98_row3_col7\" class=\"data row3 col7\" >-0.051533</td>\n",
       "      <td id=\"T_ada98_row3_col8\" class=\"data row3 col8\" >-0.021231</td>\n",
       "      <td id=\"T_ada98_row3_col9\" class=\"data row3 col9\" >0.196541</td>\n",
       "      <td id=\"T_ada98_row3_col10\" class=\"data row3 col10\" >0.098190</td>\n",
       "      <td id=\"T_ada98_row3_col11\" class=\"data row3 col11\" >-0.009082</td>\n",
       "      <td id=\"T_ada98_row3_col12\" class=\"data row3 col12\" >-0.008496</td>\n",
       "      <td id=\"T_ada98_row3_col13\" class=\"data row3 col13\" >-0.184163</td>\n",
       "    </tr>\n",
       "    <tr>\n",
       "      <th id=\"T_ada98_level0_row4\" class=\"row_heading level0 row4\" >weight</th>\n",
       "      <td id=\"T_ada98_row4_col0\" class=\"data row4 col0\" >-0.001322</td>\n",
       "      <td id=\"T_ada98_row4_col1\" class=\"data row4 col1\" >0.059945</td>\n",
       "      <td id=\"T_ada98_row4_col2\" class=\"data row4 col2\" >0.150469</td>\n",
       "      <td id=\"T_ada98_row4_col3\" class=\"data row4 col3\" >0.299331</td>\n",
       "      <td id=\"T_ada98_row4_col4\" class=\"data row4 col4\" >1.000000</td>\n",
       "      <td id=\"T_ada98_row4_col5\" class=\"data row4 col5\" >0.271471</td>\n",
       "      <td id=\"T_ada98_row4_col6\" class=\"data row4 col6\" >0.250457</td>\n",
       "      <td id=\"T_ada98_row4_col7\" class=\"data row4 col7\" >0.145183</td>\n",
       "      <td id=\"T_ada98_row4_col8\" class=\"data row4 col8\" >0.108943</td>\n",
       "      <td id=\"T_ada98_row4_col9\" class=\"data row4 col9\" >0.064753</td>\n",
       "      <td id=\"T_ada98_row4_col10\" class=\"data row4 col10\" >0.066721</td>\n",
       "      <td id=\"T_ada98_row4_col11\" class=\"data row4 col11\" >-0.017212</td>\n",
       "      <td id=\"T_ada98_row4_col12\" class=\"data row4 col12\" >0.182184</td>\n",
       "      <td id=\"T_ada98_row4_col13\" class=\"data row4 col13\" >0.877191</td>\n",
       "    </tr>\n",
       "    <tr>\n",
       "      <th id=\"T_ada98_level0_row5\" class=\"row_heading level0 row5\" >ap_hi</th>\n",
       "      <td id=\"T_ada98_row5_col0\" class=\"data row5 col0\" >0.002759</td>\n",
       "      <td id=\"T_ada98_row5_col1\" class=\"data row5 col1\" >0.205653</td>\n",
       "      <td id=\"T_ada98_row5_col2\" class=\"data row5 col2\" >0.064308</td>\n",
       "      <td id=\"T_ada98_row5_col3\" class=\"data row5 col3\" >0.024991</td>\n",
       "      <td id=\"T_ada98_row5_col4\" class=\"data row5 col4\" >0.271471</td>\n",
       "      <td id=\"T_ada98_row5_col5\" class=\"data row5 col5\" >1.000000</td>\n",
       "      <td id=\"T_ada98_row5_col6\" class=\"data row5 col6\" >0.698036</td>\n",
       "      <td id=\"T_ada98_row5_col7\" class=\"data row5 col7\" >0.193066</td>\n",
       "      <td id=\"T_ada98_row5_col8\" class=\"data row5 col8\" >0.091626</td>\n",
       "      <td id=\"T_ada98_row5_col9\" class=\"data row5 col9\" >0.028095</td>\n",
       "      <td id=\"T_ada98_row5_col10\" class=\"data row5 col10\" >0.032664</td>\n",
       "      <td id=\"T_ada98_row5_col11\" class=\"data row5 col11\" >-0.001045</td>\n",
       "      <td id=\"T_ada98_row5_col12\" class=\"data row5 col12\" >0.424991</td>\n",
       "      <td id=\"T_ada98_row5_col13\" class=\"data row5 col13\" >0.266580</td>\n",
       "    </tr>\n",
       "    <tr>\n",
       "      <th id=\"T_ada98_level0_row6\" class=\"row_heading level0 row6\" >ap_lo</th>\n",
       "      <td id=\"T_ada98_row6_col0\" class=\"data row6 col0\" >-0.000199</td>\n",
       "      <td id=\"T_ada98_row6_col1\" class=\"data row6 col1\" >0.151451</td>\n",
       "      <td id=\"T_ada98_row6_col2\" class=\"data row6 col2\" >0.069077</td>\n",
       "      <td id=\"T_ada98_row6_col3\" class=\"data row6 col3\" >0.039988</td>\n",
       "      <td id=\"T_ada98_row6_col4\" class=\"data row6 col4\" >0.250457</td>\n",
       "      <td id=\"T_ada98_row6_col5\" class=\"data row6 col5\" >0.698036</td>\n",
       "      <td id=\"T_ada98_row6_col6\" class=\"data row6 col6\" >1.000000</td>\n",
       "      <td id=\"T_ada98_row6_col7\" class=\"data row6 col7\" >0.157377</td>\n",
       "      <td id=\"T_ada98_row6_col8\" class=\"data row6 col8\" >0.074800</td>\n",
       "      <td id=\"T_ada98_row6_col9\" class=\"data row6 col9\" >0.025499</td>\n",
       "      <td id=\"T_ada98_row6_col10\" class=\"data row6 col10\" >0.043108</td>\n",
       "      <td id=\"T_ada98_row6_col11\" class=\"data row6 col11\" >-0.000193</td>\n",
       "      <td id=\"T_ada98_row6_col12\" class=\"data row6 col12\" >0.335344</td>\n",
       "      <td id=\"T_ada98_row6_col13\" class=\"data row6 col13\" >0.237574</td>\n",
       "    </tr>\n",
       "    <tr>\n",
       "      <th id=\"T_ada98_level0_row7\" class=\"row_heading level0 row7\" >cholesterol</th>\n",
       "      <td id=\"T_ada98_row7_col0\" class=\"data row7 col0\" >0.006205</td>\n",
       "      <td id=\"T_ada98_row7_col1\" class=\"data row7 col1\" >0.153263</td>\n",
       "      <td id=\"T_ada98_row7_col2\" class=\"data row7 col2\" >-0.034386</td>\n",
       "      <td id=\"T_ada98_row7_col3\" class=\"data row7 col3\" >-0.051533</td>\n",
       "      <td id=\"T_ada98_row7_col4\" class=\"data row7 col4\" >0.145183</td>\n",
       "      <td id=\"T_ada98_row7_col5\" class=\"data row7 col5\" >0.193066</td>\n",
       "      <td id=\"T_ada98_row7_col6\" class=\"data row7 col6\" >0.157377</td>\n",
       "      <td id=\"T_ada98_row7_col7\" class=\"data row7 col7\" >1.000000</td>\n",
       "      <td id=\"T_ada98_row7_col8\" class=\"data row7 col8\" >0.451518</td>\n",
       "      <td id=\"T_ada98_row7_col9\" class=\"data row7 col9\" >0.011015</td>\n",
       "      <td id=\"T_ada98_row7_col10\" class=\"data row7 col10\" >0.035702</td>\n",
       "      <td id=\"T_ada98_row7_col11\" class=\"data row7 col11\" >0.008630</td>\n",
       "      <td id=\"T_ada98_row7_col12\" class=\"data row7 col12\" >0.220543</td>\n",
       "      <td id=\"T_ada98_row7_col13\" class=\"data row7 col13\" >0.173789</td>\n",
       "    </tr>\n",
       "    <tr>\n",
       "      <th id=\"T_ada98_level0_row8\" class=\"row_heading level0 row8\" >gluc</th>\n",
       "      <td id=\"T_ada98_row8_col0\" class=\"data row8 col0\" >0.003245</td>\n",
       "      <td id=\"T_ada98_row8_col1\" class=\"data row8 col1\" >0.098658</td>\n",
       "      <td id=\"T_ada98_row8_col2\" class=\"data row8 col2\" >-0.020900</td>\n",
       "      <td id=\"T_ada98_row8_col3\" class=\"data row8 col3\" >-0.021231</td>\n",
       "      <td id=\"T_ada98_row8_col4\" class=\"data row8 col4\" >0.108943</td>\n",
       "      <td id=\"T_ada98_row8_col5\" class=\"data row8 col5\" >0.091626</td>\n",
       "      <td id=\"T_ada98_row8_col6\" class=\"data row8 col6\" >0.074800</td>\n",
       "      <td id=\"T_ada98_row8_col7\" class=\"data row8 col7\" >0.451518</td>\n",
       "      <td id=\"T_ada98_row8_col8\" class=\"data row8 col8\" >1.000000</td>\n",
       "      <td id=\"T_ada98_row8_col9\" class=\"data row8 col9\" >-0.006025</td>\n",
       "      <td id=\"T_ada98_row8_col10\" class=\"data row8 col10\" >0.010797</td>\n",
       "      <td id=\"T_ada98_row8_col11\" class=\"data row8 col11\" >-0.006995</td>\n",
       "      <td id=\"T_ada98_row8_col12\" class=\"data row8 col12\" >0.088229</td>\n",
       "      <td id=\"T_ada98_row8_col13\" class=\"data row8 col13\" >0.121689</td>\n",
       "    </tr>\n",
       "    <tr>\n",
       "      <th id=\"T_ada98_level0_row9\" class=\"row_heading level0 row9\" >smoke</th>\n",
       "      <td id=\"T_ada98_row9_col0\" class=\"data row9 col0\" >-0.003233</td>\n",
       "      <td id=\"T_ada98_row9_col1\" class=\"data row9 col1\" >-0.047281</td>\n",
       "      <td id=\"T_ada98_row9_col2\" class=\"data row9 col2\" >0.337871</td>\n",
       "      <td id=\"T_ada98_row9_col3\" class=\"data row9 col3\" >0.196541</td>\n",
       "      <td id=\"T_ada98_row9_col4\" class=\"data row9 col4\" >0.064753</td>\n",
       "      <td id=\"T_ada98_row9_col5\" class=\"data row9 col5\" >0.028095</td>\n",
       "      <td id=\"T_ada98_row9_col6\" class=\"data row9 col6\" >0.025499</td>\n",
       "      <td id=\"T_ada98_row9_col7\" class=\"data row9 col7\" >0.011015</td>\n",
       "      <td id=\"T_ada98_row9_col8\" class=\"data row9 col8\" >-0.006025</td>\n",
       "      <td id=\"T_ada98_row9_col9\" class=\"data row9 col9\" >1.000000</td>\n",
       "      <td id=\"T_ada98_row9_col10\" class=\"data row9 col10\" >0.341434</td>\n",
       "      <td id=\"T_ada98_row9_col11\" class=\"data row9 col11\" >0.026097</td>\n",
       "      <td id=\"T_ada98_row9_col12\" class=\"data row9 col12\" >-0.016192</td>\n",
       "      <td id=\"T_ada98_row9_col13\" class=\"data row9 col13\" >-0.031384</td>\n",
       "    </tr>\n",
       "    <tr>\n",
       "      <th id=\"T_ada98_level0_row10\" class=\"row_heading level0 row10\" >alco</th>\n",
       "      <td id=\"T_ada98_row10_col0\" class=\"data row10 col0\" >0.000593</td>\n",
       "      <td id=\"T_ada98_row10_col1\" class=\"data row10 col1\" >-0.028864</td>\n",
       "      <td id=\"T_ada98_row10_col2\" class=\"data row10 col2\" >0.171093</td>\n",
       "      <td id=\"T_ada98_row10_col3\" class=\"data row10 col3\" >0.098190</td>\n",
       "      <td id=\"T_ada98_row10_col4\" class=\"data row10 col4\" >0.066721</td>\n",
       "      <td id=\"T_ada98_row10_col5\" class=\"data row10 col5\" >0.032664</td>\n",
       "      <td id=\"T_ada98_row10_col6\" class=\"data row10 col6\" >0.043108</td>\n",
       "      <td id=\"T_ada98_row10_col7\" class=\"data row10 col7\" >0.035702</td>\n",
       "      <td id=\"T_ada98_row10_col8\" class=\"data row10 col8\" >0.010797</td>\n",
       "      <td id=\"T_ada98_row10_col9\" class=\"data row10 col9\" >0.341434</td>\n",
       "      <td id=\"T_ada98_row10_col10\" class=\"data row10 col10\" >1.000000</td>\n",
       "      <td id=\"T_ada98_row10_col11\" class=\"data row10 col11\" >0.025718</td>\n",
       "      <td id=\"T_ada98_row10_col12\" class=\"data row10 col12\" >-0.008164</td>\n",
       "      <td id=\"T_ada98_row10_col13\" class=\"data row10 col13\" >0.019273</td>\n",
       "    </tr>\n",
       "    <tr>\n",
       "      <th id=\"T_ada98_level0_row11\" class=\"row_heading level0 row11\" >active</th>\n",
       "      <td id=\"T_ada98_row11_col0\" class=\"data row11 col0\" >0.004956</td>\n",
       "      <td id=\"T_ada98_row11_col1\" class=\"data row11 col1\" >-0.010881</td>\n",
       "      <td id=\"T_ada98_row11_col2\" class=\"data row11 col2\" >0.006578</td>\n",
       "      <td id=\"T_ada98_row11_col3\" class=\"data row11 col3\" >-0.009082</td>\n",
       "      <td id=\"T_ada98_row11_col4\" class=\"data row11 col4\" >-0.017212</td>\n",
       "      <td id=\"T_ada98_row11_col5\" class=\"data row11 col5\" >-0.001045</td>\n",
       "      <td id=\"T_ada98_row11_col6\" class=\"data row11 col6\" >-0.000193</td>\n",
       "      <td id=\"T_ada98_row11_col7\" class=\"data row11 col7\" >0.008630</td>\n",
       "      <td id=\"T_ada98_row11_col8\" class=\"data row11 col8\" >-0.006995</td>\n",
       "      <td id=\"T_ada98_row11_col9\" class=\"data row11 col9\" >0.026097</td>\n",
       "      <td id=\"T_ada98_row11_col10\" class=\"data row11 col10\" >0.025718</td>\n",
       "      <td id=\"T_ada98_row11_col11\" class=\"data row11 col11\" >1.000000</td>\n",
       "      <td id=\"T_ada98_row11_col12\" class=\"data row11 col12\" >-0.037700</td>\n",
       "      <td id=\"T_ada98_row11_col13\" class=\"data row11 col13\" >-0.013638</td>\n",
       "    </tr>\n",
       "    <tr>\n",
       "      <th id=\"T_ada98_level0_row12\" class=\"row_heading level0 row12\" >cardio</th>\n",
       "      <td id=\"T_ada98_row12_col0\" class=\"data row12 col0\" >0.004706</td>\n",
       "      <td id=\"T_ada98_row12_col1\" class=\"data row12 col1\" >0.238073</td>\n",
       "      <td id=\"T_ada98_row12_col2\" class=\"data row12 col2\" >0.009029</td>\n",
       "      <td id=\"T_ada98_row12_col3\" class=\"data row12 col3\" >-0.008496</td>\n",
       "      <td id=\"T_ada98_row12_col4\" class=\"data row12 col4\" >0.182184</td>\n",
       "      <td id=\"T_ada98_row12_col5\" class=\"data row12 col5\" >0.424991</td>\n",
       "      <td id=\"T_ada98_row12_col6\" class=\"data row12 col6\" >0.335344</td>\n",
       "      <td id=\"T_ada98_row12_col7\" class=\"data row12 col7\" >0.220543</td>\n",
       "      <td id=\"T_ada98_row12_col8\" class=\"data row12 col8\" >0.088229</td>\n",
       "      <td id=\"T_ada98_row12_col9\" class=\"data row12 col9\" >-0.016192</td>\n",
       "      <td id=\"T_ada98_row12_col10\" class=\"data row12 col10\" >-0.008164</td>\n",
       "      <td id=\"T_ada98_row12_col11\" class=\"data row12 col11\" >-0.037700</td>\n",
       "      <td id=\"T_ada98_row12_col12\" class=\"data row12 col12\" >1.000000</td>\n",
       "      <td id=\"T_ada98_row12_col13\" class=\"data row12 col13\" >0.190610</td>\n",
       "    </tr>\n",
       "    <tr>\n",
       "      <th id=\"T_ada98_level0_row13\" class=\"row_heading level0 row13\" >bmi</th>\n",
       "      <td id=\"T_ada98_row13_col0\" class=\"data row13 col0\" >-0.001774</td>\n",
       "      <td id=\"T_ada98_row13_col1\" class=\"data row13 col1\" >0.101012</td>\n",
       "      <td id=\"T_ada98_row13_col2\" class=\"data row13 col2\" >-0.108026</td>\n",
       "      <td id=\"T_ada98_row13_col3\" class=\"data row13 col3\" >-0.184163</td>\n",
       "      <td id=\"T_ada98_row13_col4\" class=\"data row13 col4\" >0.877191</td>\n",
       "      <td id=\"T_ada98_row13_col5\" class=\"data row13 col5\" >0.266580</td>\n",
       "      <td id=\"T_ada98_row13_col6\" class=\"data row13 col6\" >0.237574</td>\n",
       "      <td id=\"T_ada98_row13_col7\" class=\"data row13 col7\" >0.173789</td>\n",
       "      <td id=\"T_ada98_row13_col8\" class=\"data row13 col8\" >0.121689</td>\n",
       "      <td id=\"T_ada98_row13_col9\" class=\"data row13 col9\" >-0.031384</td>\n",
       "      <td id=\"T_ada98_row13_col10\" class=\"data row13 col10\" >0.019273</td>\n",
       "      <td id=\"T_ada98_row13_col11\" class=\"data row13 col11\" >-0.013638</td>\n",
       "      <td id=\"T_ada98_row13_col12\" class=\"data row13 col12\" >0.190610</td>\n",
       "      <td id=\"T_ada98_row13_col13\" class=\"data row13 col13\" >1.000000</td>\n",
       "    </tr>\n",
       "  </tbody>\n",
       "</table>\n"
      ],
      "text/plain": [
       "<pandas.io.formats.style.Styler at 0x20d63773d90>"
      ]
     },
     "execution_count": 28,
     "metadata": {},
     "output_type": "execute_result"
    }
   ],
   "source": [
    "corr = df3.corr(method=\"pearson\")\n",
    "cmap = sns.cm.vlag_r\n",
    "corr.style.background_gradient(cmap=cmap)"
   ]
  },
  {
   "cell_type": "markdown",
   "id": "82315e89",
   "metadata": {},
   "source": [
    "#### also found it interesting that chol and gluc had such a high correlation"
   ]
  },
  {
   "cell_type": "code",
   "execution_count": 29,
   "id": "323ec307",
   "metadata": {},
   "outputs": [],
   "source": [
    "stats=df3.copy()\n"
   ]
  },
  {
   "cell_type": "markdown",
   "id": "a353bd06",
   "metadata": {},
   "source": [
    "#### Setting up data to be more graphical ready"
   ]
  },
  {
   "cell_type": "code",
   "execution_count": 30,
   "id": "a7d72b33",
   "metadata": {},
   "outputs": [],
   "source": [
    "ranges = [10,20,30,40,50,60,70,80,90,100]\n",
    "stats['bmi']=pd.cut(stats.bmi, ranges)"
   ]
  },
  {
   "cell_type": "code",
   "execution_count": 31,
   "id": "02c3ce41",
   "metadata": {},
   "outputs": [
    {
     "ename": "NameError",
     "evalue": "name 'bum' is not defined",
     "output_type": "error",
     "traceback": [
      "\u001b[1;31m---------------------------------------------------------------------------\u001b[0m",
      "\u001b[1;31mNameError\u001b[0m                                 Traceback (most recent call last)",
      "\u001b[1;32m~\\AppData\\Local\\Temp/ipykernel_1736/2882196571.py\u001b[0m in \u001b[0;36m<module>\u001b[1;34m\u001b[0m\n\u001b[0;32m      1\u001b[0m \u001b[0mranges\u001b[0m \u001b[1;33m=\u001b[0m \u001b[1;33m[\u001b[0m\u001b[1;36m0\u001b[0m\u001b[1;33m,\u001b[0m\u001b[1;36m10\u001b[0m\u001b[1;33m,\u001b[0m\u001b[1;36m20\u001b[0m\u001b[1;33m,\u001b[0m\u001b[1;36m30\u001b[0m\u001b[1;33m,\u001b[0m\u001b[1;36m40\u001b[0m\u001b[1;33m,\u001b[0m\u001b[1;36m50\u001b[0m\u001b[1;33m,\u001b[0m\u001b[1;36m60\u001b[0m\u001b[1;33m,\u001b[0m\u001b[1;36m70\u001b[0m\u001b[1;33m,\u001b[0m\u001b[1;36m80\u001b[0m\u001b[1;33m,\u001b[0m\u001b[1;36m90\u001b[0m\u001b[1;33m,\u001b[0m\u001b[1;36m100\u001b[0m\u001b[1;33m]\u001b[0m\u001b[1;33m\u001b[0m\u001b[1;33m\u001b[0m\u001b[0m\n\u001b[0;32m      2\u001b[0m \u001b[0mstats\u001b[0m\u001b[1;33m[\u001b[0m\u001b[1;34m'age'\u001b[0m\u001b[1;33m]\u001b[0m\u001b[1;33m=\u001b[0m\u001b[0mpd\u001b[0m\u001b[1;33m.\u001b[0m\u001b[0mcut\u001b[0m\u001b[1;33m(\u001b[0m\u001b[0mdf3\u001b[0m\u001b[1;33m.\u001b[0m\u001b[0mage\u001b[0m\u001b[1;33m,\u001b[0m \u001b[0mranges\u001b[0m\u001b[1;33m)\u001b[0m\u001b[1;33m\u001b[0m\u001b[1;33m\u001b[0m\u001b[0m\n\u001b[1;32m----> 3\u001b[1;33m \u001b[0mbum\u001b[0m\u001b[1;33m\u001b[0m\u001b[1;33m\u001b[0m\u001b[0m\n\u001b[0m",
      "\u001b[1;31mNameError\u001b[0m: name 'bum' is not defined"
     ]
    }
   ],
   "source": [
    "ranges = [0,10,20,30,40,50,60,70,80,90,100]\n",
    "stats['age']=pd.cut(df3.age, ranges)\n",
    "bum"
   ]
  },
  {
   "cell_type": "code",
   "execution_count": null,
   "id": "694d9b7a",
   "metadata": {},
   "outputs": [],
   "source": [
    "stats.groupby('gender')['cardio'].mean().plot(kind='bar')"
   ]
  },
  {
   "cell_type": "code",
   "execution_count": 32,
   "id": "a8ada205",
   "metadata": {},
   "outputs": [
    {
     "data": {
      "text/plain": [
       "<AxesSubplot:xlabel='age'>"
      ]
     },
     "execution_count": 32,
     "metadata": {},
     "output_type": "execute_result"
    },
    {
     "data": {
      "image/png": "[encoded data removed]",
      "text/plain": [
       "<Figure size 432x288 with 1 Axes>"
      ]
     },
     "metadata": {
      "needs_background": "light"
     },
     "output_type": "display_data"
    }
   ],
   "source": [
    "stats.groupby('age')['cardio'].mean().plot(kind='line')"
   ]
  },
  {
   "cell_type": "code",
   "execution_count": 33,
   "id": "b2a9ab81",
   "metadata": {},
   "outputs": [
    {
     "data": {
      "text/plain": [
       "<AxesSubplot:xlabel='cholesterol'>"
      ]
     },
     "execution_count": 33,
     "metadata": {},
     "output_type": "execute_result"
    },
    {
     "data": {
      "image/png": "[encoded data removed]",
      "text/plain": [
       "<Figure size 432x288 with 1 Axes>"
      ]
     },
     "metadata": {
      "needs_background": "light"
     },
     "output_type": "display_data"
    }
   ],
   "source": [
    "stats.groupby('cholesterol')['cardio'].mean().plot(kind='line')"
   ]
  },
  {
   "cell_type": "code",
   "execution_count": 34,
   "id": "f31ddd7d",
   "metadata": {},
   "outputs": [
    {
     "data": {
      "text/plain": [
       "<AxesSubplot:ylabel='cardio'>"
      ]
     },
     "execution_count": 34,
     "metadata": {},
     "output_type": "execute_result"
    },
    {
     "data": {
      "image/png": "[encoded data removed]",
      "text/plain": [
       "<Figure size 432x288 with 1 Axes>"
      ]
     },
     "metadata": {},
     "output_type": "display_data"
    }
   ],
   "source": [
    "stats.groupby('age')['cardio'].mean().plot(kind='pie')"
   ]
  },
  {
   "cell_type": "code",
   "execution_count": 35,
   "id": "88d0c759",
   "metadata": {},
   "outputs": [
    {
     "data": {
      "text/plain": [
       "<AxesSubplot:xlabel='bmi'>"
      ]
     },
     "execution_count": 35,
     "metadata": {},
     "output_type": "execute_result"
    },
    {
     "data": {
      "image/png": "[encoded data removed]",
      "text/plain": [
       "<Figure size 432x288 with 1 Axes>"
      ]
     },
     "metadata": {
      "needs_background": "light"
     },
     "output_type": "display_data"
    }
   ],
   "source": [
    "stats.groupby('bmi')['cardio'].mean().plot(kind='line')"
   ]
  },
  {
   "cell_type": "code",
   "execution_count": 36,
   "id": "219b7bde",
   "metadata": {},
   "outputs": [
    {
     "data": {
      "image/png": "[encoded data removed]",
      "text/plain": [
       "<Figure size 576x864 with 2 Axes>"
      ]
     },
     "metadata": {
      "needs_background": "light"
     },
     "output_type": "display_data"
    }
   ],
   "source": [
    "plt.figure(figsize=(8, 12))\n",
    "heatmap = sns.heatmap(df3.corr()[['cardio']].sort_values(by='cardio', ascending=False), vmin=0, vmax=1, annot=True, cmap='BrBG')\n",
    "heatmap.set_title('Features Correlating with Cardiovascular disease', fontdict={'fontsize':18}, pad=16);"
   ]
  },
  {
   "cell_type": "markdown",
   "id": "096ed71a",
   "metadata": {},
   "source": [
    "### Deciding on the values to use for the model"
   ]
  },
  {
   "cell_type": "code",
   "execution_count": 37,
   "id": "468fc262",
   "metadata": {},
   "outputs": [
    {
     "data": {
      "text/html": [
       "<div>\n",
       "<style scoped>\n",
       "    .dataframe tbody tr th:only-of-type {\n",
       "        vertical-align: middle;\n",
       "    }\n",
       "\n",
       "    .dataframe tbody tr th {\n",
       "        vertical-align: top;\n",
       "    }\n",
       "\n",
       "    .dataframe thead th {\n",
       "        text-align: right;\n",
       "    }\n",
       "</style>\n",
       "<table border=\"1\" class=\"dataframe\">\n",
       "  <thead>\n",
       "    <tr style=\"text-align: right;\">\n",
       "      <th></th>\n",
       "      <th>bmi</th>\n",
       "      <th>age</th>\n",
       "      <th>cholesterol</th>\n",
       "      <th>ap_lo</th>\n",
       "      <th>ap_hi</th>\n",
       "      <th>gluc</th>\n",
       "      <th>weight</th>\n",
       "      <th>cardio</th>\n",
       "    </tr>\n",
       "  </thead>\n",
       "  <tbody>\n",
       "    <tr>\n",
       "      <th>0</th>\n",
       "      <td>21</td>\n",
       "      <td>50</td>\n",
       "      <td>1</td>\n",
       "      <td>80</td>\n",
       "      <td>110</td>\n",
       "      <td>1</td>\n",
       "      <td>62.0</td>\n",
       "      <td>0</td>\n",
       "    </tr>\n",
       "    <tr>\n",
       "      <th>1</th>\n",
       "      <td>34</td>\n",
       "      <td>55</td>\n",
       "      <td>3</td>\n",
       "      <td>90</td>\n",
       "      <td>140</td>\n",
       "      <td>1</td>\n",
       "      <td>85.0</td>\n",
       "      <td>1</td>\n",
       "    </tr>\n",
       "    <tr>\n",
       "      <th>2</th>\n",
       "      <td>23</td>\n",
       "      <td>51</td>\n",
       "      <td>3</td>\n",
       "      <td>70</td>\n",
       "      <td>130</td>\n",
       "      <td>1</td>\n",
       "      <td>64.0</td>\n",
       "      <td>1</td>\n",
       "    </tr>\n",
       "    <tr>\n",
       "      <th>3</th>\n",
       "      <td>28</td>\n",
       "      <td>48</td>\n",
       "      <td>1</td>\n",
       "      <td>100</td>\n",
       "      <td>150</td>\n",
       "      <td>1</td>\n",
       "      <td>82.0</td>\n",
       "      <td>1</td>\n",
       "    </tr>\n",
       "    <tr>\n",
       "      <th>4</th>\n",
       "      <td>23</td>\n",
       "      <td>47</td>\n",
       "      <td>1</td>\n",
       "      <td>60</td>\n",
       "      <td>100</td>\n",
       "      <td>1</td>\n",
       "      <td>56.0</td>\n",
       "      <td>0</td>\n",
       "    </tr>\n",
       "    <tr>\n",
       "      <th>...</th>\n",
       "      <td>...</td>\n",
       "      <td>...</td>\n",
       "      <td>...</td>\n",
       "      <td>...</td>\n",
       "      <td>...</td>\n",
       "      <td>...</td>\n",
       "      <td>...</td>\n",
       "      <td>...</td>\n",
       "    </tr>\n",
       "    <tr>\n",
       "      <th>69995</th>\n",
       "      <td>26</td>\n",
       "      <td>52</td>\n",
       "      <td>1</td>\n",
       "      <td>80</td>\n",
       "      <td>120</td>\n",
       "      <td>1</td>\n",
       "      <td>76.0</td>\n",
       "      <td>0</td>\n",
       "    </tr>\n",
       "    <tr>\n",
       "      <th>69996</th>\n",
       "      <td>50</td>\n",
       "      <td>61</td>\n",
       "      <td>2</td>\n",
       "      <td>90</td>\n",
       "      <td>140</td>\n",
       "      <td>2</td>\n",
       "      <td>126.0</td>\n",
       "      <td>1</td>\n",
       "    </tr>\n",
       "    <tr>\n",
       "      <th>69997</th>\n",
       "      <td>31</td>\n",
       "      <td>52</td>\n",
       "      <td>3</td>\n",
       "      <td>90</td>\n",
       "      <td>180</td>\n",
       "      <td>1</td>\n",
       "      <td>105.0</td>\n",
       "      <td>1</td>\n",
       "    </tr>\n",
       "    <tr>\n",
       "      <th>69998</th>\n",
       "      <td>27</td>\n",
       "      <td>61</td>\n",
       "      <td>1</td>\n",
       "      <td>80</td>\n",
       "      <td>135</td>\n",
       "      <td>2</td>\n",
       "      <td>72.0</td>\n",
       "      <td>1</td>\n",
       "    </tr>\n",
       "    <tr>\n",
       "      <th>69999</th>\n",
       "      <td>24</td>\n",
       "      <td>56</td>\n",
       "      <td>2</td>\n",
       "      <td>80</td>\n",
       "      <td>120</td>\n",
       "      <td>1</td>\n",
       "      <td>72.0</td>\n",
       "      <td>0</td>\n",
       "    </tr>\n",
       "  </tbody>\n",
       "</table>\n",
       "<p>67226 rows × 8 columns</p>\n",
       "</div>"
      ],
      "text/plain": [
       "       bmi  age  cholesterol  ap_lo  ap_hi  gluc  weight  cardio\n",
       "0       21   50            1     80    110     1    62.0       0\n",
       "1       34   55            3     90    140     1    85.0       1\n",
       "2       23   51            3     70    130     1    64.0       1\n",
       "3       28   48            1    100    150     1    82.0       1\n",
       "4       23   47            1     60    100     1    56.0       0\n",
       "...    ...  ...          ...    ...    ...   ...     ...     ...\n",
       "69995   26   52            1     80    120     1    76.0       0\n",
       "69996   50   61            2     90    140     2   126.0       1\n",
       "69997   31   52            3     90    180     1   105.0       1\n",
       "69998   27   61            1     80    135     2    72.0       1\n",
       "69999   24   56            2     80    120     1    72.0       0\n",
       "\n",
       "[67226 rows x 8 columns]"
      ]
     },
     "execution_count": 37,
     "metadata": {},
     "output_type": "execute_result"
    }
   ],
   "source": [
    "heartModelData=df3[['bmi', 'age', 'cholesterol','ap_lo','ap_hi','gluc','weight','cardio']].copy()\n",
    "heartModelData"
   ]
  },
  {
   "cell_type": "code",
   "execution_count": 38,
   "id": "b3be3edc",
   "metadata": {},
   "outputs": [
    {
     "data": {
      "text/html": [
       "<div>\n",
       "<style scoped>\n",
       "    .dataframe tbody tr th:only-of-type {\n",
       "        vertical-align: middle;\n",
       "    }\n",
       "\n",
       "    .dataframe tbody tr th {\n",
       "        vertical-align: top;\n",
       "    }\n",
       "\n",
       "    .dataframe thead th {\n",
       "        text-align: right;\n",
       "    }\n",
       "</style>\n",
       "<table border=\"1\" class=\"dataframe\">\n",
       "  <thead>\n",
       "    <tr style=\"text-align: right;\">\n",
       "      <th></th>\n",
       "      <th>bmi</th>\n",
       "      <th>age</th>\n",
       "      <th>cholesterol</th>\n",
       "      <th>ap_lo</th>\n",
       "      <th>ap_hi</th>\n",
       "      <th>gluc</th>\n",
       "      <th>weight</th>\n",
       "      <th>cardio</th>\n",
       "    </tr>\n",
       "  </thead>\n",
       "  <tbody>\n",
       "    <tr>\n",
       "      <th>0</th>\n",
       "      <td>21</td>\n",
       "      <td>50</td>\n",
       "      <td>1</td>\n",
       "      <td>80</td>\n",
       "      <td>110</td>\n",
       "      <td>1</td>\n",
       "      <td>62.0</td>\n",
       "      <td>0</td>\n",
       "    </tr>\n",
       "    <tr>\n",
       "      <th>1</th>\n",
       "      <td>34</td>\n",
       "      <td>55</td>\n",
       "      <td>3</td>\n",
       "      <td>90</td>\n",
       "      <td>140</td>\n",
       "      <td>1</td>\n",
       "      <td>85.0</td>\n",
       "      <td>1</td>\n",
       "    </tr>\n",
       "    <tr>\n",
       "      <th>2</th>\n",
       "      <td>23</td>\n",
       "      <td>51</td>\n",
       "      <td>3</td>\n",
       "      <td>70</td>\n",
       "      <td>130</td>\n",
       "      <td>1</td>\n",
       "      <td>64.0</td>\n",
       "      <td>1</td>\n",
       "    </tr>\n",
       "    <tr>\n",
       "      <th>3</th>\n",
       "      <td>28</td>\n",
       "      <td>48</td>\n",
       "      <td>1</td>\n",
       "      <td>100</td>\n",
       "      <td>150</td>\n",
       "      <td>1</td>\n",
       "      <td>82.0</td>\n",
       "      <td>1</td>\n",
       "    </tr>\n",
       "    <tr>\n",
       "      <th>4</th>\n",
       "      <td>23</td>\n",
       "      <td>47</td>\n",
       "      <td>1</td>\n",
       "      <td>60</td>\n",
       "      <td>100</td>\n",
       "      <td>1</td>\n",
       "      <td>56.0</td>\n",
       "      <td>0</td>\n",
       "    </tr>\n",
       "    <tr>\n",
       "      <th>...</th>\n",
       "      <td>...</td>\n",
       "      <td>...</td>\n",
       "      <td>...</td>\n",
       "      <td>...</td>\n",
       "      <td>...</td>\n",
       "      <td>...</td>\n",
       "      <td>...</td>\n",
       "      <td>...</td>\n",
       "    </tr>\n",
       "    <tr>\n",
       "      <th>69995</th>\n",
       "      <td>26</td>\n",
       "      <td>52</td>\n",
       "      <td>1</td>\n",
       "      <td>80</td>\n",
       "      <td>120</td>\n",
       "      <td>1</td>\n",
       "      <td>76.0</td>\n",
       "      <td>0</td>\n",
       "    </tr>\n",
       "    <tr>\n",
       "      <th>69996</th>\n",
       "      <td>50</td>\n",
       "      <td>61</td>\n",
       "      <td>2</td>\n",
       "      <td>90</td>\n",
       "      <td>140</td>\n",
       "      <td>2</td>\n",
       "      <td>126.0</td>\n",
       "      <td>1</td>\n",
       "    </tr>\n",
       "    <tr>\n",
       "      <th>69997</th>\n",
       "      <td>31</td>\n",
       "      <td>52</td>\n",
       "      <td>3</td>\n",
       "      <td>90</td>\n",
       "      <td>180</td>\n",
       "      <td>1</td>\n",
       "      <td>105.0</td>\n",
       "      <td>1</td>\n",
       "    </tr>\n",
       "    <tr>\n",
       "      <th>69998</th>\n",
       "      <td>27</td>\n",
       "      <td>61</td>\n",
       "      <td>1</td>\n",
       "      <td>80</td>\n",
       "      <td>135</td>\n",
       "      <td>2</td>\n",
       "      <td>72.0</td>\n",
       "      <td>1</td>\n",
       "    </tr>\n",
       "    <tr>\n",
       "      <th>69999</th>\n",
       "      <td>24</td>\n",
       "      <td>56</td>\n",
       "      <td>2</td>\n",
       "      <td>80</td>\n",
       "      <td>120</td>\n",
       "      <td>1</td>\n",
       "      <td>72.0</td>\n",
       "      <td>0</td>\n",
       "    </tr>\n",
       "  </tbody>\n",
       "</table>\n",
       "<p>67226 rows × 8 columns</p>\n",
       "</div>"
      ],
      "text/plain": [
       "       bmi  age  cholesterol  ap_lo  ap_hi  gluc  weight  cardio\n",
       "0       21   50            1     80    110     1    62.0       0\n",
       "1       34   55            3     90    140     1    85.0       1\n",
       "2       23   51            3     70    130     1    64.0       1\n",
       "3       28   48            1    100    150     1    82.0       1\n",
       "4       23   47            1     60    100     1    56.0       0\n",
       "...    ...  ...          ...    ...    ...   ...     ...     ...\n",
       "69995   26   52            1     80    120     1    76.0       0\n",
       "69996   50   61            2     90    140     2   126.0       1\n",
       "69997   31   52            3     90    180     1   105.0       1\n",
       "69998   27   61            1     80    135     2    72.0       1\n",
       "69999   24   56            2     80    120     1    72.0       0\n",
       "\n",
       "[67226 rows x 8 columns]"
      ]
     },
     "execution_count": 38,
     "metadata": {},
     "output_type": "execute_result"
    }
   ],
   "source": [
    "# Convert the dataset into two arrays\n",
    "\n",
    "array = heartModelData.values\n",
    "# Create two (sub) arrays from it\n",
    "X = array[:,0:6] # data without class\n",
    "y = array[:,7]   # just class\n",
    "X\n",
    "heartModelData"
   ]
  },
  {
   "cell_type": "code",
   "execution_count": 39,
   "id": "137f3384",
   "metadata": {},
   "outputs": [],
   "source": [
    "from sklearn.model_selection import train_test_split\n",
    "\n",
    "X_train, X_test, Y_train, Y_test = train_test_split(X, y,test_size=0.4, random_state=25)"
   ]
  },
  {
   "cell_type": "code",
   "execution_count": 40,
   "id": "572f5147",
   "metadata": {},
   "outputs": [
    {
     "data": {
      "text/plain": [
       "array([[ 32.,  58.,   1.,  80., 120.,   1.],\n",
       "       [ 23.,  47.,   1.,  80., 130.,   1.],\n",
       "       [ 27.,  60.,   1.,  80., 120.,   1.],\n",
       "       ...,\n",
       "       [ 28.,  56.,   3.,  90., 140.,   1.],\n",
       "       [ 22.,  44.,   1.,  80., 140.,   1.],\n",
       "       [ 27.,  42.,   2.,  80., 160.,   2.]])"
      ]
     },
     "execution_count": 40,
     "metadata": {},
     "output_type": "execute_result"
    }
   ],
   "source": [
    "X_train"
   ]
  },
  {
   "cell_type": "code",
   "execution_count": 41,
   "id": "187f788f",
   "metadata": {},
   "outputs": [
    {
     "data": {
      "text/plain": [
       "array([0., 0., 0., ..., 1., 1., 1.])"
      ]
     },
     "execution_count": 41,
     "metadata": {},
     "output_type": "execute_result"
    }
   ],
   "source": [
    "Y_train"
   ]
  },
  {
   "cell_type": "code",
   "execution_count": 42,
   "id": "554c74d5",
   "metadata": {},
   "outputs": [],
   "source": [
    "from sklearn.naive_bayes import GaussianNB\n"
   ]
  },
  {
   "cell_type": "code",
   "execution_count": 43,
   "id": "5d4e669a",
   "metadata": {},
   "outputs": [
    {
     "data": {
      "text/plain": [
       "GaussianNB()"
      ]
     },
     "execution_count": 43,
     "metadata": {},
     "output_type": "execute_result"
    }
   ],
   "source": [
    "model = GaussianNB()\n",
    "model.fit(X_train, Y_train)"
   ]
  },
  {
   "cell_type": "code",
   "execution_count": 44,
   "id": "a38fc25e",
   "metadata": {},
   "outputs": [
    {
     "data": {
      "text/plain": [
       "0.7142538395745789"
      ]
     },
     "execution_count": 44,
     "metadata": {},
     "output_type": "execute_result"
    }
   ],
   "source": [
    "model.score(X_test, Y_test)"
   ]
  },
  {
   "cell_type": "markdown",
   "id": "2642132d",
   "metadata": {},
   "source": [
    "# Improving model / finding better model"
   ]
  },
  {
   "cell_type": "code",
   "execution_count": 45,
   "id": "2c4d0348",
   "metadata": {},
   "outputs": [],
   "source": [
    "from sklearn import model_selection\n",
    "from sklearn.metrics import classification_report\n",
    "from sklearn.metrics import confusion_matrix\n",
    "from sklearn.metrics import accuracy_score\n",
    "from sklearn.linear_model import LogisticRegression\n",
    "from sklearn.linear_model import LinearRegression\n",
    "\n",
    "from sklearn.tree import DecisionTreeClassifier\n",
    "from sklearn.neighbors import KNeighborsClassifier\n",
    "from sklearn.naive_bayes import GaussianNB\n",
    "from sklearn.svm import SVC\n",
    "import sklearn.ensemble as ske\n",
    "from sklearn.cluster import KMeans\n"
   ]
  },
  {
   "cell_type": "code",
   "execution_count": 46,
   "id": "debfb68a",
   "metadata": {},
   "outputs": [],
   "source": [
    "models = []\n",
    "models.append(('KNN', KNeighborsClassifier()))\n",
    "models.append(('NB', GaussianNB()))\n",
    "models.append(('Forrest',ske.RandomForestClassifier()))\n",
    "models.append(('Decision Tree',DecisionTreeClassifier()))\n",
    "models.append(('Logression',LogisticRegression()))\n",
    "models.append(('Kmeans',KMeans()))\n",
    "\n",
    "models.append(('SVC',SVC()))"
   ]
  },
  {
   "cell_type": "code",
   "execution_count": 47,
   "id": "9e41bac8",
   "metadata": {},
   "outputs": [],
   "source": [
    "# value for seed to be used in all tests\n",
    "seed = 7\n",
    "\n",
    "#  the number of repeated trainings of one model\n",
    "num_repeat = 10"
   ]
  },
  {
   "cell_type": "code",
   "execution_count": 48,
   "id": "2bb992a4",
   "metadata": {},
   "outputs": [],
   "source": [
    "scoring = 'accuracy'"
   ]
  },
  {
   "cell_type": "code",
   "execution_count": null,
   "id": "412f40c5",
   "metadata": {},
   "outputs": [
    {
     "name": "stdout",
     "output_type": "stream",
     "text": [
      "KNN: 0.695214 (0.007216)\n",
      "NB: 0.711911 (0.007572)\n",
      "Forrest: 0.698598 (0.004859)\n",
      "Decision Tree: 0.668402 (0.008795)\n"
     ]
    },
    {
     "name": "stderr",
     "output_type": "stream",
     "text": [
      "C:\\Users\\matti\\anaconda3\\lib\\site-packages\\sklearn\\linear_model\\_logistic.py:763: ConvergenceWarning: lbfgs failed to converge (status=1):\n",
      "STOP: TOTAL NO. of ITERATIONS REACHED LIMIT.\n",
      "\n",
      "Increase the number of iterations (max_iter) or scale the data as shown in:\n",
      "    https://scikit-learn.org/stable/modules/preprocessing.html\n",
      "Please also refer to the documentation for alternative solver options:\n",
      "    https://scikit-learn.org/stable/modules/linear_model.html#logistic-regression\n",
      "  n_iter_i = _check_optimize_result(\n"
     ]
    },
    {
     "name": "stdout",
     "output_type": "stream",
     "text": [
      "Logression: 0.729724 (0.007379)\n",
      "Kmeans: 0.156631 (0.054767)\n"
     ]
    }
   ],
   "source": [
    "results = []\n",
    "names = []\n",
    "for name, model in models:\n",
    "    # prepare randomization of splits\n",
    "    kfold = model_selection.KFold(n_splits=num_repeat, random_state=seed, shuffle=True)\n",
    "    \n",
    "    # implement the model and calculate a score based on 'accuracy' (scoring)\n",
    "    cv_results = model_selection.cross_val_score(model, X_test, Y_test, cv=kfold, scoring=scoring)\n",
    "    # store the result of this method in array results[]\n",
    "    results.append(cv_results)\n",
    "    \n",
    "    # store the name of this method in array names[]\n",
    "    names.append(name)\n",
    "    \n",
    "    # tell what you have done so far\n",
    "    msg = \"%s: %f (%f)\" % (name, cv_results.mean(), cv_results.std())\n",
    "    print(msg)\n",
    "# repeat the same for next method"
   ]
  },
  {
   "cell_type": "code",
   "execution_count": null,
   "id": "b1b0c749",
   "metadata": {},
   "outputs": [],
   "source": [
    "# Compare algorithms frame\n",
    "fig = plt.figure()\n",
    "fig.suptitle('Algorithm Comparison')\n",
    "\n",
    "# x axis includes sub-plots\n",
    "ax = fig.add_subplot(111)\n",
    "\n",
    "# y axis result values\n",
    "plt.boxplot(results)\n",
    "\n",
    "# x axis labels\n",
    "ax.set_xticklabels(names)\n",
    "\n",
    "plt.show()"
   ]
  },
  {
   "cell_type": "code",
   "execution_count": 1299,
   "id": "f99a0ca6",
   "metadata": {},
   "outputs": [
    {
     "name": "stdout",
     "output_type": "stream",
     "text": [
      "0.6962924398497639\n",
      "[[9773 3906]\n",
      " [4261 8951]]\n",
      "              precision    recall  f1-score   support\n",
      "\n",
      "         0.0       0.70      0.71      0.71     13679\n",
      "         1.0       0.70      0.68      0.69     13212\n",
      "\n",
      "    accuracy                           0.70     26891\n",
      "   macro avg       0.70      0.70      0.70     26891\n",
      "weighted avg       0.70      0.70      0.70     26891\n",
      "\n"
     ]
    }
   ],
   "source": [
    "\n",
    "knn = LogisticRegression()\n",
    "knn.fit(X_train, Y_train)\n",
    "predictions = knn.predict(X_test)\n",
    "\n",
    "# Calculated accuracy of the model over the validation set\n",
    "print(accuracy_score(Y_test, predictions))\n",
    "\n",
    "# Confusion matrix provides an indication of the three errors made ???? errors of predictions?\n",
    "print(confusion_matrix(Y_test, predictions))\n",
    "\n",
    "# Classification report provides a breakdown of each class by precision, recall, f1-score and support ????\n",
    "print(classification_report(Y_test, predictions))"
   ]
  },
  {
   "cell_type": "code",
   "execution_count": null,
   "id": "599612de",
   "metadata": {},
   "outputs": [],
   "source": [
    "\n"
   ]
  },
  {
   "cell_type": "code",
   "execution_count": null,
   "id": "a867ebf3",
   "metadata": {},
   "outputs": [],
   "source": []
  },
  {
   "cell_type": "code",
   "execution_count": null,
   "id": "5f396496",
   "metadata": {},
   "outputs": [],
   "source": []
  },
  {
   "cell_type": "code",
   "execution_count": null,
   "id": "0c135aed",
   "metadata": {},
   "outputs": [],
   "source": []
  },
  {
   "cell_type": "code",
   "execution_count": null,
   "id": "a8fece95",
   "metadata": {},
   "outputs": [],
   "source": []
  }
 ],
 "metadata": {
  "kernelspec": {
   "display_name": "Python 3 (ipykernel)",
   "language": "python",
   "name": "python3"
  },
  "language_info": {
   "codemirror_mode": {
    "name": "ipython",
    "version": 3
   },
   "file_extension": ".py",
   "mimetype": "text/x-python",
   "name": "python",
   "nbconvert_exporter": "python",
   "pygments_lexer": "ipython3",
   "version": "3.9.7"
  }
 },
 "nbformat": 4,
 "nbformat_minor": 5
}
