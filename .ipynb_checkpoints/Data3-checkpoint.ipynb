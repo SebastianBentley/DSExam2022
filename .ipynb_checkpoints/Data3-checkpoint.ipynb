{
 "cells": [
  {
   "cell_type": "code",
   "execution_count": 1,
   "id": "fe2bc0c6",
   "metadata": {},
   "outputs": [],
   "source": [
    "import pandas as pd\n",
    "import numpy as np\n",
    "import pandas_profiling\n",
    "# import libs for diagrams inline with the text\n",
    "import matplotlib.pyplot as plt\n",
    "%matplotlib inline\n",
    "import seaborn as sns\n",
    "from scipy import stats\n",
    "\n",
    "# other utilities\n",
    "from sklearn import datasets, preprocessing, metrics"
   ]
  },
  {
   "cell_type": "code",
   "execution_count": 2,
   "id": "a6f7168d",
   "metadata": {},
   "outputs": [
    {
     "name": "stdout",
     "output_type": "stream",
     "text": [
      "(70000, 13)\n"
     ]
    },
    {
     "data": {
      "text/html": [
       "<div>\n",
       "<style scoped>\n",
       "    .dataframe tbody tr th:only-of-type {\n",
       "        vertical-align: middle;\n",
       "    }\n",
       "\n",
       "    .dataframe tbody tr th {\n",
       "        vertical-align: top;\n",
       "    }\n",
       "\n",
       "    .dataframe thead th {\n",
       "        text-align: right;\n",
       "    }\n",
       "</style>\n",
       "<table border=\"1\" class=\"dataframe\">\n",
       "  <thead>\n",
       "    <tr style=\"text-align: right;\">\n",
       "      <th></th>\n",
       "      <th>id</th>\n",
       "      <th>age</th>\n",
       "      <th>gender</th>\n",
       "      <th>height</th>\n",
       "      <th>weight</th>\n",
       "      <th>ap_hi</th>\n",
       "      <th>ap_lo</th>\n",
       "      <th>cholesterol</th>\n",
       "      <th>gluc</th>\n",
       "      <th>smoke</th>\n",
       "      <th>alco</th>\n",
       "      <th>active</th>\n",
       "      <th>cardio</th>\n",
       "    </tr>\n",
       "  </thead>\n",
       "  <tbody>\n",
       "    <tr>\n",
       "      <th>0</th>\n",
       "      <td>0</td>\n",
       "      <td>18393</td>\n",
       "      <td>2</td>\n",
       "      <td>168</td>\n",
       "      <td>62.0</td>\n",
       "      <td>110</td>\n",
       "      <td>80</td>\n",
       "      <td>1</td>\n",
       "      <td>1</td>\n",
       "      <td>0</td>\n",
       "      <td>0</td>\n",
       "      <td>1</td>\n",
       "      <td>0</td>\n",
       "    </tr>\n",
       "    <tr>\n",
       "      <th>1</th>\n",
       "      <td>1</td>\n",
       "      <td>20228</td>\n",
       "      <td>1</td>\n",
       "      <td>156</td>\n",
       "      <td>85.0</td>\n",
       "      <td>140</td>\n",
       "      <td>90</td>\n",
       "      <td>3</td>\n",
       "      <td>1</td>\n",
       "      <td>0</td>\n",
       "      <td>0</td>\n",
       "      <td>1</td>\n",
       "      <td>1</td>\n",
       "    </tr>\n",
       "    <tr>\n",
       "      <th>2</th>\n",
       "      <td>2</td>\n",
       "      <td>18857</td>\n",
       "      <td>1</td>\n",
       "      <td>165</td>\n",
       "      <td>64.0</td>\n",
       "      <td>130</td>\n",
       "      <td>70</td>\n",
       "      <td>3</td>\n",
       "      <td>1</td>\n",
       "      <td>0</td>\n",
       "      <td>0</td>\n",
       "      <td>0</td>\n",
       "      <td>1</td>\n",
       "    </tr>\n",
       "    <tr>\n",
       "      <th>3</th>\n",
       "      <td>3</td>\n",
       "      <td>17623</td>\n",
       "      <td>2</td>\n",
       "      <td>169</td>\n",
       "      <td>82.0</td>\n",
       "      <td>150</td>\n",
       "      <td>100</td>\n",
       "      <td>1</td>\n",
       "      <td>1</td>\n",
       "      <td>0</td>\n",
       "      <td>0</td>\n",
       "      <td>1</td>\n",
       "      <td>1</td>\n",
       "    </tr>\n",
       "    <tr>\n",
       "      <th>4</th>\n",
       "      <td>4</td>\n",
       "      <td>17474</td>\n",
       "      <td>1</td>\n",
       "      <td>156</td>\n",
       "      <td>56.0</td>\n",
       "      <td>100</td>\n",
       "      <td>60</td>\n",
       "      <td>1</td>\n",
       "      <td>1</td>\n",
       "      <td>0</td>\n",
       "      <td>0</td>\n",
       "      <td>0</td>\n",
       "      <td>0</td>\n",
       "    </tr>\n",
       "  </tbody>\n",
       "</table>\n",
       "</div>"
      ],
      "text/plain": [
       "   id    age  gender  height  weight  ap_hi  ap_lo  cholesterol  gluc  smoke  \\\n",
       "0   0  18393       2     168    62.0    110     80            1     1      0   \n",
       "1   1  20228       1     156    85.0    140     90            3     1      0   \n",
       "2   2  18857       1     165    64.0    130     70            3     1      0   \n",
       "3   3  17623       2     169    82.0    150    100            1     1      0   \n",
       "4   4  17474       1     156    56.0    100     60            1     1      0   \n",
       "\n",
       "   alco  active  cardio  \n",
       "0     0       1       0  \n",
       "1     0       1       1  \n",
       "2     0       0       1  \n",
       "3     0       1       1  \n",
       "4     0       0       0  "
      ]
     },
     "execution_count": 2,
     "metadata": {},
     "output_type": "execute_result"
    }
   ],
   "source": [
    "df3 = pd.read_csv('datasets/cardio_train.csv', delimiter=';')\n",
    "print(df3.shape)\n",
    "df3.head()"
   ]
  },
  {
   "cell_type": "markdown",
   "id": "6b65afcd",
   "metadata": {},
   "source": [
    "#### Getting information"
   ]
  },
  {
   "cell_type": "code",
   "execution_count": 3,
   "id": "029394ad",
   "metadata": {},
   "outputs": [
    {
     "data": {
      "text/html": [
       "<div>\n",
       "<style scoped>\n",
       "    .dataframe tbody tr th:only-of-type {\n",
       "        vertical-align: middle;\n",
       "    }\n",
       "\n",
       "    .dataframe tbody tr th {\n",
       "        vertical-align: top;\n",
       "    }\n",
       "\n",
       "    .dataframe thead th {\n",
       "        text-align: right;\n",
       "    }\n",
       "</style>\n",
       "<table border=\"1\" class=\"dataframe\">\n",
       "  <thead>\n",
       "    <tr style=\"text-align: right;\">\n",
       "      <th></th>\n",
       "      <th>id</th>\n",
       "      <th>age</th>\n",
       "      <th>gender</th>\n",
       "      <th>height</th>\n",
       "      <th>weight</th>\n",
       "      <th>ap_hi</th>\n",
       "      <th>ap_lo</th>\n",
       "      <th>cholesterol</th>\n",
       "      <th>gluc</th>\n",
       "      <th>smoke</th>\n",
       "      <th>alco</th>\n",
       "      <th>active</th>\n",
       "      <th>cardio</th>\n",
       "    </tr>\n",
       "  </thead>\n",
       "  <tbody>\n",
       "    <tr>\n",
       "      <th>count</th>\n",
       "      <td>70000.000000</td>\n",
       "      <td>70000.000000</td>\n",
       "      <td>70000.000000</td>\n",
       "      <td>70000.000000</td>\n",
       "      <td>70000.000000</td>\n",
       "      <td>70000.000000</td>\n",
       "      <td>70000.000000</td>\n",
       "      <td>70000.000000</td>\n",
       "      <td>70000.000000</td>\n",
       "      <td>70000.000000</td>\n",
       "      <td>70000.000000</td>\n",
       "      <td>70000.000000</td>\n",
       "      <td>70000.000000</td>\n",
       "    </tr>\n",
       "    <tr>\n",
       "      <th>mean</th>\n",
       "      <td>49972.419900</td>\n",
       "      <td>19468.865814</td>\n",
       "      <td>1.349571</td>\n",
       "      <td>164.359229</td>\n",
       "      <td>74.205690</td>\n",
       "      <td>128.817286</td>\n",
       "      <td>96.630414</td>\n",
       "      <td>1.366871</td>\n",
       "      <td>1.226457</td>\n",
       "      <td>0.088129</td>\n",
       "      <td>0.053771</td>\n",
       "      <td>0.803729</td>\n",
       "      <td>0.499700</td>\n",
       "    </tr>\n",
       "    <tr>\n",
       "      <th>std</th>\n",
       "      <td>28851.302323</td>\n",
       "      <td>2467.251667</td>\n",
       "      <td>0.476838</td>\n",
       "      <td>8.210126</td>\n",
       "      <td>14.395757</td>\n",
       "      <td>154.011419</td>\n",
       "      <td>188.472530</td>\n",
       "      <td>0.680250</td>\n",
       "      <td>0.572270</td>\n",
       "      <td>0.283484</td>\n",
       "      <td>0.225568</td>\n",
       "      <td>0.397179</td>\n",
       "      <td>0.500003</td>\n",
       "    </tr>\n",
       "    <tr>\n",
       "      <th>min</th>\n",
       "      <td>0.000000</td>\n",
       "      <td>10798.000000</td>\n",
       "      <td>1.000000</td>\n",
       "      <td>55.000000</td>\n",
       "      <td>10.000000</td>\n",
       "      <td>-150.000000</td>\n",
       "      <td>-70.000000</td>\n",
       "      <td>1.000000</td>\n",
       "      <td>1.000000</td>\n",
       "      <td>0.000000</td>\n",
       "      <td>0.000000</td>\n",
       "      <td>0.000000</td>\n",
       "      <td>0.000000</td>\n",
       "    </tr>\n",
       "    <tr>\n",
       "      <th>25%</th>\n",
       "      <td>25006.750000</td>\n",
       "      <td>17664.000000</td>\n",
       "      <td>1.000000</td>\n",
       "      <td>159.000000</td>\n",
       "      <td>65.000000</td>\n",
       "      <td>120.000000</td>\n",
       "      <td>80.000000</td>\n",
       "      <td>1.000000</td>\n",
       "      <td>1.000000</td>\n",
       "      <td>0.000000</td>\n",
       "      <td>0.000000</td>\n",
       "      <td>1.000000</td>\n",
       "      <td>0.000000</td>\n",
       "    </tr>\n",
       "    <tr>\n",
       "      <th>50%</th>\n",
       "      <td>50001.500000</td>\n",
       "      <td>19703.000000</td>\n",
       "      <td>1.000000</td>\n",
       "      <td>165.000000</td>\n",
       "      <td>72.000000</td>\n",
       "      <td>120.000000</td>\n",
       "      <td>80.000000</td>\n",
       "      <td>1.000000</td>\n",
       "      <td>1.000000</td>\n",
       "      <td>0.000000</td>\n",
       "      <td>0.000000</td>\n",
       "      <td>1.000000</td>\n",
       "      <td>0.000000</td>\n",
       "    </tr>\n",
       "    <tr>\n",
       "      <th>75%</th>\n",
       "      <td>74889.250000</td>\n",
       "      <td>21327.000000</td>\n",
       "      <td>2.000000</td>\n",
       "      <td>170.000000</td>\n",
       "      <td>82.000000</td>\n",
       "      <td>140.000000</td>\n",
       "      <td>90.000000</td>\n",
       "      <td>2.000000</td>\n",
       "      <td>1.000000</td>\n",
       "      <td>0.000000</td>\n",
       "      <td>0.000000</td>\n",
       "      <td>1.000000</td>\n",
       "      <td>1.000000</td>\n",
       "    </tr>\n",
       "    <tr>\n",
       "      <th>max</th>\n",
       "      <td>99999.000000</td>\n",
       "      <td>23713.000000</td>\n",
       "      <td>2.000000</td>\n",
       "      <td>250.000000</td>\n",
       "      <td>200.000000</td>\n",
       "      <td>16020.000000</td>\n",
       "      <td>11000.000000</td>\n",
       "      <td>3.000000</td>\n",
       "      <td>3.000000</td>\n",
       "      <td>1.000000</td>\n",
       "      <td>1.000000</td>\n",
       "      <td>1.000000</td>\n",
       "      <td>1.000000</td>\n",
       "    </tr>\n",
       "  </tbody>\n",
       "</table>\n",
       "</div>"
      ],
      "text/plain": [
       "                 id           age        gender        height        weight  \\\n",
       "count  70000.000000  70000.000000  70000.000000  70000.000000  70000.000000   \n",
       "mean   49972.419900  19468.865814      1.349571    164.359229     74.205690   \n",
       "std    28851.302323   2467.251667      0.476838      8.210126     14.395757   \n",
       "min        0.000000  10798.000000      1.000000     55.000000     10.000000   \n",
       "25%    25006.750000  17664.000000      1.000000    159.000000     65.000000   \n",
       "50%    50001.500000  19703.000000      1.000000    165.000000     72.000000   \n",
       "75%    74889.250000  21327.000000      2.000000    170.000000     82.000000   \n",
       "max    99999.000000  23713.000000      2.000000    250.000000    200.000000   \n",
       "\n",
       "              ap_hi         ap_lo   cholesterol          gluc         smoke  \\\n",
       "count  70000.000000  70000.000000  70000.000000  70000.000000  70000.000000   \n",
       "mean     128.817286     96.630414      1.366871      1.226457      0.088129   \n",
       "std      154.011419    188.472530      0.680250      0.572270      0.283484   \n",
       "min     -150.000000    -70.000000      1.000000      1.000000      0.000000   \n",
       "25%      120.000000     80.000000      1.000000      1.000000      0.000000   \n",
       "50%      120.000000     80.000000      1.000000      1.000000      0.000000   \n",
       "75%      140.000000     90.000000      2.000000      1.000000      0.000000   \n",
       "max    16020.000000  11000.000000      3.000000      3.000000      1.000000   \n",
       "\n",
       "               alco        active        cardio  \n",
       "count  70000.000000  70000.000000  70000.000000  \n",
       "mean       0.053771      0.803729      0.499700  \n",
       "std        0.225568      0.397179      0.500003  \n",
       "min        0.000000      0.000000      0.000000  \n",
       "25%        0.000000      1.000000      0.000000  \n",
       "50%        0.000000      1.000000      0.000000  \n",
       "75%        0.000000      1.000000      1.000000  \n",
       "max        1.000000      1.000000      1.000000  "
      ]
     },
     "execution_count": 3,
     "metadata": {},
     "output_type": "execute_result"
    }
   ],
   "source": [
    "df3.describe(include='all')"
   ]
  },
  {
   "cell_type": "markdown",
   "id": "f26ae023",
   "metadata": {},
   "source": [
    "### Checking for null values "
   ]
  },
  {
   "cell_type": "code",
   "execution_count": 4,
   "id": "c26528d9",
   "metadata": {},
   "outputs": [
    {
     "data": {
      "text/plain": [
       "id             0\n",
       "age            0\n",
       "gender         0\n",
       "height         0\n",
       "weight         0\n",
       "ap_hi          0\n",
       "ap_lo          0\n",
       "cholesterol    0\n",
       "gluc           0\n",
       "smoke          0\n",
       "alco           0\n",
       "active         0\n",
       "cardio         0\n",
       "dtype: int64"
      ]
     },
     "execution_count": 4,
     "metadata": {},
     "output_type": "execute_result"
    }
   ],
   "source": [
    "df3.isnull().sum()"
   ]
  },
  {
   "cell_type": "code",
   "execution_count": 5,
   "id": "1fa28294",
   "metadata": {},
   "outputs": [
    {
     "data": {
      "text/plain": [
       "id             0\n",
       "age            0\n",
       "gender         0\n",
       "height         0\n",
       "weight         0\n",
       "ap_hi          0\n",
       "ap_lo          0\n",
       "cholesterol    0\n",
       "gluc           0\n",
       "smoke          0\n",
       "alco           0\n",
       "active         0\n",
       "cardio         0\n",
       "dtype: int64"
      ]
     },
     "execution_count": 5,
     "metadata": {},
     "output_type": "execute_result"
    }
   ],
   "source": [
    "df3.isna().sum()"
   ]
  },
  {
   "cell_type": "markdown",
   "id": "6d9ef7da",
   "metadata": {},
   "source": [
    "#### Checking for extreme values\n",
    "###### In this is next part I will search this dataset for outliers using diagrams as visual aid + the z index and IQR"
   ]
  },
  {
   "cell_type": "code",
   "execution_count": 6,
   "id": "4a298b0d",
   "metadata": {},
   "outputs": [],
   "source": [
    "def iqr_calc(column):\n",
    "    # IQR\n",
    "    Q1 = np.percentile(df3[column], 25,\n",
    "                   interpolation = 'midpoint')\n",
    " \n",
    "    Q3 = np.percentile(df3[column], 75,\n",
    "                   interpolation = 'midpoint')\n",
    "    IQR = Q3 - Q1\n",
    "    \n",
    "    upperBound = (Q3+1.5*IQR)\n",
    "    lowerBound = (Q1-1.5*IQR)\n",
    "\n",
    "    # Above Upper bound\n",
    "    upper = df3[column] >= upperBound\n",
    "    print(column)\n",
    "    print(\"Upper bound:\",upperBound)\n",
    "    print(np.where(upper))\n",
    " \n",
    "    # Below Lower bound\n",
    "    lower = df3[column] <= lowerBound\n",
    "    print(\"Lower bound:\", lowerBound)\n",
    "    print(np.where(lower))\n",
    "    \n",
    "def z_score(column):\n",
    "    # Z score \n",
    "    z = np.abs(stats.zscore(df3[column]))\n",
    "    threshold = 3\n",
    "    # Position of the outlier\n",
    "    print(np.where(z > 3))"
   ]
  },
  {
   "cell_type": "markdown",
   "id": "16ec65d4",
   "metadata": {},
   "source": [
    "## Age"
   ]
  },
  {
   "cell_type": "code",
   "execution_count": 7,
   "id": "9c7d3102",
   "metadata": {},
   "outputs": [
    {
     "data": {
      "text/plain": [
       "<AxesSubplot:>"
      ]
     },
     "execution_count": 7,
     "metadata": {},
     "output_type": "execute_result"
    },
    {
     "data": {
      "image/png": "[encoded data removed]",
      "text/plain": [
       "<Figure size 432x288 with 1 Axes>"
      ]
     },
     "metadata": {
      "needs_background": "light"
     },
     "output_type": "display_data"
    }
   ],
   "source": [
    "df3['age'].plot.box()"
   ]
  },
  {
   "cell_type": "code",
   "execution_count": 8,
   "id": "ce48cdbd",
   "metadata": {},
   "outputs": [
    {
     "name": "stdout",
     "output_type": "stream",
     "text": [
      "age\n",
      "Upper bound: 26821.5\n",
      "(array([], dtype=int64),)\n",
      "Lower bound: 12169.5\n",
      "(array([ 6219, 22343, 30666, 55905], dtype=int64),)\n"
     ]
    }
   ],
   "source": [
    "iqr_calc(\"age\")"
   ]
  },
  {
   "cell_type": "code",
   "execution_count": 9,
   "id": "3509f270",
   "metadata": {},
   "outputs": [
    {
     "name": "stdout",
     "output_type": "stream",
     "text": [
      "(array([ 6219, 22343, 30666, 55905], dtype=int64),)\n"
     ]
    }
   ],
   "source": [
    "z_score(\"age\")"
   ]
  },
  {
   "cell_type": "code",
   "execution_count": 10,
   "id": "bf805dce",
   "metadata": {},
   "outputs": [],
   "source": [
    "df3.drop(df3.index[df3['age'] < 12000], inplace=True)"
   ]
  },
  {
   "cell_type": "markdown",
   "id": "41028820",
   "metadata": {},
   "source": [
    "#### I debated if i should remove the very low ages since there were no upper bound to remove however I think the distance justifies it.\n",
    "### This is how the data looks now"
   ]
  },
  {
   "cell_type": "code",
   "execution_count": 11,
   "id": "01c9ea86",
   "metadata": {},
   "outputs": [
    {
     "data": {
      "text/plain": [
       "<AxesSubplot:>"
      ]
     },
     "execution_count": 11,
     "metadata": {},
     "output_type": "execute_result"
    },
    {
     "data": {
      "image/png": "[encoded data removed]",
      "text/plain": [
       "<Figure size 432x288 with 1 Axes>"
      ]
     },
     "metadata": {
      "needs_background": "light"
     },
     "output_type": "display_data"
    }
   ],
   "source": [
    "df3['age'].plot.box()"
   ]
  },
  {
   "cell_type": "markdown",
   "id": "fbbd5539",
   "metadata": {},
   "source": [
    "## Weight"
   ]
  },
  {
   "cell_type": "code",
   "execution_count": 12,
   "id": "14c45a9b",
   "metadata": {},
   "outputs": [
    {
     "data": {
      "text/plain": [
       "<AxesSubplot:>"
      ]
     },
     "execution_count": 12,
     "metadata": {},
     "output_type": "execute_result"
    },
    {
     "data": {
      "image/png": "[encoded data removed]",
      "text/plain": [
       "<Figure size 432x288 with 1 Axes>"
      ]
     },
     "metadata": {
      "needs_background": "light"
     },
     "output_type": "display_data"
    }
   ],
   "source": [
    "df3['weight'].plot.box()"
   ]
  },
  {
   "cell_type": "code",
   "execution_count": 13,
   "id": "1fc09981",
   "metadata": {},
   "outputs": [
    {
     "name": "stdout",
     "output_type": "stream",
     "text": [
      "weight\n",
      "Upper bound: 107.5\n",
      "(array([   15,    62,    83, ..., 69943, 69977, 69992], dtype=int64),)\n",
      "Lower bound: 39.5\n",
      "(array([ 3752,  5794, 10446, 10626, 11875, 14721, 16321, 16905, 18558,\n",
      "       19581, 22015, 25196, 26804, 29331, 29486, 31417, 32084, 33475,\n",
      "       33508, 33814, 33817, 34273, 34279, 34325, 35311, 38414, 38740,\n",
      "       40609, 41350, 41902, 43756, 44135, 44619, 48077, 48610, 51408,\n",
      "       51541, 51834, 53221, 53942, 54014, 54679, 55336, 55849, 56910,\n",
      "       57854, 58196, 60184, 60695, 63109, 65078, 65646], dtype=int64),)\n"
     ]
    }
   ],
   "source": [
    "iqr_calc(\"weight\")"
   ]
  },
  {
   "cell_type": "code",
   "execution_count": 14,
   "id": "a49e8a18",
   "metadata": {},
   "outputs": [
    {
     "name": "stdout",
     "output_type": "stream",
     "text": [
      "(array([  338,   389,   435,   446,   591,   740,   786,   794,   956,\n",
      "        1197,  1203,  1230,  1270,  1276,  1399,  1598,  1740,  1768,\n",
      "        1916,  1935,  2030,  2230,  2251,  2337,  2340,  2363,  2368,\n",
      "        2406,  2441,  2458,  2482,  2867,  2934,  3071,  3206,  3313,\n",
      "        3344,  3351,  3413,  3446,  3457,  3591,  3661,  3752,  3823,\n",
      "        4004,  4063,  4075,  4246,  4571,  4606,  4732,  4743,  4956,\n",
      "        5059,  5191,  5424,  5436,  5566,  5586,  5623,  5930,  5977,\n",
      "        6003,  6052,  6141,  6153,  6456,  6466,  6602,  6809,  7194,\n",
      "        7262,  7351,  7420,  7474,  7635,  7931,  8170,  8213,  8422,\n",
      "        8424,  8451,  8648,  8670,  8729,  8779,  8800,  8901,  8919,\n",
      "        8977,  9073,  9103,  9129,  9338,  9353,  9400,  9437,  9593,\n",
      "        9606,  9776,  9961, 10012, 10215, 10514, 10536, 10600, 10636,\n",
      "       10693, 10740, 11225, 11228, 11240, 11392, 11534, 11903, 11965,\n",
      "       12114, 12183, 12398, 12434, 12445, 12769, 12789, 13009, 13191,\n",
      "       13549, 13619, 13648, 13673, 13680, 13693, 13777, 13915, 14039,\n",
      "       14133, 14136, 14315, 14519, 14533, 14548, 14620, 14664, 14674,\n",
      "       14676, 15100, 15318, 15323, 15333, 15365, 15689, 15822, 15871,\n",
      "       15948, 16238, 16284, 16383, 16390, 16656, 16905, 16932, 16973,\n",
      "       17004, 17061, 17119, 17173, 17605, 17758, 17982, 18030, 18104,\n",
      "       18207, 18407, 18438, 18558, 18640, 18647, 18685, 18746, 18866,\n",
      "       18951, 19051, 19578, 19595, 19638, 19714, 19777, 19784, 19931,\n",
      "       19987, 19998, 20027, 20054, 20091, 20313, 20367, 20494, 20591,\n",
      "       20612, 20858, 20923, 21002, 21092, 21176, 21190, 21491, 21555,\n",
      "       21592, 21620, 21684, 21837, 21978, 22094, 22271, 22287, 22311,\n",
      "       22350, 22764, 22846, 22848, 22929, 23045, 23125, 23127, 23206,\n",
      "       23381, 23464, 23471, 23895, 23911, 24106, 24210, 24367, 24374,\n",
      "       24508, 24680, 24722, 24876, 25019, 25166, 25192, 25224, 25313,\n",
      "       25338, 25454, 25496, 25671, 25820, 25889, 26139, 26202, 26291,\n",
      "       26366, 26431, 26501, 26506, 26508, 26594, 26803, 26804, 26820,\n",
      "       26877, 26978, 27012, 27106, 27129, 27382, 27403, 27487, 27515,\n",
      "       27518, 27612, 27616, 27623, 27720, 27742, 27799, 27942, 28139,\n",
      "       28336, 28453, 28459, 28480, 28726, 28835, 29003, 29009, 29067,\n",
      "       29136, 29248, 29301, 29457, 29486, 29767, 29775, 29811, 29868,\n",
      "       29997, 30232, 30307, 30368, 30404, 30491, 30631, 30774, 30777,\n",
      "       31035, 31043, 31202, 31372, 31459, 31691, 31935, 31999, 32187,\n",
      "       32274, 32484, 32569, 32893, 33081, 33418, 33436, 33581, 33617,\n",
      "       33695, 33767, 33781, 33814, 34002, 34273, 34310, 34383, 34543,\n",
      "       34592, 34856, 35027, 35140, 35174, 35175, 35187, 35308, 35389,\n",
      "       35480, 35649, 35680, 35851, 35961, 36016, 36068, 36340, 36440,\n",
      "       36519, 36735, 36744, 36777, 36857, 36862, 36863, 36870, 36937,\n",
      "       36980, 37194, 37240, 37382, 37487, 37587, 37855, 37988, 38006,\n",
      "       38052, 38061, 38270, 38585, 38652, 38805, 38935, 39042, 39143,\n",
      "       39265, 39283, 39295, 39597, 39661, 39699, 39838, 39902, 40038,\n",
      "       40162, 40167, 40325, 40406, 40427, 40506, 40514, 40561, 40701,\n",
      "       40709, 40860, 40868, 40997, 41121, 41436, 41504, 41596, 41660,\n",
      "       41764, 41819, 41841, 41902, 41939, 41940, 42017, 42169, 42405,\n",
      "       42442, 42471, 42553, 42640, 42697, 42801, 42862, 43045, 43134,\n",
      "       43483, 43577, 43658, 43681, 44182, 44304, 44520, 44579, 44596,\n",
      "       44683, 44711, 44800, 44820, 44960, 45013, 45111, 45114, 45355,\n",
      "       45375, 45716, 45762, 45769, 45805, 45888, 46001, 46209, 46300,\n",
      "       46306, 46310, 46315, 46527, 46553, 46557, 46570, 46644, 46879,\n",
      "       47277, 47323, 47376, 47458, 47722, 47788, 48023, 48251, 48885,\n",
      "       48958, 49185, 49201, 49281, 49309, 49374, 49701, 49721, 49738,\n",
      "       49893, 50040, 50073, 50158, 50376, 50410, 50428, 50465, 50486,\n",
      "       50622, 51000, 51006, 51086, 51107, 51331, 51334, 51341, 51356,\n",
      "       51368, 51405, 51474, 51483, 51591, 51766, 51822, 51906, 52060,\n",
      "       52062, 52202, 52256, 52267, 52474, 52489, 52560, 52580, 52616,\n",
      "       52632, 52682, 52700, 52801, 52817, 52988, 53037, 53181, 53269,\n",
      "       53291, 53369, 53518, 53522, 53661, 53722, 53790, 53798, 54011,\n",
      "       54048, 54132, 54187, 54274, 54577, 54760, 54775, 54776, 55174,\n",
      "       55422, 55593, 55621, 55647, 55890, 56031, 56173, 56184, 56256,\n",
      "       56327, 56346, 56422, 56504, 56515, 56604, 56712, 56758, 56862,\n",
      "       56918, 56978, 57269, 57457, 57467, 57557, 57682, 57738, 57854,\n",
      "       57941, 57976, 58302, 58368, 58409, 58417, 58484, 58531, 58655,\n",
      "       58698, 58755, 58804, 58836, 58962, 58979, 59024, 59234, 59393,\n",
      "       59535, 59587, 59621, 59627, 59777, 59781, 59806, 59831, 59861,\n",
      "       59953, 60041, 60156, 60169, 60184, 60256, 60274, 60381, 60384,\n",
      "       60390, 60395, 60588, 60695, 60789, 60864, 60871, 60905, 60964,\n",
      "       60982, 61082, 61281, 61358, 61368, 61405, 61446, 61784, 61797,\n",
      "       61810, 62049, 62082, 62174, 62290, 62430, 62445, 62447, 62550,\n",
      "       62636, 62689, 62962, 63095, 63096, 63133, 63303, 63321, 63683,\n",
      "       63794, 63933, 63943, 63989, 64168, 64207, 64324, 64356, 64386,\n",
      "       64657, 64666, 64679, 64862, 64967, 64978, 65001, 65026, 65043,\n",
      "       65076, 65262, 65320, 65381, 65393, 65414, 65625, 65683, 65696,\n",
      "       66024, 66094, 66198, 66211, 66264, 66289, 66353, 66392, 66489,\n",
      "       66598, 66603, 66735, 66747, 66828, 66924, 66993, 67117, 67153,\n",
      "       67248, 67251, 67431, 67515, 67862, 68547, 68643, 68772, 68831,\n",
      "       68884, 68896, 68917, 68983, 69008, 69056, 69105, 69436, 69992],\n",
      "      dtype=int64),)\n"
     ]
    }
   ],
   "source": [
    "z_score(\"weight\")"
   ]
  },
  {
   "cell_type": "markdown",
   "id": "0ea74cc7",
   "metadata": {},
   "source": [
    "### Because the data is impossible even tho there are more upper bound i need to remove them to have a realistic data set that is useable"
   ]
  },
  {
   "cell_type": "code",
   "execution_count": 15,
   "id": "f2249402",
   "metadata": {},
   "outputs": [],
   "source": [
    "df3.drop(df3.index[df3['weight'] < 40], inplace=True)\n",
    "df3.drop(df3.index[df3['weight'] > 330], inplace=True)"
   ]
  },
  {
   "cell_type": "code",
   "execution_count": 16,
   "id": "a478f8d1",
   "metadata": {},
   "outputs": [
    {
     "data": {
      "text/plain": [
       "<AxesSubplot:>"
      ]
     },
     "execution_count": 16,
     "metadata": {},
     "output_type": "execute_result"
    },
    {
     "data": {
      "image/png": "[encoded data removed]",
      "text/plain": [
       "<Figure size 432x288 with 1 Axes>"
      ]
     },
     "metadata": {
      "needs_background": "light"
     },
     "output_type": "display_data"
    }
   ],
   "source": [
    "df3['weight'].plot.box()"
   ]
  },
  {
   "cell_type": "markdown",
   "id": "ec9e6ad4",
   "metadata": {},
   "source": [
    "## Height"
   ]
  },
  {
   "cell_type": "code",
   "execution_count": 17,
   "id": "9c3b63a2",
   "metadata": {},
   "outputs": [
    {
     "data": {
      "text/plain": [
       "<AxesSubplot:>"
      ]
     },
     "execution_count": 17,
     "metadata": {},
     "output_type": "execute_result"
    },
    {
     "data": {
      "image/png": "[encoded data removed]",
      "text/plain": [
       "<Figure size 432x288 with 1 Axes>"
      ]
     },
     "metadata": {
      "needs_background": "light"
     },
     "output_type": "display_data"
    }
   ],
   "source": [
    "df3['height'].plot.box()"
   ]
  },
  {
   "cell_type": "code",
   "execution_count": 18,
   "id": "72197572",
   "metadata": {},
   "outputs": [
    {
     "name": "stdout",
     "output_type": "stream",
     "text": [
      "height\n",
      "Upper bound: 186.5\n",
      "(array([   62,    76,  1027,  1117,  1419,  2160,  2203,  2463,  2680,\n",
      "        2883,  3212,  3237,  3401,  3621,  3629,  3906,  4480,  4825,\n",
      "        4910,  5000,  5009,  5056,  5261,  5470,  5547,  5586,  5622,\n",
      "        5750,  5796,  5953,  6053,  6341,  6483,  6556,  6600,  6727,\n",
      "        6848,  7260,  8522,  8894,  8899,  9458,  9781, 10865, 11020,\n",
      "       11443, 11472, 11703, 11898, 12001, 12009, 12165, 12727, 12858,\n",
      "       12934, 13154, 13329, 13646, 14549, 14714, 14919, 15170, 15546,\n",
      "       15662, 16004, 16218, 16801, 16926, 17632, 17836, 17913, 17939,\n",
      "       17976, 18022, 18363, 18742, 19424, 20061, 20357, 20650, 20665,\n",
      "       21033, 21617, 21673, 21810, 22242, 22576, 22660, 22890, 23100,\n",
      "       23301, 23370, 23625, 23706, 23760, 23839, 24683, 24712, 24816,\n",
      "       24906, 25045, 25155, 25162, 25338, 26406, 26594, 26651, 27170,\n",
      "       27596, 27797, 27825, 28009, 28261, 28978, 29072, 29130, 29284,\n",
      "       29498, 29765, 30110, 30221, 30264, 30529, 30652, 30684, 30781,\n",
      "       31338, 31569, 31710, 31848, 31884, 31885, 32254, 32439, 32565,\n",
      "       32608, 32775, 32876, 33307, 33410, 33483, 33825, 33859, 34004,\n",
      "       34059, 34088, 34141, 34549, 35197, 36456, 36494, 36614, 36792,\n",
      "       37086, 37319, 37497, 37592, 37744, 38172, 38213, 38382, 38783,\n",
      "       38836, 38908, 39251, 39321, 39654, 39773, 40060, 41172, 41362,\n",
      "       41446, 41552, 41869, 42054, 42336, 43590, 43963, 44128, 44710,\n",
      "       44762, 45147, 45285, 45342, 45995, 46053, 46313, 46368, 46503,\n",
      "       46538, 47925, 48197, 49643, 50174, 50361, 50819, 51070, 51323,\n",
      "       52000, 53391, 54245, 54880, 55047, 55103, 55202, 55887, 55894,\n",
      "       55913, 56087, 56097, 56352, 56587, 56603, 56730, 57386, 57480,\n",
      "       57525, 57783, 57895, 57926, 58426, 58666, 59214, 59321, 59346,\n",
      "       59471, 59525, 59906, 60139, 60350, 60622, 60859, 60973, 61007,\n",
      "       61179, 61309, 61748, 62123, 62365, 62700, 63100, 63643, 63817,\n",
      "       64188, 64472, 64528, 64591, 64715, 64748, 65005, 65199, 65910,\n",
      "       66089, 66179, 66888, 67116, 67261, 67273, 67283, 67340, 67379,\n",
      "       67916, 68394, 68900, 69160, 69235, 69419, 69533, 69817],\n",
      "      dtype=int64),)\n",
      "Lower bound: 142.5\n",
      "(array([  224,   249,   781,  1048,  2412,  2663,  2944,  3132,  3208,\n",
      "        3420,  3735,  4211,  5103,  5325,  5773,  6151,  6300,  6818,\n",
      "        6994,  7055,  7113,  7302,  7595,  8168,  8674,  8757,  9128,\n",
      "        9281,  9600,  9773, 10092, 10113, 10563, 11178, 11225, 12429,\n",
      "       12764, 12974, 13023, 13189, 13259, 13442, 13864, 13946, 14067,\n",
      "       14285, 14317, 14404, 15014, 15160, 15359, 15614, 16013, 16669,\n",
      "       16691, 17065, 17268, 17307, 17979, 18053, 18083, 19167, 19411,\n",
      "       19661, 20017, 20135, 20214, 22227, 22241, 22510, 22529, 22710,\n",
      "       22759, 22805, 22825, 23011, 23682, 23764, 23900, 23993, 24255,\n",
      "       24966, 25023, 25995, 26094, 26738, 26916, 27105, 27369, 27588,\n",
      "       28084, 28433, 28498, 28722, 28727, 28802, 28882, 28960, 29142,\n",
      "       29550, 29718, 29723, 29877, 30262, 30276, 30310, 30324, 30889,\n",
      "       31024, 31124, 31638, 31899, 32078, 32108, 32569, 32859, 33512,\n",
      "       33585, 34145, 34217, 34253, 34262, 34337, 34833, 35053, 35405,\n",
      "       35416, 35746, 35765, 35771, 35956, 36699, 36725, 37360, 38302,\n",
      "       38332, 39049, 39068, 39513, 39548, 39932, 40296, 40701, 40934,\n",
      "       41237, 41775, 42559, 42628, 44182, 44353, 44412, 44455, 44788,\n",
      "       44963, 45055, 45322, 45362, 46007, 46137, 46167, 46197, 46283,\n",
      "       46338, 46536, 46714, 47262, 47263, 47316, 47889, 49041, 49282,\n",
      "       49558, 49655, 49781, 50098, 50579, 50751, 51005, 51055, 51420,\n",
      "       51808, 51868, 51872, 52701, 52717, 52921, 53078, 53302, 54456,\n",
      "       54643, 54873, 55341, 55974, 56003, 56075, 56470, 56621, 56819,\n",
      "       56876, 56907, 57032, 57320, 57915, 58530, 58817, 59386, 59402,\n",
      "       59406, 59569, 59574, 59687, 59803, 59909, 59921, 59926, 60325,\n",
      "       60639, 60785, 61400, 61549, 61700, 63076, 63685, 63697, 64061,\n",
      "       64138, 64400, 64508, 64733, 65242, 65247, 65967, 66034, 66423,\n",
      "       66587, 66909, 67006, 67810, 68269, 68996, 69068, 69374, 69728],\n",
      "      dtype=int64),)\n"
     ]
    }
   ],
   "source": [
    "iqr_calc(\"height\")"
   ]
  },
  {
   "cell_type": "code",
   "execution_count": 19,
   "id": "87c9072d",
   "metadata": {},
   "outputs": [
    {
     "name": "stdout",
     "output_type": "stream",
     "text": [
      "(array([  224,  1027,  1117,  2160,  2412,  2680,  2883,  2944,  3208,\n",
      "        3212,  3237,  3420,  3621,  3629,  3735,  4211,  4480,  4825,\n",
      "        5000,  5009,  5056,  5103,  5261,  5547,  5773,  5796,  6053,\n",
      "        6151,  6341,  6483,  6600,  6727,  6818,  6848,  7113,  7302,\n",
      "        7595,  8168,  8522,  8674,  8757,  8894,  9281,  9600,  9773,\n",
      "        9781, 10092, 10563, 10865, 11178, 11225, 11443, 11703, 12001,\n",
      "       12429, 12727, 12764, 12974, 13023, 13189, 13259, 13329, 13442,\n",
      "       13864, 13946, 14067, 14317, 14549, 14714, 15160, 15359, 15546,\n",
      "       15614, 16004, 16218, 16669, 16691, 16801, 16926, 17065, 17268,\n",
      "       17307, 17836, 17913, 17939, 18022, 18083, 18363, 19661, 20017,\n",
      "       20061, 20135, 20357, 20650, 20665, 21617, 21673, 22242, 22529,\n",
      "       22710, 22805, 22890, 23011, 23100, 23370, 23764, 23839, 23900,\n",
      "       23993, 24712, 24906, 24966, 25162, 25338, 26406, 26594, 26916,\n",
      "       27369, 27588, 27797, 27825, 28261, 28498, 28722, 28727, 28882,\n",
      "       28960, 29130, 29142, 29284, 29718, 29765, 30110, 30221, 30262,\n",
      "       30276, 30324, 30529, 31124, 31569, 31638, 31848, 31884, 31885,\n",
      "       31899, 32078, 32565, 32569, 32608, 32775, 33307, 33512, 33585,\n",
      "       33825, 34059, 34217, 34253, 34337, 35197, 35405, 35416, 35956,\n",
      "       36456, 36614, 36725, 36792, 37360, 37592, 37744, 38172, 38332,\n",
      "       39068, 39321, 39513, 40060, 40701, 41552, 41775, 41869, 42336,\n",
      "       43590, 43963, 44353, 44455, 44762, 44788, 44963, 45055, 45285,\n",
      "       45322, 45342, 45362, 46007, 46053, 46137, 46167, 46197, 46283,\n",
      "       46313, 46536, 46714, 47316, 47889, 49282, 49558, 49643, 50098,\n",
      "       50174, 50361, 50579, 50751, 51420, 52717, 53302, 54245, 54456,\n",
      "       55103, 55202, 55341, 55894, 55913, 55974, 56097, 56587, 56621,\n",
      "       56819, 56876, 56907, 57032, 57320, 57480, 57915, 57926, 58817,\n",
      "       59214, 59321, 59346, 59402, 59406, 59525, 59574, 59687, 59906,\n",
      "       59909, 60325, 60350, 60639, 60973, 61007, 61309, 61400, 61549,\n",
      "       61748, 62700, 63076, 63100, 63643, 63697, 63817, 64061, 64188,\n",
      "       64400, 64472, 64508, 64528, 64591, 64733, 64748, 65005, 65199,\n",
      "       65242, 65247, 65967, 66089, 66179, 66423, 66587, 67116, 67273,\n",
      "       67283, 67379, 67810, 67916, 68996, 69068, 69160, 69533],\n",
      "      dtype=int64),)\n"
     ]
    }
   ],
   "source": [
    "z_score(\"height\")"
   ]
  },
  {
   "cell_type": "code",
   "execution_count": 20,
   "id": "2a344dd7",
   "metadata": {},
   "outputs": [],
   "source": [
    "df3.drop(df3.index[df3['height'] < 150], inplace=True)\n",
    "df3.drop(df3.index[df3['height'] > 200], inplace=True)"
   ]
  },
  {
   "cell_type": "code",
   "execution_count": 21,
   "id": "81b7c033",
   "metadata": {},
   "outputs": [
    {
     "data": {
      "text/plain": [
       "<AxesSubplot:>"
      ]
     },
     "execution_count": 21,
     "metadata": {},
     "output_type": "execute_result"
    },
    {
     "data": {
      "image/png": "[encoded data removed]",
      "text/plain": [
       "<Figure size 432x288 with 1 Axes>"
      ]
     },
     "metadata": {
      "needs_background": "light"
     },
     "output_type": "display_data"
    }
   ],
   "source": [
    "df3['height'].plot.box()"
   ]
  },
  {
   "cell_type": "markdown",
   "id": "8d0445aa",
   "metadata": {},
   "source": [
    "## Ap_lo"
   ]
  },
  {
   "cell_type": "code",
   "execution_count": 22,
   "id": "73d78339",
   "metadata": {},
   "outputs": [
    {
     "data": {
      "text/plain": [
       "<AxesSubplot:>"
      ]
     },
     "execution_count": 22,
     "metadata": {},
     "output_type": "execute_result"
    },
    {
     "data": {
      "image/png": "[encoded data removed]",
      "text/plain": [
       "<Figure size 432x288 with 1 Axes>"
      ]
     },
     "metadata": {
      "needs_background": "light"
     },
     "output_type": "display_data"
    }
   ],
   "source": [
    "df3['ap_lo'].plot.box()"
   ]
  },
  {
   "cell_type": "code",
   "execution_count": 23,
   "id": "5fc9222e",
   "metadata": {},
   "outputs": [
    {
     "name": "stdout",
     "output_type": "stream",
     "text": [
      "ap_lo\n",
      "Upper bound: 105.0\n",
      "(array([   96,   114,   224, ..., 68312, 68356, 68392], dtype=int64),)\n",
      "Lower bound: 65.0\n",
      "(array([    4,     9,    23, ..., 68359, 68363, 68403], dtype=int64),)\n"
     ]
    }
   ],
   "source": [
    "iqr_calc(\"ap_lo\")"
   ]
  },
  {
   "cell_type": "code",
   "execution_count": 24,
   "id": "46b72fe8",
   "metadata": {},
   "outputs": [
    {
     "name": "stdout",
     "output_type": "stream",
     "text": [
      "(array([], dtype=int64),)\n"
     ]
    }
   ],
   "source": [
    "z_score(\"age\")"
   ]
  },
  {
   "cell_type": "code",
   "execution_count": 25,
   "id": "39f23834",
   "metadata": {},
   "outputs": [],
   "source": [
    "df3.drop(df3.index[df3['ap_lo'] > 105], inplace=True)\n",
    "df3.drop(df3.index[df3['ap_lo'] < 65], inplace=True)"
   ]
  },
  {
   "cell_type": "code",
   "execution_count": 26,
   "id": "8eb8af7d",
   "metadata": {},
   "outputs": [
    {
     "data": {
      "text/plain": [
       "<AxesSubplot:>"
      ]
     },
     "execution_count": 26,
     "metadata": {},
     "output_type": "execute_result"
    },
    {
     "data": {
      "image/png": "[encoded data removed]",
      "text/plain": [
       "<Figure size 432x288 with 1 Axes>"
      ]
     },
     "metadata": {
      "needs_background": "light"
     },
     "output_type": "display_data"
    }
   ],
   "source": [
    "df3['ap_lo'].plot.box()"
   ]
  },
  {
   "cell_type": "markdown",
   "id": "ea1a4bd5",
   "metadata": {},
   "source": [
    "## Ap_hi"
   ]
  },
  {
   "cell_type": "code",
   "execution_count": 27,
   "id": "bd0e64ce",
   "metadata": {},
   "outputs": [
    {
     "data": {
      "text/plain": [
       "<AxesSubplot:>"
      ]
     },
     "execution_count": 27,
     "metadata": {},
     "output_type": "execute_result"
    },
    {
     "data": {
      "image/png": "[encoded data removed]",
      "text/plain": [
       "<Figure size 432x288 with 1 Axes>"
      ]
     },
     "metadata": {
      "needs_background": "light"
     },
     "output_type": "display_data"
    }
   ],
   "source": [
    "df3['ap_hi'].plot.box()"
   ]
  },
  {
   "cell_type": "code",
   "execution_count": 28,
   "id": "80ad744b",
   "metadata": {},
   "outputs": [
    {
     "name": "stdout",
     "output_type": "stream",
     "text": [
      "ap_hi\n",
      "Upper bound: 170.0\n",
      "(array([   40,    53,    55, ..., 63854, 63933, 63938], dtype=int64),)\n",
      "Lower bound: 90.0\n",
      "(array([  194,   512,   845,   894,  1066,  1385,  1466,  1492,  1985,\n",
      "        1989,  2020,  2056,  2225,  2313,  2393,  2612,  2710,  2716,\n",
      "        3158,  3375,  3408,  3464,  3493,  3525,  3578,  3621,  3923,\n",
      "        4015,  4096,  4201,  4214,  4224,  4249,  4295,  4369,  4430,\n",
      "        4483,  4795,  4878,  4934,  5280,  6029,  6860,  6884,  7106,\n",
      "        7199,  7285,  7472,  7522,  7591,  7655,  8502,  8513,  8914,\n",
      "        8951,  9818,  9987, 10078, 10120, 10176, 10597, 10618, 10688,\n",
      "       11848, 11914, 12022, 12240, 12296, 12879, 12945, 13182, 13203,\n",
      "       13233, 13277, 13455, 13517, 13718, 13851, 13914, 14399, 14592,\n",
      "       14666, 15090, 15489, 16125, 16372, 16426, 16573, 16640, 16702,\n",
      "       16866, 16958, 17436, 17615, 17725, 17726, 17811, 17984, 18156,\n",
      "       18477, 18784, 18997, 19127, 19213, 19584, 20184, 20730, 21886,\n",
      "       21931, 21985, 22109, 22131, 22225, 22331, 22332, 22390, 22427,\n",
      "       22445, 22689, 22711, 22907, 23069, 23573, 23942, 24048, 24217,\n",
      "       24337, 24484, 24669, 24763, 25031, 25095, 25145, 25476, 25625,\n",
      "       25767, 25959, 26027, 26176, 26294, 26539, 26658, 26973, 27178,\n",
      "       27442, 27646, 27770, 28127, 28277, 28358, 28478, 28540, 28585,\n",
      "       28700, 28702, 29131, 29184, 29923, 29938, 29997, 30212, 30273,\n",
      "       30356, 30662, 30868, 31023, 31074, 31313, 31453, 31483, 31697,\n",
      "       31811, 32050, 32295, 32320, 32457, 33261, 33362, 33565, 34142,\n",
      "       34201, 34257, 34380, 34587, 34985, 35085, 35111, 35323, 35684,\n",
      "       36021, 36086, 36319, 37252, 37437, 37648, 37758, 37862, 38225,\n",
      "       38337, 38340, 38527, 38631, 38827, 38915, 38938, 39099, 39317,\n",
      "       39438, 39732, 39926, 40158, 40711, 41023, 41090, 41182, 41236,\n",
      "       41376, 41564, 41916, 42102, 42439, 42539, 42612, 42624, 42641,\n",
      "       42816, 42817, 42907, 43267, 43435, 43630, 43694, 43701, 43841,\n",
      "       44122, 44164, 44253, 44684, 44710, 45256, 45469, 45484, 45593,\n",
      "       45746, 46687, 47226, 47608, 48183, 48500, 48549, 49187, 49427,\n",
      "       49587, 49848, 49857, 50243, 50255, 50332, 50336, 50411, 50653,\n",
      "       51137, 51146, 51599, 51781, 51833, 51915, 51958, 52411, 52534,\n",
      "       52731, 52785, 52810, 52912, 52938, 52947, 53277, 53278, 53452,\n",
      "       54207, 54294, 54801, 55064, 55076, 55346, 55412, 55658, 55759,\n",
      "       56475, 56512, 56827, 57075, 57102, 57315, 57408, 57656, 57710,\n",
      "       57825, 58223, 58419, 58573, 58887, 59002, 59065, 59536, 59695,\n",
      "       60967, 61328, 61465, 61548, 61811, 61815, 61952, 62084, 62152,\n",
      "       62231, 62534, 62553, 62690, 62787, 62873, 63021, 63150, 63529,\n",
      "       63565, 63861], dtype=int64),)\n"
     ]
    }
   ],
   "source": [
    "iqr_calc(\"ap_hi\")"
   ]
  },
  {
   "cell_type": "code",
   "execution_count": 29,
   "id": "2892020a",
   "metadata": {},
   "outputs": [
    {
     "name": "stdout",
     "output_type": "stream",
     "text": [
      "(array([ 7114,  8165, 12729, 16225, 23276, 23324, 23569, 25733, 27108,\n",
      "       33748, 37357, 37575, 39447, 39516, 39783, 42901, 43220, 44634,\n",
      "       46472, 47028, 50713, 51079, 52366, 52930, 58498, 63362],\n",
      "      dtype=int64),)\n"
     ]
    }
   ],
   "source": [
    "z_score(\"ap_hi\")"
   ]
  },
  {
   "cell_type": "code",
   "execution_count": 30,
   "id": "a1f5c854",
   "metadata": {},
   "outputs": [],
   "source": [
    "df3.drop(df3.index[df3['ap_hi'] > 170], inplace=True)\n",
    "df3.drop(df3.index[df3['ap_hi'] < 90], inplace=True)"
   ]
  },
  {
   "cell_type": "code",
   "execution_count": 31,
   "id": "5ae5fd9d",
   "metadata": {},
   "outputs": [
    {
     "data": {
      "text/plain": [
       "<AxesSubplot:>"
      ]
     },
     "execution_count": 31,
     "metadata": {},
     "output_type": "execute_result"
    },
    {
     "data": {
      "image/png": "[encoded data removed]",
      "text/plain": [
       "<Figure size 432x288 with 1 Axes>"
      ]
     },
     "metadata": {
      "needs_background": "light"
     },
     "output_type": "display_data"
    }
   ],
   "source": [
    "df3['ap_hi'].plot.box()"
   ]
  },
  {
   "cell_type": "markdown",
   "id": "d0b7f411",
   "metadata": {},
   "source": [
    "## Cholesterol"
   ]
  },
  {
   "cell_type": "code",
   "execution_count": 32,
   "id": "e8a6fa53",
   "metadata": {},
   "outputs": [
    {
     "data": {
      "text/plain": [
       "<AxesSubplot:>"
      ]
     },
     "execution_count": 32,
     "metadata": {},
     "output_type": "execute_result"
    },
    {
     "data": {
      "image/png": "[encoded data removed]",
      "text/plain": [
       "<Figure size 432x288 with 1 Axes>"
      ]
     },
     "metadata": {
      "needs_background": "light"
     },
     "output_type": "display_data"
    }
   ],
   "source": [
    "df3['cholesterol'].plot.box()\n"
   ]
  },
  {
   "cell_type": "code",
   "execution_count": 33,
   "id": "e48cee31",
   "metadata": {},
   "outputs": [
    {
     "name": "stdout",
     "output_type": "stream",
     "text": [
      "cholesterol\n",
      "Upper bound: 1.0\n",
      "(array([    0,     1,     2, ..., 63102, 63103, 63104], dtype=int64),)\n",
      "Lower bound: 1.0\n",
      "(array([    0,     3,     7, ..., 63100, 63101, 63103], dtype=int64),)\n"
     ]
    }
   ],
   "source": [
    "iqr_calc(\"cholesterol\")"
   ]
  },
  {
   "cell_type": "markdown",
   "id": "97de6f21",
   "metadata": {},
   "source": [
    "#### Nothing to change"
   ]
  },
  {
   "cell_type": "markdown",
   "id": "d6cd4a7d",
   "metadata": {},
   "source": [
    "#### Changed the age from days to years"
   ]
  },
  {
   "cell_type": "code",
   "execution_count": 34,
   "id": "c9e63b90",
   "metadata": {},
   "outputs": [],
   "source": [
    "df3['age']=df3['age']/365"
   ]
  },
  {
   "cell_type": "markdown",
   "id": "8f9e1a58",
   "metadata": {},
   "source": [
    "#### Changed the age into a int"
   ]
  },
  {
   "cell_type": "code",
   "execution_count": 35,
   "id": "3d4f3162",
   "metadata": {},
   "outputs": [],
   "source": [
    "df3['age']=df3['age'].astype(int)\n"
   ]
  },
  {
   "cell_type": "markdown",
   "id": "9cb74c86",
   "metadata": {},
   "source": [
    "### After making the model I wanted to try to find out if I could use existing values to make new data out of that might correlate more with cardiovasculardisease"
   ]
  },
  {
   "cell_type": "markdown",
   "id": "cac0baad",
   "metadata": {},
   "source": [
    "#### The BMI"
   ]
  },
  {
   "cell_type": "markdown",
   "id": "ed31fd13",
   "metadata": {},
   "source": [
    "#### I change height to be in meters"
   ]
  },
  {
   "cell_type": "code",
   "execution_count": 36,
   "id": "9bca20f2",
   "metadata": {},
   "outputs": [],
   "source": [
    "df3['height']=df3['height']/100"
   ]
  },
  {
   "cell_type": "markdown",
   "id": "f63d22f7",
   "metadata": {},
   "source": [
    "#### Run the formular"
   ]
  },
  {
   "cell_type": "code",
   "execution_count": 37,
   "id": "c8916c25",
   "metadata": {},
   "outputs": [],
   "source": [
    "height2=(df3['height'])*(df3['height']);\n",
    "df3['bmi']=(df3['weight']/height2)\n",
    "df3['bmi']=df3['bmi'].astype(int)\n"
   ]
  },
  {
   "cell_type": "code",
   "execution_count": 38,
   "id": "9096ffe2",
   "metadata": {},
   "outputs": [
    {
     "data": {
      "text/html": [
       "<div>\n",
       "<style scoped>\n",
       "    .dataframe tbody tr th:only-of-type {\n",
       "        vertical-align: middle;\n",
       "    }\n",
       "\n",
       "    .dataframe tbody tr th {\n",
       "        vertical-align: top;\n",
       "    }\n",
       "\n",
       "    .dataframe thead th {\n",
       "        text-align: right;\n",
       "    }\n",
       "</style>\n",
       "<table border=\"1\" class=\"dataframe\">\n",
       "  <thead>\n",
       "    <tr style=\"text-align: right;\">\n",
       "      <th></th>\n",
       "      <th>id</th>\n",
       "      <th>age</th>\n",
       "      <th>gender</th>\n",
       "      <th>height</th>\n",
       "      <th>weight</th>\n",
       "      <th>ap_hi</th>\n",
       "      <th>ap_lo</th>\n",
       "      <th>cholesterol</th>\n",
       "      <th>gluc</th>\n",
       "      <th>smoke</th>\n",
       "      <th>alco</th>\n",
       "      <th>active</th>\n",
       "      <th>cardio</th>\n",
       "      <th>bmi</th>\n",
       "      <th>obese</th>\n",
       "    </tr>\n",
       "  </thead>\n",
       "  <tbody>\n",
       "    <tr>\n",
       "      <th>0</th>\n",
       "      <td>0</td>\n",
       "      <td>50</td>\n",
       "      <td>2</td>\n",
       "      <td>1.68</td>\n",
       "      <td>62.0</td>\n",
       "      <td>110</td>\n",
       "      <td>80</td>\n",
       "      <td>1</td>\n",
       "      <td>1</td>\n",
       "      <td>0</td>\n",
       "      <td>0</td>\n",
       "      <td>1</td>\n",
       "      <td>0</td>\n",
       "      <td>21</td>\n",
       "      <td>0</td>\n",
       "    </tr>\n",
       "    <tr>\n",
       "      <th>1</th>\n",
       "      <td>1</td>\n",
       "      <td>55</td>\n",
       "      <td>1</td>\n",
       "      <td>1.56</td>\n",
       "      <td>85.0</td>\n",
       "      <td>140</td>\n",
       "      <td>90</td>\n",
       "      <td>3</td>\n",
       "      <td>1</td>\n",
       "      <td>0</td>\n",
       "      <td>0</td>\n",
       "      <td>1</td>\n",
       "      <td>1</td>\n",
       "      <td>34</td>\n",
       "      <td>1</td>\n",
       "    </tr>\n",
       "    <tr>\n",
       "      <th>2</th>\n",
       "      <td>2</td>\n",
       "      <td>51</td>\n",
       "      <td>1</td>\n",
       "      <td>1.65</td>\n",
       "      <td>64.0</td>\n",
       "      <td>130</td>\n",
       "      <td>70</td>\n",
       "      <td>3</td>\n",
       "      <td>1</td>\n",
       "      <td>0</td>\n",
       "      <td>0</td>\n",
       "      <td>0</td>\n",
       "      <td>1</td>\n",
       "      <td>23</td>\n",
       "      <td>0</td>\n",
       "    </tr>\n",
       "    <tr>\n",
       "      <th>3</th>\n",
       "      <td>3</td>\n",
       "      <td>48</td>\n",
       "      <td>2</td>\n",
       "      <td>1.69</td>\n",
       "      <td>82.0</td>\n",
       "      <td>150</td>\n",
       "      <td>100</td>\n",
       "      <td>1</td>\n",
       "      <td>1</td>\n",
       "      <td>0</td>\n",
       "      <td>0</td>\n",
       "      <td>1</td>\n",
       "      <td>1</td>\n",
       "      <td>28</td>\n",
       "      <td>0</td>\n",
       "    </tr>\n",
       "    <tr>\n",
       "      <th>5</th>\n",
       "      <td>8</td>\n",
       "      <td>60</td>\n",
       "      <td>1</td>\n",
       "      <td>1.51</td>\n",
       "      <td>67.0</td>\n",
       "      <td>120</td>\n",
       "      <td>80</td>\n",
       "      <td>2</td>\n",
       "      <td>2</td>\n",
       "      <td>0</td>\n",
       "      <td>0</td>\n",
       "      <td>0</td>\n",
       "      <td>0</td>\n",
       "      <td>29</td>\n",
       "      <td>0</td>\n",
       "    </tr>\n",
       "    <tr>\n",
       "      <th>...</th>\n",
       "      <td>...</td>\n",
       "      <td>...</td>\n",
       "      <td>...</td>\n",
       "      <td>...</td>\n",
       "      <td>...</td>\n",
       "      <td>...</td>\n",
       "      <td>...</td>\n",
       "      <td>...</td>\n",
       "      <td>...</td>\n",
       "      <td>...</td>\n",
       "      <td>...</td>\n",
       "      <td>...</td>\n",
       "      <td>...</td>\n",
       "      <td>...</td>\n",
       "      <td>...</td>\n",
       "    </tr>\n",
       "    <tr>\n",
       "      <th>69994</th>\n",
       "      <td>99992</td>\n",
       "      <td>57</td>\n",
       "      <td>1</td>\n",
       "      <td>1.65</td>\n",
       "      <td>80.0</td>\n",
       "      <td>150</td>\n",
       "      <td>80</td>\n",
       "      <td>1</td>\n",
       "      <td>1</td>\n",
       "      <td>0</td>\n",
       "      <td>0</td>\n",
       "      <td>1</td>\n",
       "      <td>1</td>\n",
       "      <td>29</td>\n",
       "      <td>0</td>\n",
       "    </tr>\n",
       "    <tr>\n",
       "      <th>69995</th>\n",
       "      <td>99993</td>\n",
       "      <td>52</td>\n",
       "      <td>2</td>\n",
       "      <td>1.68</td>\n",
       "      <td>76.0</td>\n",
       "      <td>120</td>\n",
       "      <td>80</td>\n",
       "      <td>1</td>\n",
       "      <td>1</td>\n",
       "      <td>1</td>\n",
       "      <td>0</td>\n",
       "      <td>1</td>\n",
       "      <td>0</td>\n",
       "      <td>26</td>\n",
       "      <td>0</td>\n",
       "    </tr>\n",
       "    <tr>\n",
       "      <th>69996</th>\n",
       "      <td>99995</td>\n",
       "      <td>61</td>\n",
       "      <td>1</td>\n",
       "      <td>1.58</td>\n",
       "      <td>126.0</td>\n",
       "      <td>140</td>\n",
       "      <td>90</td>\n",
       "      <td>2</td>\n",
       "      <td>2</td>\n",
       "      <td>0</td>\n",
       "      <td>0</td>\n",
       "      <td>1</td>\n",
       "      <td>1</td>\n",
       "      <td>50</td>\n",
       "      <td>1</td>\n",
       "    </tr>\n",
       "    <tr>\n",
       "      <th>69998</th>\n",
       "      <td>99998</td>\n",
       "      <td>61</td>\n",
       "      <td>1</td>\n",
       "      <td>1.63</td>\n",
       "      <td>72.0</td>\n",
       "      <td>135</td>\n",
       "      <td>80</td>\n",
       "      <td>1</td>\n",
       "      <td>2</td>\n",
       "      <td>0</td>\n",
       "      <td>0</td>\n",
       "      <td>0</td>\n",
       "      <td>1</td>\n",
       "      <td>27</td>\n",
       "      <td>0</td>\n",
       "    </tr>\n",
       "    <tr>\n",
       "      <th>69999</th>\n",
       "      <td>99999</td>\n",
       "      <td>56</td>\n",
       "      <td>1</td>\n",
       "      <td>1.70</td>\n",
       "      <td>72.0</td>\n",
       "      <td>120</td>\n",
       "      <td>80</td>\n",
       "      <td>2</td>\n",
       "      <td>1</td>\n",
       "      <td>0</td>\n",
       "      <td>0</td>\n",
       "      <td>1</td>\n",
       "      <td>0</td>\n",
       "      <td>24</td>\n",
       "      <td>0</td>\n",
       "    </tr>\n",
       "  </tbody>\n",
       "</table>\n",
       "<p>63105 rows × 15 columns</p>\n",
       "</div>"
      ],
      "text/plain": [
       "          id  age  gender  height  weight  ap_hi  ap_lo  cholesterol  gluc  \\\n",
       "0          0   50       2    1.68    62.0    110     80            1     1   \n",
       "1          1   55       1    1.56    85.0    140     90            3     1   \n",
       "2          2   51       1    1.65    64.0    130     70            3     1   \n",
       "3          3   48       2    1.69    82.0    150    100            1     1   \n",
       "5          8   60       1    1.51    67.0    120     80            2     2   \n",
       "...      ...  ...     ...     ...     ...    ...    ...          ...   ...   \n",
       "69994  99992   57       1    1.65    80.0    150     80            1     1   \n",
       "69995  99993   52       2    1.68    76.0    120     80            1     1   \n",
       "69996  99995   61       1    1.58   126.0    140     90            2     2   \n",
       "69998  99998   61       1    1.63    72.0    135     80            1     2   \n",
       "69999  99999   56       1    1.70    72.0    120     80            2     1   \n",
       "\n",
       "       smoke  alco  active  cardio  bmi  obese  \n",
       "0          0     0       1       0   21      0  \n",
       "1          0     0       1       1   34      1  \n",
       "2          0     0       0       1   23      0  \n",
       "3          0     0       1       1   28      0  \n",
       "5          0     0       0       0   29      0  \n",
       "...      ...   ...     ...     ...  ...    ...  \n",
       "69994      0     0       1       1   29      0  \n",
       "69995      1     0       1       0   26      0  \n",
       "69996      0     0       1       1   50      1  \n",
       "69998      0     0       0       1   27      0  \n",
       "69999      0     0       1       0   24      0  \n",
       "\n",
       "[63105 rows x 15 columns]"
      ]
     },
     "execution_count": 38,
     "metadata": {},
     "output_type": "execute_result"
    }
   ],
   "source": [
    "df3['obese']=(df3['bmi']>30)\n",
    "df3['obese']=df3['obese'].astype(int)\n",
    "df3"
   ]
  },
  {
   "cell_type": "code",
   "execution_count": 39,
   "id": "85fde795",
   "metadata": {},
   "outputs": [
    {
     "data": {
      "text/html": [
       "<div>\n",
       "<style scoped>\n",
       "    .dataframe tbody tr th:only-of-type {\n",
       "        vertical-align: middle;\n",
       "    }\n",
       "\n",
       "    .dataframe tbody tr th {\n",
       "        vertical-align: top;\n",
       "    }\n",
       "\n",
       "    .dataframe thead th {\n",
       "        text-align: right;\n",
       "    }\n",
       "</style>\n",
       "<table border=\"1\" class=\"dataframe\">\n",
       "  <thead>\n",
       "    <tr style=\"text-align: right;\">\n",
       "      <th></th>\n",
       "      <th>id</th>\n",
       "      <th>age</th>\n",
       "      <th>gender</th>\n",
       "      <th>height</th>\n",
       "      <th>weight</th>\n",
       "      <th>ap_hi</th>\n",
       "      <th>ap_lo</th>\n",
       "      <th>cholesterol</th>\n",
       "      <th>gluc</th>\n",
       "      <th>smoke</th>\n",
       "      <th>alco</th>\n",
       "      <th>active</th>\n",
       "      <th>cardio</th>\n",
       "      <th>bmi</th>\n",
       "      <th>obese</th>\n",
       "    </tr>\n",
       "  </thead>\n",
       "  <tbody>\n",
       "    <tr>\n",
       "      <th>0</th>\n",
       "      <td>0.00000</td>\n",
       "      <td>0.88</td>\n",
       "      <td>2.0</td>\n",
       "      <td>0.750000</td>\n",
       "      <td>0.2750</td>\n",
       "      <td>0.50</td>\n",
       "      <td>0.75</td>\n",
       "      <td>0.0</td>\n",
       "      <td>0.0</td>\n",
       "      <td>0.0</td>\n",
       "      <td>0.0</td>\n",
       "      <td>2.0</td>\n",
       "      <td>0.0</td>\n",
       "      <td>0.290909</td>\n",
       "      <td>0.0</td>\n",
       "    </tr>\n",
       "    <tr>\n",
       "      <th>1</th>\n",
       "      <td>0.00002</td>\n",
       "      <td>1.28</td>\n",
       "      <td>0.0</td>\n",
       "      <td>0.250000</td>\n",
       "      <td>0.5625</td>\n",
       "      <td>1.25</td>\n",
       "      <td>1.25</td>\n",
       "      <td>2.0</td>\n",
       "      <td>0.0</td>\n",
       "      <td>0.0</td>\n",
       "      <td>0.0</td>\n",
       "      <td>2.0</td>\n",
       "      <td>2.0</td>\n",
       "      <td>0.763636</td>\n",
       "      <td>2.0</td>\n",
       "    </tr>\n",
       "    <tr>\n",
       "      <th>2</th>\n",
       "      <td>0.00004</td>\n",
       "      <td>0.96</td>\n",
       "      <td>0.0</td>\n",
       "      <td>0.625000</td>\n",
       "      <td>0.3000</td>\n",
       "      <td>1.00</td>\n",
       "      <td>0.25</td>\n",
       "      <td>2.0</td>\n",
       "      <td>0.0</td>\n",
       "      <td>0.0</td>\n",
       "      <td>0.0</td>\n",
       "      <td>0.0</td>\n",
       "      <td>2.0</td>\n",
       "      <td>0.363636</td>\n",
       "      <td>0.0</td>\n",
       "    </tr>\n",
       "    <tr>\n",
       "      <th>3</th>\n",
       "      <td>0.00006</td>\n",
       "      <td>0.72</td>\n",
       "      <td>2.0</td>\n",
       "      <td>0.791667</td>\n",
       "      <td>0.5250</td>\n",
       "      <td>1.50</td>\n",
       "      <td>1.75</td>\n",
       "      <td>0.0</td>\n",
       "      <td>0.0</td>\n",
       "      <td>0.0</td>\n",
       "      <td>0.0</td>\n",
       "      <td>2.0</td>\n",
       "      <td>2.0</td>\n",
       "      <td>0.545455</td>\n",
       "      <td>0.0</td>\n",
       "    </tr>\n",
       "    <tr>\n",
       "      <th>4</th>\n",
       "      <td>0.00016</td>\n",
       "      <td>1.68</td>\n",
       "      <td>0.0</td>\n",
       "      <td>0.041667</td>\n",
       "      <td>0.3375</td>\n",
       "      <td>0.75</td>\n",
       "      <td>0.75</td>\n",
       "      <td>1.0</td>\n",
       "      <td>1.0</td>\n",
       "      <td>0.0</td>\n",
       "      <td>0.0</td>\n",
       "      <td>0.0</td>\n",
       "      <td>0.0</td>\n",
       "      <td>0.581818</td>\n",
       "      <td>0.0</td>\n",
       "    </tr>\n",
       "  </tbody>\n",
       "</table>\n",
       "</div>"
      ],
      "text/plain": [
       "        id   age  gender    height  weight  ap_hi  ap_lo  cholesterol  gluc  \\\n",
       "0  0.00000  0.88     2.0  0.750000  0.2750   0.50   0.75          0.0   0.0   \n",
       "1  0.00002  1.28     0.0  0.250000  0.5625   1.25   1.25          2.0   0.0   \n",
       "2  0.00004  0.96     0.0  0.625000  0.3000   1.00   0.25          2.0   0.0   \n",
       "3  0.00006  0.72     2.0  0.791667  0.5250   1.50   1.75          0.0   0.0   \n",
       "4  0.00016  1.68     0.0  0.041667  0.3375   0.75   0.75          1.0   1.0   \n",
       "\n",
       "   smoke  alco  active  cardio       bmi  obese  \n",
       "0    0.0   0.0     2.0     0.0  0.290909    0.0  \n",
       "1    0.0   0.0     2.0     2.0  0.763636    2.0  \n",
       "2    0.0   0.0     0.0     2.0  0.363636    0.0  \n",
       "3    0.0   0.0     2.0     2.0  0.545455    0.0  \n",
       "4    0.0   0.0     0.0     0.0  0.581818    0.0  "
      ]
     },
     "execution_count": 39,
     "metadata": {},
     "output_type": "execute_result"
    }
   ],
   "source": [
    "from sklearn import preprocessing\n",
    "scaler = preprocessing.MinMaxScaler(feature_range=(0, 2))\n",
    "names = df3.columns\n",
    "d = scaler.fit_transform(df3)\n",
    "scaled_df = pd.DataFrame(d, columns=names)\n",
    "scaled_df.head()"
   ]
  },
  {
   "cell_type": "code",
   "execution_count": null,
   "id": "410c80ab",
   "metadata": {},
   "outputs": [],
   "source": []
  },
  {
   "cell_type": "code",
   "execution_count": 40,
   "id": "3a608e52",
   "metadata": {},
   "outputs": [
    {
     "data": {
      "text/plain": [
       "<AxesSubplot:>"
      ]
     },
     "execution_count": 40,
     "metadata": {},
     "output_type": "execute_result"
    },
    {
     "data": {
      "image/png": "[encoded data removed]",
      "text/plain": [
       "<Figure size 432x288 with 1 Axes>"
      ]
     },
     "metadata": {
      "needs_background": "light"
     },
     "output_type": "display_data"
    }
   ],
   "source": [
    "df3['bmi'].plot.box()\n"
   ]
  },
  {
   "cell_type": "code",
   "execution_count": 41,
   "id": "e8ea3807",
   "metadata": {},
   "outputs": [
    {
     "data": {
      "text/plain": [
       "68"
      ]
     },
     "execution_count": 41,
     "metadata": {},
     "output_type": "execute_result"
    }
   ],
   "source": [
    "df3.drop(df3.index[df3['bmi'] < 13], inplace=True)\n",
    "df3.drop(df3.index[df3['bmi'] > 120], inplace=True)\n",
    "\n",
    "df3['bmi'].max()"
   ]
  },
  {
   "cell_type": "markdown",
   "id": "a806076e",
   "metadata": {},
   "source": [
    "##### pandas_profiling.ProfileReport(df3).to_file(\"cardio.html\")\n"
   ]
  },
  {
   "cell_type": "markdown",
   "id": "57293491",
   "metadata": {},
   "source": [
    "#### In this picture under, you can see that chol, bmi, weight and age all correlate with cardiovascular disease"
   ]
  },
  {
   "cell_type": "code",
   "execution_count": 42,
   "id": "7527c7dc",
   "metadata": {},
   "outputs": [
    {
     "data": {
      "text/html": [
       "<style type=\"text/css\">\n",
       "#T_2125d_row0_col0, #T_2125d_row1_col1, #T_2125d_row2_col2, #T_2125d_row3_col3, #T_2125d_row4_col4, #T_2125d_row5_col5, #T_2125d_row6_col6, #T_2125d_row7_col7, #T_2125d_row8_col8, #T_2125d_row9_col9, #T_2125d_row10_col10, #T_2125d_row11_col11, #T_2125d_row12_col12, #T_2125d_row13_col13, #T_2125d_row14_col14 {\n",
       "  background-color: #2369bd;\n",
       "  color: #f1f1f1;\n",
       "}\n",
       "#T_2125d_row0_col1, #T_2125d_row9_col4, #T_2125d_row10_col4 {\n",
       "  background-color: #b75756;\n",
       "  color: #f1f1f1;\n",
       "}\n",
       "#T_2125d_row0_col2, #T_2125d_row4_col9, #T_2125d_row5_col8, #T_2125d_row12_col8 {\n",
       "  background-color: #bc6160;\n",
       "  color: #f1f1f1;\n",
       "}\n",
       "#T_2125d_row0_col3, #T_2125d_row0_col13, #T_2125d_row10_col14 {\n",
       "  background-color: #c57674;\n",
       "  color: #f1f1f1;\n",
       "}\n",
       "#T_2125d_row0_col4, #T_2125d_row3_col6, #T_2125d_row9_col8, #T_2125d_row9_col12, #T_2125d_row11_col8, #T_2125d_row12_col10, #T_2125d_row13_col9, #T_2125d_row14_col9 {\n",
       "  background-color: #ac3e40;\n",
       "  color: #f1f1f1;\n",
       "}\n",
       "#T_2125d_row0_col5, #T_2125d_row1_col0, #T_2125d_row2_col0, #T_2125d_row4_col0, #T_2125d_row6_col0, #T_2125d_row8_col0, #T_2125d_row14_col0 {\n",
       "  background-color: #a9393c;\n",
       "  color: #f1f1f1;\n",
       "}\n",
       "#T_2125d_row0_col6, #T_2125d_row1_col9, #T_2125d_row1_col10, #T_2125d_row2_col8, #T_2125d_row3_col0, #T_2125d_row3_col1, #T_2125d_row3_col5, #T_2125d_row3_col7, #T_2125d_row3_col8, #T_2125d_row3_col13, #T_2125d_row3_col14, #T_2125d_row9_col0, #T_2125d_row10_col0, #T_2125d_row11_col4, #T_2125d_row11_col5, #T_2125d_row11_col6, #T_2125d_row11_col12, #T_2125d_row12_col11, #T_2125d_row13_col0, #T_2125d_row13_col2, #T_2125d_row13_col3, #T_2125d_row14_col2 {\n",
       "  background-color: #a9373b;\n",
       "  color: #f1f1f1;\n",
       "}\n",
       "#T_2125d_row0_col7, #T_2125d_row5_col10, #T_2125d_row7_col9 {\n",
       "  background-color: #b34d4e;\n",
       "  color: #f1f1f1;\n",
       "}\n",
       "#T_2125d_row0_col8, #T_2125d_row1_col11, #T_2125d_row3_col11, #T_2125d_row10_col12, #T_2125d_row13_col11 {\n",
       "  background-color: #ad4143;\n",
       "  color: #f1f1f1;\n",
       "}\n",
       "#T_2125d_row0_col9, #T_2125d_row2_col5, #T_2125d_row2_col11, #T_2125d_row7_col11, #T_2125d_row13_col10 {\n",
       "  background-color: #b1494a;\n",
       "  color: #f1f1f1;\n",
       "}\n",
       "#T_2125d_row0_col10, #T_2125d_row8_col11, #T_2125d_row10_col5, #T_2125d_row10_col8, #T_2125d_row12_col9 {\n",
       "  background-color: #ae4244;\n",
       "  color: #f1f1f1;\n",
       "}\n",
       "#T_2125d_row0_col11, #T_2125d_row0_col12, #T_2125d_row8_col9, #T_2125d_row14_col10 {\n",
       "  background-color: #b04748;\n",
       "  color: #f1f1f1;\n",
       "}\n",
       "#T_2125d_row0_col14, #T_2125d_row7_col4, #T_2125d_row11_col3 {\n",
       "  background-color: #c47371;\n",
       "  color: #f1f1f1;\n",
       "}\n",
       "#T_2125d_row1_col2 {\n",
       "  background-color: #b75555;\n",
       "  color: #f1f1f1;\n",
       "}\n",
       "#T_2125d_row1_col3, #T_2125d_row6_col8, #T_2125d_row8_col5 {\n",
       "  background-color: #b95a59;\n",
       "  color: #f1f1f1;\n",
       "}\n",
       "#T_2125d_row1_col4 {\n",
       "  background-color: #b55151;\n",
       "  color: #f1f1f1;\n",
       "}\n",
       "#T_2125d_row1_col5, #T_2125d_row4_col12, #T_2125d_row14_col5 {\n",
       "  background-color: #cb8481;\n",
       "  color: #f1f1f1;\n",
       "}\n",
       "#T_2125d_row1_col6, #T_2125d_row8_col3, #T_2125d_row14_col1 {\n",
       "  background-color: #c26f6d;\n",
       "  color: #f1f1f1;\n",
       "}\n",
       "#T_2125d_row1_col7, #T_2125d_row2_col10, #T_2125d_row7_col5 {\n",
       "  background-color: #ca827f;\n",
       "  color: #f1f1f1;\n",
       "}\n",
       "#T_2125d_row1_col8, #T_2125d_row7_col3, #T_2125d_row8_col4 {\n",
       "  background-color: #be6463;\n",
       "  color: #f1f1f1;\n",
       "}\n",
       "#T_2125d_row1_col12, #T_2125d_row8_col13, #T_2125d_row12_col7 {\n",
       "  background-color: #d59c99;\n",
       "  color: #f1f1f1;\n",
       "}\n",
       "#T_2125d_row1_col13 {\n",
       "  background-color: #d29491;\n",
       "  color: #f1f1f1;\n",
       "}\n",
       "#T_2125d_row1_col14, #T_2125d_row6_col1, #T_2125d_row13_col12 {\n",
       "  background-color: #cd8885;\n",
       "  color: #f1f1f1;\n",
       "}\n",
       "#T_2125d_row2_col1, #T_2125d_row2_col6, #T_2125d_row2_col14, #T_2125d_row10_col1, #T_2125d_row11_col10 {\n",
       "  background-color: #b24c4c;\n",
       "  color: #f1f1f1;\n",
       "}\n",
       "#T_2125d_row2_col3 {\n",
       "  background-color: #d9dce5;\n",
       "  color: #000000;\n",
       "}\n",
       "#T_2125d_row2_col4, #T_2125d_row7_col6 {\n",
       "  background-color: #c57572;\n",
       "  color: #f1f1f1;\n",
       "}\n",
       "#T_2125d_row2_col7, #T_2125d_row14_col3 {\n",
       "  background-color: #ab3c3f;\n",
       "  color: #f1f1f1;\n",
       "}\n",
       "#T_2125d_row2_col9 {\n",
       "  background-color: #e6c5c3;\n",
       "  color: #000000;\n",
       "}\n",
       "#T_2125d_row2_col12, #T_2125d_row5_col11, #T_2125d_row6_col11, #T_2125d_row8_col10 {\n",
       "  background-color: #af4647;\n",
       "  color: #f1f1f1;\n",
       "}\n",
       "#T_2125d_row2_col13, #T_2125d_row5_col9, #T_2125d_row6_col9, #T_2125d_row7_col2, #T_2125d_row8_col6, #T_2125d_row11_col1 {\n",
       "  background-color: #b55252;\n",
       "  color: #f1f1f1;\n",
       "}\n",
       "#T_2125d_row3_col2 {\n",
       "  background-color: #e4e5eb;\n",
       "  color: #000000;\n",
       "}\n",
       "#T_2125d_row3_col4 {\n",
       "  background-color: #dcaeab;\n",
       "  color: #000000;\n",
       "}\n",
       "#T_2125d_row3_col9, #T_2125d_row6_col4, #T_2125d_row8_col14 {\n",
       "  background-color: #d1918e;\n",
       "  color: #f1f1f1;\n",
       "}\n",
       "#T_2125d_row3_col10, #T_2125d_row4_col1, #T_2125d_row4_col8 {\n",
       "  background-color: #bf6765;\n",
       "  color: #f1f1f1;\n",
       "}\n",
       "#T_2125d_row3_col12, #T_2125d_row4_col11, #T_2125d_row9_col5, #T_2125d_row9_col6, #T_2125d_row14_col11 {\n",
       "  background-color: #ac3f42;\n",
       "  color: #f1f1f1;\n",
       "}\n",
       "#T_2125d_row4_col2, #T_2125d_row5_col7 {\n",
       "  background-color: #d19290;\n",
       "  color: #f1f1f1;\n",
       "}\n",
       "#T_2125d_row4_col3 {\n",
       "  background-color: #eed7d5;\n",
       "  color: #000000;\n",
       "}\n",
       "#T_2125d_row4_col5, #T_2125d_row10_col3 {\n",
       "  background-color: #d29593;\n",
       "  color: #f1f1f1;\n",
       "}\n",
       "#T_2125d_row4_col6 {\n",
       "  background-color: #cf8c8a;\n",
       "  color: #f1f1f1;\n",
       "}\n",
       "#T_2125d_row4_col7 {\n",
       "  background-color: #c97f7d;\n",
       "  color: #f1f1f1;\n",
       "}\n",
       "#T_2125d_row4_col10 {\n",
       "  background-color: #b95b5a;\n",
       "  color: #f1f1f1;\n",
       "}\n",
       "#T_2125d_row4_col13 {\n",
       "  background-color: #5c85bd;\n",
       "  color: #f1f1f1;\n",
       "}\n",
       "#T_2125d_row4_col14 {\n",
       "  background-color: #a7b6ce;\n",
       "  color: #000000;\n",
       "}\n",
       "#T_2125d_row5_col0, #T_2125d_row7_col0, #T_2125d_row11_col0, #T_2125d_row12_col0 {\n",
       "  background-color: #aa3a3e;\n",
       "  color: #f1f1f1;\n",
       "}\n",
       "#T_2125d_row5_col1 {\n",
       "  background-color: #d59d9a;\n",
       "  color: #f1f1f1;\n",
       "}\n",
       "#T_2125d_row5_col2, #T_2125d_row12_col3 {\n",
       "  background-color: #c3706e;\n",
       "  color: #f1f1f1;\n",
       "}\n",
       "#T_2125d_row5_col3, #T_2125d_row8_col1, #T_2125d_row13_col1 {\n",
       "  background-color: #c67875;\n",
       "  color: #f1f1f1;\n",
       "}\n",
       "#T_2125d_row5_col4, #T_2125d_row10_col2 {\n",
       "  background-color: #d49a97;\n",
       "  color: #f1f1f1;\n",
       "}\n",
       "#T_2125d_row5_col6, #T_2125d_row6_col5 {\n",
       "  background-color: #adbbd1;\n",
       "  color: #000000;\n",
       "}\n",
       "#T_2125d_row5_col12 {\n",
       "  background-color: #f6e8e7;\n",
       "  color: #000000;\n",
       "}\n",
       "#T_2125d_row5_col13 {\n",
       "  background-color: #e7c7c5;\n",
       "  color: #000000;\n",
       "}\n",
       "#T_2125d_row5_col14 {\n",
       "  background-color: #deb2b0;\n",
       "  color: #000000;\n",
       "}\n",
       "#T_2125d_row6_col2, #T_2125d_row11_col13 {\n",
       "  background-color: #c3726f;\n",
       "  color: #f1f1f1;\n",
       "}\n",
       "#T_2125d_row6_col3, #T_2125d_row10_col13 {\n",
       "  background-color: #c87c7a;\n",
       "  color: #f1f1f1;\n",
       "}\n",
       "#T_2125d_row6_col7 {\n",
       "  background-color: #cc8582;\n",
       "  color: #f1f1f1;\n",
       "}\n",
       "#T_2125d_row6_col10, #T_2125d_row7_col10, #T_2125d_row9_col7, #T_2125d_row9_col11, #T_2125d_row10_col11, #T_2125d_row11_col7 {\n",
       "  background-color: #b44f4f;\n",
       "  color: #f1f1f1;\n",
       "}\n",
       "#T_2125d_row6_col12, #T_2125d_row9_col10 {\n",
       "  background-color: #e5c3c1;\n",
       "  color: #000000;\n",
       "}\n",
       "#T_2125d_row6_col13 {\n",
       "  background-color: #e2bcb9;\n",
       "  color: #000000;\n",
       "}\n",
       "#T_2125d_row6_col14 {\n",
       "  background-color: #daa9a7;\n",
       "  color: #000000;\n",
       "}\n",
       "#T_2125d_row7_col1, #T_2125d_row13_col6 {\n",
       "  background-color: #ce8b88;\n",
       "  color: #f1f1f1;\n",
       "}\n",
       "#T_2125d_row7_col8 {\n",
       "  background-color: #f8edeb;\n",
       "  color: #000000;\n",
       "}\n",
       "#T_2125d_row7_col12, #T_2125d_row13_col5 {\n",
       "  background-color: #d39794;\n",
       "  color: #f1f1f1;\n",
       "}\n",
       "#T_2125d_row7_col13 {\n",
       "  background-color: #dcacaa;\n",
       "  color: #000000;\n",
       "}\n",
       "#T_2125d_row7_col14, #T_2125d_row12_col14 {\n",
       "  background-color: #d7a09d;\n",
       "  color: #000000;\n",
       "}\n",
       "#T_2125d_row8_col2, #T_2125d_row10_col7 {\n",
       "  background-color: #b85857;\n",
       "  color: #f1f1f1;\n",
       "}\n",
       "#T_2125d_row8_col7 {\n",
       "  background-color: #faf2f1;\n",
       "  color: #000000;\n",
       "}\n",
       "#T_2125d_row8_col12, #T_2125d_row14_col8 {\n",
       "  background-color: #be6664;\n",
       "  color: #f1f1f1;\n",
       "}\n",
       "#T_2125d_row9_col1, #T_2125d_row10_col6 {\n",
       "  background-color: #af4446;\n",
       "  color: #f1f1f1;\n",
       "}\n",
       "#T_2125d_row9_col2 {\n",
       "  background-color: #edd5d3;\n",
       "  color: #000000;\n",
       "}\n",
       "#T_2125d_row9_col3 {\n",
       "  background-color: #dfb4b2;\n",
       "  color: #000000;\n",
       "}\n",
       "#T_2125d_row9_col13 {\n",
       "  background-color: #c16c6a;\n",
       "  color: #f1f1f1;\n",
       "}\n",
       "#T_2125d_row9_col14 {\n",
       "  background-color: #c06967;\n",
       "  color: #f1f1f1;\n",
       "}\n",
       "#T_2125d_row10_col9 {\n",
       "  background-color: #e7c8c6;\n",
       "  color: #000000;\n",
       "}\n",
       "#T_2125d_row11_col2 {\n",
       "  background-color: #bd6361;\n",
       "  color: #f1f1f1;\n",
       "}\n",
       "#T_2125d_row11_col9 {\n",
       "  background-color: #b65453;\n",
       "  color: #f1f1f1;\n",
       "}\n",
       "#T_2125d_row11_col14, #T_2125d_row13_col8 {\n",
       "  background-color: #c16d6b;\n",
       "  color: #f1f1f1;\n",
       "}\n",
       "#T_2125d_row12_col1 {\n",
       "  background-color: #daa8a5;\n",
       "  color: #000000;\n",
       "}\n",
       "#T_2125d_row12_col2 {\n",
       "  background-color: #bc605e;\n",
       "  color: #f1f1f1;\n",
       "}\n",
       "#T_2125d_row12_col4 {\n",
       "  background-color: #c87e7b;\n",
       "  color: #f1f1f1;\n",
       "}\n",
       "#T_2125d_row12_col5 {\n",
       "  background-color: #f2e0df;\n",
       "  color: #000000;\n",
       "}\n",
       "#T_2125d_row12_col6 {\n",
       "  background-color: #e1bab8;\n",
       "  color: #000000;\n",
       "}\n",
       "#T_2125d_row12_col13 {\n",
       "  background-color: #ddafad;\n",
       "  color: #000000;\n",
       "}\n",
       "#T_2125d_row13_col4 {\n",
       "  background-color: #658abe;\n",
       "  color: #f1f1f1;\n",
       "}\n",
       "#T_2125d_row13_col7 {\n",
       "  background-color: #cd8987;\n",
       "  color: #f1f1f1;\n",
       "}\n",
       "#T_2125d_row13_col14 {\n",
       "  background-color: #7e9ac2;\n",
       "  color: #f1f1f1;\n",
       "}\n",
       "#T_2125d_row14_col4 {\n",
       "  background-color: #b8c3d5;\n",
       "  color: #000000;\n",
       "}\n",
       "#T_2125d_row14_col6 {\n",
       "  background-color: #c77977;\n",
       "  color: #f1f1f1;\n",
       "}\n",
       "#T_2125d_row14_col7 {\n",
       "  background-color: #ca817e;\n",
       "  color: #f1f1f1;\n",
       "}\n",
       "#T_2125d_row14_col12 {\n",
       "  background-color: #c77b78;\n",
       "  color: #f1f1f1;\n",
       "}\n",
       "#T_2125d_row14_col13 {\n",
       "  background-color: #7d99c2;\n",
       "  color: #f1f1f1;\n",
       "}\n",
       "</style>\n",
       "<table id=\"T_2125d_\">\n",
       "  <thead>\n",
       "    <tr>\n",
       "      <th class=\"blank level0\" >&nbsp;</th>\n",
       "      <th class=\"col_heading level0 col0\" >id</th>\n",
       "      <th class=\"col_heading level0 col1\" >age</th>\n",
       "      <th class=\"col_heading level0 col2\" >gender</th>\n",
       "      <th class=\"col_heading level0 col3\" >height</th>\n",
       "      <th class=\"col_heading level0 col4\" >weight</th>\n",
       "      <th class=\"col_heading level0 col5\" >ap_hi</th>\n",
       "      <th class=\"col_heading level0 col6\" >ap_lo</th>\n",
       "      <th class=\"col_heading level0 col7\" >cholesterol</th>\n",
       "      <th class=\"col_heading level0 col8\" >gluc</th>\n",
       "      <th class=\"col_heading level0 col9\" >smoke</th>\n",
       "      <th class=\"col_heading level0 col10\" >alco</th>\n",
       "      <th class=\"col_heading level0 col11\" >active</th>\n",
       "      <th class=\"col_heading level0 col12\" >cardio</th>\n",
       "      <th class=\"col_heading level0 col13\" >bmi</th>\n",
       "      <th class=\"col_heading level0 col14\" >obese</th>\n",
       "    </tr>\n",
       "  </thead>\n",
       "  <tbody>\n",
       "    <tr>\n",
       "      <th id=\"T_2125d_level0_row0\" class=\"row_heading level0 row0\" >id</th>\n",
       "      <td id=\"T_2125d_row0_col0\" class=\"data row0 col0\" >1.000000</td>\n",
       "      <td id=\"T_2125d_row0_col1\" class=\"data row0 col1\" >0.003687</td>\n",
       "      <td id=\"T_2125d_row0_col2\" class=\"data row0 col2\" >0.004517</td>\n",
       "      <td id=\"T_2125d_row0_col3\" class=\"data row0 col3\" >0.000517</td>\n",
       "      <td id=\"T_2125d_row0_col4\" class=\"data row0 col4\" >0.001272</td>\n",
       "      <td id=\"T_2125d_row0_col5\" class=\"data row0 col5\" >0.005798</td>\n",
       "      <td id=\"T_2125d_row0_col6\" class=\"data row0 col6\" >0.003093</td>\n",
       "      <td id=\"T_2125d_row0_col7\" class=\"data row0 col7\" >0.006402</td>\n",
       "      <td id=\"T_2125d_row0_col8\" class=\"data row0 col8\" >0.003538</td>\n",
       "      <td id=\"T_2125d_row0_col9\" class=\"data row0 col9\" >-0.002901</td>\n",
       "      <td id=\"T_2125d_row0_col10\" class=\"data row0 col10\" >0.000651</td>\n",
       "      <td id=\"T_2125d_row0_col11\" class=\"data row0 col11\" >0.004984</td>\n",
       "      <td id=\"T_2125d_row0_col12\" class=\"data row0 col12\" >0.006327</td>\n",
       "      <td id=\"T_2125d_row0_col13\" class=\"data row0 col13\" >0.000647</td>\n",
       "      <td id=\"T_2125d_row0_col14\" class=\"data row0 col14\" >0.002632</td>\n",
       "    </tr>\n",
       "    <tr>\n",
       "      <th id=\"T_2125d_level0_row1\" class=\"row_heading level0 row1\" >age</th>\n",
       "      <td id=\"T_2125d_row1_col0\" class=\"data row1 col0\" >0.003687</td>\n",
       "      <td id=\"T_2125d_row1_col1\" class=\"data row1 col1\" >1.000000</td>\n",
       "      <td id=\"T_2125d_row1_col2\" class=\"data row1 col2\" >-0.028654</td>\n",
       "      <td id=\"T_2125d_row1_col3\" class=\"data row1 col3\" >-0.085170</td>\n",
       "      <td id=\"T_2125d_row1_col4\" class=\"data row1 col4\" >0.048597</td>\n",
       "      <td id=\"T_2125d_row1_col5\" class=\"data row1 col5\" >0.198979</td>\n",
       "      <td id=\"T_2125d_row1_col6\" class=\"data row1 col6\" >0.143130</td>\n",
       "      <td id=\"T_2125d_row1_col7\" class=\"data row1 col7\" >0.150350</td>\n",
       "      <td id=\"T_2125d_row1_col8\" class=\"data row1 col8\" >0.095965</td>\n",
       "      <td id=\"T_2125d_row1_col9\" class=\"data row1 col9\" >-0.049590</td>\n",
       "      <td id=\"T_2125d_row1_col10\" class=\"data row1 col10\" >-0.029577</td>\n",
       "      <td id=\"T_2125d_row1_col11\" class=\"data row1 col11\" >-0.010320</td>\n",
       "      <td id=\"T_2125d_row1_col12\" class=\"data row1 col12\" >0.231522</td>\n",
       "      <td id=\"T_2125d_row1_col13\" class=\"data row1 col13\" >0.093593</td>\n",
       "      <td id=\"T_2125d_row1_col14\" class=\"data row1 col14\" >0.069428</td>\n",
       "    </tr>\n",
       "    <tr>\n",
       "      <th id=\"T_2125d_level0_row2\" class=\"row_heading level0 row2\" >gender</th>\n",
       "      <td id=\"T_2125d_row2_col0\" class=\"data row2 col0\" >0.004517</td>\n",
       "      <td id=\"T_2125d_row2_col1\" class=\"data row2 col1\" >-0.028654</td>\n",
       "      <td id=\"T_2125d_row2_col2\" class=\"data row2 col2\" >1.000000</td>\n",
       "      <td id=\"T_2125d_row2_col3\" class=\"data row2 col3\" >0.522102</td>\n",
       "      <td id=\"T_2125d_row2_col4\" class=\"data row2 col4\" >0.146785</td>\n",
       "      <td id=\"T_2125d_row2_col5\" class=\"data row2 col5\" >0.046900</td>\n",
       "      <td id=\"T_2125d_row2_col6\" class=\"data row2 col6\" >0.050893</td>\n",
       "      <td id=\"T_2125d_row2_col7\" class=\"data row2 col7\" >-0.038646</td>\n",
       "      <td id=\"T_2125d_row2_col8\" class=\"data row2 col8\" >-0.023838</td>\n",
       "      <td id=\"T_2125d_row2_col9\" class=\"data row2 col9\" >0.335725</td>\n",
       "      <td id=\"T_2125d_row2_col10\" class=\"data row2 col10\" >0.170133</td>\n",
       "      <td id=\"T_2125d_row2_col11\" class=\"data row2 col11\" >0.007158</td>\n",
       "      <td id=\"T_2125d_row2_col12\" class=\"data row2 col12\" >-0.000356</td>\n",
       "      <td id=\"T_2125d_row2_col13\" class=\"data row2 col13\" >-0.112827</td>\n",
       "      <td id=\"T_2125d_row2_col14\" class=\"data row2 col14\" >-0.115495</td>\n",
       "    </tr>\n",
       "    <tr>\n",
       "      <th id=\"T_2125d_level0_row3\" class=\"row_heading level0 row3\" >height</th>\n",
       "      <td id=\"T_2125d_row3_col0\" class=\"data row3 col0\" >0.000517</td>\n",
       "      <td id=\"T_2125d_row3_col1\" class=\"data row3 col1\" >-0.085170</td>\n",
       "      <td id=\"T_2125d_row3_col2\" class=\"data row3 col2\" >0.522102</td>\n",
       "      <td id=\"T_2125d_row3_col3\" class=\"data row3 col3\" >1.000000</td>\n",
       "      <td id=\"T_2125d_row3_col4\" class=\"data row3 col4\" >0.295757</td>\n",
       "      <td id=\"T_2125d_row3_col5\" class=\"data row3 col5\" >0.003991</td>\n",
       "      <td id=\"T_2125d_row3_col6\" class=\"data row3 col6\" >0.017746</td>\n",
       "      <td id=\"T_2125d_row3_col7\" class=\"data row3 col7\" >-0.054720</td>\n",
       "      <td id=\"T_2125d_row3_col8\" class=\"data row3 col8\" >-0.023607</td>\n",
       "      <td id=\"T_2125d_row3_col9\" class=\"data row3 col9\" >0.194320</td>\n",
       "      <td id=\"T_2125d_row3_col10\" class=\"data row3 col10\" >0.097727</td>\n",
       "      <td id=\"T_2125d_row3_col11\" class=\"data row3 col11\" >-0.010040</td>\n",
       "      <td id=\"T_2125d_row3_col12\" class=\"data row3 col12\" >-0.017641</td>\n",
       "      <td id=\"T_2125d_row3_col13\" class=\"data row3 col13\" >-0.192215</td>\n",
       "      <td id=\"T_2125d_row3_col14\" class=\"data row3 col14\" >-0.177651</td>\n",
       "    </tr>\n",
       "    <tr>\n",
       "      <th id=\"T_2125d_level0_row4\" class=\"row_heading level0 row4\" >weight</th>\n",
       "      <td id=\"T_2125d_row4_col0\" class=\"data row4 col0\" >0.001272</td>\n",
       "      <td id=\"T_2125d_row4_col1\" class=\"data row4 col1\" >0.048597</td>\n",
       "      <td id=\"T_2125d_row4_col2\" class=\"data row4 col2\" >0.146785</td>\n",
       "      <td id=\"T_2125d_row4_col3\" class=\"data row4 col3\" >0.295757</td>\n",
       "      <td id=\"T_2125d_row4_col4\" class=\"data row4 col4\" >1.000000</td>\n",
       "      <td id=\"T_2125d_row4_col5\" class=\"data row4 col5\" >0.245177</td>\n",
       "      <td id=\"T_2125d_row4_col6\" class=\"data row4 col6\" >0.221256</td>\n",
       "      <td id=\"T_2125d_row4_col7\" class=\"data row4 col7\" >0.140536</td>\n",
       "      <td id=\"T_2125d_row4_col8\" class=\"data row4 col8\" >0.103759</td>\n",
       "      <td id=\"T_2125d_row4_col9\" class=\"data row4 col9\" >0.064895</td>\n",
       "      <td id=\"T_2125d_row4_col10\" class=\"data row4 col10\" >0.065366</td>\n",
       "      <td id=\"T_2125d_row4_col11\" class=\"data row4 col11\" >-0.015138</td>\n",
       "      <td id=\"T_2125d_row4_col12\" class=\"data row4 col12\" >0.167656</td>\n",
       "      <td id=\"T_2125d_row4_col13\" class=\"data row4 col13\" >0.875035</td>\n",
       "      <td id=\"T_2125d_row4_col14\" class=\"data row4 col14\" >0.672186</td>\n",
       "    </tr>\n",
       "    <tr>\n",
       "      <th id=\"T_2125d_level0_row5\" class=\"row_heading level0 row5\" >ap_hi</th>\n",
       "      <td id=\"T_2125d_row5_col0\" class=\"data row5 col0\" >0.005798</td>\n",
       "      <td id=\"T_2125d_row5_col1\" class=\"data row5 col1\" >0.198979</td>\n",
       "      <td id=\"T_2125d_row5_col2\" class=\"data row5 col2\" >0.046900</td>\n",
       "      <td id=\"T_2125d_row5_col3\" class=\"data row5 col3\" >0.003991</td>\n",
       "      <td id=\"T_2125d_row5_col4\" class=\"data row5 col4\" >0.245177</td>\n",
       "      <td id=\"T_2125d_row5_col5\" class=\"data row5 col5\" >1.000000</td>\n",
       "      <td id=\"T_2125d_row5_col6\" class=\"data row5 col6\" >0.706924</td>\n",
       "      <td id=\"T_2125d_row5_col7\" class=\"data row5 col7\" >0.193064</td>\n",
       "      <td id=\"T_2125d_row5_col8\" class=\"data row5 col8\" >0.086916</td>\n",
       "      <td id=\"T_2125d_row5_col9\" class=\"data row5 col9\" >0.023660</td>\n",
       "      <td id=\"T_2125d_row5_col10\" class=\"data row5 col10\" >0.030542</td>\n",
       "      <td id=\"T_2125d_row5_col11\" class=\"data row5 col11\" >0.001042</td>\n",
       "      <td id=\"T_2125d_row5_col12\" class=\"data row5 col12\" >0.431781</td>\n",
       "      <td id=\"T_2125d_row5_col13\" class=\"data row5 col13\" >0.248274</td>\n",
       "      <td id=\"T_2125d_row5_col14\" class=\"data row5 col14\" >0.196345</td>\n",
       "    </tr>\n",
       "    <tr>\n",
       "      <th id=\"T_2125d_level0_row6\" class=\"row_heading level0 row6\" >ap_lo</th>\n",
       "      <td id=\"T_2125d_row6_col0\" class=\"data row6 col0\" >0.003093</td>\n",
       "      <td id=\"T_2125d_row6_col1\" class=\"data row6 col1\" >0.143130</td>\n",
       "      <td id=\"T_2125d_row6_col2\" class=\"data row6 col2\" >0.050893</td>\n",
       "      <td id=\"T_2125d_row6_col3\" class=\"data row6 col3\" >0.017746</td>\n",
       "      <td id=\"T_2125d_row6_col4\" class=\"data row6 col4\" >0.221256</td>\n",
       "      <td id=\"T_2125d_row6_col5\" class=\"data row6 col5\" >0.706924</td>\n",
       "      <td id=\"T_2125d_row6_col6\" class=\"data row6 col6\" >1.000000</td>\n",
       "      <td id=\"T_2125d_row6_col7\" class=\"data row6 col7\" >0.157340</td>\n",
       "      <td id=\"T_2125d_row6_col8\" class=\"data row6 col8\" >0.066362</td>\n",
       "      <td id=\"T_2125d_row6_col9\" class=\"data row6 col9\" >0.022239</td>\n",
       "      <td id=\"T_2125d_row6_col10\" class=\"data row6 col10\" >0.033491</td>\n",
       "      <td id=\"T_2125d_row6_col11\" class=\"data row6 col11\" >-0.000052</td>\n",
       "      <td id=\"T_2125d_row6_col12\" class=\"data row6 col12\" >0.336745</td>\n",
       "      <td id=\"T_2125d_row6_col13\" class=\"data row6 col13\" >0.216859</td>\n",
       "      <td id=\"T_2125d_row6_col14\" class=\"data row6 col14\" >0.171595</td>\n",
       "    </tr>\n",
       "    <tr>\n",
       "      <th id=\"T_2125d_level0_row7\" class=\"row_heading level0 row7\" >cholesterol</th>\n",
       "      <td id=\"T_2125d_row7_col0\" class=\"data row7 col0\" >0.006402</td>\n",
       "      <td id=\"T_2125d_row7_col1\" class=\"data row7 col1\" >0.150350</td>\n",
       "      <td id=\"T_2125d_row7_col2\" class=\"data row7 col2\" >-0.038646</td>\n",
       "      <td id=\"T_2125d_row7_col3\" class=\"data row7 col3\" >-0.054720</td>\n",
       "      <td id=\"T_2125d_row7_col4\" class=\"data row7 col4\" >0.140536</td>\n",
       "      <td id=\"T_2125d_row7_col5\" class=\"data row7 col5\" >0.193064</td>\n",
       "      <td id=\"T_2125d_row7_col6\" class=\"data row7 col6\" >0.157340</td>\n",
       "      <td id=\"T_2125d_row7_col7\" class=\"data row7 col7\" >1.000000</td>\n",
       "      <td id=\"T_2125d_row7_col8\" class=\"data row7 col8\" >0.451785</td>\n",
       "      <td id=\"T_2125d_row7_col9\" class=\"data row7 col9\" >0.009939</td>\n",
       "      <td id=\"T_2125d_row7_col10\" class=\"data row7 col10\" >0.032315</td>\n",
       "      <td id=\"T_2125d_row7_col11\" class=\"data row7 col11\" >0.008567</td>\n",
       "      <td id=\"T_2125d_row7_col12\" class=\"data row7 col12\" >0.218459</td>\n",
       "      <td id=\"T_2125d_row7_col13\" class=\"data row7 col13\" >0.170415</td>\n",
       "      <td id=\"T_2125d_row7_col14\" class=\"data row7 col14\" >0.144067</td>\n",
       "    </tr>\n",
       "    <tr>\n",
       "      <th id=\"T_2125d_level0_row8\" class=\"row_heading level0 row8\" >gluc</th>\n",
       "      <td id=\"T_2125d_row8_col0\" class=\"data row8 col0\" >0.003538</td>\n",
       "      <td id=\"T_2125d_row8_col1\" class=\"data row8 col1\" >0.095965</td>\n",
       "      <td id=\"T_2125d_row8_col2\" class=\"data row8 col2\" >-0.023838</td>\n",
       "      <td id=\"T_2125d_row8_col3\" class=\"data row8 col3\" >-0.023607</td>\n",
       "      <td id=\"T_2125d_row8_col4\" class=\"data row8 col4\" >0.103759</td>\n",
       "      <td id=\"T_2125d_row8_col5\" class=\"data row8 col5\" >0.086916</td>\n",
       "      <td id=\"T_2125d_row8_col6\" class=\"data row8 col6\" >0.066362</td>\n",
       "      <td id=\"T_2125d_row8_col7\" class=\"data row8 col7\" >0.451785</td>\n",
       "      <td id=\"T_2125d_row8_col8\" class=\"data row8 col8\" >1.000000</td>\n",
       "      <td id=\"T_2125d_row8_col9\" class=\"data row8 col9\" >-0.006832</td>\n",
       "      <td id=\"T_2125d_row8_col10\" class=\"data row8 col10\" >0.008144</td>\n",
       "      <td id=\"T_2125d_row8_col11\" class=\"data row8 col11\" >-0.007044</td>\n",
       "      <td id=\"T_2125d_row8_col12\" class=\"data row8 col12\" >0.084535</td>\n",
       "      <td id=\"T_2125d_row8_col13\" class=\"data row8 col13\" >0.117270</td>\n",
       "      <td id=\"T_2125d_row8_col14\" class=\"data row8 col14\" >0.098322</td>\n",
       "    </tr>\n",
       "    <tr>\n",
       "      <th id=\"T_2125d_level0_row9\" class=\"row_heading level0 row9\" >smoke</th>\n",
       "      <td id=\"T_2125d_row9_col0\" class=\"data row9 col0\" >-0.002901</td>\n",
       "      <td id=\"T_2125d_row9_col1\" class=\"data row9 col1\" >-0.049590</td>\n",
       "      <td id=\"T_2125d_row9_col2\" class=\"data row9 col2\" >0.335725</td>\n",
       "      <td id=\"T_2125d_row9_col3\" class=\"data row9 col3\" >0.194320</td>\n",
       "      <td id=\"T_2125d_row9_col4\" class=\"data row9 col4\" >0.064895</td>\n",
       "      <td id=\"T_2125d_row9_col5\" class=\"data row9 col5\" >0.023660</td>\n",
       "      <td id=\"T_2125d_row9_col6\" class=\"data row9 col6\" >0.022239</td>\n",
       "      <td id=\"T_2125d_row9_col7\" class=\"data row9 col7\" >0.009939</td>\n",
       "      <td id=\"T_2125d_row9_col8\" class=\"data row9 col8\" >-0.006832</td>\n",
       "      <td id=\"T_2125d_row9_col9\" class=\"data row9 col9\" >1.000000</td>\n",
       "      <td id=\"T_2125d_row9_col10\" class=\"data row9 col10\" >0.342562</td>\n",
       "      <td id=\"T_2125d_row9_col11\" class=\"data row9 col11\" >0.024994</td>\n",
       "      <td id=\"T_2125d_row9_col12\" class=\"data row9 col12\" >-0.018843</td>\n",
       "      <td id=\"T_2125d_row9_col13\" class=\"data row9 col13\" >-0.030871</td>\n",
       "      <td id=\"T_2125d_row9_col14\" class=\"data row9 col14\" >-0.029725</td>\n",
       "    </tr>\n",
       "    <tr>\n",
       "      <th id=\"T_2125d_level0_row10\" class=\"row_heading level0 row10\" >alco</th>\n",
       "      <td id=\"T_2125d_row10_col0\" class=\"data row10 col0\" >0.000651</td>\n",
       "      <td id=\"T_2125d_row10_col1\" class=\"data row10 col1\" >-0.029577</td>\n",
       "      <td id=\"T_2125d_row10_col2\" class=\"data row10 col2\" >0.170133</td>\n",
       "      <td id=\"T_2125d_row10_col3\" class=\"data row10 col3\" >0.097727</td>\n",
       "      <td id=\"T_2125d_row10_col4\" class=\"data row10 col4\" >0.065366</td>\n",
       "      <td id=\"T_2125d_row10_col5\" class=\"data row10 col5\" >0.030542</td>\n",
       "      <td id=\"T_2125d_row10_col6\" class=\"data row10 col6\" >0.033491</td>\n",
       "      <td id=\"T_2125d_row10_col7\" class=\"data row10 col7\" >0.032315</td>\n",
       "      <td id=\"T_2125d_row10_col8\" class=\"data row10 col8\" >0.008144</td>\n",
       "      <td id=\"T_2125d_row10_col9\" class=\"data row10 col9\" >0.342562</td>\n",
       "      <td id=\"T_2125d_row10_col10\" class=\"data row10 col10\" >1.000000</td>\n",
       "      <td id=\"T_2125d_row10_col11\" class=\"data row10 col11\" >0.025233</td>\n",
       "      <td id=\"T_2125d_row10_col12\" class=\"data row10 col12\" >-0.010440</td>\n",
       "      <td id=\"T_2125d_row10_col13\" class=\"data row10 col13\" >0.017769</td>\n",
       "      <td id=\"T_2125d_row10_col14\" class=\"data row10 col14\" >0.013259</td>\n",
       "    </tr>\n",
       "    <tr>\n",
       "      <th id=\"T_2125d_level0_row11\" class=\"row_heading level0 row11\" >active</th>\n",
       "      <td id=\"T_2125d_row11_col0\" class=\"data row11 col0\" >0.004984</td>\n",
       "      <td id=\"T_2125d_row11_col1\" class=\"data row11 col1\" >-0.010320</td>\n",
       "      <td id=\"T_2125d_row11_col2\" class=\"data row11 col2\" >0.007158</td>\n",
       "      <td id=\"T_2125d_row11_col3\" class=\"data row11 col3\" >-0.010040</td>\n",
       "      <td id=\"T_2125d_row11_col4\" class=\"data row11 col4\" >-0.015138</td>\n",
       "      <td id=\"T_2125d_row11_col5\" class=\"data row11 col5\" >0.001042</td>\n",
       "      <td id=\"T_2125d_row11_col6\" class=\"data row11 col6\" >-0.000052</td>\n",
       "      <td id=\"T_2125d_row11_col7\" class=\"data row11 col7\" >0.008567</td>\n",
       "      <td id=\"T_2125d_row11_col8\" class=\"data row11 col8\" >-0.007044</td>\n",
       "      <td id=\"T_2125d_row11_col9\" class=\"data row11 col9\" >0.024994</td>\n",
       "      <td id=\"T_2125d_row11_col10\" class=\"data row11 col10\" >0.025233</td>\n",
       "      <td id=\"T_2125d_row11_col11\" class=\"data row11 col11\" >1.000000</td>\n",
       "      <td id=\"T_2125d_row11_col12\" class=\"data row11 col12\" >-0.037914</td>\n",
       "      <td id=\"T_2125d_row11_col13\" class=\"data row11 col13\" >-0.011117</td>\n",
       "      <td id=\"T_2125d_row11_col14\" class=\"data row11 col14\" >-0.014444</td>\n",
       "    </tr>\n",
       "    <tr>\n",
       "      <th id=\"T_2125d_level0_row12\" class=\"row_heading level0 row12\" >cardio</th>\n",
       "      <td id=\"T_2125d_row12_col0\" class=\"data row12 col0\" >0.006327</td>\n",
       "      <td id=\"T_2125d_row12_col1\" class=\"data row12 col1\" >0.231522</td>\n",
       "      <td id=\"T_2125d_row12_col2\" class=\"data row12 col2\" >-0.000356</td>\n",
       "      <td id=\"T_2125d_row12_col3\" class=\"data row12 col3\" >-0.017641</td>\n",
       "      <td id=\"T_2125d_row12_col4\" class=\"data row12 col4\" >0.167656</td>\n",
       "      <td id=\"T_2125d_row12_col5\" class=\"data row12 col5\" >0.431781</td>\n",
       "      <td id=\"T_2125d_row12_col6\" class=\"data row12 col6\" >0.336745</td>\n",
       "      <td id=\"T_2125d_row12_col7\" class=\"data row12 col7\" >0.218459</td>\n",
       "      <td id=\"T_2125d_row12_col8\" class=\"data row12 col8\" >0.084535</td>\n",
       "      <td id=\"T_2125d_row12_col9\" class=\"data row12 col9\" >-0.018843</td>\n",
       "      <td id=\"T_2125d_row12_col10\" class=\"data row12 col10\" >-0.010440</td>\n",
       "      <td id=\"T_2125d_row12_col11\" class=\"data row12 col11\" >-0.037914</td>\n",
       "      <td id=\"T_2125d_row12_col12\" class=\"data row12 col12\" >1.000000</td>\n",
       "      <td id=\"T_2125d_row12_col13\" class=\"data row12 col13\" >0.179477</td>\n",
       "      <td id=\"T_2125d_row12_col14\" class=\"data row12 col14\" >0.141942</td>\n",
       "    </tr>\n",
       "    <tr>\n",
       "      <th id=\"T_2125d_level0_row13\" class=\"row_heading level0 row13\" >bmi</th>\n",
       "      <td id=\"T_2125d_row13_col0\" class=\"data row13 col0\" >0.000647</td>\n",
       "      <td id=\"T_2125d_row13_col1\" class=\"data row13 col1\" >0.093593</td>\n",
       "      <td id=\"T_2125d_row13_col2\" class=\"data row13 col2\" >-0.112827</td>\n",
       "      <td id=\"T_2125d_row13_col3\" class=\"data row13 col3\" >-0.192215</td>\n",
       "      <td id=\"T_2125d_row13_col4\" class=\"data row13 col4\" >0.875035</td>\n",
       "      <td id=\"T_2125d_row13_col5\" class=\"data row13 col5\" >0.248274</td>\n",
       "      <td id=\"T_2125d_row13_col6\" class=\"data row13 col6\" >0.216859</td>\n",
       "      <td id=\"T_2125d_row13_col7\" class=\"data row13 col7\" >0.170415</td>\n",
       "      <td id=\"T_2125d_row13_col8\" class=\"data row13 col8\" >0.117270</td>\n",
       "      <td id=\"T_2125d_row13_col9\" class=\"data row13 col9\" >-0.030871</td>\n",
       "      <td id=\"T_2125d_row13_col10\" class=\"data row13 col10\" >0.017769</td>\n",
       "      <td id=\"T_2125d_row13_col11\" class=\"data row13 col11\" >-0.011117</td>\n",
       "      <td id=\"T_2125d_row13_col12\" class=\"data row13 col12\" >0.179477</td>\n",
       "      <td id=\"T_2125d_row13_col13\" class=\"data row13 col13\" >1.000000</td>\n",
       "      <td id=\"T_2125d_row13_col14\" class=\"data row13 col14\" >0.786104</td>\n",
       "    </tr>\n",
       "    <tr>\n",
       "      <th id=\"T_2125d_level0_row14\" class=\"row_heading level0 row14\" >obese</th>\n",
       "      <td id=\"T_2125d_row14_col0\" class=\"data row14 col0\" >0.002632</td>\n",
       "      <td id=\"T_2125d_row14_col1\" class=\"data row14 col1\" >0.069428</td>\n",
       "      <td id=\"T_2125d_row14_col2\" class=\"data row14 col2\" >-0.115495</td>\n",
       "      <td id=\"T_2125d_row14_col3\" class=\"data row14 col3\" >-0.177651</td>\n",
       "      <td id=\"T_2125d_row14_col4\" class=\"data row14 col4\" >0.672186</td>\n",
       "      <td id=\"T_2125d_row14_col5\" class=\"data row14 col5\" >0.196345</td>\n",
       "      <td id=\"T_2125d_row14_col6\" class=\"data row14 col6\" >0.171595</td>\n",
       "      <td id=\"T_2125d_row14_col7\" class=\"data row14 col7\" >0.144067</td>\n",
       "      <td id=\"T_2125d_row14_col8\" class=\"data row14 col8\" >0.098322</td>\n",
       "      <td id=\"T_2125d_row14_col9\" class=\"data row14 col9\" >-0.029725</td>\n",
       "      <td id=\"T_2125d_row14_col10\" class=\"data row14 col10\" >0.013259</td>\n",
       "      <td id=\"T_2125d_row14_col11\" class=\"data row14 col11\" >-0.014444</td>\n",
       "      <td id=\"T_2125d_row14_col12\" class=\"data row14 col12\" >0.141942</td>\n",
       "      <td id=\"T_2125d_row14_col13\" class=\"data row14 col13\" >0.786104</td>\n",
       "      <td id=\"T_2125d_row14_col14\" class=\"data row14 col14\" >1.000000</td>\n",
       "    </tr>\n",
       "  </tbody>\n",
       "</table>\n"
      ],
      "text/plain": [
       "<pandas.io.formats.style.Styler at 0x22d12ae5fd0>"
      ]
     },
     "execution_count": 42,
     "metadata": {},
     "output_type": "execute_result"
    }
   ],
   "source": [
    "corr = df3.corr(method=\"pearson\")\n",
    "cmap = sns.cm.vlag_r\n",
    "corr.style.background_gradient(cmap=cmap)"
   ]
  },
  {
   "cell_type": "code",
   "execution_count": 43,
   "id": "f3b5b688",
   "metadata": {},
   "outputs": [
    {
     "data": {
      "image/png": "[encoded data removed]",
      "text/plain": [
       "<Figure size 576x864 with 2 Axes>"
      ]
     },
     "metadata": {
      "needs_background": "light"
     },
     "output_type": "display_data"
    }
   ],
   "source": [
    "plt.figure(figsize=(8, 12))\n",
    "heatmap = sns.heatmap(df3.corr()[['cardio']].sort_values(by='cardio', ascending=False), vmin=0, vmax=1, annot=True, cmap='BrBG')\n",
    "heatmap.set_title('Features Correlating with Cardiovascular disease', fontdict={'fontsize':18}, pad=16);"
   ]
  },
  {
   "cell_type": "markdown",
   "id": "82315e89",
   "metadata": {},
   "source": [
    "#### also found it interesting that chol and gluc had such a high correlation"
   ]
  },
  {
   "cell_type": "markdown",
   "id": "a353bd06",
   "metadata": {},
   "source": [
    "#### Setting up data to be more graphical ready"
   ]
  },
  {
   "cell_type": "code",
   "execution_count": 44,
   "id": "253ea447",
   "metadata": {},
   "outputs": [],
   "source": [
    "stats=df3.copy()\n",
    "def prepareForStats():\n",
    "    ranges1 = [10,20,30,40,50,60,70,80,90,100]\n",
    "    stats['bmi']=pd.cut(stats.bmi, ranges1)\n",
    "    ranges2 = [0,10,20,30,40,50,60,70,80,90,100]\n",
    "    stats['age']=pd.cut(df3.age, ranges2)"
   ]
  },
  {
   "cell_type": "code",
   "execution_count": 45,
   "id": "a7d72b33",
   "metadata": {},
   "outputs": [],
   "source": [
    "prepareForStats();"
   ]
  },
  {
   "cell_type": "code",
   "execution_count": 46,
   "id": "02c3ce41",
   "metadata": {},
   "outputs": [
    {
     "data": {
      "text/plain": [
       "<AxesSubplot:xlabel='gender'>"
      ]
     },
     "execution_count": 46,
     "metadata": {},
     "output_type": "execute_result"
    },
    {
     "data": {
      "image/png": "[encoded data removed]",
      "text/plain": [
       "<Figure size 432x288 with 1 Axes>"
      ]
     },
     "metadata": {
      "needs_background": "light"
     },
     "output_type": "display_data"
    }
   ],
   "source": [
    "stats.groupby('gender')['cardio'].mean().plot(kind='bar')"
   ]
  },
  {
   "cell_type": "code",
   "execution_count": 47,
   "id": "473ac652",
   "metadata": {},
   "outputs": [
    {
     "data": {
      "text/plain": [
       "<AxesSubplot:xlabel='cholesterol'>"
      ]
     },
     "execution_count": 47,
     "metadata": {},
     "output_type": "execute_result"
    },
    {
     "data": {
      "image/png": "[encoded data removed]",
      "text/plain": [
       "<Figure size 432x288 with 1 Axes>"
      ]
     },
     "metadata": {
      "needs_background": "light"
     },
     "output_type": "display_data"
    }
   ],
   "source": [
    "stats.groupby('cholesterol')['cardio'].mean().plot(kind='bar')"
   ]
  },
  {
   "cell_type": "code",
   "execution_count": 48,
   "id": "b2a9ab81",
   "metadata": {},
   "outputs": [
    {
     "data": {
      "text/plain": [
       "<AxesSubplot:xlabel='cholesterol'>"
      ]
     },
     "execution_count": 48,
     "metadata": {},
     "output_type": "execute_result"
    },
    {
     "data": {
      "image/png": "[encoded data removed]",
      "text/plain": [
       "<Figure size 432x288 with 1 Axes>"
      ]
     },
     "metadata": {
      "needs_background": "light"
     },
     "output_type": "display_data"
    }
   ],
   "source": [
    "stats.groupby('cholesterol')['cardio'].mean().plot(kind='line')"
   ]
  },
  {
   "cell_type": "code",
   "execution_count": 49,
   "id": "f31ddd7d",
   "metadata": {},
   "outputs": [
    {
     "data": {
      "text/plain": [
       "<AxesSubplot:ylabel='cardio'>"
      ]
     },
     "execution_count": 49,
     "metadata": {},
     "output_type": "execute_result"
    },
    {
     "data": {
      "image/png": "[encoded data removed]",
      "text/plain": [
       "<Figure size 432x288 with 1 Axes>"
      ]
     },
     "metadata": {},
     "output_type": "display_data"
    }
   ],
   "source": [
    "stats.groupby('age')['cardio'].mean().plot(kind='pie')"
   ]
  },
  {
   "cell_type": "code",
   "execution_count": 50,
   "id": "88d0c759",
   "metadata": {},
   "outputs": [
    {
     "data": {
      "text/plain": [
       "<AxesSubplot:xlabel='bmi'>"
      ]
     },
     "execution_count": 50,
     "metadata": {},
     "output_type": "execute_result"
    },
    {
     "data": {
      "image/png": "[encoded data removed]",
      "text/plain": [
       "<Figure size 432x288 with 1 Axes>"
      ]
     },
     "metadata": {
      "needs_background": "light"
     },
     "output_type": "display_data"
    }
   ],
   "source": [
    "stats.groupby('bmi')['cardio'].mean().plot(kind='line')"
   ]
  },
  {
   "cell_type": "markdown",
   "id": "c9eb4dd1",
   "metadata": {},
   "source": [
    "### Deciding on the values to use for the model"
   ]
  },
  {
   "cell_type": "code",
   "execution_count": 51,
   "id": "c83cdfd8",
   "metadata": {},
   "outputs": [
    {
     "data": {
      "text/html": [
       "<div>\n",
       "<style scoped>\n",
       "    .dataframe tbody tr th:only-of-type {\n",
       "        vertical-align: middle;\n",
       "    }\n",
       "\n",
       "    .dataframe tbody tr th {\n",
       "        vertical-align: top;\n",
       "    }\n",
       "\n",
       "    .dataframe thead th {\n",
       "        text-align: right;\n",
       "    }\n",
       "</style>\n",
       "<table border=\"1\" class=\"dataframe\">\n",
       "  <thead>\n",
       "    <tr style=\"text-align: right;\">\n",
       "      <th></th>\n",
       "      <th>bmi</th>\n",
       "      <th>age</th>\n",
       "      <th>cholesterol</th>\n",
       "      <th>ap_lo</th>\n",
       "      <th>ap_hi</th>\n",
       "      <th>obese</th>\n",
       "      <th>cardio</th>\n",
       "    </tr>\n",
       "  </thead>\n",
       "  <tbody>\n",
       "    <tr>\n",
       "      <th>0</th>\n",
       "      <td>21</td>\n",
       "      <td>50</td>\n",
       "      <td>1</td>\n",
       "      <td>80</td>\n",
       "      <td>110</td>\n",
       "      <td>0</td>\n",
       "      <td>0</td>\n",
       "    </tr>\n",
       "    <tr>\n",
       "      <th>1</th>\n",
       "      <td>34</td>\n",
       "      <td>55</td>\n",
       "      <td>3</td>\n",
       "      <td>90</td>\n",
       "      <td>140</td>\n",
       "      <td>1</td>\n",
       "      <td>1</td>\n",
       "    </tr>\n",
       "    <tr>\n",
       "      <th>2</th>\n",
       "      <td>23</td>\n",
       "      <td>51</td>\n",
       "      <td>3</td>\n",
       "      <td>70</td>\n",
       "      <td>130</td>\n",
       "      <td>0</td>\n",
       "      <td>1</td>\n",
       "    </tr>\n",
       "    <tr>\n",
       "      <th>3</th>\n",
       "      <td>28</td>\n",
       "      <td>48</td>\n",
       "      <td>1</td>\n",
       "      <td>100</td>\n",
       "      <td>150</td>\n",
       "      <td>0</td>\n",
       "      <td>1</td>\n",
       "    </tr>\n",
       "    <tr>\n",
       "      <th>5</th>\n",
       "      <td>29</td>\n",
       "      <td>60</td>\n",
       "      <td>2</td>\n",
       "      <td>80</td>\n",
       "      <td>120</td>\n",
       "      <td>0</td>\n",
       "      <td>0</td>\n",
       "    </tr>\n",
       "    <tr>\n",
       "      <th>...</th>\n",
       "      <td>...</td>\n",
       "      <td>...</td>\n",
       "      <td>...</td>\n",
       "      <td>...</td>\n",
       "      <td>...</td>\n",
       "      <td>...</td>\n",
       "      <td>...</td>\n",
       "    </tr>\n",
       "    <tr>\n",
       "      <th>69994</th>\n",
       "      <td>29</td>\n",
       "      <td>57</td>\n",
       "      <td>1</td>\n",
       "      <td>80</td>\n",
       "      <td>150</td>\n",
       "      <td>0</td>\n",
       "      <td>1</td>\n",
       "    </tr>\n",
       "    <tr>\n",
       "      <th>69995</th>\n",
       "      <td>26</td>\n",
       "      <td>52</td>\n",
       "      <td>1</td>\n",
       "      <td>80</td>\n",
       "      <td>120</td>\n",
       "      <td>0</td>\n",
       "      <td>0</td>\n",
       "    </tr>\n",
       "    <tr>\n",
       "      <th>69996</th>\n",
       "      <td>50</td>\n",
       "      <td>61</td>\n",
       "      <td>2</td>\n",
       "      <td>90</td>\n",
       "      <td>140</td>\n",
       "      <td>1</td>\n",
       "      <td>1</td>\n",
       "    </tr>\n",
       "    <tr>\n",
       "      <th>69998</th>\n",
       "      <td>27</td>\n",
       "      <td>61</td>\n",
       "      <td>1</td>\n",
       "      <td>80</td>\n",
       "      <td>135</td>\n",
       "      <td>0</td>\n",
       "      <td>1</td>\n",
       "    </tr>\n",
       "    <tr>\n",
       "      <th>69999</th>\n",
       "      <td>24</td>\n",
       "      <td>56</td>\n",
       "      <td>2</td>\n",
       "      <td>80</td>\n",
       "      <td>120</td>\n",
       "      <td>0</td>\n",
       "      <td>0</td>\n",
       "    </tr>\n",
       "  </tbody>\n",
       "</table>\n",
       "<p>63105 rows × 7 columns</p>\n",
       "</div>"
      ],
      "text/plain": [
       "       bmi  age  cholesterol  ap_lo  ap_hi  obese  cardio\n",
       "0       21   50            1     80    110      0       0\n",
       "1       34   55            3     90    140      1       1\n",
       "2       23   51            3     70    130      0       1\n",
       "3       28   48            1    100    150      0       1\n",
       "5       29   60            2     80    120      0       0\n",
       "...    ...  ...          ...    ...    ...    ...     ...\n",
       "69994   29   57            1     80    150      0       1\n",
       "69995   26   52            1     80    120      0       0\n",
       "69996   50   61            2     90    140      1       1\n",
       "69998   27   61            1     80    135      0       1\n",
       "69999   24   56            2     80    120      0       0\n",
       "\n",
       "[63105 rows x 7 columns]"
      ]
     },
     "execution_count": 51,
     "metadata": {},
     "output_type": "execute_result"
    }
   ],
   "source": [
    "#obese should maybe be gone\n",
    "heartModelData=df3[['bmi', 'age', 'cholesterol','ap_lo','ap_hi','obese','cardio']].copy()\n",
    "heartModelData"
   ]
  },
  {
   "cell_type": "code",
   "execution_count": 52,
   "id": "db4382c1",
   "metadata": {},
   "outputs": [
    {
     "data": {
      "text/plain": [
       "array([[ 21,  50,   1,  80, 110,   0],\n",
       "       [ 34,  55,   3,  90, 140,   1],\n",
       "       [ 23,  51,   3,  70, 130,   0],\n",
       "       ...,\n",
       "       [ 50,  61,   2,  90, 140,   1],\n",
       "       [ 27,  61,   1,  80, 135,   0],\n",
       "       [ 24,  56,   2,  80, 120,   0]], dtype=int64)"
      ]
     },
     "execution_count": 52,
     "metadata": {},
     "output_type": "execute_result"
    }
   ],
   "source": [
    "# Convert the dataset into two arrays\n",
    "\n",
    "array = heartModelData.values\n",
    "# Create two (sub) arrays from it\n",
    "X = array[:,0:6] # data without class\n",
    "y = array[:,6]   # just class\n",
    "X"
   ]
  },
  {
   "cell_type": "code",
   "execution_count": 53,
   "id": "137f3384",
   "metadata": {},
   "outputs": [],
   "source": [
    "from sklearn.model_selection import train_test_split\n",
    "X_train, X_test, Y_train, Y_test = train_test_split(X, y,test_size=0.2, random_state=25)"
   ]
  },
  {
   "cell_type": "code",
   "execution_count": 54,
   "id": "572f5147",
   "metadata": {},
   "outputs": [
    {
     "data": {
      "text/plain": [
       "array([[ 24,  46,   1,  80, 120,   0],\n",
       "       [ 29,  44,   1,  80, 120,   0],\n",
       "       [ 20,  56,   1,  80, 120,   0],\n",
       "       ...,\n",
       "       [ 25,  49,   1,  70, 110,   0],\n",
       "       [ 32,  57,   1, 100, 160,   1],\n",
       "       [ 35,  64,   1,  90, 150,   1]], dtype=int64)"
      ]
     },
     "execution_count": 54,
     "metadata": {},
     "output_type": "execute_result"
    }
   ],
   "source": [
    "X_train"
   ]
  },
  {
   "cell_type": "code",
   "execution_count": 55,
   "id": "187f788f",
   "metadata": {},
   "outputs": [
    {
     "data": {
      "text/plain": [
       "array([0, 0, 0, ..., 1, 1, 1], dtype=int64)"
      ]
     },
     "execution_count": 55,
     "metadata": {},
     "output_type": "execute_result"
    }
   ],
   "source": [
    "Y_train"
   ]
  },
  {
   "cell_type": "markdown",
   "id": "740f076d",
   "metadata": {},
   "source": [
    "# Improving model / finding better model"
   ]
  },
  {
   "cell_type": "code",
   "execution_count": 56,
   "id": "30b1bb05",
   "metadata": {},
   "outputs": [],
   "source": [
    "from sklearn import model_selection\n",
    "from sklearn.metrics import classification_report\n",
    "from sklearn.metrics import confusion_matrix\n",
    "from sklearn.metrics import accuracy_score\n",
    "from sklearn.linear_model import LogisticRegression\n",
    "from sklearn.linear_model import LinearRegression\n",
    "from sklearn.tree import DecisionTreeClassifier\n",
    "from sklearn.neighbors import KNeighborsClassifier\n",
    "from sklearn.naive_bayes import GaussianNB\n",
    "from sklearn.svm import SVC\n",
    "import sklearn.ensemble as ske\n",
    "from sklearn.cluster import KMeans"
   ]
  },
  {
   "cell_type": "code",
   "execution_count": 57,
   "id": "66830010",
   "metadata": {},
   "outputs": [],
   "source": [
    "models = []\n",
    "models.append(('KNN', KNeighborsClassifier()))\n",
    "models.append(('NB', GaussianNB()))\n",
    "models.append(('Forrest',ske.RandomForestClassifier()))\n",
    "models.append(('Logression',LogisticRegression(max_iter=200)))\n",
    "models.append(('SVC',SVC()))"
   ]
  },
  {
   "cell_type": "code",
   "execution_count": 58,
   "id": "af15171b",
   "metadata": {},
   "outputs": [],
   "source": [
    "# value for seed to be used in all tests\n",
    "seed = 7\n",
    "\n",
    "#  the number of repeated trainings of one model\n",
    "num_repeat = 10"
   ]
  },
  {
   "cell_type": "code",
   "execution_count": 59,
   "id": "974f3dca",
   "metadata": {},
   "outputs": [],
   "source": [
    "scoring = 'accuracy'"
   ]
  },
  {
   "cell_type": "code",
   "execution_count": 60,
   "id": "7311b3d2",
   "metadata": {},
   "outputs": [],
   "source": [
    "results = []\n",
    "names = []\n",
    "def runModelFitting():\n",
    "    for name, model in models:\n",
    "        # prepare randomization of splits\n",
    "        kfold = model_selection.KFold(n_splits=num_repeat, random_state=seed, shuffle=True)\n",
    "\n",
    "        # implement the model and calculate a score based on 'accuracy' (scoring)\n",
    "        cv_results = model_selection.cross_val_score(model, X_test, Y_test, cv=kfold, scoring=scoring)\n",
    "        # store the result of this method in array results[]\n",
    "        results.append(cv_results)\n",
    "\n",
    "        # store the name of this method in array names[]\n",
    "        names.append(name)\n",
    "\n",
    "        # tell what you have done so far\n",
    "        msg = \"%s: %f (%f)\" % (name, cv_results.mean(), cv_results.std())\n",
    "        print(msg)\n",
    "    \n",
    "# repeat the same for next method"
   ]
  },
  {
   "cell_type": "code",
   "execution_count": 61,
   "id": "6598353f",
   "metadata": {},
   "outputs": [
    {
     "name": "stdout",
     "output_type": "stream",
     "text": [
      "KNN: 0.678313 (0.013434)\n",
      "NB: 0.710323 (0.008395)\n",
      "Forrest: 0.682829 (0.013852)\n",
      "Logression: 0.720069 (0.010970)\n",
      "SVC: 0.711750 (0.012193)\n"
     ]
    }
   ],
   "source": [
    "runModelFitting();"
   ]
  },
  {
   "cell_type": "markdown",
   "id": "adf83afd",
   "metadata": {},
   "source": [
    "### Top 3: Logression, SVC and NB\n",
    "#### Now that I know they are the best I will look closer at different metrics"
   ]
  },
  {
   "cell_type": "code",
   "execution_count": 62,
   "id": "02afac3d",
   "metadata": {},
   "outputs": [
    {
     "data": {
      "image/png": "[encoded data removed]",
      "text/plain": [
       "<Figure size 432x288 with 1 Axes>"
      ]
     },
     "metadata": {
      "needs_background": "light"
     },
     "output_type": "display_data"
    }
   ],
   "source": [
    "# Compare algorithms frame\n",
    "fig = plt.figure()\n",
    "fig.suptitle('Algorithm Comparison')\n",
    "\n",
    "# x axis includes sub-plots\n",
    "ax = fig.add_subplot(111)\n",
    "\n",
    "# y axis result values\n",
    "plt.boxplot(results)\n",
    "\n",
    "# x axis labels\n",
    "ax.set_xticklabels(names)\n",
    "\n",
    "plt.show()"
   ]
  },
  {
   "cell_type": "markdown",
   "id": "dbd4d51a",
   "metadata": {},
   "source": [
    "##### I want to look deeper so gonna run them seperate, \n",
    "###### funny/interesting is that after changing my outlier adjustment to include opinion of Z index and IQC, it changed from regression being the best to SVC"
   ]
  },
  {
   "cell_type": "code",
   "execution_count": 63,
   "id": "d04a6d70",
   "metadata": {},
   "outputs": [
    {
     "ename": "KeyboardInterrupt",
     "evalue": "",
     "output_type": "error",
     "traceback": [
      "\u001b[1;31m---------------------------------------------------------------------------\u001b[0m",
      "\u001b[1;31mKeyboardInterrupt\u001b[0m                         Traceback (most recent call last)",
      "\u001b[1;32m~\\AppData\\Local\\Temp/ipykernel_15800/1428188783.py\u001b[0m in \u001b[0;36m<module>\u001b[1;34m\u001b[0m\n\u001b[0;32m      1\u001b[0m \u001b[0msvc\u001b[0m \u001b[1;33m=\u001b[0m \u001b[0mSVC\u001b[0m\u001b[1;33m(\u001b[0m\u001b[1;33m)\u001b[0m\u001b[1;33m\u001b[0m\u001b[1;33m\u001b[0m\u001b[0m\n\u001b[1;32m----> 2\u001b[1;33m \u001b[0msvc\u001b[0m\u001b[1;33m.\u001b[0m\u001b[0mfit\u001b[0m\u001b[1;33m(\u001b[0m\u001b[0mX_train\u001b[0m\u001b[1;33m,\u001b[0m \u001b[0mY_train\u001b[0m\u001b[1;33m)\u001b[0m\u001b[1;33m\u001b[0m\u001b[1;33m\u001b[0m\u001b[0m\n\u001b[0m\u001b[0;32m      3\u001b[0m \u001b[0mpredictions\u001b[0m \u001b[1;33m=\u001b[0m \u001b[0msvc\u001b[0m\u001b[1;33m.\u001b[0m\u001b[0mpredict\u001b[0m\u001b[1;33m(\u001b[0m\u001b[0mX_test\u001b[0m\u001b[1;33m)\u001b[0m\u001b[1;33m\u001b[0m\u001b[1;33m\u001b[0m\u001b[0m\n\u001b[0;32m      4\u001b[0m \u001b[1;33m\u001b[0m\u001b[0m\n\u001b[0;32m      5\u001b[0m \u001b[1;31m# Calculated accuracy of the model over the validation set\u001b[0m\u001b[1;33m\u001b[0m\u001b[1;33m\u001b[0m\u001b[0m\n",
      "\u001b[1;32m~\\anaconda3\\lib\\site-packages\\sklearn\\svm\\_base.py\u001b[0m in \u001b[0;36mfit\u001b[1;34m(self, X, y, sample_weight)\u001b[0m\n\u001b[0;32m    224\u001b[0m \u001b[1;33m\u001b[0m\u001b[0m\n\u001b[0;32m    225\u001b[0m         \u001b[0mseed\u001b[0m \u001b[1;33m=\u001b[0m \u001b[0mrnd\u001b[0m\u001b[1;33m.\u001b[0m\u001b[0mrandint\u001b[0m\u001b[1;33m(\u001b[0m\u001b[0mnp\u001b[0m\u001b[1;33m.\u001b[0m\u001b[0miinfo\u001b[0m\u001b[1;33m(\u001b[0m\u001b[1;34m'i'\u001b[0m\u001b[1;33m)\u001b[0m\u001b[1;33m.\u001b[0m\u001b[0mmax\u001b[0m\u001b[1;33m)\u001b[0m\u001b[1;33m\u001b[0m\u001b[1;33m\u001b[0m\u001b[0m\n\u001b[1;32m--> 226\u001b[1;33m         \u001b[0mfit\u001b[0m\u001b[1;33m(\u001b[0m\u001b[0mX\u001b[0m\u001b[1;33m,\u001b[0m \u001b[0my\u001b[0m\u001b[1;33m,\u001b[0m \u001b[0msample_weight\u001b[0m\u001b[1;33m,\u001b[0m \u001b[0msolver_type\u001b[0m\u001b[1;33m,\u001b[0m \u001b[0mkernel\u001b[0m\u001b[1;33m,\u001b[0m \u001b[0mrandom_seed\u001b[0m\u001b[1;33m=\u001b[0m\u001b[0mseed\u001b[0m\u001b[1;33m)\u001b[0m\u001b[1;33m\u001b[0m\u001b[1;33m\u001b[0m\u001b[0m\n\u001b[0m\u001b[0;32m    227\u001b[0m         \u001b[1;31m# see comment on the other call to np.iinfo in this file\u001b[0m\u001b[1;33m\u001b[0m\u001b[1;33m\u001b[0m\u001b[0m\n\u001b[0;32m    228\u001b[0m \u001b[1;33m\u001b[0m\u001b[0m\n",
      "\u001b[1;32m~\\anaconda3\\lib\\site-packages\\sklearn\\svm\\_base.py\u001b[0m in \u001b[0;36m_dense_fit\u001b[1;34m(self, X, y, sample_weight, solver_type, kernel, random_seed)\u001b[0m\n\u001b[0;32m    275\u001b[0m         \u001b[0mself\u001b[0m\u001b[1;33m.\u001b[0m\u001b[0msupport_\u001b[0m\u001b[1;33m,\u001b[0m \u001b[0mself\u001b[0m\u001b[1;33m.\u001b[0m\u001b[0msupport_vectors_\u001b[0m\u001b[1;33m,\u001b[0m \u001b[0mself\u001b[0m\u001b[1;33m.\u001b[0m\u001b[0m_n_support\u001b[0m\u001b[1;33m,\u001b[0m\u001b[0;31m \u001b[0m\u001b[0;31m\\\u001b[0m\u001b[1;33m\u001b[0m\u001b[1;33m\u001b[0m\u001b[0m\n\u001b[0;32m    276\u001b[0m             \u001b[0mself\u001b[0m\u001b[1;33m.\u001b[0m\u001b[0mdual_coef_\u001b[0m\u001b[1;33m,\u001b[0m \u001b[0mself\u001b[0m\u001b[1;33m.\u001b[0m\u001b[0mintercept_\u001b[0m\u001b[1;33m,\u001b[0m \u001b[0mself\u001b[0m\u001b[1;33m.\u001b[0m\u001b[0m_probA\u001b[0m\u001b[1;33m,\u001b[0m\u001b[0;31m \u001b[0m\u001b[0;31m\\\u001b[0m\u001b[1;33m\u001b[0m\u001b[1;33m\u001b[0m\u001b[0m\n\u001b[1;32m--> 277\u001b[1;33m             self._probB, self.fit_status_ = libsvm.fit(\n\u001b[0m\u001b[0;32m    278\u001b[0m                 \u001b[0mX\u001b[0m\u001b[1;33m,\u001b[0m \u001b[0my\u001b[0m\u001b[1;33m,\u001b[0m\u001b[1;33m\u001b[0m\u001b[1;33m\u001b[0m\u001b[0m\n\u001b[0;32m    279\u001b[0m                 \u001b[0msvm_type\u001b[0m\u001b[1;33m=\u001b[0m\u001b[0msolver_type\u001b[0m\u001b[1;33m,\u001b[0m \u001b[0msample_weight\u001b[0m\u001b[1;33m=\u001b[0m\u001b[0msample_weight\u001b[0m\u001b[1;33m,\u001b[0m\u001b[1;33m\u001b[0m\u001b[1;33m\u001b[0m\u001b[0m\n",
      "\u001b[1;31mKeyboardInterrupt\u001b[0m: "
     ]
    }
   ],
   "source": [
    "svc = SVC()\n",
    "svc.fit(X_train, Y_train)\n",
    "predictions = svc.predict(X_test)\n",
    "\n",
    "# Calculated accuracy of the model over the validation set\n",
    "print(accuracy_score(Y_test, predictions))\n",
    "\n",
    "# Confusion matrix provides an indication of the three errors made ???? errors of predictions?\n",
    "print(confusion_matrix(Y_test, predictions))\n",
    "\n",
    "# Classification report provides a breakdown of each class by precision, recall, f1-score and support ????\n",
    "print(classification_report(Y_test, predictions))"
   ]
  },
  {
   "cell_type": "code",
   "execution_count": null,
   "id": "06add49d",
   "metadata": {},
   "outputs": [],
   "source": [
    "nb = GaussianNB()\n",
    "nb.fit(X_train, Y_train)\n",
    "predictions = nb.predict(X_test)\n",
    "\n",
    "# Calculated accuracy of the model over the validation set\n",
    "print(accuracy_score(Y_test, predictions))\n",
    "\n",
    "# Confusion matrix provides an indication of the three errors made ???? errors of predictions?\n",
    "print(confusion_matrix(Y_test, predictions))\n",
    "\n",
    "# Classification report provides a breakdown of each class by precision, recall, f1-score and support ????\n",
    "print(classification_report(Y_test, predictions))"
   ]
  },
  {
   "cell_type": "markdown",
   "id": "ab16d39e",
   "metadata": {},
   "source": [
    "### Because of the context i want less false negative, So i choose logistic regression."
   ]
  },
  {
   "cell_type": "code",
   "execution_count": 64,
   "id": "d64eada0",
   "metadata": {
    "scrolled": true
   },
   "outputs": [
    {
     "name": "stdout",
     "output_type": "stream",
     "text": [
      "0.7202281911100546\n",
      "[[5007 1372]\n",
      " [2159 4083]]\n",
      "              precision    recall  f1-score   support\n",
      "\n",
      "           0       0.70      0.78      0.74      6379\n",
      "           1       0.75      0.65      0.70      6242\n",
      "\n",
      "    accuracy                           0.72     12621\n",
      "   macro avg       0.72      0.72      0.72     12621\n",
      "weighted avg       0.72      0.72      0.72     12621\n",
      "\n"
     ]
    }
   ],
   "source": [
    "log = LogisticRegression()\n",
    "log.fit(X_train, Y_train)\n",
    "predictions = log.predict(X_test)\n",
    "\n",
    "# Calculated accuracy of the model over the validation set\n",
    "print(accuracy_score(Y_test, predictions))\n",
    "\n",
    "# Confusion matrix provides an indication of the three errors made ???? errors of predictions?\n",
    "print(confusion_matrix(Y_test, predictions))\n",
    "\n",
    "# Classification report provides a breakdown of each class by precision, recall, f1-score and support ????\n",
    "print(classification_report(Y_test, predictions))"
   ]
  },
  {
   "cell_type": "code",
   "execution_count": 65,
   "id": "abdc465e",
   "metadata": {},
   "outputs": [
    {
     "data": {
      "image/png": "[encoded data removed]",
      "text/plain": [
       "<Figure size 432x288 with 1 Axes>"
      ]
     },
     "metadata": {
      "needs_background": "light"
     },
     "output_type": "display_data"
    }
   ],
   "source": [
    "from sklearn.metrics import roc_auc_score\n",
    "from sklearn.metrics import roc_curve\n",
    "logit_roc_auc = roc_auc_score(Y_test, log.predict(X_test))\n",
    "fpr, tpr, thresholds = roc_curve(Y_test, log.predict_proba(X_test)[:,1])\n",
    "plt.figure()\n",
    "plt.plot(fpr, tpr, label='Logistic Regression (area = %0.2f)' % logit_roc_auc)\n",
    "plt.plot([0, 1], [0, 1],'r--')\n",
    "plt.xlim([0.0, 1.0])\n",
    "plt.ylim([0.0, 1.05])\n",
    "plt.xlabel('False Positive Rate')\n",
    "plt.ylabel('True Positive Rate')\n",
    "plt.title('Receiver operating characteristic')\n",
    "plt.legend(loc=\"lower right\")\n",
    "plt.show()"
   ]
  },
  {
   "cell_type": "markdown",
   "id": "92607e7a",
   "metadata": {},
   "source": [
    "### In all metrics this seems to work the best \n",
    "## Whuhu"
   ]
  },
  {
   "cell_type": "code",
   "execution_count": 66,
   "id": "ca0843c7",
   "metadata": {},
   "outputs": [
    {
     "data": {
      "text/plain": [
       "['deploy/data3_model.pkl']"
      ]
     },
     "execution_count": 66,
     "metadata": {},
     "output_type": "execute_result"
    }
   ],
   "source": [
    "# save the model to disk\n",
    "import joblib\n",
    "\n",
    "filename = 'deploy/data3_model.pkl'\n",
    "joblib.dump(log, filename)"
   ]
  },
  {
   "cell_type": "code",
   "execution_count": null,
   "id": "4750d43b",
   "metadata": {},
   "outputs": [],
   "source": []
  }
 ],
 "metadata": {
  "kernelspec": {
   "display_name": "Python 3 (ipykernel)",
   "language": "python",
   "name": "python3"
  },
  "language_info": {
   "codemirror_mode": {
    "name": "ipython",
    "version": 3
   },
   "file_extension": ".py",
   "mimetype": "text/x-python",
   "name": "python",
   "nbconvert_exporter": "python",
   "pygments_lexer": "ipython3",
   "version": "3.9.7"
  }
 },
 "nbformat": 4,
 "nbformat_minor": 5
}
