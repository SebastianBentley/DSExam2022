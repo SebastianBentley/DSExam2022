{
 "cells": [
  {
   "cell_type": "markdown",
   "id": "923fa614",
   "metadata": {},
   "source": [
    "# Data analysis and modeling on dataset 1"
   ]
  },
  {
   "cell_type": "markdown",
   "id": "57fbba29",
   "metadata": {},
   "source": [
    "## Data preparation"
   ]
  },
  {
   "cell_type": "markdown",
   "id": "8497db40",
   "metadata": {},
   "source": [
    "First we import all the libraries we plan on using at this point in time:"
   ]
  },
  {
   "cell_type": "code",
   "execution_count": 43,
   "id": "533e9dbc",
   "metadata": {},
   "outputs": [],
   "source": [
    "# import pandas for structuring the data\n",
    "import pandas as pd\n",
    "import pandas_profiling\n",
    "\n",
    "# import numpy for numerical analysis\n",
    "import numpy as np\n",
    "from scipy import stats\n",
    "\n",
    "# import libs for diagrams inline with the text\n",
    "import matplotlib.pyplot as plt\n",
    "%matplotlib inline\n",
    "import seaborn as sns\n",
    "\n",
    "# other utilities\n",
    "from sklearn import datasets, preprocessing, metrics, tree\n",
    "from sklearn.model_selection import train_test_split\n",
    "import sklearn.ensemble as ske"
   ]
  },
  {
   "cell_type": "markdown",
   "id": "1f54ac4b",
   "metadata": {},
   "source": [
    " "
   ]
  },
  {
   "cell_type": "markdown",
   "id": "aaaf7778",
   "metadata": {},
   "source": [
    "Then we load our dataset into the notebook and print out the shape and the first five entries:"
   ]
  },
  {
   "cell_type": "code",
   "execution_count": 77,
   "id": "f43c3804",
   "metadata": {
    "scrolled": true
   },
   "outputs": [
    {
     "name": "stdout",
     "output_type": "stream",
     "text": [
      "(1025, 14)\n"
     ]
    },
    {
     "data": {
      "text/html": [
       "<div>\n",
       "<style scoped>\n",
       "    .dataframe tbody tr th:only-of-type {\n",
       "        vertical-align: middle;\n",
       "    }\n",
       "\n",
       "    .dataframe tbody tr th {\n",
       "        vertical-align: top;\n",
       "    }\n",
       "\n",
       "    .dataframe thead th {\n",
       "        text-align: right;\n",
       "    }\n",
       "</style>\n",
       "<table border=\"1\" class=\"dataframe\">\n",
       "  <thead>\n",
       "    <tr style=\"text-align: right;\">\n",
       "      <th></th>\n",
       "      <th>age</th>\n",
       "      <th>sex</th>\n",
       "      <th>cp</th>\n",
       "      <th>trestbps</th>\n",
       "      <th>chol</th>\n",
       "      <th>fbs</th>\n",
       "      <th>restecg</th>\n",
       "      <th>thalach</th>\n",
       "      <th>exang</th>\n",
       "      <th>oldpeak</th>\n",
       "      <th>slope</th>\n",
       "      <th>ca</th>\n",
       "      <th>thal</th>\n",
       "      <th>target</th>\n",
       "    </tr>\n",
       "  </thead>\n",
       "  <tbody>\n",
       "    <tr>\n",
       "      <th>0</th>\n",
       "      <td>52</td>\n",
       "      <td>1</td>\n",
       "      <td>0</td>\n",
       "      <td>125</td>\n",
       "      <td>212</td>\n",
       "      <td>0</td>\n",
       "      <td>1</td>\n",
       "      <td>168</td>\n",
       "      <td>0</td>\n",
       "      <td>1.0</td>\n",
       "      <td>2</td>\n",
       "      <td>2</td>\n",
       "      <td>3</td>\n",
       "      <td>0</td>\n",
       "    </tr>\n",
       "    <tr>\n",
       "      <th>1</th>\n",
       "      <td>53</td>\n",
       "      <td>1</td>\n",
       "      <td>0</td>\n",
       "      <td>140</td>\n",
       "      <td>203</td>\n",
       "      <td>1</td>\n",
       "      <td>0</td>\n",
       "      <td>155</td>\n",
       "      <td>1</td>\n",
       "      <td>3.1</td>\n",
       "      <td>0</td>\n",
       "      <td>0</td>\n",
       "      <td>3</td>\n",
       "      <td>0</td>\n",
       "    </tr>\n",
       "    <tr>\n",
       "      <th>2</th>\n",
       "      <td>70</td>\n",
       "      <td>1</td>\n",
       "      <td>0</td>\n",
       "      <td>145</td>\n",
       "      <td>174</td>\n",
       "      <td>0</td>\n",
       "      <td>1</td>\n",
       "      <td>125</td>\n",
       "      <td>1</td>\n",
       "      <td>2.6</td>\n",
       "      <td>0</td>\n",
       "      <td>0</td>\n",
       "      <td>3</td>\n",
       "      <td>0</td>\n",
       "    </tr>\n",
       "    <tr>\n",
       "      <th>3</th>\n",
       "      <td>61</td>\n",
       "      <td>1</td>\n",
       "      <td>0</td>\n",
       "      <td>148</td>\n",
       "      <td>203</td>\n",
       "      <td>0</td>\n",
       "      <td>1</td>\n",
       "      <td>161</td>\n",
       "      <td>0</td>\n",
       "      <td>0.0</td>\n",
       "      <td>2</td>\n",
       "      <td>1</td>\n",
       "      <td>3</td>\n",
       "      <td>0</td>\n",
       "    </tr>\n",
       "    <tr>\n",
       "      <th>4</th>\n",
       "      <td>62</td>\n",
       "      <td>0</td>\n",
       "      <td>0</td>\n",
       "      <td>138</td>\n",
       "      <td>294</td>\n",
       "      <td>1</td>\n",
       "      <td>1</td>\n",
       "      <td>106</td>\n",
       "      <td>0</td>\n",
       "      <td>1.9</td>\n",
       "      <td>1</td>\n",
       "      <td>3</td>\n",
       "      <td>2</td>\n",
       "      <td>0</td>\n",
       "    </tr>\n",
       "  </tbody>\n",
       "</table>\n",
       "</div>"
      ],
      "text/plain": [
       "   age  sex  cp  trestbps  chol  fbs  restecg  thalach  exang  oldpeak  slope  \\\n",
       "0   52    1   0       125   212    0        1      168      0      1.0      2   \n",
       "1   53    1   0       140   203    1        0      155      1      3.1      0   \n",
       "2   70    1   0       145   174    0        1      125      1      2.6      0   \n",
       "3   61    1   0       148   203    0        1      161      0      0.0      2   \n",
       "4   62    0   0       138   294    1        1      106      0      1.9      1   \n",
       "\n",
       "   ca  thal  target  \n",
       "0   2     3       0  \n",
       "1   0     3       0  \n",
       "2   0     3       0  \n",
       "3   1     3       0  \n",
       "4   3     2       0  "
      ]
     },
     "execution_count": 77,
     "metadata": {},
     "output_type": "execute_result"
    }
   ],
   "source": [
    "df = pd.read_csv('datasets/heart.csv')\n",
    "print(df.shape)\n",
    "df.head()"
   ]
  },
  {
   "cell_type": "markdown",
   "id": "677456da",
   "metadata": {},
   "source": [
    " "
   ]
  },
  {
   "cell_type": "markdown",
   "id": "8ff6a056",
   "metadata": {},
   "source": [
    "We then run df.describe() to give an overview of the data:"
   ]
  },
  {
   "cell_type": "code",
   "execution_count": 32,
   "id": "810eb3be",
   "metadata": {},
   "outputs": [
    {
     "data": {
      "text/html": [
       "<div>\n",
       "<style scoped>\n",
       "    .dataframe tbody tr th:only-of-type {\n",
       "        vertical-align: middle;\n",
       "    }\n",
       "\n",
       "    .dataframe tbody tr th {\n",
       "        vertical-align: top;\n",
       "    }\n",
       "\n",
       "    .dataframe thead th {\n",
       "        text-align: right;\n",
       "    }\n",
       "</style>\n",
       "<table border=\"1\" class=\"dataframe\">\n",
       "  <thead>\n",
       "    <tr style=\"text-align: right;\">\n",
       "      <th></th>\n",
       "      <th>age</th>\n",
       "      <th>sex</th>\n",
       "      <th>cp</th>\n",
       "      <th>trestbps</th>\n",
       "      <th>chol</th>\n",
       "      <th>fbs</th>\n",
       "      <th>restecg</th>\n",
       "      <th>thalach</th>\n",
       "      <th>exang</th>\n",
       "      <th>oldpeak</th>\n",
       "      <th>slope</th>\n",
       "      <th>ca</th>\n",
       "      <th>thal</th>\n",
       "      <th>target</th>\n",
       "    </tr>\n",
       "  </thead>\n",
       "  <tbody>\n",
       "    <tr>\n",
       "      <th>count</th>\n",
       "      <td>1025.000000</td>\n",
       "      <td>1025.000000</td>\n",
       "      <td>1025.000000</td>\n",
       "      <td>1025.000000</td>\n",
       "      <td>1025.00000</td>\n",
       "      <td>1025.000000</td>\n",
       "      <td>1025.000000</td>\n",
       "      <td>1025.000000</td>\n",
       "      <td>1025.000000</td>\n",
       "      <td>1025.000000</td>\n",
       "      <td>1025.000000</td>\n",
       "      <td>1025.000000</td>\n",
       "      <td>1025.000000</td>\n",
       "      <td>1025.000000</td>\n",
       "    </tr>\n",
       "    <tr>\n",
       "      <th>mean</th>\n",
       "      <td>54.434146</td>\n",
       "      <td>0.695610</td>\n",
       "      <td>0.942439</td>\n",
       "      <td>131.611707</td>\n",
       "      <td>246.00000</td>\n",
       "      <td>0.149268</td>\n",
       "      <td>0.529756</td>\n",
       "      <td>149.114146</td>\n",
       "      <td>0.336585</td>\n",
       "      <td>1.071512</td>\n",
       "      <td>1.385366</td>\n",
       "      <td>0.754146</td>\n",
       "      <td>2.323902</td>\n",
       "      <td>0.513171</td>\n",
       "    </tr>\n",
       "    <tr>\n",
       "      <th>std</th>\n",
       "      <td>9.072290</td>\n",
       "      <td>0.460373</td>\n",
       "      <td>1.029641</td>\n",
       "      <td>17.516718</td>\n",
       "      <td>51.59251</td>\n",
       "      <td>0.356527</td>\n",
       "      <td>0.527878</td>\n",
       "      <td>23.005724</td>\n",
       "      <td>0.472772</td>\n",
       "      <td>1.175053</td>\n",
       "      <td>0.617755</td>\n",
       "      <td>1.030798</td>\n",
       "      <td>0.620660</td>\n",
       "      <td>0.500070</td>\n",
       "    </tr>\n",
       "    <tr>\n",
       "      <th>min</th>\n",
       "      <td>29.000000</td>\n",
       "      <td>0.000000</td>\n",
       "      <td>0.000000</td>\n",
       "      <td>94.000000</td>\n",
       "      <td>126.00000</td>\n",
       "      <td>0.000000</td>\n",
       "      <td>0.000000</td>\n",
       "      <td>71.000000</td>\n",
       "      <td>0.000000</td>\n",
       "      <td>0.000000</td>\n",
       "      <td>0.000000</td>\n",
       "      <td>0.000000</td>\n",
       "      <td>0.000000</td>\n",
       "      <td>0.000000</td>\n",
       "    </tr>\n",
       "    <tr>\n",
       "      <th>25%</th>\n",
       "      <td>48.000000</td>\n",
       "      <td>0.000000</td>\n",
       "      <td>0.000000</td>\n",
       "      <td>120.000000</td>\n",
       "      <td>211.00000</td>\n",
       "      <td>0.000000</td>\n",
       "      <td>0.000000</td>\n",
       "      <td>132.000000</td>\n",
       "      <td>0.000000</td>\n",
       "      <td>0.000000</td>\n",
       "      <td>1.000000</td>\n",
       "      <td>0.000000</td>\n",
       "      <td>2.000000</td>\n",
       "      <td>0.000000</td>\n",
       "    </tr>\n",
       "    <tr>\n",
       "      <th>50%</th>\n",
       "      <td>56.000000</td>\n",
       "      <td>1.000000</td>\n",
       "      <td>1.000000</td>\n",
       "      <td>130.000000</td>\n",
       "      <td>240.00000</td>\n",
       "      <td>0.000000</td>\n",
       "      <td>1.000000</td>\n",
       "      <td>152.000000</td>\n",
       "      <td>0.000000</td>\n",
       "      <td>0.800000</td>\n",
       "      <td>1.000000</td>\n",
       "      <td>0.000000</td>\n",
       "      <td>2.000000</td>\n",
       "      <td>1.000000</td>\n",
       "    </tr>\n",
       "    <tr>\n",
       "      <th>75%</th>\n",
       "      <td>61.000000</td>\n",
       "      <td>1.000000</td>\n",
       "      <td>2.000000</td>\n",
       "      <td>140.000000</td>\n",
       "      <td>275.00000</td>\n",
       "      <td>0.000000</td>\n",
       "      <td>1.000000</td>\n",
       "      <td>166.000000</td>\n",
       "      <td>1.000000</td>\n",
       "      <td>1.800000</td>\n",
       "      <td>2.000000</td>\n",
       "      <td>1.000000</td>\n",
       "      <td>3.000000</td>\n",
       "      <td>1.000000</td>\n",
       "    </tr>\n",
       "    <tr>\n",
       "      <th>max</th>\n",
       "      <td>77.000000</td>\n",
       "      <td>1.000000</td>\n",
       "      <td>3.000000</td>\n",
       "      <td>200.000000</td>\n",
       "      <td>564.00000</td>\n",
       "      <td>1.000000</td>\n",
       "      <td>2.000000</td>\n",
       "      <td>202.000000</td>\n",
       "      <td>1.000000</td>\n",
       "      <td>6.200000</td>\n",
       "      <td>2.000000</td>\n",
       "      <td>4.000000</td>\n",
       "      <td>3.000000</td>\n",
       "      <td>1.000000</td>\n",
       "    </tr>\n",
       "  </tbody>\n",
       "</table>\n",
       "</div>"
      ],
      "text/plain": [
       "               age          sex           cp     trestbps        chol  \\\n",
       "count  1025.000000  1025.000000  1025.000000  1025.000000  1025.00000   \n",
       "mean     54.434146     0.695610     0.942439   131.611707   246.00000   \n",
       "std       9.072290     0.460373     1.029641    17.516718    51.59251   \n",
       "min      29.000000     0.000000     0.000000    94.000000   126.00000   \n",
       "25%      48.000000     0.000000     0.000000   120.000000   211.00000   \n",
       "50%      56.000000     1.000000     1.000000   130.000000   240.00000   \n",
       "75%      61.000000     1.000000     2.000000   140.000000   275.00000   \n",
       "max      77.000000     1.000000     3.000000   200.000000   564.00000   \n",
       "\n",
       "               fbs      restecg      thalach        exang      oldpeak  \\\n",
       "count  1025.000000  1025.000000  1025.000000  1025.000000  1025.000000   \n",
       "mean      0.149268     0.529756   149.114146     0.336585     1.071512   \n",
       "std       0.356527     0.527878    23.005724     0.472772     1.175053   \n",
       "min       0.000000     0.000000    71.000000     0.000000     0.000000   \n",
       "25%       0.000000     0.000000   132.000000     0.000000     0.000000   \n",
       "50%       0.000000     1.000000   152.000000     0.000000     0.800000   \n",
       "75%       0.000000     1.000000   166.000000     1.000000     1.800000   \n",
       "max       1.000000     2.000000   202.000000     1.000000     6.200000   \n",
       "\n",
       "             slope           ca         thal       target  \n",
       "count  1025.000000  1025.000000  1025.000000  1025.000000  \n",
       "mean      1.385366     0.754146     2.323902     0.513171  \n",
       "std       0.617755     1.030798     0.620660     0.500070  \n",
       "min       0.000000     0.000000     0.000000     0.000000  \n",
       "25%       1.000000     0.000000     2.000000     0.000000  \n",
       "50%       1.000000     0.000000     2.000000     1.000000  \n",
       "75%       2.000000     1.000000     3.000000     1.000000  \n",
       "max       2.000000     4.000000     3.000000     1.000000  "
      ]
     },
     "execution_count": 32,
     "metadata": {},
     "output_type": "execute_result"
    }
   ],
   "source": [
    "df.describe()"
   ]
  },
  {
   "cell_type": "markdown",
   "id": "2753556d",
   "metadata": {},
   "source": [
    " "
   ]
  },
  {
   "cell_type": "markdown",
   "id": "53314a57",
   "metadata": {},
   "source": [
    "We check if our data contains any null and n/a values we need to be aware of:"
   ]
  },
  {
   "cell_type": "code",
   "execution_count": 33,
   "id": "4172b7ec",
   "metadata": {},
   "outputs": [
    {
     "data": {
      "text/plain": [
       "age         0\n",
       "sex         0\n",
       "cp          0\n",
       "trestbps    0\n",
       "chol        0\n",
       "fbs         0\n",
       "restecg     0\n",
       "thalach     0\n",
       "exang       0\n",
       "oldpeak     0\n",
       "slope       0\n",
       "ca          0\n",
       "thal        0\n",
       "target      0\n",
       "dtype: int64"
      ]
     },
     "execution_count": 33,
     "metadata": {},
     "output_type": "execute_result"
    }
   ],
   "source": [
    "df.isna().sum()"
   ]
  },
  {
   "cell_type": "code",
   "execution_count": 34,
   "id": "0665b9cf",
   "metadata": {},
   "outputs": [
    {
     "data": {
      "text/plain": [
       "age         0\n",
       "sex         0\n",
       "cp          0\n",
       "trestbps    0\n",
       "chol        0\n",
       "fbs         0\n",
       "restecg     0\n",
       "thalach     0\n",
       "exang       0\n",
       "oldpeak     0\n",
       "slope       0\n",
       "ca          0\n",
       "thal        0\n",
       "target      0\n",
       "dtype: int64"
      ]
     },
     "execution_count": 34,
     "metadata": {},
     "output_type": "execute_result"
    }
   ],
   "source": [
    "df.isnull().sum()"
   ]
  },
  {
   "cell_type": "markdown",
   "id": "5f66855a",
   "metadata": {},
   "source": [
    " "
   ]
  },
  {
   "cell_type": "markdown",
   "id": "a7261f13",
   "metadata": {},
   "source": [
    "We would like to see the datatypes we have in our dataframe:"
   ]
  },
  {
   "cell_type": "code",
   "execution_count": 6,
   "id": "c7fe8b75",
   "metadata": {},
   "outputs": [
    {
     "data": {
      "text/plain": [
       "age           int64\n",
       "sex           int64\n",
       "cp            int64\n",
       "trestbps      int64\n",
       "chol          int64\n",
       "fbs           int64\n",
       "restecg       int64\n",
       "thalach       int64\n",
       "exang         int64\n",
       "oldpeak     float64\n",
       "slope         int64\n",
       "ca            int64\n",
       "thal          int64\n",
       "target        int64\n",
       "dtype: object"
      ]
     },
     "execution_count": 6,
     "metadata": {},
     "output_type": "execute_result"
    }
   ],
   "source": [
    "df.dtypes"
   ]
  },
  {
   "cell_type": "markdown",
   "id": "a4aa34e5",
   "metadata": {},
   "source": [
    "From this it looks like we won't have to do any converting of datatypes, since everything is numerical."
   ]
  },
  {
   "cell_type": "markdown",
   "id": "6ad6f399",
   "metadata": {},
   "source": [
    "# TODO: look for outliers, and maybe do standardization"
   ]
  },
  {
   "cell_type": "markdown",
   "id": "ddafa66e",
   "metadata": {},
   "source": [
    "Now we want to look at the data to see if we can identify any outliers. To do this we'll make some plots to help us visualize the data. First let's make a histogram of our columns to start with."
   ]
  },
  {
   "cell_type": "code",
   "execution_count": 48,
   "id": "f4fbb788",
   "metadata": {},
   "outputs": [
    {
     "data": {
      "text/plain": [
       "array([[<AxesSubplot:title={'center':'age'}>,\n",
       "        <AxesSubplot:title={'center':'sex'}>,\n",
       "        <AxesSubplot:title={'center':'cp'}>,\n",
       "        <AxesSubplot:title={'center':'trestbps'}>],\n",
       "       [<AxesSubplot:title={'center':'chol'}>,\n",
       "        <AxesSubplot:title={'center':'fbs'}>,\n",
       "        <AxesSubplot:title={'center':'restecg'}>,\n",
       "        <AxesSubplot:title={'center':'thalach'}>],\n",
       "       [<AxesSubplot:title={'center':'exang'}>,\n",
       "        <AxesSubplot:title={'center':'oldpeak'}>,\n",
       "        <AxesSubplot:title={'center':'slope'}>,\n",
       "        <AxesSubplot:title={'center':'ca'}>],\n",
       "       [<AxesSubplot:title={'center':'thal'}>,\n",
       "        <AxesSubplot:title={'center':'target'}>, <AxesSubplot:>,\n",
       "        <AxesSubplot:>]], dtype=object)"
      ]
     },
     "execution_count": 48,
     "metadata": {},
     "output_type": "execute_result"
    },
    {
     "data": {
      "image/png": "[encoded data removed]",
      "text/plain": [
       "<Figure size 1080x576 with 16 Axes>"
      ]
     },
     "metadata": {
      "needs_background": "light"
     },
     "output_type": "display_data"
    }
   ],
   "source": [
    "df.hist(bins= 40, figsize=(15, 8))"
   ]
  },
  {
   "cell_type": "markdown",
   "id": "4ee36c63",
   "metadata": {},
   "source": [
    "Now what we see here are the different distributions of our columns, and at first glance it would seem that \"age\", \"trestbps\", \"chol\", \"thalach\" and \"oldpeak\" has some outliers. Let's identify these outliers using the Z-score and IQR(Inter Quartile Range)."
   ]
  },
  {
   "cell_type": "code",
   "execution_count": 53,
   "id": "42255e12",
   "metadata": {},
   "outputs": [],
   "source": [
    "def iqr_calc(column):\n",
    "    # IQR\n",
    "    Q1 = np.percentile(df[column], 25,\n",
    "                   interpolation = 'midpoint')\n",
    " \n",
    "    Q3 = np.percentile(df[column], 75,\n",
    "                   interpolation = 'midpoint')\n",
    "    IQR = Q3 - Q1\n",
    "    \n",
    "    upperBound = (Q3+1.5*IQR)\n",
    "    lowerBound = (Q1-1.5*IQR)\n",
    "\n",
    "    # Above Upper bound\n",
    "    upper = df[column] >= upperBound\n",
    " \n",
    "    print(\"Upper bound:\",upperBound)\n",
    "    print(np.where(upper))\n",
    " \n",
    "    # Below Lower bound\n",
    "    lower = df[column] <= lowerBound\n",
    "    print(\"Lower bound:\", lowerBound)\n",
    "    print(np.where(lower))\n",
    "    \n",
    "def z_score(column):\n",
    "    # Z score \n",
    "    z = np.abs(stats.zscore(df['thalach']))\n",
    "    threshold = 3\n",
    "    # Position of the outlier\n",
    "    print(np.where(z > 3))"
   ]
  },
  {
   "cell_type": "markdown",
   "id": "a2fbb9c8",
   "metadata": {},
   "source": [
    "Now we'll use these above functions on our outlier suspects."
   ]
  },
  {
   "cell_type": "code",
   "execution_count": 78,
   "id": "7e47dca4",
   "metadata": {},
   "outputs": [
    {
     "name": "stdout",
     "output_type": "stream",
     "text": [
      "Upper bound: 80.5\n",
      "(array([], dtype=int64),)\n",
      "Lower bound: 28.5\n",
      "(array([], dtype=int64),)\n"
     ]
    }
   ],
   "source": [
    "# IQR for \"age\"\n",
    "iqr_calc(\"age\")"
   ]
  },
  {
   "cell_type": "code",
   "execution_count": 79,
   "id": "b5232094",
   "metadata": {},
   "outputs": [
    {
     "name": "stdout",
     "output_type": "stream",
     "text": [
      "(array([267, 296, 378, 559], dtype=int64),)\n"
     ]
    }
   ],
   "source": [
    "# Z-score for age\n",
    "z_score(\"age\")"
   ]
  },
  {
   "cell_type": "code",
   "execution_count": 80,
   "id": "c42c196d",
   "metadata": {},
   "outputs": [
    {
     "data": {
      "text/plain": [
       "<AxesSubplot:xlabel='age'>"
      ]
     },
     "execution_count": 80,
     "metadata": {},
     "output_type": "execute_result"
    },
    {
     "data": {
      "image/png": "[encoded data removed]",
      "text/plain": [
       "<Figure size 432x288 with 1 Axes>"
      ]
     },
     "metadata": {
      "needs_background": "light"
     },
     "output_type": "display_data"
    }
   ],
   "source": [
    "# To visualize the \"age\" outliers\n",
    "sns.boxplot(x = df['age'])"
   ]
  },
  {
   "cell_type": "markdown",
   "id": "46fca537",
   "metadata": {},
   "source": [
    "The IQR didn't identify any outliers, whilst the z-score did. We won't be removing any entries in \"age\" for now."
   ]
  },
  {
   "cell_type": "code",
   "execution_count": 81,
   "id": "2e62898a",
   "metadata": {},
   "outputs": [
    {
     "name": "stdout",
     "output_type": "stream",
     "text": [
      "Upper bound: 217.0\n",
      "(array([], dtype=int64),)\n",
      "Lower bound: 81.0\n",
      "(array([267, 296, 378, 559], dtype=int64),)\n"
     ]
    }
   ],
   "source": [
    "# IQR for \"thalach\"\n",
    "iqr_calc(\"thalach\")"
   ]
  },
  {
   "cell_type": "code",
   "execution_count": 82,
   "id": "ef49d9fb",
   "metadata": {},
   "outputs": [
    {
     "name": "stdout",
     "output_type": "stream",
     "text": [
      "(array([267, 296, 378, 559], dtype=int64),)\n"
     ]
    }
   ],
   "source": [
    "# Z-score for \"thalach\"\n",
    "z_score(\"thalach\")"
   ]
  },
  {
   "cell_type": "code",
   "execution_count": 83,
   "id": "a9283f72",
   "metadata": {},
   "outputs": [
    {
     "data": {
      "text/plain": [
       "<AxesSubplot:xlabel='thalach'>"
      ]
     },
     "execution_count": 83,
     "metadata": {},
     "output_type": "execute_result"
    },
    {
     "data": {
      "image/png": "[encoded data removed]",
      "text/plain": [
       "<Figure size 432x288 with 1 Axes>"
      ]
     },
     "metadata": {
      "needs_background": "light"
     },
     "output_type": "display_data"
    }
   ],
   "source": [
    "sns.boxplot(x = df['thalach'])"
   ]
  },
  {
   "cell_type": "markdown",
   "id": "ca01e384",
   "metadata": {},
   "source": [
    "Now for \"thalach\", IQR and Z-score identified the same four entries. We should probably remove these."
   ]
  },
  {
   "cell_type": "code",
   "execution_count": 84,
   "id": "be43aaea",
   "metadata": {},
   "outputs": [],
   "source": [
    "outliers = df[df['thalach'] < 81.0]\n",
    "df = df.drop(outliers.index.values)"
   ]
  },
  {
   "cell_type": "code",
   "execution_count": 85,
   "id": "f8946fc6",
   "metadata": {},
   "outputs": [
    {
     "name": "stdout",
     "output_type": "stream",
     "text": [
      "Upper bound: 170.0\n",
      "(array([ 29,  47,  65,  70,  87, 135, 137, 151, 165, 175, 203, 229, 235,\n",
      "       246, 257, 264, 293, 324, 341, 393, 411, 433, 449, 493, 505, 506,\n",
      "       525, 536, 605, 608, 620, 632, 675, 677, 684, 794, 815, 833, 858,\n",
      "       868, 887, 892, 940, 967, 982], dtype=int64),)\n",
      "Lower bound: 90.0\n",
      "(array([], dtype=int64),)\n"
     ]
    }
   ],
   "source": [
    "# IQR for \"trestbps\"\n",
    "iqr_calc(\"trestbps\")"
   ]
  },
  {
   "cell_type": "code",
   "execution_count": 86,
   "id": "d4f393a1",
   "metadata": {},
   "outputs": [
    {
     "name": "stdout",
     "output_type": "stream",
     "text": [
      "(array([], dtype=int64),)\n"
     ]
    }
   ],
   "source": [
    "# Z-score for \"trestbps\"\n",
    "z_score(\"trestbps\")"
   ]
  },
  {
   "cell_type": "code",
   "execution_count": 87,
   "id": "ced7a0b5",
   "metadata": {},
   "outputs": [
    {
     "data": {
      "text/plain": [
       "<AxesSubplot:xlabel='trestbps'>"
      ]
     },
     "execution_count": 87,
     "metadata": {},
     "output_type": "execute_result"
    },
    {
     "data": {
      "image/png": "[encoded data removed]",
      "text/plain": [
       "<Figure size 432x288 with 1 Axes>"
      ]
     },
     "metadata": {
      "needs_background": "light"
     },
     "output_type": "display_data"
    }
   ],
   "source": [
    "sns.boxplot(x = df['trestbps'])"
   ]
  },
  {
   "cell_type": "markdown",
   "id": "2e7abeda",
   "metadata": {},
   "source": [
    "For \"trestbps\" the IQR calculater found many entries above the upper bound, whilst the z-score found none. For now we won't be removing any entries since we thing there are too many entries above the upper bound."
   ]
  },
  {
   "cell_type": "code",
   "execution_count": 88,
   "id": "390095e1",
   "metadata": {},
   "outputs": [
    {
     "name": "stdout",
     "output_type": "stream",
     "text": [
      "Upper bound: 371.0\n",
      "(array([123, 158, 179, 192, 255, 447, 461, 478, 539, 574, 637, 661, 681,\n",
      "       885, 954, 992], dtype=int64),)\n",
      "Lower bound: 115.0\n",
      "(array([], dtype=int64),)\n"
     ]
    }
   ],
   "source": [
    "# IQR for \"chol\"\n",
    "iqr_calc(\"chol\")"
   ]
  },
  {
   "cell_type": "code",
   "execution_count": 89,
   "id": "6bb731a1",
   "metadata": {},
   "outputs": [
    {
     "name": "stdout",
     "output_type": "stream",
     "text": [
      "(array([], dtype=int64),)\n"
     ]
    }
   ],
   "source": [
    "# Z-score for \"chol\"\n",
    "z_score(\"chol\")"
   ]
  },
  {
   "cell_type": "code",
   "execution_count": 90,
   "id": "79fcae67",
   "metadata": {},
   "outputs": [
    {
     "data": {
      "text/plain": [
       "<AxesSubplot:xlabel='chol'>"
      ]
     },
     "execution_count": 90,
     "metadata": {},
     "output_type": "execute_result"
    },
    {
     "data": {
      "image/png": "[encoded data removed]",
      "text/plain": [
       "<Figure size 432x288 with 1 Axes>"
      ]
     },
     "metadata": {
      "needs_background": "light"
     },
     "output_type": "display_data"
    }
   ],
   "source": [
    "sns.boxplot(x = df['chol'])"
   ]
  },
  {
   "cell_type": "markdown",
   "id": "83e4df33",
   "metadata": {},
   "source": [
    "For now we won't be removing any entries based on this, since we believe there to be too many to remove."
   ]
  },
  {
   "cell_type": "code",
   "execution_count": 91,
   "id": "66b5a070",
   "metadata": {},
   "outputs": [
    {
     "name": "stdout",
     "output_type": "stream",
     "text": [
      "Upper bound: 4.5\n",
      "(array([ 54,  55,  69, 390, 523, 609, 829], dtype=int64),)\n",
      "Lower bound: -2.7\n",
      "(array([], dtype=int64),)\n"
     ]
    }
   ],
   "source": [
    "# IQR for \"oldpeak\"\n",
    "iqr_calc(\"oldpeak\")"
   ]
  },
  {
   "cell_type": "code",
   "execution_count": 92,
   "id": "0bb55661",
   "metadata": {},
   "outputs": [
    {
     "name": "stdout",
     "output_type": "stream",
     "text": [
      "(array([], dtype=int64),)\n"
     ]
    }
   ],
   "source": [
    "# Z-score for \"oldpeak\"\n",
    "z_score(\"oldpeak\")"
   ]
  },
  {
   "cell_type": "code",
   "execution_count": 93,
   "id": "71be714f",
   "metadata": {},
   "outputs": [
    {
     "data": {
      "text/plain": [
       "<AxesSubplot:xlabel='oldpeak'>"
      ]
     },
     "execution_count": 93,
     "metadata": {},
     "output_type": "execute_result"
    },
    {
     "data": {
      "image/png": "[encoded data removed]",
      "text/plain": [
       "<Figure size 432x288 with 1 Axes>"
      ]
     },
     "metadata": {
      "needs_background": "light"
     },
     "output_type": "display_data"
    }
   ],
   "source": [
    "sns.boxplot(x = df['oldpeak'])"
   ]
  },
  {
   "cell_type": "markdown",
   "id": "34db5a06",
   "metadata": {},
   "source": [
    "Based on these IQR and z-score calculations and also the boxplot, we believe it would benefit us to remove these 7 entries from the data."
   ]
  },
  {
   "cell_type": "code",
   "execution_count": 94,
   "id": "4f396155",
   "metadata": {},
   "outputs": [],
   "source": [
    "outliers = df[df['oldpeak'] > 4.5]\n",
    "df = df.drop(outliers.index.values)"
   ]
  },
  {
   "cell_type": "markdown",
   "id": "94986bac",
   "metadata": {},
   "source": [
    " "
   ]
  },
  {
   "cell_type": "markdown",
   "id": "148ea160",
   "metadata": {},
   "source": [
    "Below We will generate a pandas_profiling document that contains useful graphs and algoritms used on our data."
   ]
  },
  {
   "cell_type": "code",
   "execution_count": 7,
   "id": "41b3bfd9",
   "metadata": {},
   "outputs": [
    {
     "data": {
      "application/vnd.jupyter.widget-view+json": {
       "model_id": "530df1d6668c42c3a14aadcd45cf8e08",
       "version_major": 2,
       "version_minor": 0
      },
      "text/plain": [
       "Summarize dataset:   0%|          | 0/28 [00:00<?, ?it/s]"
      ]
     },
     "metadata": {},
     "output_type": "display_data"
    },
    {
     "data": {
      "application/vnd.jupyter.widget-view+json": {
       "model_id": "b58a6fe9ad63491cb21d54546b78d11d",
       "version_major": 2,
       "version_minor": 0
      },
      "text/plain": [
       "Generate report structure:   0%|          | 0/1 [00:00<?, ?it/s]"
      ]
     },
     "metadata": {},
     "output_type": "display_data"
    },
    {
     "data": {
      "application/vnd.jupyter.widget-view+json": {
       "model_id": "3b84f9b4cbf94cc7891cb439b2766ae8",
       "version_major": 2,
       "version_minor": 0
      },
      "text/plain": [
       "Render HTML:   0%|          | 0/1 [00:00<?, ?it/s]"
      ]
     },
     "metadata": {},
     "output_type": "display_data"
    },
    {
     "data": {
      "application/vnd.jupyter.widget-view+json": {
       "model_id": "78499cfc90bf4c6fb25af4fd461c60e7",
       "version_major": 2,
       "version_minor": 0
      },
      "text/plain": [
       "Export report to file:   0%|          | 0/1 [00:00<?, ?it/s]"
      ]
     },
     "metadata": {},
     "output_type": "display_data"
    }
   ],
   "source": [
    "pandas_profiling.ProfileReport(df).to_file(\"profiling/profiling_data1.html\")"
   ]
  },
  {
   "cell_type": "markdown",
   "id": "d02148a3",
   "metadata": {},
   "source": [
    " "
   ]
  },
  {
   "cell_type": "markdown",
   "id": "712077ad",
   "metadata": {},
   "source": [
    "From the results in this above profile report, we'll extract the highlights."
   ]
  },
  {
   "cell_type": "markdown",
   "id": "6a902a0c",
   "metadata": {},
   "source": [
    "First off, we will take a look at the correlation heatmap of our data using the \"Pearson's r\" to look at any linear correlations between the different parameters:"
   ]
  },
  {
   "attachments": {
    "image.png": {
     "image/png": "[encoded data removed]"
    }
   },
   "cell_type": "markdown",
   "id": "70096ad0",
   "metadata": {},
   "source": [
    "![image.png](attachment:image.png)"
   ]
  },
  {
   "cell_type": "markdown",
   "id": "f5149149",
   "metadata": {},
   "source": [
    "Based on this heatmap, we get an overview image of the different degrees of linear correlations. To quantify these correlations we can get the correlations with pandas:"
   ]
  },
  {
   "cell_type": "code",
   "execution_count": 8,
   "id": "2cf09e18",
   "metadata": {},
   "outputs": [
    {
     "data": {
      "text/html": [
       "<style type=\"text/css\">\n",
       "#T_b07d8_row0_col0, #T_b07d8_row1_col1, #T_b07d8_row2_col2, #T_b07d8_row3_col3, #T_b07d8_row4_col4, #T_b07d8_row5_col5, #T_b07d8_row6_col6, #T_b07d8_row7_col7, #T_b07d8_row8_col8, #T_b07d8_row9_col9, #T_b07d8_row10_col10, #T_b07d8_row11_col11, #T_b07d8_row12_col12, #T_b07d8_row13_col13 {\n",
       "  background-color: #2369bd;\n",
       "  color: #f1f1f1;\n",
       "}\n",
       "#T_b07d8_row0_col1, #T_b07d8_row8_col5 {\n",
       "  background-color: #c16d6b;\n",
       "  color: #f1f1f1;\n",
       "}\n",
       "#T_b07d8_row0_col2, #T_b07d8_row4_col13, #T_b07d8_row6_col12 {\n",
       "  background-color: #d19290;\n",
       "  color: #f1f1f1;\n",
       "}\n",
       "#T_b07d8_row0_col3 {\n",
       "  background-color: #e5c3c1;\n",
       "  color: #000000;\n",
       "}\n",
       "#T_b07d8_row0_col4, #T_b07d8_row1_col10, #T_b07d8_row4_col8 {\n",
       "  background-color: #e3bfbd;\n",
       "  color: #000000;\n",
       "}\n",
       "#T_b07d8_row0_col5, #T_b07d8_row1_col0, #T_b07d8_row10_col6 {\n",
       "  background-color: #cc8784;\n",
       "  color: #f1f1f1;\n",
       "}\n",
       "#T_b07d8_row0_col6, #T_b07d8_row6_col3 {\n",
       "  background-color: #ab3c3f;\n",
       "  color: #f1f1f1;\n",
       "}\n",
       "#T_b07d8_row0_col7, #T_b07d8_row1_col4, #T_b07d8_row4_col6, #T_b07d8_row6_col5, #T_b07d8_row7_col0, #T_b07d8_row8_col2, #T_b07d8_row8_col13, #T_b07d8_row9_col10, #T_b07d8_row9_col13, #T_b07d8_row10_col9, #T_b07d8_row13_col1, #T_b07d8_row13_col3, #T_b07d8_row13_col8, #T_b07d8_row13_col11, #T_b07d8_row13_col12 {\n",
       "  background-color: #a9373b;\n",
       "  color: #f1f1f1;\n",
       "}\n",
       "#T_b07d8_row0_col8, #T_b07d8_row11_col12 {\n",
       "  background-color: #e6c5c3;\n",
       "  color: #000000;\n",
       "}\n",
       "#T_b07d8_row0_col9, #T_b07d8_row12_col9 {\n",
       "  background-color: #faf5f4;\n",
       "  color: #000000;\n",
       "}\n",
       "#T_b07d8_row0_col10, #T_b07d8_row1_col2, #T_b07d8_row2_col9 {\n",
       "  background-color: #d49a97;\n",
       "  color: #f1f1f1;\n",
       "}\n",
       "#T_b07d8_row0_col11, #T_b07d8_row3_col0, #T_b07d8_row11_col0 {\n",
       "  background-color: #faf0ef;\n",
       "  color: #000000;\n",
       "}\n",
       "#T_b07d8_row0_col12, #T_b07d8_row11_col1, #T_b07d8_row12_col10 {\n",
       "  background-color: #dcaeab;\n",
       "  color: #000000;\n",
       "}\n",
       "#T_b07d8_row0_col13, #T_b07d8_row7_col4 {\n",
       "  background-color: #c3706e;\n",
       "  color: #f1f1f1;\n",
       "}\n",
       "#T_b07d8_row1_col3 {\n",
       "  background-color: #b24c4c;\n",
       "  color: #f1f1f1;\n",
       "}\n",
       "#T_b07d8_row1_col5, #T_b07d8_row4_col5, #T_b07d8_row10_col8 {\n",
       "  background-color: #be6664;\n",
       "  color: #f1f1f1;\n",
       "}\n",
       "#T_b07d8_row1_col6, #T_b07d8_row13_col4 {\n",
       "  background-color: #b75756;\n",
       "  color: #f1f1f1;\n",
       "}\n",
       "#T_b07d8_row1_col7, #T_b07d8_row13_col6 {\n",
       "  background-color: #d29593;\n",
       "  color: #f1f1f1;\n",
       "}\n",
       "#T_b07d8_row1_col8, #T_b07d8_row1_col12, #T_b07d8_row8_col12 {\n",
       "  background-color: #ecd3d2;\n",
       "  color: #000000;\n",
       "}\n",
       "#T_b07d8_row1_col9, #T_b07d8_row6_col10 {\n",
       "  background-color: #f0dbda;\n",
       "  color: #000000;\n",
       "}\n",
       "#T_b07d8_row1_col11, #T_b07d8_row4_col10 {\n",
       "  background-color: #e5c2c0;\n",
       "  color: #000000;\n",
       "}\n",
       "#T_b07d8_row1_col13, #T_b07d8_row12_col6 {\n",
       "  background-color: #bd6361;\n",
       "  color: #f1f1f1;\n",
       "}\n",
       "#T_b07d8_row2_col0, #T_b07d8_row4_col2, #T_b07d8_row11_col4 {\n",
       "  background-color: #d08f8d;\n",
       "  color: #f1f1f1;\n",
       "}\n",
       "#T_b07d8_row2_col1, #T_b07d8_row6_col0 {\n",
       "  background-color: #c97f7d;\n",
       "  color: #f1f1f1;\n",
       "}\n",
       "#T_b07d8_row2_col3, #T_b07d8_row10_col4 {\n",
       "  background-color: #c47371;\n",
       "  color: #f1f1f1;\n",
       "}\n",
       "#T_b07d8_row2_col4 {\n",
       "  background-color: #ba5d5c;\n",
       "  color: #f1f1f1;\n",
       "}\n",
       "#T_b07d8_row2_col5, #T_b07d8_row2_col6 {\n",
       "  background-color: #c67875;\n",
       "  color: #f1f1f1;\n",
       "}\n",
       "#T_b07d8_row2_col7, #T_b07d8_row7_col2, #T_b07d8_row11_col9 {\n",
       "  background-color: #faf5f5;\n",
       "  color: #000000;\n",
       "}\n",
       "#T_b07d8_row2_col8 {\n",
       "  background-color: #ad4143;\n",
       "  color: #f1f1f1;\n",
       "}\n",
       "#T_b07d8_row2_col10 {\n",
       "  background-color: #f5e7e5;\n",
       "  color: #000000;\n",
       "}\n",
       "#T_b07d8_row2_col11 {\n",
       "  background-color: #c3726f;\n",
       "  color: #f1f1f1;\n",
       "}\n",
       "#T_b07d8_row2_col12, #T_b07d8_row11_col7 {\n",
       "  background-color: #c06a68;\n",
       "  color: #f1f1f1;\n",
       "}\n",
       "#T_b07d8_row2_col13 {\n",
       "  background-color: #d5d9e3;\n",
       "  color: #000000;\n",
       "}\n",
       "#T_b07d8_row3_col1, #T_b07d8_row10_col0 {\n",
       "  background-color: #c57572;\n",
       "  color: #f1f1f1;\n",
       "}\n",
       "#T_b07d8_row3_col2, #T_b07d8_row6_col7 {\n",
       "  background-color: #deb1ae;\n",
       "  color: #000000;\n",
       "}\n",
       "#T_b07d8_row3_col4 {\n",
       "  background-color: #d7a09d;\n",
       "  color: #000000;\n",
       "}\n",
       "#T_b07d8_row3_col5, #T_b07d8_row6_col8 {\n",
       "  background-color: #d59c99;\n",
       "  color: #f1f1f1;\n",
       "}\n",
       "#T_b07d8_row3_col6 {\n",
       "  background-color: #ac3f42;\n",
       "  color: #f1f1f1;\n",
       "}\n",
       "#T_b07d8_row3_col7 {\n",
       "  background-color: #d49896;\n",
       "  color: #f1f1f1;\n",
       "}\n",
       "#T_b07d8_row3_col8, #T_b07d8_row8_col0 {\n",
       "  background-color: #e3bdbb;\n",
       "  color: #000000;\n",
       "}\n",
       "#T_b07d8_row3_col9 {\n",
       "  background-color: #faf3f2;\n",
       "  color: #000000;\n",
       "}\n",
       "#T_b07d8_row3_col10, #T_b07d8_row9_col3 {\n",
       "  background-color: #d9a6a4;\n",
       "  color: #000000;\n",
       "}\n",
       "#T_b07d8_row3_col11, #T_b07d8_row8_col11 {\n",
       "  background-color: #e4c0be;\n",
       "  color: #000000;\n",
       "}\n",
       "#T_b07d8_row3_col12 {\n",
       "  background-color: #daa9a7;\n",
       "  color: #000000;\n",
       "}\n",
       "#T_b07d8_row3_col13, #T_b07d8_row12_col7 {\n",
       "  background-color: #cd8885;\n",
       "  color: #f1f1f1;\n",
       "}\n",
       "#T_b07d8_row4_col0 {\n",
       "  background-color: #f4e3e2;\n",
       "  color: #000000;\n",
       "}\n",
       "#T_b07d8_row4_col1 {\n",
       "  background-color: #b55151;\n",
       "  color: #f1f1f1;\n",
       "}\n",
       "#T_b07d8_row4_col3 {\n",
       "  background-color: #d1918e;\n",
       "  color: #f1f1f1;\n",
       "}\n",
       "#T_b07d8_row4_col7 {\n",
       "  background-color: #d59d9a;\n",
       "  color: #f1f1f1;\n",
       "}\n",
       "#T_b07d8_row4_col9 {\n",
       "  background-color: #eed7d5;\n",
       "  color: #000000;\n",
       "}\n",
       "#T_b07d8_row4_col11 {\n",
       "  background-color: #e0b7b5;\n",
       "  color: #000000;\n",
       "}\n",
       "#T_b07d8_row4_col12, #T_b07d8_row5_col10, #T_b07d8_row8_col1 {\n",
       "  background-color: #dfb5b3;\n",
       "  color: #000000;\n",
       "}\n",
       "#T_b07d8_row5_col0 {\n",
       "  background-color: #e7c7c5;\n",
       "  color: #000000;\n",
       "}\n",
       "#T_b07d8_row5_col1 {\n",
       "  background-color: #d29491;\n",
       "  color: #f1f1f1;\n",
       "}\n",
       "#T_b07d8_row5_col2 {\n",
       "  background-color: #e2bcb9;\n",
       "  color: #000000;\n",
       "}\n",
       "#T_b07d8_row5_col3, #T_b07d8_row9_col1 {\n",
       "  background-color: #d9a5a2;\n",
       "  color: #000000;\n",
       "}\n",
       "#T_b07d8_row5_col4 {\n",
       "  background-color: #ca817e;\n",
       "  color: #f1f1f1;\n",
       "}\n",
       "#T_b07d8_row5_col6, #T_b07d8_row10_col5 {\n",
       "  background-color: #af4647;\n",
       "  color: #f1f1f1;\n",
       "}\n",
       "#T_b07d8_row5_col7, #T_b07d8_row5_col13 {\n",
       "  background-color: #d7a29f;\n",
       "  color: #000000;\n",
       "}\n",
       "#T_b07d8_row5_col8 {\n",
       "  background-color: #e1bab8;\n",
       "  color: #000000;\n",
       "}\n",
       "#T_b07d8_row5_col9, #T_b07d8_row12_col1 {\n",
       "  background-color: #e7c8c6;\n",
       "  color: #000000;\n",
       "}\n",
       "#T_b07d8_row5_col11 {\n",
       "  background-color: #e8cac8;\n",
       "  color: #000000;\n",
       "}\n",
       "#T_b07d8_row5_col12, #T_b07d8_row6_col11, #T_b07d8_row8_col4, #T_b07d8_row9_col4 {\n",
       "  background-color: #cf8c8a;\n",
       "  color: #f1f1f1;\n",
       "}\n",
       "#T_b07d8_row6_col1, #T_b07d8_row8_col3, #T_b07d8_row12_col3 {\n",
       "  background-color: #c77b78;\n",
       "  color: #f1f1f1;\n",
       "}\n",
       "#T_b07d8_row6_col2, #T_b07d8_row11_col10 {\n",
       "  background-color: #deb2b0;\n",
       "  color: #000000;\n",
       "}\n",
       "#T_b07d8_row6_col4, #T_b07d8_row7_col8, #T_b07d8_row11_col13 {\n",
       "  background-color: #b04748;\n",
       "  color: #f1f1f1;\n",
       "}\n",
       "#T_b07d8_row6_col9, #T_b07d8_row12_col0 {\n",
       "  background-color: #e1b9b6;\n",
       "  color: #000000;\n",
       "}\n",
       "#T_b07d8_row6_col13 {\n",
       "  background-color: #ecd2d0;\n",
       "  color: #000000;\n",
       "}\n",
       "#T_b07d8_row7_col1, #T_b07d8_row10_col12 {\n",
       "  background-color: #c87e7b;\n",
       "  color: #f1f1f1;\n",
       "}\n",
       "#T_b07d8_row7_col3, #T_b07d8_row7_col5, #T_b07d8_row13_col9 {\n",
       "  background-color: #b95a59;\n",
       "  color: #f1f1f1;\n",
       "}\n",
       "#T_b07d8_row7_col6, #T_b07d8_row12_col2 {\n",
       "  background-color: #c77977;\n",
       "  color: #f1f1f1;\n",
       "}\n",
       "#T_b07d8_row7_col9 {\n",
       "  background-color: #c26f6d;\n",
       "  color: #f1f1f1;\n",
       "}\n",
       "#T_b07d8_row7_col10 {\n",
       "  background-color: #d2d7e1;\n",
       "  color: #000000;\n",
       "}\n",
       "#T_b07d8_row7_col11 {\n",
       "  background-color: #c06967;\n",
       "  color: #f1f1f1;\n",
       "}\n",
       "#T_b07d8_row7_col12 {\n",
       "  background-color: #c87c7a;\n",
       "  color: #f1f1f1;\n",
       "}\n",
       "#T_b07d8_row7_col13 {\n",
       "  background-color: #d9dce5;\n",
       "  color: #000000;\n",
       "}\n",
       "#T_b07d8_row8_col6 {\n",
       "  background-color: #b65453;\n",
       "  color: #f1f1f1;\n",
       "}\n",
       "#T_b07d8_row8_col7 {\n",
       "  background-color: #a9393c;\n",
       "  color: #f1f1f1;\n",
       "}\n",
       "#T_b07d8_row8_col9 {\n",
       "  background-color: #e9e9ed;\n",
       "  color: #000000;\n",
       "}\n",
       "#T_b07d8_row8_col10, #T_b07d8_row10_col1 {\n",
       "  background-color: #cb8481;\n",
       "  color: #f1f1f1;\n",
       "}\n",
       "#T_b07d8_row9_col0 {\n",
       "  background-color: #f2e0df;\n",
       "  color: #000000;\n",
       "}\n",
       "#T_b07d8_row9_col2, #T_b07d8_row11_col2 {\n",
       "  background-color: #c57674;\n",
       "  color: #f1f1f1;\n",
       "}\n",
       "#T_b07d8_row9_col5 {\n",
       "  background-color: #bc605e;\n",
       "  color: #f1f1f1;\n",
       "}\n",
       "#T_b07d8_row9_col6 {\n",
       "  background-color: #b85857;\n",
       "  color: #f1f1f1;\n",
       "}\n",
       "#T_b07d8_row9_col7 {\n",
       "  background-color: #ae4244;\n",
       "  color: #f1f1f1;\n",
       "}\n",
       "#T_b07d8_row9_col8 {\n",
       "  background-color: #f7f4f4;\n",
       "  color: #000000;\n",
       "}\n",
       "#T_b07d8_row9_col11 {\n",
       "  background-color: #f3e2e0;\n",
       "  color: #000000;\n",
       "}\n",
       "#T_b07d8_row9_col12 {\n",
       "  background-color: #edd5d3;\n",
       "  color: #000000;\n",
       "}\n",
       "#T_b07d8_row10_col2, #T_b07d8_row11_col8 {\n",
       "  background-color: #e9cbc9;\n",
       "  color: #000000;\n",
       "}\n",
       "#T_b07d8_row10_col3 {\n",
       "  background-color: #ac3e40;\n",
       "  color: #f1f1f1;\n",
       "}\n",
       "#T_b07d8_row10_col7 {\n",
       "  background-color: #e7e7ec;\n",
       "  color: #000000;\n",
       "}\n",
       "#T_b07d8_row10_col11 {\n",
       "  background-color: #cf8e8b;\n",
       "  color: #f1f1f1;\n",
       "}\n",
       "#T_b07d8_row10_col13 {\n",
       "  background-color: #efeef1;\n",
       "  color: #000000;\n",
       "}\n",
       "#T_b07d8_row11_col3 {\n",
       "  background-color: #cd8987;\n",
       "  color: #f1f1f1;\n",
       "}\n",
       "#T_b07d8_row11_col5 {\n",
       "  background-color: #ce8b88;\n",
       "  color: #f1f1f1;\n",
       "}\n",
       "#T_b07d8_row11_col6 {\n",
       "  background-color: #b44f4f;\n",
       "  color: #f1f1f1;\n",
       "}\n",
       "#T_b07d8_row12_col4 {\n",
       "  background-color: #d39794;\n",
       "  color: #f1f1f1;\n",
       "}\n",
       "#T_b07d8_row12_col5, #T_b07d8_row13_col5 {\n",
       "  background-color: #b34d4e;\n",
       "  color: #f1f1f1;\n",
       "}\n",
       "#T_b07d8_row12_col8 {\n",
       "  background-color: #f5e5e4;\n",
       "  color: #000000;\n",
       "}\n",
       "#T_b07d8_row12_col11 {\n",
       "  background-color: #eacdcb;\n",
       "  color: #000000;\n",
       "}\n",
       "#T_b07d8_row12_col13 {\n",
       "  background-color: #b55252;\n",
       "  color: #f1f1f1;\n",
       "}\n",
       "#T_b07d8_row13_col0 {\n",
       "  background-color: #be6463;\n",
       "  color: #f1f1f1;\n",
       "}\n",
       "#T_b07d8_row13_col2 {\n",
       "  background-color: #dadde5;\n",
       "  color: #000000;\n",
       "}\n",
       "#T_b07d8_row13_col7, #T_b07d8_row13_col10 {\n",
       "  background-color: #dfe1e8;\n",
       "  color: #000000;\n",
       "}\n",
       "</style>\n",
       "<table id=\"T_b07d8_\">\n",
       "  <thead>\n",
       "    <tr>\n",
       "      <th class=\"blank level0\" >&nbsp;</th>\n",
       "      <th class=\"col_heading level0 col0\" >age</th>\n",
       "      <th class=\"col_heading level0 col1\" >sex</th>\n",
       "      <th class=\"col_heading level0 col2\" >cp</th>\n",
       "      <th class=\"col_heading level0 col3\" >trestbps</th>\n",
       "      <th class=\"col_heading level0 col4\" >chol</th>\n",
       "      <th class=\"col_heading level0 col5\" >fbs</th>\n",
       "      <th class=\"col_heading level0 col6\" >restecg</th>\n",
       "      <th class=\"col_heading level0 col7\" >thalach</th>\n",
       "      <th class=\"col_heading level0 col8\" >exang</th>\n",
       "      <th class=\"col_heading level0 col9\" >oldpeak</th>\n",
       "      <th class=\"col_heading level0 col10\" >slope</th>\n",
       "      <th class=\"col_heading level0 col11\" >ca</th>\n",
       "      <th class=\"col_heading level0 col12\" >thal</th>\n",
       "      <th class=\"col_heading level0 col13\" >target</th>\n",
       "    </tr>\n",
       "  </thead>\n",
       "  <tbody>\n",
       "    <tr>\n",
       "      <th id=\"T_b07d8_level0_row0\" class=\"row_heading level0 row0\" >age</th>\n",
       "      <td id=\"T_b07d8_row0_col0\" class=\"data row0 col0\" >1.000000</td>\n",
       "      <td id=\"T_b07d8_row0_col1\" class=\"data row0 col1\" >-0.103240</td>\n",
       "      <td id=\"T_b07d8_row0_col2\" class=\"data row0 col2\" >-0.071966</td>\n",
       "      <td id=\"T_b07d8_row0_col3\" class=\"data row0 col3\" >0.271121</td>\n",
       "      <td id=\"T_b07d8_row0_col4\" class=\"data row0 col4\" >0.219823</td>\n",
       "      <td id=\"T_b07d8_row0_col5\" class=\"data row0 col5\" >0.121243</td>\n",
       "      <td id=\"T_b07d8_row0_col6\" class=\"data row0 col6\" >-0.132696</td>\n",
       "      <td id=\"T_b07d8_row0_col7\" class=\"data row0 col7\" >-0.390227</td>\n",
       "      <td id=\"T_b07d8_row0_col8\" class=\"data row0 col8\" >0.088163</td>\n",
       "      <td id=\"T_b07d8_row0_col9\" class=\"data row0 col9\" >0.208137</td>\n",
       "      <td id=\"T_b07d8_row0_col10\" class=\"data row0 col10\" >-0.169105</td>\n",
       "      <td id=\"T_b07d8_row0_col11\" class=\"data row0 col11\" >0.271551</td>\n",
       "      <td id=\"T_b07d8_row0_col12\" class=\"data row0 col12\" >0.072297</td>\n",
       "      <td id=\"T_b07d8_row0_col13\" class=\"data row0 col13\" >-0.229324</td>\n",
       "    </tr>\n",
       "    <tr>\n",
       "      <th id=\"T_b07d8_level0_row1\" class=\"row_heading level0 row1\" >sex</th>\n",
       "      <td id=\"T_b07d8_row1_col0\" class=\"data row1 col0\" >-0.103240</td>\n",
       "      <td id=\"T_b07d8_row1_col1\" class=\"data row1 col1\" >1.000000</td>\n",
       "      <td id=\"T_b07d8_row1_col2\" class=\"data row1 col2\" >-0.041119</td>\n",
       "      <td id=\"T_b07d8_row1_col3\" class=\"data row1 col3\" >-0.078974</td>\n",
       "      <td id=\"T_b07d8_row1_col4\" class=\"data row1 col4\" >-0.198258</td>\n",
       "      <td id=\"T_b07d8_row1_col5\" class=\"data row1 col5\" >0.027200</td>\n",
       "      <td id=\"T_b07d8_row1_col6\" class=\"data row1 col6\" >-0.055117</td>\n",
       "      <td id=\"T_b07d8_row1_col7\" class=\"data row1 col7\" >-0.049365</td>\n",
       "      <td id=\"T_b07d8_row1_col8\" class=\"data row1 col8\" >0.139157</td>\n",
       "      <td id=\"T_b07d8_row1_col9\" class=\"data row1 col9\" >0.084687</td>\n",
       "      <td id=\"T_b07d8_row1_col10\" class=\"data row1 col10\" >-0.026666</td>\n",
       "      <td id=\"T_b07d8_row1_col11\" class=\"data row1 col11\" >0.111729</td>\n",
       "      <td id=\"T_b07d8_row1_col12\" class=\"data row1 col12\" >0.198424</td>\n",
       "      <td id=\"T_b07d8_row1_col13\" class=\"data row1 col13\" >-0.279501</td>\n",
       "    </tr>\n",
       "    <tr>\n",
       "      <th id=\"T_b07d8_level0_row2\" class=\"row_heading level0 row2\" >cp</th>\n",
       "      <td id=\"T_b07d8_row2_col0\" class=\"data row2 col0\" >-0.071966</td>\n",
       "      <td id=\"T_b07d8_row2_col1\" class=\"data row2 col1\" >-0.041119</td>\n",
       "      <td id=\"T_b07d8_row2_col2\" class=\"data row2 col2\" >1.000000</td>\n",
       "      <td id=\"T_b07d8_row2_col3\" class=\"data row2 col3\" >0.038177</td>\n",
       "      <td id=\"T_b07d8_row2_col4\" class=\"data row2 col4\" >-0.081641</td>\n",
       "      <td id=\"T_b07d8_row2_col5\" class=\"data row2 col5\" >0.079294</td>\n",
       "      <td id=\"T_b07d8_row2_col6\" class=\"data row2 col6\" >0.043581</td>\n",
       "      <td id=\"T_b07d8_row2_col7\" class=\"data row2 col7\" >0.306839</td>\n",
       "      <td id=\"T_b07d8_row2_col8\" class=\"data row2 col8\" >-0.401513</td>\n",
       "      <td id=\"T_b07d8_row2_col9\" class=\"data row2 col9\" >-0.174733</td>\n",
       "      <td id=\"T_b07d8_row2_col10\" class=\"data row2 col10\" >0.131633</td>\n",
       "      <td id=\"T_b07d8_row2_col11\" class=\"data row2 col11\" >-0.176206</td>\n",
       "      <td id=\"T_b07d8_row2_col12\" class=\"data row2 col12\" >-0.163341</td>\n",
       "      <td id=\"T_b07d8_row2_col13\" class=\"data row2 col13\" >0.434854</td>\n",
       "    </tr>\n",
       "    <tr>\n",
       "      <th id=\"T_b07d8_level0_row3\" class=\"row_heading level0 row3\" >trestbps</th>\n",
       "      <td id=\"T_b07d8_row3_col0\" class=\"data row3 col0\" >0.271121</td>\n",
       "      <td id=\"T_b07d8_row3_col1\" class=\"data row3 col1\" >-0.078974</td>\n",
       "      <td id=\"T_b07d8_row3_col2\" class=\"data row3 col2\" >0.038177</td>\n",
       "      <td id=\"T_b07d8_row3_col3\" class=\"data row3 col3\" >1.000000</td>\n",
       "      <td id=\"T_b07d8_row3_col4\" class=\"data row3 col4\" >0.127977</td>\n",
       "      <td id=\"T_b07d8_row3_col5\" class=\"data row3 col5\" >0.181767</td>\n",
       "      <td id=\"T_b07d8_row3_col6\" class=\"data row3 col6\" >-0.123794</td>\n",
       "      <td id=\"T_b07d8_row3_col7\" class=\"data row3 col7\" >-0.039264</td>\n",
       "      <td id=\"T_b07d8_row3_col8\" class=\"data row3 col8\" >0.061197</td>\n",
       "      <td id=\"T_b07d8_row3_col9\" class=\"data row3 col9\" >0.187434</td>\n",
       "      <td id=\"T_b07d8_row3_col10\" class=\"data row3 col10\" >-0.120445</td>\n",
       "      <td id=\"T_b07d8_row3_col11\" class=\"data row3 col11\" >0.104554</td>\n",
       "      <td id=\"T_b07d8_row3_col12\" class=\"data row3 col12\" >0.059276</td>\n",
       "      <td id=\"T_b07d8_row3_col13\" class=\"data row3 col13\" >-0.138772</td>\n",
       "    </tr>\n",
       "    <tr>\n",
       "      <th id=\"T_b07d8_level0_row4\" class=\"row_heading level0 row4\" >chol</th>\n",
       "      <td id=\"T_b07d8_row4_col0\" class=\"data row4 col0\" >0.219823</td>\n",
       "      <td id=\"T_b07d8_row4_col1\" class=\"data row4 col1\" >-0.198258</td>\n",
       "      <td id=\"T_b07d8_row4_col2\" class=\"data row4 col2\" >-0.081641</td>\n",
       "      <td id=\"T_b07d8_row4_col3\" class=\"data row4 col3\" >0.127977</td>\n",
       "      <td id=\"T_b07d8_row4_col4\" class=\"data row4 col4\" >1.000000</td>\n",
       "      <td id=\"T_b07d8_row4_col5\" class=\"data row4 col5\" >0.026917</td>\n",
       "      <td id=\"T_b07d8_row4_col6\" class=\"data row4 col6\" >-0.147410</td>\n",
       "      <td id=\"T_b07d8_row4_col7\" class=\"data row4 col7\" >-0.021772</td>\n",
       "      <td id=\"T_b07d8_row4_col8\" class=\"data row4 col8\" >0.067382</td>\n",
       "      <td id=\"T_b07d8_row4_col9\" class=\"data row4 col9\" >0.064880</td>\n",
       "      <td id=\"T_b07d8_row4_col10\" class=\"data row4 col10\" >-0.014248</td>\n",
       "      <td id=\"T_b07d8_row4_col11\" class=\"data row4 col11\" >0.074259</td>\n",
       "      <td id=\"T_b07d8_row4_col12\" class=\"data row4 col12\" >0.100244</td>\n",
       "      <td id=\"T_b07d8_row4_col13\" class=\"data row4 col13\" >-0.099966</td>\n",
       "    </tr>\n",
       "    <tr>\n",
       "      <th id=\"T_b07d8_level0_row5\" class=\"row_heading level0 row5\" >fbs</th>\n",
       "      <td id=\"T_b07d8_row5_col0\" class=\"data row5 col0\" >0.121243</td>\n",
       "      <td id=\"T_b07d8_row5_col1\" class=\"data row5 col1\" >0.027200</td>\n",
       "      <td id=\"T_b07d8_row5_col2\" class=\"data row5 col2\" >0.079294</td>\n",
       "      <td id=\"T_b07d8_row5_col3\" class=\"data row5 col3\" >0.181767</td>\n",
       "      <td id=\"T_b07d8_row5_col4\" class=\"data row5 col4\" >0.026917</td>\n",
       "      <td id=\"T_b07d8_row5_col5\" class=\"data row5 col5\" >1.000000</td>\n",
       "      <td id=\"T_b07d8_row5_col6\" class=\"data row5 col6\" >-0.104051</td>\n",
       "      <td id=\"T_b07d8_row5_col7\" class=\"data row5 col7\" >-0.008866</td>\n",
       "      <td id=\"T_b07d8_row5_col8\" class=\"data row5 col8\" >0.049261</td>\n",
       "      <td id=\"T_b07d8_row5_col9\" class=\"data row5 col9\" >0.010859</td>\n",
       "      <td id=\"T_b07d8_row5_col10\" class=\"data row5 col10\" >-0.061902</td>\n",
       "      <td id=\"T_b07d8_row5_col11\" class=\"data row5 col11\" >0.137156</td>\n",
       "      <td id=\"T_b07d8_row5_col12\" class=\"data row5 col12\" >-0.042177</td>\n",
       "      <td id=\"T_b07d8_row5_col13\" class=\"data row5 col13\" >-0.041164</td>\n",
       "    </tr>\n",
       "    <tr>\n",
       "      <th id=\"T_b07d8_level0_row6\" class=\"row_heading level0 row6\" >restecg</th>\n",
       "      <td id=\"T_b07d8_row6_col0\" class=\"data row6 col0\" >-0.132696</td>\n",
       "      <td id=\"T_b07d8_row6_col1\" class=\"data row6 col1\" >-0.055117</td>\n",
       "      <td id=\"T_b07d8_row6_col2\" class=\"data row6 col2\" >0.043581</td>\n",
       "      <td id=\"T_b07d8_row6_col3\" class=\"data row6 col3\" >-0.123794</td>\n",
       "      <td id=\"T_b07d8_row6_col4\" class=\"data row6 col4\" >-0.147410</td>\n",
       "      <td id=\"T_b07d8_row6_col5\" class=\"data row6 col5\" >-0.104051</td>\n",
       "      <td id=\"T_b07d8_row6_col6\" class=\"data row6 col6\" >1.000000</td>\n",
       "      <td id=\"T_b07d8_row6_col7\" class=\"data row6 col7\" >0.048411</td>\n",
       "      <td id=\"T_b07d8_row6_col8\" class=\"data row6 col8\" >-0.065606</td>\n",
       "      <td id=\"T_b07d8_row6_col9\" class=\"data row6 col9\" >-0.050114</td>\n",
       "      <td id=\"T_b07d8_row6_col10\" class=\"data row6 col10\" >0.086086</td>\n",
       "      <td id=\"T_b07d8_row6_col11\" class=\"data row6 col11\" >-0.078072</td>\n",
       "      <td id=\"T_b07d8_row6_col12\" class=\"data row6 col12\" >-0.020504</td>\n",
       "      <td id=\"T_b07d8_row6_col13\" class=\"data row6 col13\" >0.134468</td>\n",
       "    </tr>\n",
       "    <tr>\n",
       "      <th id=\"T_b07d8_level0_row7\" class=\"row_heading level0 row7\" >thalach</th>\n",
       "      <td id=\"T_b07d8_row7_col0\" class=\"data row7 col0\" >-0.390227</td>\n",
       "      <td id=\"T_b07d8_row7_col1\" class=\"data row7 col1\" >-0.049365</td>\n",
       "      <td id=\"T_b07d8_row7_col2\" class=\"data row7 col2\" >0.306839</td>\n",
       "      <td id=\"T_b07d8_row7_col3\" class=\"data row7 col3\" >-0.039264</td>\n",
       "      <td id=\"T_b07d8_row7_col4\" class=\"data row7 col4\" >-0.021772</td>\n",
       "      <td id=\"T_b07d8_row7_col5\" class=\"data row7 col5\" >-0.008866</td>\n",
       "      <td id=\"T_b07d8_row7_col6\" class=\"data row7 col6\" >0.048411</td>\n",
       "      <td id=\"T_b07d8_row7_col7\" class=\"data row7 col7\" >1.000000</td>\n",
       "      <td id=\"T_b07d8_row7_col8\" class=\"data row7 col8\" >-0.380281</td>\n",
       "      <td id=\"T_b07d8_row7_col9\" class=\"data row7 col9\" >-0.349796</td>\n",
       "      <td id=\"T_b07d8_row7_col10\" class=\"data row7 col10\" >0.395308</td>\n",
       "      <td id=\"T_b07d8_row7_col11\" class=\"data row7 col11\" >-0.207888</td>\n",
       "      <td id=\"T_b07d8_row7_col12\" class=\"data row7 col12\" >-0.098068</td>\n",
       "      <td id=\"T_b07d8_row7_col13\" class=\"data row7 col13\" >0.422895</td>\n",
       "    </tr>\n",
       "    <tr>\n",
       "      <th id=\"T_b07d8_level0_row8\" class=\"row_heading level0 row8\" >exang</th>\n",
       "      <td id=\"T_b07d8_row8_col0\" class=\"data row8 col0\" >0.088163</td>\n",
       "      <td id=\"T_b07d8_row8_col1\" class=\"data row8 col1\" >0.139157</td>\n",
       "      <td id=\"T_b07d8_row8_col2\" class=\"data row8 col2\" >-0.401513</td>\n",
       "      <td id=\"T_b07d8_row8_col3\" class=\"data row8 col3\" >0.061197</td>\n",
       "      <td id=\"T_b07d8_row8_col4\" class=\"data row8 col4\" >0.067382</td>\n",
       "      <td id=\"T_b07d8_row8_col5\" class=\"data row8 col5\" >0.049261</td>\n",
       "      <td id=\"T_b07d8_row8_col6\" class=\"data row8 col6\" >-0.065606</td>\n",
       "      <td id=\"T_b07d8_row8_col7\" class=\"data row8 col7\" >-0.380281</td>\n",
       "      <td id=\"T_b07d8_row8_col8\" class=\"data row8 col8\" >1.000000</td>\n",
       "      <td id=\"T_b07d8_row8_col9\" class=\"data row8 col9\" >0.310844</td>\n",
       "      <td id=\"T_b07d8_row8_col10\" class=\"data row8 col10\" >-0.267335</td>\n",
       "      <td id=\"T_b07d8_row8_col11\" class=\"data row8 col11\" >0.107849</td>\n",
       "      <td id=\"T_b07d8_row8_col12\" class=\"data row8 col12\" >0.197201</td>\n",
       "      <td id=\"T_b07d8_row8_col13\" class=\"data row8 col13\" >-0.438029</td>\n",
       "    </tr>\n",
       "    <tr>\n",
       "      <th id=\"T_b07d8_level0_row9\" class=\"row_heading level0 row9\" >oldpeak</th>\n",
       "      <td id=\"T_b07d8_row9_col0\" class=\"data row9 col0\" >0.208137</td>\n",
       "      <td id=\"T_b07d8_row9_col1\" class=\"data row9 col1\" >0.084687</td>\n",
       "      <td id=\"T_b07d8_row9_col2\" class=\"data row9 col2\" >-0.174733</td>\n",
       "      <td id=\"T_b07d8_row9_col3\" class=\"data row9 col3\" >0.187434</td>\n",
       "      <td id=\"T_b07d8_row9_col4\" class=\"data row9 col4\" >0.064880</td>\n",
       "      <td id=\"T_b07d8_row9_col5\" class=\"data row9 col5\" >0.010859</td>\n",
       "      <td id=\"T_b07d8_row9_col6\" class=\"data row9 col6\" >-0.050114</td>\n",
       "      <td id=\"T_b07d8_row9_col7\" class=\"data row9 col7\" >-0.349796</td>\n",
       "      <td id=\"T_b07d8_row9_col8\" class=\"data row9 col8\" >0.310844</td>\n",
       "      <td id=\"T_b07d8_row9_col9\" class=\"data row9 col9\" >1.000000</td>\n",
       "      <td id=\"T_b07d8_row9_col10\" class=\"data row9 col10\" >-0.575189</td>\n",
       "      <td id=\"T_b07d8_row9_col11\" class=\"data row9 col11\" >0.221816</td>\n",
       "      <td id=\"T_b07d8_row9_col12\" class=\"data row9 col12\" >0.202672</td>\n",
       "      <td id=\"T_b07d8_row9_col13\" class=\"data row9 col13\" >-0.438441</td>\n",
       "    </tr>\n",
       "    <tr>\n",
       "      <th id=\"T_b07d8_level0_row10\" class=\"row_heading level0 row10\" >slope</th>\n",
       "      <td id=\"T_b07d8_row10_col0\" class=\"data row10 col0\" >-0.169105</td>\n",
       "      <td id=\"T_b07d8_row10_col1\" class=\"data row10 col1\" >-0.026666</td>\n",
       "      <td id=\"T_b07d8_row10_col2\" class=\"data row10 col2\" >0.131633</td>\n",
       "      <td id=\"T_b07d8_row10_col3\" class=\"data row10 col3\" >-0.120445</td>\n",
       "      <td id=\"T_b07d8_row10_col4\" class=\"data row10 col4\" >-0.014248</td>\n",
       "      <td id=\"T_b07d8_row10_col5\" class=\"data row10 col5\" >-0.061902</td>\n",
       "      <td id=\"T_b07d8_row10_col6\" class=\"data row10 col6\" >0.086086</td>\n",
       "      <td id=\"T_b07d8_row10_col7\" class=\"data row10 col7\" >0.395308</td>\n",
       "      <td id=\"T_b07d8_row10_col8\" class=\"data row10 col8\" >-0.267335</td>\n",
       "      <td id=\"T_b07d8_row10_col9\" class=\"data row10 col9\" >-0.575189</td>\n",
       "      <td id=\"T_b07d8_row10_col10\" class=\"data row10 col10\" >1.000000</td>\n",
       "      <td id=\"T_b07d8_row10_col11\" class=\"data row10 col11\" >-0.073440</td>\n",
       "      <td id=\"T_b07d8_row10_col12\" class=\"data row10 col12\" >-0.094090</td>\n",
       "      <td id=\"T_b07d8_row10_col13\" class=\"data row10 col13\" >0.345512</td>\n",
       "    </tr>\n",
       "    <tr>\n",
       "      <th id=\"T_b07d8_level0_row11\" class=\"row_heading level0 row11\" >ca</th>\n",
       "      <td id=\"T_b07d8_row11_col0\" class=\"data row11 col0\" >0.271551</td>\n",
       "      <td id=\"T_b07d8_row11_col1\" class=\"data row11 col1\" >0.111729</td>\n",
       "      <td id=\"T_b07d8_row11_col2\" class=\"data row11 col2\" >-0.176206</td>\n",
       "      <td id=\"T_b07d8_row11_col3\" class=\"data row11 col3\" >0.104554</td>\n",
       "      <td id=\"T_b07d8_row11_col4\" class=\"data row11 col4\" >0.074259</td>\n",
       "      <td id=\"T_b07d8_row11_col5\" class=\"data row11 col5\" >0.137156</td>\n",
       "      <td id=\"T_b07d8_row11_col6\" class=\"data row11 col6\" >-0.078072</td>\n",
       "      <td id=\"T_b07d8_row11_col7\" class=\"data row11 col7\" >-0.207888</td>\n",
       "      <td id=\"T_b07d8_row11_col8\" class=\"data row11 col8\" >0.107849</td>\n",
       "      <td id=\"T_b07d8_row11_col9\" class=\"data row11 col9\" >0.221816</td>\n",
       "      <td id=\"T_b07d8_row11_col10\" class=\"data row11 col10\" >-0.073440</td>\n",
       "      <td id=\"T_b07d8_row11_col11\" class=\"data row11 col11\" >1.000000</td>\n",
       "      <td id=\"T_b07d8_row11_col12\" class=\"data row11 col12\" >0.149014</td>\n",
       "      <td id=\"T_b07d8_row11_col13\" class=\"data row11 col13\" >-0.382085</td>\n",
       "    </tr>\n",
       "    <tr>\n",
       "      <th id=\"T_b07d8_level0_row12\" class=\"row_heading level0 row12\" >thal</th>\n",
       "      <td id=\"T_b07d8_row12_col0\" class=\"data row12 col0\" >0.072297</td>\n",
       "      <td id=\"T_b07d8_row12_col1\" class=\"data row12 col1\" >0.198424</td>\n",
       "      <td id=\"T_b07d8_row12_col2\" class=\"data row12 col2\" >-0.163341</td>\n",
       "      <td id=\"T_b07d8_row12_col3\" class=\"data row12 col3\" >0.059276</td>\n",
       "      <td id=\"T_b07d8_row12_col4\" class=\"data row12 col4\" >0.100244</td>\n",
       "      <td id=\"T_b07d8_row12_col5\" class=\"data row12 col5\" >-0.042177</td>\n",
       "      <td id=\"T_b07d8_row12_col6\" class=\"data row12 col6\" >-0.020504</td>\n",
       "      <td id=\"T_b07d8_row12_col7\" class=\"data row12 col7\" >-0.098068</td>\n",
       "      <td id=\"T_b07d8_row12_col8\" class=\"data row12 col8\" >0.197201</td>\n",
       "      <td id=\"T_b07d8_row12_col9\" class=\"data row12 col9\" >0.202672</td>\n",
       "      <td id=\"T_b07d8_row12_col10\" class=\"data row12 col10\" >-0.094090</td>\n",
       "      <td id=\"T_b07d8_row12_col11\" class=\"data row12 col11\" >0.149014</td>\n",
       "      <td id=\"T_b07d8_row12_col12\" class=\"data row12 col12\" >1.000000</td>\n",
       "      <td id=\"T_b07d8_row12_col13\" class=\"data row12 col13\" >-0.337838</td>\n",
       "    </tr>\n",
       "    <tr>\n",
       "      <th id=\"T_b07d8_level0_row13\" class=\"row_heading level0 row13\" >target</th>\n",
       "      <td id=\"T_b07d8_row13_col0\" class=\"data row13 col0\" >-0.229324</td>\n",
       "      <td id=\"T_b07d8_row13_col1\" class=\"data row13 col1\" >-0.279501</td>\n",
       "      <td id=\"T_b07d8_row13_col2\" class=\"data row13 col2\" >0.434854</td>\n",
       "      <td id=\"T_b07d8_row13_col3\" class=\"data row13 col3\" >-0.138772</td>\n",
       "      <td id=\"T_b07d8_row13_col4\" class=\"data row13 col4\" >-0.099966</td>\n",
       "      <td id=\"T_b07d8_row13_col5\" class=\"data row13 col5\" >-0.041164</td>\n",
       "      <td id=\"T_b07d8_row13_col6\" class=\"data row13 col6\" >0.134468</td>\n",
       "      <td id=\"T_b07d8_row13_col7\" class=\"data row13 col7\" >0.422895</td>\n",
       "      <td id=\"T_b07d8_row13_col8\" class=\"data row13 col8\" >-0.438029</td>\n",
       "      <td id=\"T_b07d8_row13_col9\" class=\"data row13 col9\" >-0.438441</td>\n",
       "      <td id=\"T_b07d8_row13_col10\" class=\"data row13 col10\" >0.345512</td>\n",
       "      <td id=\"T_b07d8_row13_col11\" class=\"data row13 col11\" >-0.382085</td>\n",
       "      <td id=\"T_b07d8_row13_col12\" class=\"data row13 col12\" >-0.337838</td>\n",
       "      <td id=\"T_b07d8_row13_col13\" class=\"data row13 col13\" >1.000000</td>\n",
       "    </tr>\n",
       "  </tbody>\n",
       "</table>\n"
      ],
      "text/plain": [
       "<pandas.io.formats.style.Styler at 0x217c2d952e0>"
      ]
     },
     "execution_count": 8,
     "metadata": {},
     "output_type": "execute_result"
    }
   ],
   "source": [
    "corr = df.corr(method=\"pearson\")\n",
    "cmap = sns.cm.vlag_r\n",
    "corr.style.background_gradient(cmap=cmap)"
   ]
  },
  {
   "cell_type": "markdown",
   "id": "a2740fd4",
   "metadata": {},
   "source": [
    "Here is a numeric overview of the different correlations. From this we can get a sense of which values have the highest either positive or negative correlation with \"target\" which is whether or not a person has a heart disease. We would like to take a closer look at the most noticable values."
   ]
  },
  {
   "cell_type": "markdown",
   "id": "42e3eb98",
   "metadata": {},
   "source": [
    "#### \"cp\" - Chest pain type \n",
    "With a correlation coefficient of 0.435"
   ]
  },
  {
   "cell_type": "code",
   "execution_count": 9,
   "id": "9d5f04c4",
   "metadata": {},
   "outputs": [
    {
     "data": {
      "text/html": [
       "<div>\n",
       "<style scoped>\n",
       "    .dataframe tbody tr th:only-of-type {\n",
       "        vertical-align: middle;\n",
       "    }\n",
       "\n",
       "    .dataframe tbody tr th {\n",
       "        vertical-align: top;\n",
       "    }\n",
       "\n",
       "    .dataframe thead th {\n",
       "        text-align: right;\n",
       "    }\n",
       "</style>\n",
       "<table border=\"1\" class=\"dataframe\">\n",
       "  <thead>\n",
       "    <tr style=\"text-align: right;\">\n",
       "      <th></th>\n",
       "      <th>age</th>\n",
       "      <th>sex</th>\n",
       "      <th>trestbps</th>\n",
       "      <th>chol</th>\n",
       "      <th>fbs</th>\n",
       "      <th>restecg</th>\n",
       "      <th>thalach</th>\n",
       "      <th>exang</th>\n",
       "      <th>oldpeak</th>\n",
       "      <th>slope</th>\n",
       "      <th>ca</th>\n",
       "      <th>thal</th>\n",
       "      <th>target</th>\n",
       "    </tr>\n",
       "    <tr>\n",
       "      <th>cp</th>\n",
       "      <th></th>\n",
       "      <th></th>\n",
       "      <th></th>\n",
       "      <th></th>\n",
       "      <th></th>\n",
       "      <th></th>\n",
       "      <th></th>\n",
       "      <th></th>\n",
       "      <th></th>\n",
       "      <th></th>\n",
       "      <th></th>\n",
       "      <th></th>\n",
       "      <th></th>\n",
       "    </tr>\n",
       "  </thead>\n",
       "  <tbody>\n",
       "    <tr>\n",
       "      <th>0</th>\n",
       "      <td>55.784708</td>\n",
       "      <td>0.732394</td>\n",
       "      <td>132.213280</td>\n",
       "      <td>249.993964</td>\n",
       "      <td>0.132797</td>\n",
       "      <td>0.480885</td>\n",
       "      <td>140.052314</td>\n",
       "      <td>0.569416</td>\n",
       "      <td>1.438833</td>\n",
       "      <td>1.243461</td>\n",
       "      <td>0.981891</td>\n",
       "      <td>2.454728</td>\n",
       "      <td>0.245473</td>\n",
       "    </tr>\n",
       "    <tr>\n",
       "      <th>1</th>\n",
       "      <td>51.245509</td>\n",
       "      <td>0.658683</td>\n",
       "      <td>128.119760</td>\n",
       "      <td>244.700599</td>\n",
       "      <td>0.095808</td>\n",
       "      <td>0.616766</td>\n",
       "      <td>162.179641</td>\n",
       "      <td>0.071856</td>\n",
       "      <td>0.323952</td>\n",
       "      <td>1.658683</td>\n",
       "      <td>0.425150</td>\n",
       "      <td>2.155689</td>\n",
       "      <td>0.802395</td>\n",
       "    </tr>\n",
       "    <tr>\n",
       "      <th>2</th>\n",
       "      <td>53.517606</td>\n",
       "      <td>0.616197</td>\n",
       "      <td>130.077465</td>\n",
       "      <td>242.197183</td>\n",
       "      <td>0.193662</td>\n",
       "      <td>0.598592</td>\n",
       "      <td>155.116197</td>\n",
       "      <td>0.130282</td>\n",
       "      <td>0.784507</td>\n",
       "      <td>1.507042</td>\n",
       "      <td>0.619718</td>\n",
       "      <td>2.211268</td>\n",
       "      <td>0.771127</td>\n",
       "    </tr>\n",
       "    <tr>\n",
       "      <th>3</th>\n",
       "      <td>56.012987</td>\n",
       "      <td>0.831169</td>\n",
       "      <td>140.961039</td>\n",
       "      <td>237.064935</td>\n",
       "      <td>0.207792</td>\n",
       "      <td>0.402597</td>\n",
       "      <td>157.129870</td>\n",
       "      <td>0.168831</td>\n",
       "      <td>1.380519</td>\n",
       "      <td>1.259740</td>\n",
       "      <td>0.493506</td>\n",
       "      <td>2.259740</td>\n",
       "      <td>0.662338</td>\n",
       "    </tr>\n",
       "  </tbody>\n",
       "</table>\n",
       "</div>"
      ],
      "text/plain": [
       "          age       sex    trestbps        chol       fbs   restecg  \\\n",
       "cp                                                                    \n",
       "0   55.784708  0.732394  132.213280  249.993964  0.132797  0.480885   \n",
       "1   51.245509  0.658683  128.119760  244.700599  0.095808  0.616766   \n",
       "2   53.517606  0.616197  130.077465  242.197183  0.193662  0.598592   \n",
       "3   56.012987  0.831169  140.961039  237.064935  0.207792  0.402597   \n",
       "\n",
       "       thalach     exang   oldpeak     slope        ca      thal    target  \n",
       "cp                                                                          \n",
       "0   140.052314  0.569416  1.438833  1.243461  0.981891  2.454728  0.245473  \n",
       "1   162.179641  0.071856  0.323952  1.658683  0.425150  2.155689  0.802395  \n",
       "2   155.116197  0.130282  0.784507  1.507042  0.619718  2.211268  0.771127  \n",
       "3   157.129870  0.168831  1.380519  1.259740  0.493506  2.259740  0.662338  "
      ]
     },
     "execution_count": 9,
     "metadata": {},
     "output_type": "execute_result"
    }
   ],
   "source": [
    "chestPain = df.groupby('cp').mean()\n",
    "chestPain"
   ]
  },
  {
   "cell_type": "code",
   "execution_count": 10,
   "id": "f4ed1c58",
   "metadata": {},
   "outputs": [
    {
     "data": {
      "text/plain": [
       "<AxesSubplot:xlabel='Chest pain type'>"
      ]
     },
     "execution_count": 10,
     "metadata": {},
     "output_type": "execute_result"
    },
    {
     "data": {
      "image/png": "[encoded data removed]",
      "text/plain": [
       "<Figure size 432x288 with 1 Axes>"
      ]
     },
     "metadata": {
      "needs_background": "light"
     },
     "output_type": "display_data"
    }
   ],
   "source": [
    "# plot\n",
    "chestPain['target'].plot.bar(xlabel=\"Chest pain type\")"
   ]
  },
  {
   "cell_type": "markdown",
   "id": "016f9fe8",
   "metadata": {},
   "source": [
    "In this chart we can see a clear distinction between the different types of chest pain and whether or not a person has heart disease. Based on this chart looks like there might be a difference between chest pain type 0 and the rest."
   ]
  },
  {
   "cell_type": "markdown",
   "id": "c3284c5e",
   "metadata": {},
   "source": [
    " "
   ]
  },
  {
   "cell_type": "markdown",
   "id": "a77ea2f1",
   "metadata": {},
   "source": [
    "#### exang - Exercise induced angina\n",
    "With a correlation coefficient of -0.4380"
   ]
  },
  {
   "cell_type": "code",
   "execution_count": 11,
   "id": "c8e99883",
   "metadata": {},
   "outputs": [
    {
     "data": {
      "text/html": [
       "<div>\n",
       "<style scoped>\n",
       "    .dataframe tbody tr th:only-of-type {\n",
       "        vertical-align: middle;\n",
       "    }\n",
       "\n",
       "    .dataframe tbody tr th {\n",
       "        vertical-align: top;\n",
       "    }\n",
       "\n",
       "    .dataframe thead th {\n",
       "        text-align: right;\n",
       "    }\n",
       "</style>\n",
       "<table border=\"1\" class=\"dataframe\">\n",
       "  <thead>\n",
       "    <tr style=\"text-align: right;\">\n",
       "      <th></th>\n",
       "      <th>age</th>\n",
       "      <th>sex</th>\n",
       "      <th>cp</th>\n",
       "      <th>trestbps</th>\n",
       "      <th>chol</th>\n",
       "      <th>fbs</th>\n",
       "      <th>restecg</th>\n",
       "      <th>thalach</th>\n",
       "      <th>oldpeak</th>\n",
       "      <th>slope</th>\n",
       "      <th>ca</th>\n",
       "      <th>thal</th>\n",
       "      <th>target</th>\n",
       "    </tr>\n",
       "    <tr>\n",
       "      <th>exang</th>\n",
       "      <th></th>\n",
       "      <th></th>\n",
       "      <th></th>\n",
       "      <th></th>\n",
       "      <th></th>\n",
       "      <th></th>\n",
       "      <th></th>\n",
       "      <th></th>\n",
       "      <th></th>\n",
       "      <th></th>\n",
       "      <th></th>\n",
       "      <th></th>\n",
       "      <th></th>\n",
       "    </tr>\n",
       "  </thead>\n",
       "  <tbody>\n",
       "    <tr>\n",
       "      <th>0</th>\n",
       "      <td>53.864706</td>\n",
       "      <td>0.650000</td>\n",
       "      <td>1.236765</td>\n",
       "      <td>130.848529</td>\n",
       "      <td>243.525000</td>\n",
       "      <td>0.136765</td>\n",
       "      <td>0.554412</td>\n",
       "      <td>155.342647</td>\n",
       "      <td>0.811471</td>\n",
       "      <td>1.502941</td>\n",
       "      <td>0.675000</td>\n",
       "      <td>2.236765</td>\n",
       "      <td>0.669118</td>\n",
       "    </tr>\n",
       "    <tr>\n",
       "      <th>1</th>\n",
       "      <td>55.556522</td>\n",
       "      <td>0.785507</td>\n",
       "      <td>0.362319</td>\n",
       "      <td>133.115942</td>\n",
       "      <td>250.878261</td>\n",
       "      <td>0.173913</td>\n",
       "      <td>0.481159</td>\n",
       "      <td>136.837681</td>\n",
       "      <td>1.584058</td>\n",
       "      <td>1.153623</td>\n",
       "      <td>0.910145</td>\n",
       "      <td>2.495652</td>\n",
       "      <td>0.205797</td>\n",
       "    </tr>\n",
       "  </tbody>\n",
       "</table>\n",
       "</div>"
      ],
      "text/plain": [
       "             age       sex        cp    trestbps        chol       fbs  \\\n",
       "exang                                                                    \n",
       "0      53.864706  0.650000  1.236765  130.848529  243.525000  0.136765   \n",
       "1      55.556522  0.785507  0.362319  133.115942  250.878261  0.173913   \n",
       "\n",
       "        restecg     thalach   oldpeak     slope        ca      thal    target  \n",
       "exang                                                                          \n",
       "0      0.554412  155.342647  0.811471  1.502941  0.675000  2.236765  0.669118  \n",
       "1      0.481159  136.837681  1.584058  1.153623  0.910145  2.495652  0.205797  "
      ]
     },
     "execution_count": 11,
     "metadata": {},
     "output_type": "execute_result"
    }
   ],
   "source": [
    "exangina = df.groupby('exang').mean()\n",
    "exangina"
   ]
  },
  {
   "cell_type": "code",
   "execution_count": 12,
   "id": "a7e7eebd",
   "metadata": {},
   "outputs": [
    {
     "data": {
      "text/plain": [
       "<AxesSubplot:xlabel='exang'>"
      ]
     },
     "execution_count": 12,
     "metadata": {},
     "output_type": "execute_result"
    },
    {
     "data": {
      "image/png": "[encoded data removed]",
      "text/plain": [
       "<Figure size 432x288 with 1 Axes>"
      ]
     },
     "metadata": {
      "needs_background": "light"
     },
     "output_type": "display_data"
    }
   ],
   "source": [
    "exangina[\"target\"].plot.bar()"
   ]
  },
  {
   "cell_type": "markdown",
   "id": "4396ffb8",
   "metadata": {},
   "source": [
    "Based on this chart there seems to be a strong negative correlation between whether a person gets exercise enduced angina and if they have a heart disease. So it seems to indicate that if a person gets exercise enduces angina, then they have a lower risk of having a heart disease."
   ]
  },
  {
   "cell_type": "markdown",
   "id": "134b56d9",
   "metadata": {},
   "source": [
    " "
   ]
  },
  {
   "cell_type": "markdown",
   "id": "47b6a7aa",
   "metadata": {},
   "source": [
    "#### thalach - Maximum heart rate achieved\n",
    "With a correlation coefficient of 0.423"
   ]
  },
  {
   "cell_type": "code",
   "execution_count": 13,
   "id": "3f8a5b2a",
   "metadata": {},
   "outputs": [
    {
     "data": {
      "text/html": [
       "<div>\n",
       "<style scoped>\n",
       "    .dataframe tbody tr th:only-of-type {\n",
       "        vertical-align: middle;\n",
       "    }\n",
       "\n",
       "    .dataframe tbody tr th {\n",
       "        vertical-align: top;\n",
       "    }\n",
       "\n",
       "    .dataframe thead th {\n",
       "        text-align: right;\n",
       "    }\n",
       "</style>\n",
       "<table border=\"1\" class=\"dataframe\">\n",
       "  <thead>\n",
       "    <tr style=\"text-align: right;\">\n",
       "      <th></th>\n",
       "      <th>age</th>\n",
       "      <th>sex</th>\n",
       "      <th>cp</th>\n",
       "      <th>trestbps</th>\n",
       "      <th>chol</th>\n",
       "      <th>fbs</th>\n",
       "      <th>restecg</th>\n",
       "      <th>exang</th>\n",
       "      <th>oldpeak</th>\n",
       "      <th>slope</th>\n",
       "      <th>ca</th>\n",
       "      <th>thal</th>\n",
       "      <th>target</th>\n",
       "    </tr>\n",
       "    <tr>\n",
       "      <th>thalach</th>\n",
       "      <th></th>\n",
       "      <th></th>\n",
       "      <th></th>\n",
       "      <th></th>\n",
       "      <th></th>\n",
       "      <th></th>\n",
       "      <th></th>\n",
       "      <th></th>\n",
       "      <th></th>\n",
       "      <th></th>\n",
       "      <th></th>\n",
       "      <th></th>\n",
       "      <th></th>\n",
       "    </tr>\n",
       "  </thead>\n",
       "  <tbody>\n",
       "    <tr>\n",
       "      <th>71</th>\n",
       "      <td>67.000000</td>\n",
       "      <td>1.000000</td>\n",
       "      <td>0.000000</td>\n",
       "      <td>120.0</td>\n",
       "      <td>237.000000</td>\n",
       "      <td>0.000000</td>\n",
       "      <td>1.000000</td>\n",
       "      <td>0.000000</td>\n",
       "      <td>1.000000</td>\n",
       "      <td>1.000000</td>\n",
       "      <td>0.000000</td>\n",
       "      <td>2.0</td>\n",
       "      <td>0.000000</td>\n",
       "    </tr>\n",
       "    <tr>\n",
       "      <th>88</th>\n",
       "      <td>57.000000</td>\n",
       "      <td>1.000000</td>\n",
       "      <td>0.000000</td>\n",
       "      <td>152.0</td>\n",
       "      <td>274.000000</td>\n",
       "      <td>0.000000</td>\n",
       "      <td>1.000000</td>\n",
       "      <td>1.000000</td>\n",
       "      <td>1.200000</td>\n",
       "      <td>1.000000</td>\n",
       "      <td>1.000000</td>\n",
       "      <td>3.0</td>\n",
       "      <td>0.000000</td>\n",
       "    </tr>\n",
       "    <tr>\n",
       "      <th>90</th>\n",
       "      <td>59.000000</td>\n",
       "      <td>1.000000</td>\n",
       "      <td>0.000000</td>\n",
       "      <td>164.0</td>\n",
       "      <td>176.000000</td>\n",
       "      <td>1.000000</td>\n",
       "      <td>0.000000</td>\n",
       "      <td>0.000000</td>\n",
       "      <td>1.000000</td>\n",
       "      <td>1.000000</td>\n",
       "      <td>2.000000</td>\n",
       "      <td>1.0</td>\n",
       "      <td>0.000000</td>\n",
       "    </tr>\n",
       "    <tr>\n",
       "      <th>95</th>\n",
       "      <td>53.000000</td>\n",
       "      <td>1.000000</td>\n",
       "      <td>0.000000</td>\n",
       "      <td>123.0</td>\n",
       "      <td>282.000000</td>\n",
       "      <td>0.000000</td>\n",
       "      <td>1.000000</td>\n",
       "      <td>1.000000</td>\n",
       "      <td>2.000000</td>\n",
       "      <td>1.000000</td>\n",
       "      <td>2.000000</td>\n",
       "      <td>3.0</td>\n",
       "      <td>0.000000</td>\n",
       "    </tr>\n",
       "    <tr>\n",
       "      <th>96</th>\n",
       "      <td>62.285714</td>\n",
       "      <td>0.571429</td>\n",
       "      <td>0.857143</td>\n",
       "      <td>120.0</td>\n",
       "      <td>216.857143</td>\n",
       "      <td>0.428571</td>\n",
       "      <td>0.428571</td>\n",
       "      <td>0.571429</td>\n",
       "      <td>1.257143</td>\n",
       "      <td>0.857143</td>\n",
       "      <td>0.571429</td>\n",
       "      <td>2.0</td>\n",
       "      <td>0.428571</td>\n",
       "    </tr>\n",
       "  </tbody>\n",
       "</table>\n",
       "</div>"
      ],
      "text/plain": [
       "               age       sex        cp  trestbps        chol       fbs  \\\n",
       "thalach                                                                  \n",
       "71       67.000000  1.000000  0.000000     120.0  237.000000  0.000000   \n",
       "88       57.000000  1.000000  0.000000     152.0  274.000000  0.000000   \n",
       "90       59.000000  1.000000  0.000000     164.0  176.000000  1.000000   \n",
       "95       53.000000  1.000000  0.000000     123.0  282.000000  0.000000   \n",
       "96       62.285714  0.571429  0.857143     120.0  216.857143  0.428571   \n",
       "\n",
       "          restecg     exang   oldpeak     slope        ca  thal    target  \n",
       "thalach                                                                    \n",
       "71       1.000000  0.000000  1.000000  1.000000  0.000000   2.0  0.000000  \n",
       "88       1.000000  1.000000  1.200000  1.000000  1.000000   3.0  0.000000  \n",
       "90       0.000000  0.000000  1.000000  1.000000  2.000000   1.0  0.000000  \n",
       "95       1.000000  1.000000  2.000000  1.000000  2.000000   3.0  0.000000  \n",
       "96       0.428571  0.571429  1.257143  0.857143  0.571429   2.0  0.428571  "
      ]
     },
     "execution_count": 13,
     "metadata": {},
     "output_type": "execute_result"
    }
   ],
   "source": [
    "maxHR = df.groupby('thalach').mean()\n",
    "maxHR.head()"
   ]
  },
  {
   "cell_type": "code",
   "execution_count": 14,
   "id": "b9746997",
   "metadata": {},
   "outputs": [
    {
     "data": {
      "text/plain": [
       "<AxesSubplot:xlabel='Max heart rate'>"
      ]
     },
     "execution_count": 14,
     "metadata": {},
     "output_type": "execute_result"
    },
    {
     "data": {
      "image/png": "[encoded data removed]",
      "text/plain": [
       "<Figure size 1080x576 with 1 Axes>"
      ]
     },
     "metadata": {
      "needs_background": "light"
     },
     "output_type": "display_data"
    }
   ],
   "source": [
    "maxHR[\"target\"].plot.bar(xlabel=\"Max heart rate\", figsize=(15,8))"
   ]
  },
  {
   "cell_type": "markdown",
   "id": "5ac128ff",
   "metadata": {},
   "source": [
    "Based on this chart there seems to be a general increase increase in heart disease entries the higher the max heart rate is. So this seems to indicate that the higher your maximum heart rate can go, the more likely you are to have heart disease."
   ]
  },
  {
   "cell_type": "markdown",
   "id": "b8ebf9c2",
   "metadata": {},
   "source": [
    " "
   ]
  },
  {
   "cell_type": "markdown",
   "id": "9a202ee5",
   "metadata": {},
   "source": [
    "#### oldpeak - ST depression induced by exercise relative to rest\n",
    "With correlation coefficient -0.4384"
   ]
  },
  {
   "cell_type": "code",
   "execution_count": 15,
   "id": "13f5abee",
   "metadata": {},
   "outputs": [
    {
     "data": {
      "text/html": [
       "<div>\n",
       "<style scoped>\n",
       "    .dataframe tbody tr th:only-of-type {\n",
       "        vertical-align: middle;\n",
       "    }\n",
       "\n",
       "    .dataframe tbody tr th {\n",
       "        vertical-align: top;\n",
       "    }\n",
       "\n",
       "    .dataframe thead th {\n",
       "        text-align: right;\n",
       "    }\n",
       "</style>\n",
       "<table border=\"1\" class=\"dataframe\">\n",
       "  <thead>\n",
       "    <tr style=\"text-align: right;\">\n",
       "      <th></th>\n",
       "      <th>age</th>\n",
       "      <th>sex</th>\n",
       "      <th>cp</th>\n",
       "      <th>trestbps</th>\n",
       "      <th>chol</th>\n",
       "      <th>fbs</th>\n",
       "      <th>restecg</th>\n",
       "      <th>thalach</th>\n",
       "      <th>exang</th>\n",
       "      <th>slope</th>\n",
       "      <th>ca</th>\n",
       "      <th>thal</th>\n",
       "      <th>target</th>\n",
       "    </tr>\n",
       "    <tr>\n",
       "      <th>oldpeak</th>\n",
       "      <th></th>\n",
       "      <th></th>\n",
       "      <th></th>\n",
       "      <th></th>\n",
       "      <th></th>\n",
       "      <th></th>\n",
       "      <th></th>\n",
       "      <th></th>\n",
       "      <th></th>\n",
       "      <th></th>\n",
       "      <th></th>\n",
       "      <th></th>\n",
       "      <th></th>\n",
       "    </tr>\n",
       "  </thead>\n",
       "  <tbody>\n",
       "    <tr>\n",
       "      <th>0.0</th>\n",
       "      <td>50.753799</td>\n",
       "      <td>0.662614</td>\n",
       "      <td>1.079027</td>\n",
       "      <td>128.911854</td>\n",
       "      <td>240.431611</td>\n",
       "      <td>0.121581</td>\n",
       "      <td>0.562310</td>\n",
       "      <td>162.188450</td>\n",
       "      <td>0.185410</td>\n",
       "      <td>1.832827</td>\n",
       "      <td>0.550152</td>\n",
       "      <td>2.136778</td>\n",
       "      <td>0.735562</td>\n",
       "    </tr>\n",
       "    <tr>\n",
       "      <th>0.1</th>\n",
       "      <td>55.869565</td>\n",
       "      <td>0.869565</td>\n",
       "      <td>0.652174</td>\n",
       "      <td>121.391304</td>\n",
       "      <td>222.869565</td>\n",
       "      <td>0.391304</td>\n",
       "      <td>0.434783</td>\n",
       "      <td>145.695652</td>\n",
       "      <td>0.304348</td>\n",
       "      <td>1.608696</td>\n",
       "      <td>1.391304</td>\n",
       "      <td>2.434783</td>\n",
       "      <td>0.521739</td>\n",
       "    </tr>\n",
       "    <tr>\n",
       "      <th>0.2</th>\n",
       "      <td>56.567568</td>\n",
       "      <td>0.513514</td>\n",
       "      <td>1.216216</td>\n",
       "      <td>135.378378</td>\n",
       "      <td>254.918919</td>\n",
       "      <td>0.162162</td>\n",
       "      <td>0.648649</td>\n",
       "      <td>149.027027</td>\n",
       "      <td>0.324324</td>\n",
       "      <td>1.405405</td>\n",
       "      <td>0.405405</td>\n",
       "      <td>2.513514</td>\n",
       "      <td>0.729730</td>\n",
       "    </tr>\n",
       "    <tr>\n",
       "      <th>0.3</th>\n",
       "      <td>56.100000</td>\n",
       "      <td>0.400000</td>\n",
       "      <td>1.000000</td>\n",
       "      <td>116.800000</td>\n",
       "      <td>243.900000</td>\n",
       "      <td>0.000000</td>\n",
       "      <td>1.000000</td>\n",
       "      <td>143.700000</td>\n",
       "      <td>0.000000</td>\n",
       "      <td>1.700000</td>\n",
       "      <td>0.900000</td>\n",
       "      <td>2.400000</td>\n",
       "      <td>0.600000</td>\n",
       "    </tr>\n",
       "    <tr>\n",
       "      <th>0.4</th>\n",
       "      <td>58.133333</td>\n",
       "      <td>0.800000</td>\n",
       "      <td>0.966667</td>\n",
       "      <td>129.733333</td>\n",
       "      <td>241.266667</td>\n",
       "      <td>0.000000</td>\n",
       "      <td>0.533333</td>\n",
       "      <td>151.100000</td>\n",
       "      <td>0.100000</td>\n",
       "      <td>1.300000</td>\n",
       "      <td>0.866667</td>\n",
       "      <td>2.400000</td>\n",
       "      <td>0.866667</td>\n",
       "    </tr>\n",
       "  </tbody>\n",
       "</table>\n",
       "</div>"
      ],
      "text/plain": [
       "               age       sex        cp    trestbps        chol       fbs  \\\n",
       "oldpeak                                                                    \n",
       "0.0      50.753799  0.662614  1.079027  128.911854  240.431611  0.121581   \n",
       "0.1      55.869565  0.869565  0.652174  121.391304  222.869565  0.391304   \n",
       "0.2      56.567568  0.513514  1.216216  135.378378  254.918919  0.162162   \n",
       "0.3      56.100000  0.400000  1.000000  116.800000  243.900000  0.000000   \n",
       "0.4      58.133333  0.800000  0.966667  129.733333  241.266667  0.000000   \n",
       "\n",
       "          restecg     thalach     exang     slope        ca      thal  \\\n",
       "oldpeak                                                                 \n",
       "0.0      0.562310  162.188450  0.185410  1.832827  0.550152  2.136778   \n",
       "0.1      0.434783  145.695652  0.304348  1.608696  1.391304  2.434783   \n",
       "0.2      0.648649  149.027027  0.324324  1.405405  0.405405  2.513514   \n",
       "0.3      1.000000  143.700000  0.000000  1.700000  0.900000  2.400000   \n",
       "0.4      0.533333  151.100000  0.100000  1.300000  0.866667  2.400000   \n",
       "\n",
       "           target  \n",
       "oldpeak            \n",
       "0.0      0.735562  \n",
       "0.1      0.521739  \n",
       "0.2      0.729730  \n",
       "0.3      0.600000  \n",
       "0.4      0.866667  "
      ]
     },
     "execution_count": 15,
     "metadata": {},
     "output_type": "execute_result"
    }
   ],
   "source": [
    "st = df.groupby('oldpeak').mean()\n",
    "st.head()"
   ]
  },
  {
   "cell_type": "code",
   "execution_count": 16,
   "id": "8c0c09e5",
   "metadata": {},
   "outputs": [
    {
     "data": {
      "text/plain": [
       "<AxesSubplot:xlabel='ST depression induced by exercise relative to rest'>"
      ]
     },
     "execution_count": 16,
     "metadata": {},
     "output_type": "execute_result"
    },
    {
     "data": {
      "image/png": "[encoded data removed]",
      "text/plain": [
       "<Figure size 720x576 with 1 Axes>"
      ]
     },
     "metadata": {
      "needs_background": "light"
     },
     "output_type": "display_data"
    }
   ],
   "source": [
    "st[\"target\"].plot.bar(xlabel=\"ST depression induced by exercise relative to rest\", figsize=(10,8))"
   ]
  },
  {
   "cell_type": "markdown",
   "id": "cfbefd78",
   "metadata": {},
   "source": [
    "On this graph we see a drop in cases with heart disease the higher the value of ST depression. This seems to indicate that people with higher levels of ST depression have a lower chance of having a heart disease."
   ]
  },
  {
   "cell_type": "markdown",
   "id": "cfc848d4",
   "metadata": {},
   "source": [
    "#### Dimensionality reduction"
   ]
  },
  {
   "cell_type": "markdown",
   "id": "2383d6e0",
   "metadata": {},
   "source": [
    "Now we believe it would be smart to standarize our data, because we have wide spread data values."
   ]
  },
  {
   "cell_type": "code",
   "execution_count": 97,
   "id": "9da5acdd",
   "metadata": {},
   "outputs": [],
   "source": [
    "from sklearn.preprocessing import StandardScaler\n",
    "features = df.columns\n",
    "# Separating out the features\n",
    "x = df.loc[:, features].values\n",
    "# Separating out the target\n",
    "y = df.loc[:,['target']].values\n",
    "# Standardizing the features\n",
    "x = StandardScaler().fit_transform(x)"
   ]
  },
  {
   "cell_type": "markdown",
   "id": "35de8878",
   "metadata": {},
   "source": [
    "With this we should have prepared this dataset for machine learning and the modeling we will proceed with."
   ]
  }
 ],
 "metadata": {
  "kernelspec": {
   "display_name": "Python 3 (ipykernel)",
   "language": "python",
   "name": "python3"
  },
  "language_info": {
   "codemirror_mode": {
    "name": "ipython",
    "version": 3
   },
   "file_extension": ".py",
   "mimetype": "text/x-python",
   "name": "python",
   "nbconvert_exporter": "python",
   "pygments_lexer": "ipython3",
   "version": "3.9.7"
  }
 },
 "nbformat": 4,
 "nbformat_minor": 5
}
