{
 "cells": [
  {
   "cell_type": "markdown",
   "id": "5fd41466",
   "metadata": {},
   "source": [
    "# Dataset 2 - Heart Disease 2020"
   ]
  },
  {
   "cell_type": "code",
   "execution_count": 190,
   "id": "02fbbe0c",
   "metadata": {},
   "outputs": [],
   "source": [
    "#imports\n",
    "import pandas as pd\n",
    "import numpy as np\n",
    "from sklearn import datasets, svm, tree, preprocessing, metrics\n",
    "import statistics"
   ]
  },
  {
   "cell_type": "markdown",
   "id": "68f1a749",
   "metadata": {},
   "source": [
    "## 1. Downloading and understanding the data"
   ]
  },
  {
   "cell_type": "code",
   "execution_count": 191,
   "id": "43452d0f",
   "metadata": {},
   "outputs": [
    {
     "name": "stdout",
     "output_type": "stream",
     "text": [
      "(319795, 18)\n"
     ]
    },
    {
     "data": {
      "text/html": [
       "<div>\n",
       "<style scoped>\n",
       "    .dataframe tbody tr th:only-of-type {\n",
       "        vertical-align: middle;\n",
       "    }\n",
       "\n",
       "    .dataframe tbody tr th {\n",
       "        vertical-align: top;\n",
       "    }\n",
       "\n",
       "    .dataframe thead th {\n",
       "        text-align: right;\n",
       "    }\n",
       "</style>\n",
       "<table border=\"1\" class=\"dataframe\">\n",
       "  <thead>\n",
       "    <tr style=\"text-align: right;\">\n",
       "      <th></th>\n",
       "      <th>HeartDisease</th>\n",
       "      <th>BMI</th>\n",
       "      <th>Smoking</th>\n",
       "      <th>AlcoholDrinking</th>\n",
       "      <th>Stroke</th>\n",
       "      <th>PhysicalHealth</th>\n",
       "      <th>MentalHealth</th>\n",
       "      <th>DiffWalking</th>\n",
       "      <th>Sex</th>\n",
       "      <th>AgeCategory</th>\n",
       "      <th>Race</th>\n",
       "      <th>Diabetic</th>\n",
       "      <th>PhysicalActivity</th>\n",
       "      <th>GenHealth</th>\n",
       "      <th>SleepTime</th>\n",
       "      <th>Asthma</th>\n",
       "      <th>KidneyDisease</th>\n",
       "      <th>SkinCancer</th>\n",
       "    </tr>\n",
       "  </thead>\n",
       "  <tbody>\n",
       "    <tr>\n",
       "      <th>0</th>\n",
       "      <td>No</td>\n",
       "      <td>16.60</td>\n",
       "      <td>Yes</td>\n",
       "      <td>No</td>\n",
       "      <td>No</td>\n",
       "      <td>3.0</td>\n",
       "      <td>30.0</td>\n",
       "      <td>No</td>\n",
       "      <td>Female</td>\n",
       "      <td>55-59</td>\n",
       "      <td>White</td>\n",
       "      <td>Yes</td>\n",
       "      <td>Yes</td>\n",
       "      <td>Very good</td>\n",
       "      <td>5.0</td>\n",
       "      <td>Yes</td>\n",
       "      <td>No</td>\n",
       "      <td>Yes</td>\n",
       "    </tr>\n",
       "    <tr>\n",
       "      <th>1</th>\n",
       "      <td>No</td>\n",
       "      <td>20.34</td>\n",
       "      <td>No</td>\n",
       "      <td>No</td>\n",
       "      <td>Yes</td>\n",
       "      <td>0.0</td>\n",
       "      <td>0.0</td>\n",
       "      <td>No</td>\n",
       "      <td>Female</td>\n",
       "      <td>80 or older</td>\n",
       "      <td>White</td>\n",
       "      <td>No</td>\n",
       "      <td>Yes</td>\n",
       "      <td>Very good</td>\n",
       "      <td>7.0</td>\n",
       "      <td>No</td>\n",
       "      <td>No</td>\n",
       "      <td>No</td>\n",
       "    </tr>\n",
       "    <tr>\n",
       "      <th>2</th>\n",
       "      <td>No</td>\n",
       "      <td>26.58</td>\n",
       "      <td>Yes</td>\n",
       "      <td>No</td>\n",
       "      <td>No</td>\n",
       "      <td>20.0</td>\n",
       "      <td>30.0</td>\n",
       "      <td>No</td>\n",
       "      <td>Male</td>\n",
       "      <td>65-69</td>\n",
       "      <td>White</td>\n",
       "      <td>Yes</td>\n",
       "      <td>Yes</td>\n",
       "      <td>Fair</td>\n",
       "      <td>8.0</td>\n",
       "      <td>Yes</td>\n",
       "      <td>No</td>\n",
       "      <td>No</td>\n",
       "    </tr>\n",
       "    <tr>\n",
       "      <th>3</th>\n",
       "      <td>No</td>\n",
       "      <td>24.21</td>\n",
       "      <td>No</td>\n",
       "      <td>No</td>\n",
       "      <td>No</td>\n",
       "      <td>0.0</td>\n",
       "      <td>0.0</td>\n",
       "      <td>No</td>\n",
       "      <td>Female</td>\n",
       "      <td>75-79</td>\n",
       "      <td>White</td>\n",
       "      <td>No</td>\n",
       "      <td>No</td>\n",
       "      <td>Good</td>\n",
       "      <td>6.0</td>\n",
       "      <td>No</td>\n",
       "      <td>No</td>\n",
       "      <td>Yes</td>\n",
       "    </tr>\n",
       "    <tr>\n",
       "      <th>4</th>\n",
       "      <td>No</td>\n",
       "      <td>23.71</td>\n",
       "      <td>No</td>\n",
       "      <td>No</td>\n",
       "      <td>No</td>\n",
       "      <td>28.0</td>\n",
       "      <td>0.0</td>\n",
       "      <td>Yes</td>\n",
       "      <td>Female</td>\n",
       "      <td>40-44</td>\n",
       "      <td>White</td>\n",
       "      <td>No</td>\n",
       "      <td>Yes</td>\n",
       "      <td>Very good</td>\n",
       "      <td>8.0</td>\n",
       "      <td>No</td>\n",
       "      <td>No</td>\n",
       "      <td>No</td>\n",
       "    </tr>\n",
       "  </tbody>\n",
       "</table>\n",
       "</div>"
      ],
      "text/plain": [
       "  HeartDisease    BMI Smoking AlcoholDrinking Stroke  PhysicalHealth  \\\n",
       "0           No  16.60     Yes              No     No             3.0   \n",
       "1           No  20.34      No              No    Yes             0.0   \n",
       "2           No  26.58     Yes              No     No            20.0   \n",
       "3           No  24.21      No              No     No             0.0   \n",
       "4           No  23.71      No              No     No            28.0   \n",
       "\n",
       "   MentalHealth DiffWalking     Sex  AgeCategory   Race Diabetic  \\\n",
       "0          30.0          No  Female        55-59  White      Yes   \n",
       "1           0.0          No  Female  80 or older  White       No   \n",
       "2          30.0          No    Male        65-69  White      Yes   \n",
       "3           0.0          No  Female        75-79  White       No   \n",
       "4           0.0         Yes  Female        40-44  White       No   \n",
       "\n",
       "  PhysicalActivity  GenHealth  SleepTime Asthma KidneyDisease SkinCancer  \n",
       "0              Yes  Very good        5.0    Yes            No        Yes  \n",
       "1              Yes  Very good        7.0     No            No         No  \n",
       "2              Yes       Fair        8.0    Yes            No         No  \n",
       "3               No       Good        6.0     No            No        Yes  \n",
       "4              Yes  Very good        8.0     No            No         No  "
      ]
     },
     "execution_count": 191,
     "metadata": {},
     "output_type": "execute_result"
    }
   ],
   "source": [
    "#First, the data is read with pandas, and the head of the data is viewed. \n",
    "df = pd.read_csv('datasets/heart_2020_cleaned.csv')\n",
    "print(df2.shape)\n",
    "df.head()"
   ]
  },
  {
   "cell_type": "code",
   "execution_count": 192,
   "id": "d509e420",
   "metadata": {},
   "outputs": [
    {
     "name": "stdout",
     "output_type": "stream",
     "text": [
      "<class 'pandas.core.frame.DataFrame'>\n",
      "RangeIndex: 319795 entries, 0 to 319794\n",
      "Data columns (total 18 columns):\n",
      " #   Column            Non-Null Count   Dtype  \n",
      "---  ------            --------------   -----  \n",
      " 0   HeartDisease      319795 non-null  object \n",
      " 1   BMI               319795 non-null  float64\n",
      " 2   Smoking           319795 non-null  object \n",
      " 3   AlcoholDrinking   319795 non-null  object \n",
      " 4   Stroke            319795 non-null  object \n",
      " 5   PhysicalHealth    319795 non-null  float64\n",
      " 6   MentalHealth      319795 non-null  float64\n",
      " 7   DiffWalking       319795 non-null  object \n",
      " 8   Sex               319795 non-null  object \n",
      " 9   AgeCategory       319795 non-null  object \n",
      " 10  Race              319795 non-null  object \n",
      " 11  Diabetic          319795 non-null  object \n",
      " 12  PhysicalActivity  319795 non-null  object \n",
      " 13  GenHealth         319795 non-null  object \n",
      " 14  SleepTime         319795 non-null  float64\n",
      " 15  Asthma            319795 non-null  object \n",
      " 16  KidneyDisease     319795 non-null  object \n",
      " 17  SkinCancer        319795 non-null  object \n",
      "dtypes: float64(4), object(14)\n",
      "memory usage: 43.9+ MB\n"
     ]
    }
   ],
   "source": [
    "#The head showed different type of values, let's look at all the different types.\n",
    "#There are no null values but many different types.\n",
    "df.info()"
   ]
  },
  {
   "cell_type": "code",
   "execution_count": 193,
   "id": "f03a65ee",
   "metadata": {},
   "outputs": [
    {
     "data": {
      "text/html": [
       "<div>\n",
       "<style scoped>\n",
       "    .dataframe tbody tr th:only-of-type {\n",
       "        vertical-align: middle;\n",
       "    }\n",
       "\n",
       "    .dataframe tbody tr th {\n",
       "        vertical-align: top;\n",
       "    }\n",
       "\n",
       "    .dataframe thead th {\n",
       "        text-align: right;\n",
       "    }\n",
       "</style>\n",
       "<table border=\"1\" class=\"dataframe\">\n",
       "  <thead>\n",
       "    <tr style=\"text-align: right;\">\n",
       "      <th></th>\n",
       "      <th>BMI</th>\n",
       "      <th>PhysicalHealth</th>\n",
       "      <th>MentalHealth</th>\n",
       "      <th>SleepTime</th>\n",
       "    </tr>\n",
       "  </thead>\n",
       "  <tbody>\n",
       "    <tr>\n",
       "      <th>count</th>\n",
       "      <td>319795.000000</td>\n",
       "      <td>319795.00000</td>\n",
       "      <td>319795.000000</td>\n",
       "      <td>319795.000000</td>\n",
       "    </tr>\n",
       "    <tr>\n",
       "      <th>mean</th>\n",
       "      <td>28.325399</td>\n",
       "      <td>3.37171</td>\n",
       "      <td>3.898366</td>\n",
       "      <td>7.097075</td>\n",
       "    </tr>\n",
       "    <tr>\n",
       "      <th>std</th>\n",
       "      <td>6.356100</td>\n",
       "      <td>7.95085</td>\n",
       "      <td>7.955235</td>\n",
       "      <td>1.436007</td>\n",
       "    </tr>\n",
       "    <tr>\n",
       "      <th>min</th>\n",
       "      <td>12.020000</td>\n",
       "      <td>0.00000</td>\n",
       "      <td>0.000000</td>\n",
       "      <td>1.000000</td>\n",
       "    </tr>\n",
       "    <tr>\n",
       "      <th>25%</th>\n",
       "      <td>24.030000</td>\n",
       "      <td>0.00000</td>\n",
       "      <td>0.000000</td>\n",
       "      <td>6.000000</td>\n",
       "    </tr>\n",
       "    <tr>\n",
       "      <th>50%</th>\n",
       "      <td>27.340000</td>\n",
       "      <td>0.00000</td>\n",
       "      <td>0.000000</td>\n",
       "      <td>7.000000</td>\n",
       "    </tr>\n",
       "    <tr>\n",
       "      <th>75%</th>\n",
       "      <td>31.420000</td>\n",
       "      <td>2.00000</td>\n",
       "      <td>3.000000</td>\n",
       "      <td>8.000000</td>\n",
       "    </tr>\n",
       "    <tr>\n",
       "      <th>max</th>\n",
       "      <td>94.850000</td>\n",
       "      <td>30.00000</td>\n",
       "      <td>30.000000</td>\n",
       "      <td>24.000000</td>\n",
       "    </tr>\n",
       "  </tbody>\n",
       "</table>\n",
       "</div>"
      ],
      "text/plain": [
       "                 BMI  PhysicalHealth   MentalHealth      SleepTime\n",
       "count  319795.000000    319795.00000  319795.000000  319795.000000\n",
       "mean       28.325399         3.37171       3.898366       7.097075\n",
       "std         6.356100         7.95085       7.955235       1.436007\n",
       "min        12.020000         0.00000       0.000000       1.000000\n",
       "25%        24.030000         0.00000       0.000000       6.000000\n",
       "50%        27.340000         0.00000       0.000000       7.000000\n",
       "75%        31.420000         2.00000       3.000000       8.000000\n",
       "max        94.850000        30.00000      30.000000      24.000000"
      ]
     },
     "execution_count": 193,
     "metadata": {},
     "output_type": "execute_result"
    }
   ],
   "source": [
    "#By descibing the data, we see that BMI has a higher value than the rest. and Standard deviation is low for SleepTime.\n",
    "#This means that we might have to standardize the data later, so it fits better with a model.\n",
    "df.describe()"
   ]
  },
  {
   "cell_type": "code",
   "execution_count": 194,
   "id": "cc8d113f",
   "metadata": {},
   "outputs": [
    {
     "data": {
      "text/plain": [
       "array([[<AxesSubplot:title={'center':'BMI'}>,\n",
       "        <AxesSubplot:title={'center':'PhysicalHealth'}>],\n",
       "       [<AxesSubplot:title={'center':'MentalHealth'}>,\n",
       "        <AxesSubplot:title={'center':'SleepTime'}>]], dtype=object)"
      ]
     },
     "execution_count": 194,
     "metadata": {},
     "output_type": "execute_result"
    },
    {
     "data": {
      "image/png": "[encoded data removed]",
      "text/plain": [
       "<Figure size 720x576 with 4 Axes>"
      ]
     },
     "metadata": {
      "needs_background": "light"
     },
     "output_type": "display_data"
    }
   ],
   "source": [
    "#Let's create a histogram, to get an idea of potentioal outliers, and knowlegde, by vizualising the data.\n",
    "#The histogram show that there might be a few outliers on PhsycalHealth and MentalHealth, however the data might be imoprtant,\n",
    "#since the context is health, and we want to look at people with high value for there parameters aswell.\n",
    "df.hist(bins= 40, figsize=(10, 8))"
   ]
  },
  {
   "cell_type": "code",
   "execution_count": 195,
   "id": "13b844c2",
   "metadata": {},
   "outputs": [
    {
     "data": {
      "text/plain": [
       "<AxesSubplot:xlabel='BMI'>"
      ]
     },
     "execution_count": 195,
     "metadata": {},
     "output_type": "execute_result"
    },
    {
     "data": {
      "image/png": "[encoded data removed]",
      "text/plain": [
       "<Figure size 432x288 with 1 Axes>"
      ]
     },
     "metadata": {
      "needs_background": "light"
     },
     "output_type": "display_data"
    }
   ],
   "source": [
    "import seaborn as sns\n",
    "#Looking at BMI, we can se an outlier with very low BMI, let's remove that.\n",
    "sns.boxplot(x = df['BMI'])"
   ]
  },
  {
   "cell_type": "code",
   "execution_count": 196,
   "id": "ef60e7eb",
   "metadata": {},
   "outputs": [
    {
     "data": {
      "text/plain": [
       "<AxesSubplot:xlabel='BMI'>"
      ]
     },
     "execution_count": 196,
     "metadata": {},
     "output_type": "execute_result"
    },
    {
     "data": {
      "image/png": "[encoded data removed]",
      "text/plain": [
       "<Figure size 432x288 with 1 Axes>"
      ]
     },
     "metadata": {
      "needs_background": "light"
     },
     "output_type": "display_data"
    }
   ],
   "source": [
    "#SHOW COUNT OF < 13\n",
    "df.drop(df.index[df['BMI'] < 13], inplace=True)\n",
    "sns.boxplot(x = df['BMI'])"
   ]
  },
  {
   "cell_type": "markdown",
   "id": "ed11a2a6",
   "metadata": {},
   "source": [
    "## 2. Data preparation"
   ]
  },
  {
   "cell_type": "code",
   "execution_count": 198,
   "id": "5604668a",
   "metadata": {},
   "outputs": [],
   "source": [
    "#Now we encode the object values from Object to Integer or float, so it fits with machine learning alhorithms.\n",
    "\n",
    "#Function to encode 'Yes/No' to '1/0'.\n",
    "def boolEncode(s):\n",
    "    result = s.map(dict(Yes=1, No=0))\n",
    "    return result\n",
    "\n",
    "#Function to encode age from Category to mean of individual category range.\n",
    "def ageEncode(s):\n",
    "    result = []\n",
    "    for i in s:\n",
    "        if (\"-\" in str(i)):\n",
    "            split = i.split(\"-\")\n",
    "            newAge = statistics.mean([int(split[0]), int(split[1])])\n",
    "        else:\n",
    "            newAge = 80\n",
    "            \n",
    "        result.append(newAge)   \n",
    "    \n",
    "    return result\n",
    "\n",
    "#Function to preprocess a dataframe, and return a copy of encoded df.\n",
    "def preprocessor(df):\n",
    "    processed_df = df.copy()\n",
    "    le = preprocessing.LabelEncoder()\n",
    "    #LabelEncode categorical data.\n",
    "    processed_df.Sex = le.fit_transform(df.Sex)\n",
    "    processed_df.Race = le.fit_transform(df.Race)\n",
    "    processed_df.GenHealth = le.fit_transform(df.GenHealth)\n",
    "    #Encode 'Yes/No' to '1/0'\n",
    "    processed_df.HeartDisease = boolEncode(df.HeartDisease)\n",
    "    processed_df.Smoking = boolEncode(df.Smoking)\n",
    "    processed_df.AlcoholDrinking = boolEncode(df.AlcoholDrinking)\n",
    "    processed_df.Stroke = boolEncode(df.Stroke)\n",
    "    processed_df.DiffWalking = boolEncode(df.DiffWalking)\n",
    "    processed_df.Diabetic = boolEncode(df.Diabetic)\n",
    "    processed_df.PhysicalActivity = boolEncode(df.PhysicalActivity)\n",
    "    processed_df.Asthma = boolEncode(df.Asthma)\n",
    "    processed_df.KidneyDisease = boolEncode(df.KidneyDisease)\n",
    "    processed_df.SkinCancer = boolEncode(df.SkinCancer)\n",
    "    #Encode the age to mean of category\n",
    "    processed_df.AgeCategory = ageEncode(df.AgeCategory)\n",
    "    return processed_df\n",
    "\n",
    "\n",
    "p_df = preprocessor(df)"
   ]
  },
  {
   "cell_type": "code",
   "execution_count": 110,
   "id": "80d67223",
   "metadata": {},
   "outputs": [
    {
     "data": {
      "text/plain": [
       "HeartDisease          int64\n",
       "BMI                 float64\n",
       "Smoking               int64\n",
       "AlcoholDrinking       int64\n",
       "Stroke                int64\n",
       "PhysicalHealth      float64\n",
       "MentalHealth        float64\n",
       "DiffWalking           int64\n",
       "Sex                   int32\n",
       "AgeCategory           int64\n",
       "Race                  int32\n",
       "Diabetic            float64\n",
       "PhysicalActivity      int64\n",
       "GenHealth             int32\n",
       "SleepTime           float64\n",
       "Asthma                int64\n",
       "KidneyDisease         int64\n",
       "SkinCancer            int64\n",
       "dtype: object"
      ]
     },
     "execution_count": 110,
     "metadata": {},
     "output_type": "execute_result"
    }
   ],
   "source": [
    "#Looking at the new types, we see that they are all of type int64 or float64, which means that it is ready for further evaluation.\n",
    "p_df.dtypes"
   ]
  },
  {
   "cell_type": "markdown",
   "id": "44a5e813",
   "metadata": {},
   "source": [
    "## 3. Splitting the data into training and test set"
   ]
  },
  {
   "cell_type": "code",
   "execution_count": 116,
   "id": "6472076f",
   "metadata": {},
   "outputs": [
    {
     "name": "stdout",
     "output_type": "stream",
     "text": [
      "255836 train + 63959 test\n"
     ]
    }
   ],
   "source": [
    "#We need to have a training and a test set, so we can train a model, and test it.\n",
    "#In this case, we splitting the data into 80% training, and 20% test.\n",
    "#from sklearn.model_selection import train_test_split\n",
    "#train_set, test_set = train_test_split(p_df, test_size=0.2, random_state=42)\n",
    "#print(len(train_set), \"train +\", len(test_set), \"test\")"
   ]
  },
  {
   "cell_type": "markdown",
   "id": "103a4d65",
   "metadata": {},
   "source": [
    "## 4. vizualising the data to gain insights"
   ]
  },
  {
   "cell_type": "code",
   "execution_count": 117,
   "id": "da2a0363",
   "metadata": {},
   "outputs": [],
   "source": [
    "#First we copy the train and test set into new variables\n",
    "#heart = train_set.copy()\n",
    "#heart_test = test_set.copy()"
   ]
  },
  {
   "cell_type": "code",
   "execution_count": 128,
   "id": "4594c08e",
   "metadata": {},
   "outputs": [
    {
     "data": {
      "text/plain": [
       "<AxesSubplot:xlabel='AgeCategory', ylabel='HeartDisease'>"
      ]
     },
     "execution_count": 128,
     "metadata": {},
     "output_type": "execute_result"
    },
    {
     "data": {
      "image/png": "[encoded data removed]",
      "text/plain": [
       "<Figure size 432x288 with 1 Axes>"
      ]
     },
     "metadata": {
      "needs_background": "light"
     },
     "output_type": "display_data"
    }
   ],
   "source": [
    "import matplotlib.pyplot as plt\n",
    "#alpha highlighst the density\n",
    "heart.plot(kind=\"scatter\", x=\"AgeCategory\", y=\"HeartDisease\")"
   ]
  },
  {
   "cell_type": "code",
   "execution_count": 122,
   "id": "b97f5e07",
   "metadata": {},
   "outputs": [
    {
     "data": {
      "text/plain": [
       "HeartDisease        1.000000\n",
       "AgeCategory         0.231388\n",
       "DiffWalking         0.202147\n",
       "Stroke              0.194949\n",
       "Diabetic            0.188987\n",
       "PhysicalHealth      0.171283\n",
       "KidneyDisease       0.145840\n",
       "Smoking             0.107845\n",
       "SkinCancer          0.093149\n",
       "Sex                 0.072051\n",
       "BMI                 0.052843\n",
       "Asthma              0.040402\n",
       "Race                0.034098\n",
       "MentalHealth        0.027226\n",
       "SleepTime           0.007824\n",
       "GenHealth          -0.010492\n",
       "AlcoholDrinking    -0.032734\n",
       "PhysicalActivity   -0.100227\n",
       "Name: HeartDisease, dtype: float64"
      ]
     },
     "execution_count": 122,
     "metadata": {},
     "output_type": "execute_result"
    }
   ],
   "source": [
    "#Let's look at the correlations for the Heart disease\n",
    "corr_matrix = heart.corr()\n",
    "corr_matrix[\"HeartDisease\"].sort_values(ascending=False)"
   ]
  },
  {
   "cell_type": "code",
   "execution_count": 126,
   "id": "d785723d",
   "metadata": {},
   "outputs": [
    {
     "data": {
      "text/plain": [
       "array([[<AxesSubplot:xlabel='HeartDisease', ylabel='HeartDisease'>,\n",
       "        <AxesSubplot:xlabel='AgeCategory', ylabel='HeartDisease'>,\n",
       "        <AxesSubplot:xlabel='DiffWalking', ylabel='HeartDisease'>,\n",
       "        <AxesSubplot:xlabel='Stroke', ylabel='HeartDisease'>,\n",
       "        <AxesSubplot:xlabel='Diabetic', ylabel='HeartDisease'>],\n",
       "       [<AxesSubplot:xlabel='HeartDisease', ylabel='AgeCategory'>,\n",
       "        <AxesSubplot:xlabel='AgeCategory', ylabel='AgeCategory'>,\n",
       "        <AxesSubplot:xlabel='DiffWalking', ylabel='AgeCategory'>,\n",
       "        <AxesSubplot:xlabel='Stroke', ylabel='AgeCategory'>,\n",
       "        <AxesSubplot:xlabel='Diabetic', ylabel='AgeCategory'>],\n",
       "       [<AxesSubplot:xlabel='HeartDisease', ylabel='DiffWalking'>,\n",
       "        <AxesSubplot:xlabel='AgeCategory', ylabel='DiffWalking'>,\n",
       "        <AxesSubplot:xlabel='DiffWalking', ylabel='DiffWalking'>,\n",
       "        <AxesSubplot:xlabel='Stroke', ylabel='DiffWalking'>,\n",
       "        <AxesSubplot:xlabel='Diabetic', ylabel='DiffWalking'>],\n",
       "       [<AxesSubplot:xlabel='HeartDisease', ylabel='Stroke'>,\n",
       "        <AxesSubplot:xlabel='AgeCategory', ylabel='Stroke'>,\n",
       "        <AxesSubplot:xlabel='DiffWalking', ylabel='Stroke'>,\n",
       "        <AxesSubplot:xlabel='Stroke', ylabel='Stroke'>,\n",
       "        <AxesSubplot:xlabel='Diabetic', ylabel='Stroke'>],\n",
       "       [<AxesSubplot:xlabel='HeartDisease', ylabel='Diabetic'>,\n",
       "        <AxesSubplot:xlabel='AgeCategory', ylabel='Diabetic'>,\n",
       "        <AxesSubplot:xlabel='DiffWalking', ylabel='Diabetic'>,\n",
       "        <AxesSubplot:xlabel='Stroke', ylabel='Diabetic'>,\n",
       "        <AxesSubplot:xlabel='Diabetic', ylabel='Diabetic'>]], dtype=object)"
      ]
     },
     "execution_count": 126,
     "metadata": {},
     "output_type": "execute_result"
    },
    {
     "data": {
      "image/png": "[encoded data removed]",
      "text/plain": [
       "<Figure size 864x576 with 25 Axes>"
      ]
     },
     "metadata": {
      "needs_background": "light"
     },
     "output_type": "display_data"
    }
   ],
   "source": [
    "from pandas.plotting import scatter_matrix\n",
    "attributes = [\"HeartDisease\",\"AgeCategory\", \"DiffWalking\", \"Stroke\", \"Diabetic\"]\n",
    "scatter_matrix(heart[attributes], figsize=(12, 8))"
   ]
  },
  {
   "cell_type": "code",
   "execution_count": null,
   "id": "7c85c04c",
   "metadata": {},
   "outputs": [],
   "source": [
    "#BAYES CLASSIFICATION?"
   ]
  }
 ],
 "metadata": {
  "kernelspec": {
   "display_name": "Python 3 (ipykernel)",
   "language": "python",
   "name": "python3"
  },
  "language_info": {
   "codemirror_mode": {
    "name": "ipython",
    "version": 3
   },
   "file_extension": ".py",
   "mimetype": "text/x-python",
   "name": "python",
   "nbconvert_exporter": "python",
   "pygments_lexer": "ipython3",
   "version": "3.9.7"
  }
 },
 "nbformat": 4,
 "nbformat_minor": 5
}
