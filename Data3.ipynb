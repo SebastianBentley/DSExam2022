{
 "cells": [
  {
   "cell_type": "code",
   "execution_count": 673,
   "id": "fe2bc0c6",
   "metadata": {},
   "outputs": [],
   "source": [
    "import pandas as pd\n",
    "import numpy as np\n",
    "import pandas_profiling\n",
    "# import libs for diagrams inline with the text\n",
    "import matplotlib.pyplot as plt\n",
    "%matplotlib inline\n",
    "import seaborn as sns\n",
    "\n",
    "# other utilities\n",
    "from sklearn import datasets, preprocessing, metrics"
   ]
  },
  {
   "cell_type": "code",
   "execution_count": 674,
   "id": "a6f7168d",
   "metadata": {},
   "outputs": [
    {
     "name": "stdout",
     "output_type": "stream",
     "text": [
      "(70000, 13)\n"
     ]
    },
    {
     "data": {
      "text/html": [
       "<div>\n",
       "<style scoped>\n",
       "    .dataframe tbody tr th:only-of-type {\n",
       "        vertical-align: middle;\n",
       "    }\n",
       "\n",
       "    .dataframe tbody tr th {\n",
       "        vertical-align: top;\n",
       "    }\n",
       "\n",
       "    .dataframe thead th {\n",
       "        text-align: right;\n",
       "    }\n",
       "</style>\n",
       "<table border=\"1\" class=\"dataframe\">\n",
       "  <thead>\n",
       "    <tr style=\"text-align: right;\">\n",
       "      <th></th>\n",
       "      <th>id</th>\n",
       "      <th>age</th>\n",
       "      <th>gender</th>\n",
       "      <th>height</th>\n",
       "      <th>weight</th>\n",
       "      <th>ap_hi</th>\n",
       "      <th>ap_lo</th>\n",
       "      <th>cholesterol</th>\n",
       "      <th>gluc</th>\n",
       "      <th>smoke</th>\n",
       "      <th>alco</th>\n",
       "      <th>active</th>\n",
       "      <th>cardio</th>\n",
       "    </tr>\n",
       "  </thead>\n",
       "  <tbody>\n",
       "    <tr>\n",
       "      <th>0</th>\n",
       "      <td>0</td>\n",
       "      <td>18393</td>\n",
       "      <td>2</td>\n",
       "      <td>168</td>\n",
       "      <td>62.0</td>\n",
       "      <td>110</td>\n",
       "      <td>80</td>\n",
       "      <td>1</td>\n",
       "      <td>1</td>\n",
       "      <td>0</td>\n",
       "      <td>0</td>\n",
       "      <td>1</td>\n",
       "      <td>0</td>\n",
       "    </tr>\n",
       "    <tr>\n",
       "      <th>1</th>\n",
       "      <td>1</td>\n",
       "      <td>20228</td>\n",
       "      <td>1</td>\n",
       "      <td>156</td>\n",
       "      <td>85.0</td>\n",
       "      <td>140</td>\n",
       "      <td>90</td>\n",
       "      <td>3</td>\n",
       "      <td>1</td>\n",
       "      <td>0</td>\n",
       "      <td>0</td>\n",
       "      <td>1</td>\n",
       "      <td>1</td>\n",
       "    </tr>\n",
       "    <tr>\n",
       "      <th>2</th>\n",
       "      <td>2</td>\n",
       "      <td>18857</td>\n",
       "      <td>1</td>\n",
       "      <td>165</td>\n",
       "      <td>64.0</td>\n",
       "      <td>130</td>\n",
       "      <td>70</td>\n",
       "      <td>3</td>\n",
       "      <td>1</td>\n",
       "      <td>0</td>\n",
       "      <td>0</td>\n",
       "      <td>0</td>\n",
       "      <td>1</td>\n",
       "    </tr>\n",
       "    <tr>\n",
       "      <th>3</th>\n",
       "      <td>3</td>\n",
       "      <td>17623</td>\n",
       "      <td>2</td>\n",
       "      <td>169</td>\n",
       "      <td>82.0</td>\n",
       "      <td>150</td>\n",
       "      <td>100</td>\n",
       "      <td>1</td>\n",
       "      <td>1</td>\n",
       "      <td>0</td>\n",
       "      <td>0</td>\n",
       "      <td>1</td>\n",
       "      <td>1</td>\n",
       "    </tr>\n",
       "    <tr>\n",
       "      <th>4</th>\n",
       "      <td>4</td>\n",
       "      <td>17474</td>\n",
       "      <td>1</td>\n",
       "      <td>156</td>\n",
       "      <td>56.0</td>\n",
       "      <td>100</td>\n",
       "      <td>60</td>\n",
       "      <td>1</td>\n",
       "      <td>1</td>\n",
       "      <td>0</td>\n",
       "      <td>0</td>\n",
       "      <td>0</td>\n",
       "      <td>0</td>\n",
       "    </tr>\n",
       "  </tbody>\n",
       "</table>\n",
       "</div>"
      ],
      "text/plain": [
       "   id    age  gender  height  weight  ap_hi  ap_lo  cholesterol  gluc  smoke  \\\n",
       "0   0  18393       2     168    62.0    110     80            1     1      0   \n",
       "1   1  20228       1     156    85.0    140     90            3     1      0   \n",
       "2   2  18857       1     165    64.0    130     70            3     1      0   \n",
       "3   3  17623       2     169    82.0    150    100            1     1      0   \n",
       "4   4  17474       1     156    56.0    100     60            1     1      0   \n",
       "\n",
       "   alco  active  cardio  \n",
       "0     0       1       0  \n",
       "1     0       1       1  \n",
       "2     0       0       1  \n",
       "3     0       1       1  \n",
       "4     0       0       0  "
      ]
     },
     "execution_count": 674,
     "metadata": {},
     "output_type": "execute_result"
    }
   ],
   "source": [
    "df3 = pd.read_csv('datasets/cardio_train.csv', delimiter=';')\n",
    "print(df3.shape)\n",
    "df3.head()"
   ]
  },
  {
   "cell_type": "markdown",
   "id": "6b65afcd",
   "metadata": {},
   "source": [
    "#### Getting information"
   ]
  },
  {
   "cell_type": "code",
   "execution_count": 675,
   "id": "029394ad",
   "metadata": {},
   "outputs": [
    {
     "data": {
      "text/html": [
       "<div>\n",
       "<style scoped>\n",
       "    .dataframe tbody tr th:only-of-type {\n",
       "        vertical-align: middle;\n",
       "    }\n",
       "\n",
       "    .dataframe tbody tr th {\n",
       "        vertical-align: top;\n",
       "    }\n",
       "\n",
       "    .dataframe thead th {\n",
       "        text-align: right;\n",
       "    }\n",
       "</style>\n",
       "<table border=\"1\" class=\"dataframe\">\n",
       "  <thead>\n",
       "    <tr style=\"text-align: right;\">\n",
       "      <th></th>\n",
       "      <th>id</th>\n",
       "      <th>age</th>\n",
       "      <th>gender</th>\n",
       "      <th>height</th>\n",
       "      <th>weight</th>\n",
       "      <th>ap_hi</th>\n",
       "      <th>ap_lo</th>\n",
       "      <th>cholesterol</th>\n",
       "      <th>gluc</th>\n",
       "      <th>smoke</th>\n",
       "      <th>alco</th>\n",
       "      <th>active</th>\n",
       "      <th>cardio</th>\n",
       "    </tr>\n",
       "  </thead>\n",
       "  <tbody>\n",
       "    <tr>\n",
       "      <th>count</th>\n",
       "      <td>70000.000000</td>\n",
       "      <td>70000.000000</td>\n",
       "      <td>70000.000000</td>\n",
       "      <td>70000.000000</td>\n",
       "      <td>70000.000000</td>\n",
       "      <td>70000.000000</td>\n",
       "      <td>70000.000000</td>\n",
       "      <td>70000.000000</td>\n",
       "      <td>70000.000000</td>\n",
       "      <td>70000.000000</td>\n",
       "      <td>70000.000000</td>\n",
       "      <td>70000.000000</td>\n",
       "      <td>70000.000000</td>\n",
       "    </tr>\n",
       "    <tr>\n",
       "      <th>mean</th>\n",
       "      <td>49972.419900</td>\n",
       "      <td>19468.865814</td>\n",
       "      <td>1.349571</td>\n",
       "      <td>164.359229</td>\n",
       "      <td>74.205690</td>\n",
       "      <td>128.817286</td>\n",
       "      <td>96.630414</td>\n",
       "      <td>1.366871</td>\n",
       "      <td>1.226457</td>\n",
       "      <td>0.088129</td>\n",
       "      <td>0.053771</td>\n",
       "      <td>0.803729</td>\n",
       "      <td>0.499700</td>\n",
       "    </tr>\n",
       "    <tr>\n",
       "      <th>std</th>\n",
       "      <td>28851.302323</td>\n",
       "      <td>2467.251667</td>\n",
       "      <td>0.476838</td>\n",
       "      <td>8.210126</td>\n",
       "      <td>14.395757</td>\n",
       "      <td>154.011419</td>\n",
       "      <td>188.472530</td>\n",
       "      <td>0.680250</td>\n",
       "      <td>0.572270</td>\n",
       "      <td>0.283484</td>\n",
       "      <td>0.225568</td>\n",
       "      <td>0.397179</td>\n",
       "      <td>0.500003</td>\n",
       "    </tr>\n",
       "    <tr>\n",
       "      <th>min</th>\n",
       "      <td>0.000000</td>\n",
       "      <td>10798.000000</td>\n",
       "      <td>1.000000</td>\n",
       "      <td>55.000000</td>\n",
       "      <td>10.000000</td>\n",
       "      <td>-150.000000</td>\n",
       "      <td>-70.000000</td>\n",
       "      <td>1.000000</td>\n",
       "      <td>1.000000</td>\n",
       "      <td>0.000000</td>\n",
       "      <td>0.000000</td>\n",
       "      <td>0.000000</td>\n",
       "      <td>0.000000</td>\n",
       "    </tr>\n",
       "    <tr>\n",
       "      <th>25%</th>\n",
       "      <td>25006.750000</td>\n",
       "      <td>17664.000000</td>\n",
       "      <td>1.000000</td>\n",
       "      <td>159.000000</td>\n",
       "      <td>65.000000</td>\n",
       "      <td>120.000000</td>\n",
       "      <td>80.000000</td>\n",
       "      <td>1.000000</td>\n",
       "      <td>1.000000</td>\n",
       "      <td>0.000000</td>\n",
       "      <td>0.000000</td>\n",
       "      <td>1.000000</td>\n",
       "      <td>0.000000</td>\n",
       "    </tr>\n",
       "    <tr>\n",
       "      <th>50%</th>\n",
       "      <td>50001.500000</td>\n",
       "      <td>19703.000000</td>\n",
       "      <td>1.000000</td>\n",
       "      <td>165.000000</td>\n",
       "      <td>72.000000</td>\n",
       "      <td>120.000000</td>\n",
       "      <td>80.000000</td>\n",
       "      <td>1.000000</td>\n",
       "      <td>1.000000</td>\n",
       "      <td>0.000000</td>\n",
       "      <td>0.000000</td>\n",
       "      <td>1.000000</td>\n",
       "      <td>0.000000</td>\n",
       "    </tr>\n",
       "    <tr>\n",
       "      <th>75%</th>\n",
       "      <td>74889.250000</td>\n",
       "      <td>21327.000000</td>\n",
       "      <td>2.000000</td>\n",
       "      <td>170.000000</td>\n",
       "      <td>82.000000</td>\n",
       "      <td>140.000000</td>\n",
       "      <td>90.000000</td>\n",
       "      <td>2.000000</td>\n",
       "      <td>1.000000</td>\n",
       "      <td>0.000000</td>\n",
       "      <td>0.000000</td>\n",
       "      <td>1.000000</td>\n",
       "      <td>1.000000</td>\n",
       "    </tr>\n",
       "    <tr>\n",
       "      <th>max</th>\n",
       "      <td>99999.000000</td>\n",
       "      <td>23713.000000</td>\n",
       "      <td>2.000000</td>\n",
       "      <td>250.000000</td>\n",
       "      <td>200.000000</td>\n",
       "      <td>16020.000000</td>\n",
       "      <td>11000.000000</td>\n",
       "      <td>3.000000</td>\n",
       "      <td>3.000000</td>\n",
       "      <td>1.000000</td>\n",
       "      <td>1.000000</td>\n",
       "      <td>1.000000</td>\n",
       "      <td>1.000000</td>\n",
       "    </tr>\n",
       "  </tbody>\n",
       "</table>\n",
       "</div>"
      ],
      "text/plain": [
       "                 id           age        gender        height        weight  \\\n",
       "count  70000.000000  70000.000000  70000.000000  70000.000000  70000.000000   \n",
       "mean   49972.419900  19468.865814      1.349571    164.359229     74.205690   \n",
       "std    28851.302323   2467.251667      0.476838      8.210126     14.395757   \n",
       "min        0.000000  10798.000000      1.000000     55.000000     10.000000   \n",
       "25%    25006.750000  17664.000000      1.000000    159.000000     65.000000   \n",
       "50%    50001.500000  19703.000000      1.000000    165.000000     72.000000   \n",
       "75%    74889.250000  21327.000000      2.000000    170.000000     82.000000   \n",
       "max    99999.000000  23713.000000      2.000000    250.000000    200.000000   \n",
       "\n",
       "              ap_hi         ap_lo   cholesterol          gluc         smoke  \\\n",
       "count  70000.000000  70000.000000  70000.000000  70000.000000  70000.000000   \n",
       "mean     128.817286     96.630414      1.366871      1.226457      0.088129   \n",
       "std      154.011419    188.472530      0.680250      0.572270      0.283484   \n",
       "min     -150.000000    -70.000000      1.000000      1.000000      0.000000   \n",
       "25%      120.000000     80.000000      1.000000      1.000000      0.000000   \n",
       "50%      120.000000     80.000000      1.000000      1.000000      0.000000   \n",
       "75%      140.000000     90.000000      2.000000      1.000000      0.000000   \n",
       "max    16020.000000  11000.000000      3.000000      3.000000      1.000000   \n",
       "\n",
       "               alco        active        cardio  \n",
       "count  70000.000000  70000.000000  70000.000000  \n",
       "mean       0.053771      0.803729      0.499700  \n",
       "std        0.225568      0.397179      0.500003  \n",
       "min        0.000000      0.000000      0.000000  \n",
       "25%        0.000000      1.000000      0.000000  \n",
       "50%        0.000000      1.000000      0.000000  \n",
       "75%        0.000000      1.000000      1.000000  \n",
       "max        1.000000      1.000000      1.000000  "
      ]
     },
     "execution_count": 675,
     "metadata": {},
     "output_type": "execute_result"
    }
   ],
   "source": [
    "df3.describe(include='all')"
   ]
  },
  {
   "cell_type": "markdown",
   "id": "f26ae023",
   "metadata": {},
   "source": [
    "### Checking for null values "
   ]
  },
  {
   "cell_type": "code",
   "execution_count": 676,
   "id": "c26528d9",
   "metadata": {},
   "outputs": [],
   "source": [
    "#df3.isnull().sum()\n",
    "#df3.isna().sum()"
   ]
  },
  {
   "cell_type": "markdown",
   "id": "6d9ef7da",
   "metadata": {},
   "source": [
    "#### Checking for extreme values"
   ]
  },
  {
   "cell_type": "code",
   "execution_count": 677,
   "id": "bfb4364c",
   "metadata": {},
   "outputs": [
    {
     "data": {
      "text/plain": [
       "<AxesSubplot:>"
      ]
     },
     "execution_count": 677,
     "metadata": {},
     "output_type": "execute_result"
    },
    {
     "data": {
      "image/png": "[encoded data removed]",
      "text/plain": [
       "<Figure size 432x288 with 1 Axes>"
      ]
     },
     "metadata": {
      "needs_background": "light"
     },
     "output_type": "display_data"
    }
   ],
   "source": [
    "df3['age'].plot.box()"
   ]
  },
  {
   "cell_type": "code",
   "execution_count": 678,
   "id": "86a85b34",
   "metadata": {},
   "outputs": [
    {
     "data": {
      "text/plain": [
       "<AxesSubplot:>"
      ]
     },
     "execution_count": 678,
     "metadata": {},
     "output_type": "execute_result"
    },
    {
     "data": {
      "image/png": "[encoded data removed]",
      "text/plain": [
       "<Figure size 432x288 with 1 Axes>"
      ]
     },
     "metadata": {
      "needs_background": "light"
     },
     "output_type": "display_data"
    }
   ],
   "source": [
    "df3['weight'].plot.box()"
   ]
  },
  {
   "cell_type": "code",
   "execution_count": 679,
   "id": "d09a5fd4",
   "metadata": {},
   "outputs": [
    {
     "data": {
      "text/plain": [
       "<AxesSubplot:>"
      ]
     },
     "execution_count": 679,
     "metadata": {},
     "output_type": "execute_result"
    },
    {
     "data": {
      "image/png": "[encoded data removed]",
      "text/plain": [
       "<Figure size 432x288 with 1 Axes>"
      ]
     },
     "metadata": {
      "needs_background": "light"
     },
     "output_type": "display_data"
    }
   ],
   "source": [
    "df3['height'].plot.box()"
   ]
  },
  {
   "cell_type": "code",
   "execution_count": 680,
   "id": "0e3cedcc",
   "metadata": {},
   "outputs": [
    {
     "data": {
      "text/plain": [
       "<AxesSubplot:>"
      ]
     },
     "execution_count": 680,
     "metadata": {},
     "output_type": "execute_result"
    },
    {
     "data": {
      "image/png": "[encoded data removed]",
      "text/plain": [
       "<Figure size 432x288 with 1 Axes>"
      ]
     },
     "metadata": {
      "needs_background": "light"
     },
     "output_type": "display_data"
    }
   ],
   "source": [
    "df3['ap_lo'].plot.box()"
   ]
  },
  {
   "cell_type": "code",
   "execution_count": 681,
   "id": "51ad56e9",
   "metadata": {},
   "outputs": [
    {
     "data": {
      "text/plain": [
       "<AxesSubplot:>"
      ]
     },
     "execution_count": 681,
     "metadata": {},
     "output_type": "execute_result"
    },
    {
     "data": {
      "image/png": "[encoded data removed]",
      "text/plain": [
       "<Figure size 432x288 with 1 Axes>"
      ]
     },
     "metadata": {
      "needs_background": "light"
     },
     "output_type": "display_data"
    }
   ],
   "source": [
    "df3['ap_hi'].plot.box()"
   ]
  },
  {
   "cell_type": "code",
   "execution_count": 694,
   "id": "dafa176e",
   "metadata": {},
   "outputs": [
    {
     "data": {
      "text/plain": [
       "<AxesSubplot:>"
      ]
     },
     "execution_count": 694,
     "metadata": {},
     "output_type": "execute_result"
    },
    {
     "data": {
      "image/png": "[encoded data removed]",
      "text/plain": [
       "<Figure size 432x288 with 1 Axes>"
      ]
     },
     "metadata": {
      "needs_background": "light"
     },
     "output_type": "display_data"
    }
   ],
   "source": [
    "df3['cholesterol'].plot.box()\n"
   ]
  },
  {
   "cell_type": "code",
   "execution_count": 682,
   "id": "67ea74cb",
   "metadata": {},
   "outputs": [],
   "source": [
    "df3.drop(df3.index[df3['age'] < 4000], inplace=True)"
   ]
  },
  {
   "cell_type": "code",
   "execution_count": 683,
   "id": "dd1ce71e",
   "metadata": {},
   "outputs": [],
   "source": [
    "df3.drop(df3.index[df3['weight'] < 40], inplace=True)\n",
    "df3.drop(df3.index[df3['weight'] > 180], inplace=True)"
   ]
  },
  {
   "cell_type": "code",
   "execution_count": 684,
   "id": "742da6e4",
   "metadata": {},
   "outputs": [],
   "source": [
    "df3.drop(df3.index[df3['height'] < 150], inplace=True)\n",
    "df3.drop(df3.index[df3['height'] > 200], inplace=True)"
   ]
  },
  {
   "cell_type": "code",
   "execution_count": 685,
   "id": "f395a777",
   "metadata": {},
   "outputs": [],
   "source": [
    "df3.drop(df3.index[df3['ap_hi'] > 165], inplace=True)\n",
    "df3.drop(df3.index[df3['ap_hi'] < 90], inplace=True)"
   ]
  },
  {
   "cell_type": "code",
   "execution_count": 686,
   "id": "39f23834",
   "metadata": {},
   "outputs": [],
   "source": [
    "df3.drop(df3.index[df3['ap_lo'] > 110], inplace=True)\n",
    "df3.drop(df3.index[df3['ap_lo'] < 65], inplace=True)"
   ]
  },
  {
   "cell_type": "code",
   "execution_count": 687,
   "id": "4ffd6bff",
   "metadata": {},
   "outputs": [
    {
     "data": {
      "text/plain": [
       "<AxesSubplot:>"
      ]
     },
     "execution_count": 687,
     "metadata": {},
     "output_type": "execute_result"
    },
    {
     "data": {
      "image/png": "[encoded data removed]",
      "text/plain": [
       "<Figure size 432x288 with 1 Axes>"
      ]
     },
     "metadata": {
      "needs_background": "light"
     },
     "output_type": "display_data"
    }
   ],
   "source": [
    "df3['age'].plot.box()"
   ]
  },
  {
   "cell_type": "code",
   "execution_count": 688,
   "id": "b93af0f1",
   "metadata": {},
   "outputs": [
    {
     "data": {
      "text/plain": [
       "<AxesSubplot:>"
      ]
     },
     "execution_count": 688,
     "metadata": {},
     "output_type": "execute_result"
    },
    {
     "data": {
      "image/png": "[encoded data removed]",
      "text/plain": [
       "<Figure size 432x288 with 1 Axes>"
      ]
     },
     "metadata": {
      "needs_background": "light"
     },
     "output_type": "display_data"
    }
   ],
   "source": [
    "df3['weight'].plot.box()"
   ]
  },
  {
   "cell_type": "code",
   "execution_count": 689,
   "id": "cae4e64e",
   "metadata": {},
   "outputs": [
    {
     "data": {
      "text/plain": [
       "<AxesSubplot:>"
      ]
     },
     "execution_count": 689,
     "metadata": {},
     "output_type": "execute_result"
    },
    {
     "data": {
      "image/png": "[encoded data removed]",
      "text/plain": [
       "<Figure size 432x288 with 1 Axes>"
      ]
     },
     "metadata": {
      "needs_background": "light"
     },
     "output_type": "display_data"
    }
   ],
   "source": [
    "df3['height'].plot.box()"
   ]
  },
  {
   "cell_type": "code",
   "execution_count": 690,
   "id": "bed308c2",
   "metadata": {},
   "outputs": [
    {
     "data": {
      "text/plain": [
       "<AxesSubplot:>"
      ]
     },
     "execution_count": 690,
     "metadata": {},
     "output_type": "execute_result"
    },
    {
     "data": {
      "image/png": "[encoded data removed]",
      "text/plain": [
       "<Figure size 432x288 with 1 Axes>"
      ]
     },
     "metadata": {
      "needs_background": "light"
     },
     "output_type": "display_data"
    }
   ],
   "source": [
    "df3['ap_lo'].plot.box()"
   ]
  },
  {
   "cell_type": "code",
   "execution_count": 691,
   "id": "bbcee711",
   "metadata": {},
   "outputs": [
    {
     "data": {
      "text/plain": [
       "<AxesSubplot:>"
      ]
     },
     "execution_count": 691,
     "metadata": {},
     "output_type": "execute_result"
    },
    {
     "data": {
      "image/png": "[encoded data removed]",
      "text/plain": [
       "<Figure size 432x288 with 1 Axes>"
      ]
     },
     "metadata": {
      "needs_background": "light"
     },
     "output_type": "display_data"
    }
   ],
   "source": [
    "df3['ap_hi'].plot.box()"
   ]
  },
  {
   "cell_type": "markdown",
   "id": "d6cd4a7d",
   "metadata": {},
   "source": [
    "#### Changed the age from days to years"
   ]
  },
  {
   "cell_type": "code",
   "execution_count": 625,
   "id": "c9e63b90",
   "metadata": {},
   "outputs": [],
   "source": [
    "df3['age']=df3['age']/365"
   ]
  },
  {
   "cell_type": "markdown",
   "id": "8f9e1a58",
   "metadata": {},
   "source": [
    "#### Changed the age into a int"
   ]
  },
  {
   "cell_type": "code",
   "execution_count": 626,
   "id": "3d4f3162",
   "metadata": {},
   "outputs": [],
   "source": [
    "df3['age']=df3['age'].astype(int)\n"
   ]
  },
  {
   "cell_type": "markdown",
   "id": "cac0baad",
   "metadata": {},
   "source": [
    "#### thought it would be nice to now use the data I have to get new data\n",
    "#### The BMI"
   ]
  },
  {
   "cell_type": "markdown",
   "id": "ed31fd13",
   "metadata": {},
   "source": [
    "#### I change height to be in meters"
   ]
  },
  {
   "cell_type": "code",
   "execution_count": 627,
   "id": "9bca20f2",
   "metadata": {},
   "outputs": [],
   "source": [
    "df3['height']=df3['height']/100"
   ]
  },
  {
   "cell_type": "markdown",
   "id": "f63d22f7",
   "metadata": {},
   "source": [
    "#### Run the formular"
   ]
  },
  {
   "cell_type": "code",
   "execution_count": 628,
   "id": "c8916c25",
   "metadata": {},
   "outputs": [
    {
     "data": {
      "text/html": [
       "<div>\n",
       "<style scoped>\n",
       "    .dataframe tbody tr th:only-of-type {\n",
       "        vertical-align: middle;\n",
       "    }\n",
       "\n",
       "    .dataframe tbody tr th {\n",
       "        vertical-align: top;\n",
       "    }\n",
       "\n",
       "    .dataframe thead th {\n",
       "        text-align: right;\n",
       "    }\n",
       "</style>\n",
       "<table border=\"1\" class=\"dataframe\">\n",
       "  <thead>\n",
       "    <tr style=\"text-align: right;\">\n",
       "      <th></th>\n",
       "      <th>id</th>\n",
       "      <th>age</th>\n",
       "      <th>gender</th>\n",
       "      <th>height</th>\n",
       "      <th>weight</th>\n",
       "      <th>ap_hi</th>\n",
       "      <th>ap_lo</th>\n",
       "      <th>cholesterol</th>\n",
       "      <th>gluc</th>\n",
       "      <th>smoke</th>\n",
       "      <th>alco</th>\n",
       "      <th>active</th>\n",
       "      <th>cardio</th>\n",
       "      <th>bmi</th>\n",
       "      <th>extremebmi</th>\n",
       "    </tr>\n",
       "  </thead>\n",
       "  <tbody>\n",
       "    <tr>\n",
       "      <th>0</th>\n",
       "      <td>0</td>\n",
       "      <td>50</td>\n",
       "      <td>2</td>\n",
       "      <td>1.68</td>\n",
       "      <td>62.0</td>\n",
       "      <td>110</td>\n",
       "      <td>80</td>\n",
       "      <td>1</td>\n",
       "      <td>1</td>\n",
       "      <td>0</td>\n",
       "      <td>0</td>\n",
       "      <td>1</td>\n",
       "      <td>0</td>\n",
       "      <td>21</td>\n",
       "      <td>False</td>\n",
       "    </tr>\n",
       "    <tr>\n",
       "      <th>1</th>\n",
       "      <td>1</td>\n",
       "      <td>55</td>\n",
       "      <td>1</td>\n",
       "      <td>1.56</td>\n",
       "      <td>85.0</td>\n",
       "      <td>140</td>\n",
       "      <td>90</td>\n",
       "      <td>3</td>\n",
       "      <td>1</td>\n",
       "      <td>0</td>\n",
       "      <td>0</td>\n",
       "      <td>1</td>\n",
       "      <td>1</td>\n",
       "      <td>34</td>\n",
       "      <td>False</td>\n",
       "    </tr>\n",
       "    <tr>\n",
       "      <th>2</th>\n",
       "      <td>2</td>\n",
       "      <td>51</td>\n",
       "      <td>1</td>\n",
       "      <td>1.65</td>\n",
       "      <td>64.0</td>\n",
       "      <td>130</td>\n",
       "      <td>70</td>\n",
       "      <td>3</td>\n",
       "      <td>1</td>\n",
       "      <td>0</td>\n",
       "      <td>0</td>\n",
       "      <td>0</td>\n",
       "      <td>1</td>\n",
       "      <td>23</td>\n",
       "      <td>False</td>\n",
       "    </tr>\n",
       "    <tr>\n",
       "      <th>3</th>\n",
       "      <td>3</td>\n",
       "      <td>48</td>\n",
       "      <td>2</td>\n",
       "      <td>1.69</td>\n",
       "      <td>82.0</td>\n",
       "      <td>150</td>\n",
       "      <td>100</td>\n",
       "      <td>1</td>\n",
       "      <td>1</td>\n",
       "      <td>0</td>\n",
       "      <td>0</td>\n",
       "      <td>1</td>\n",
       "      <td>1</td>\n",
       "      <td>28</td>\n",
       "      <td>False</td>\n",
       "    </tr>\n",
       "    <tr>\n",
       "      <th>5</th>\n",
       "      <td>8</td>\n",
       "      <td>60</td>\n",
       "      <td>1</td>\n",
       "      <td>1.51</td>\n",
       "      <td>67.0</td>\n",
       "      <td>120</td>\n",
       "      <td>80</td>\n",
       "      <td>2</td>\n",
       "      <td>2</td>\n",
       "      <td>0</td>\n",
       "      <td>0</td>\n",
       "      <td>0</td>\n",
       "      <td>0</td>\n",
       "      <td>29</td>\n",
       "      <td>False</td>\n",
       "    </tr>\n",
       "    <tr>\n",
       "      <th>...</th>\n",
       "      <td>...</td>\n",
       "      <td>...</td>\n",
       "      <td>...</td>\n",
       "      <td>...</td>\n",
       "      <td>...</td>\n",
       "      <td>...</td>\n",
       "      <td>...</td>\n",
       "      <td>...</td>\n",
       "      <td>...</td>\n",
       "      <td>...</td>\n",
       "      <td>...</td>\n",
       "      <td>...</td>\n",
       "      <td>...</td>\n",
       "      <td>...</td>\n",
       "      <td>...</td>\n",
       "    </tr>\n",
       "    <tr>\n",
       "      <th>69994</th>\n",
       "      <td>99992</td>\n",
       "      <td>57</td>\n",
       "      <td>1</td>\n",
       "      <td>1.65</td>\n",
       "      <td>80.0</td>\n",
       "      <td>150</td>\n",
       "      <td>80</td>\n",
       "      <td>1</td>\n",
       "      <td>1</td>\n",
       "      <td>0</td>\n",
       "      <td>0</td>\n",
       "      <td>1</td>\n",
       "      <td>1</td>\n",
       "      <td>29</td>\n",
       "      <td>False</td>\n",
       "    </tr>\n",
       "    <tr>\n",
       "      <th>69995</th>\n",
       "      <td>99993</td>\n",
       "      <td>52</td>\n",
       "      <td>2</td>\n",
       "      <td>1.68</td>\n",
       "      <td>76.0</td>\n",
       "      <td>120</td>\n",
       "      <td>80</td>\n",
       "      <td>1</td>\n",
       "      <td>1</td>\n",
       "      <td>1</td>\n",
       "      <td>0</td>\n",
       "      <td>1</td>\n",
       "      <td>0</td>\n",
       "      <td>26</td>\n",
       "      <td>False</td>\n",
       "    </tr>\n",
       "    <tr>\n",
       "      <th>69996</th>\n",
       "      <td>99995</td>\n",
       "      <td>61</td>\n",
       "      <td>1</td>\n",
       "      <td>1.58</td>\n",
       "      <td>126.0</td>\n",
       "      <td>140</td>\n",
       "      <td>90</td>\n",
       "      <td>2</td>\n",
       "      <td>2</td>\n",
       "      <td>0</td>\n",
       "      <td>0</td>\n",
       "      <td>1</td>\n",
       "      <td>1</td>\n",
       "      <td>50</td>\n",
       "      <td>True</td>\n",
       "    </tr>\n",
       "    <tr>\n",
       "      <th>69998</th>\n",
       "      <td>99998</td>\n",
       "      <td>61</td>\n",
       "      <td>1</td>\n",
       "      <td>1.63</td>\n",
       "      <td>72.0</td>\n",
       "      <td>135</td>\n",
       "      <td>80</td>\n",
       "      <td>1</td>\n",
       "      <td>2</td>\n",
       "      <td>0</td>\n",
       "      <td>0</td>\n",
       "      <td>0</td>\n",
       "      <td>1</td>\n",
       "      <td>27</td>\n",
       "      <td>False</td>\n",
       "    </tr>\n",
       "    <tr>\n",
       "      <th>69999</th>\n",
       "      <td>99999</td>\n",
       "      <td>56</td>\n",
       "      <td>1</td>\n",
       "      <td>1.70</td>\n",
       "      <td>72.0</td>\n",
       "      <td>120</td>\n",
       "      <td>80</td>\n",
       "      <td>2</td>\n",
       "      <td>1</td>\n",
       "      <td>0</td>\n",
       "      <td>0</td>\n",
       "      <td>1</td>\n",
       "      <td>0</td>\n",
       "      <td>24</td>\n",
       "      <td>False</td>\n",
       "    </tr>\n",
       "  </tbody>\n",
       "</table>\n",
       "<p>62761 rows × 15 columns</p>\n",
       "</div>"
      ],
      "text/plain": [
       "          id  age  gender  height  weight  ap_hi  ap_lo  cholesterol  gluc  \\\n",
       "0          0   50       2    1.68    62.0    110     80            1     1   \n",
       "1          1   55       1    1.56    85.0    140     90            3     1   \n",
       "2          2   51       1    1.65    64.0    130     70            3     1   \n",
       "3          3   48       2    1.69    82.0    150    100            1     1   \n",
       "5          8   60       1    1.51    67.0    120     80            2     2   \n",
       "...      ...  ...     ...     ...     ...    ...    ...          ...   ...   \n",
       "69994  99992   57       1    1.65    80.0    150     80            1     1   \n",
       "69995  99993   52       2    1.68    76.0    120     80            1     1   \n",
       "69996  99995   61       1    1.58   126.0    140     90            2     2   \n",
       "69998  99998   61       1    1.63    72.0    135     80            1     2   \n",
       "69999  99999   56       1    1.70    72.0    120     80            2     1   \n",
       "\n",
       "       smoke  alco  active  cardio  bmi  extremebmi  \n",
       "0          0     0       1       0   21       False  \n",
       "1          0     0       1       1   34       False  \n",
       "2          0     0       0       1   23       False  \n",
       "3          0     0       1       1   28       False  \n",
       "5          0     0       0       0   29       False  \n",
       "...      ...   ...     ...     ...  ...         ...  \n",
       "69994      0     0       1       1   29       False  \n",
       "69995      1     0       1       0   26       False  \n",
       "69996      0     0       1       1   50        True  \n",
       "69998      0     0       0       1   27       False  \n",
       "69999      0     0       1       0   24       False  \n",
       "\n",
       "[62761 rows x 15 columns]"
      ]
     },
     "execution_count": 628,
     "metadata": {},
     "output_type": "execute_result"
    }
   ],
   "source": [
    "height2=(df3['height'])*(df3['height']);\n",
    "df3['bmi']=(df3['weight']/height2)\n",
    "df3['bmi']=df3['bmi'].astype(int)\n",
    "df3['extremebmi']=(df3['bmi']>45)\n",
    "df3"
   ]
  },
  {
   "cell_type": "code",
   "execution_count": 629,
   "id": "3a608e52",
   "metadata": {},
   "outputs": [
    {
     "data": {
      "text/plain": [
       "<AxesSubplot:>"
      ]
     },
     "execution_count": 629,
     "metadata": {},
     "output_type": "execute_result"
    },
    {
     "data": {
      "image/png": "[encoded data removed]",
      "text/plain": [
       "<Figure size 432x288 with 1 Axes>"
      ]
     },
     "metadata": {
      "needs_background": "light"
     },
     "output_type": "display_data"
    }
   ],
   "source": [
    "df3['bmi'].plot.box()\n"
   ]
  },
  {
   "cell_type": "code",
   "execution_count": 630,
   "id": "e8ea3807",
   "metadata": {},
   "outputs": [
    {
     "data": {
      "text/plain": [
       "68"
      ]
     },
     "execution_count": 630,
     "metadata": {},
     "output_type": "execute_result"
    }
   ],
   "source": [
    "df3.drop(df3.index[df3['bmi'] < 13], inplace=True)\n",
    "df3.drop(df3.index[df3['bmi'] > 120], inplace=True)\n",
    "\n",
    "df3['bmi'].max()"
   ]
  },
  {
   "cell_type": "markdown",
   "id": "134c3c12",
   "metadata": {},
   "source": [
    "##### pandas_profiling.ProfileReport(df3).to_file(\"cardio.html\")\n"
   ]
  },
  {
   "cell_type": "markdown",
   "id": "57293491",
   "metadata": {},
   "source": [
    "#### In this picture under, you can see that chol, bmi, weight and age all correlate with cardiovascular disease"
   ]
  },
  {
   "cell_type": "code",
   "execution_count": 631,
   "id": "7527c7dc",
   "metadata": {},
   "outputs": [
    {
     "data": {
      "text/html": [
       "<style type=\"text/css\">\n",
       "#T_12155_row0_col0, #T_12155_row1_col1, #T_12155_row2_col2, #T_12155_row3_col3, #T_12155_row4_col4, #T_12155_row5_col5, #T_12155_row6_col6, #T_12155_row7_col7, #T_12155_row8_col8, #T_12155_row9_col9, #T_12155_row10_col10, #T_12155_row11_col11, #T_12155_row12_col12, #T_12155_row13_col13, #T_12155_row14_col14 {\n",
       "  background-color: #2369bd;\n",
       "  color: #f1f1f1;\n",
       "}\n",
       "#T_12155_row0_col1, #T_12155_row5_col14, #T_12155_row8_col2, #T_12155_row9_col4, #T_12155_row10_col4, #T_12155_row10_col7, #T_12155_row14_col1, #T_12155_row14_col7 {\n",
       "  background-color: #b75756;\n",
       "  color: #f1f1f1;\n",
       "}\n",
       "#T_12155_row0_col2, #T_12155_row4_col9, #T_12155_row5_col8, #T_12155_row11_col2, #T_12155_row12_col8 {\n",
       "  background-color: #bc6160;\n",
       "  color: #f1f1f1;\n",
       "}\n",
       "#T_12155_row0_col3, #T_12155_row0_col13, #T_12155_row2_col4, #T_12155_row13_col1 {\n",
       "  background-color: #c57674;\n",
       "  color: #f1f1f1;\n",
       "}\n",
       "#T_12155_row0_col4, #T_12155_row3_col6, #T_12155_row9_col8, #T_12155_row9_col12, #T_12155_row11_col8, #T_12155_row12_col10, #T_12155_row13_col9 {\n",
       "  background-color: #ac3e40;\n",
       "  color: #f1f1f1;\n",
       "}\n",
       "#T_12155_row0_col5, #T_12155_row1_col0, #T_12155_row3_col0, #T_12155_row4_col0, #T_12155_row6_col0, #T_12155_row8_col0, #T_12155_row10_col0, #T_12155_row13_col0 {\n",
       "  background-color: #a9393c;\n",
       "  color: #f1f1f1;\n",
       "}\n",
       "#T_12155_row0_col6, #T_12155_row1_col9, #T_12155_row1_col10, #T_12155_row2_col8, #T_12155_row2_col14, #T_12155_row3_col1, #T_12155_row3_col5, #T_12155_row3_col7, #T_12155_row3_col8, #T_12155_row3_col13, #T_12155_row3_col14, #T_12155_row9_col0, #T_12155_row11_col4, #T_12155_row11_col5, #T_12155_row11_col6, #T_12155_row11_col12, #T_12155_row12_col11, #T_12155_row13_col2, #T_12155_row13_col3, #T_12155_row14_col0 {\n",
       "  background-color: #a9373b;\n",
       "  color: #f1f1f1;\n",
       "}\n",
       "#T_12155_row0_col7, #T_12155_row1_col4, #T_12155_row6_col10, #T_12155_row7_col10, #T_12155_row9_col7, #T_12155_row9_col11, #T_12155_row10_col11, #T_12155_row11_col7, #T_12155_row14_col12 {\n",
       "  background-color: #b44f4f;\n",
       "  color: #f1f1f1;\n",
       "}\n",
       "#T_12155_row0_col8, #T_12155_row1_col11, #T_12155_row3_col11, #T_12155_row9_col5, #T_12155_row10_col12, #T_12155_row13_col11, #T_12155_row14_col10 {\n",
       "  background-color: #ad4143;\n",
       "  color: #f1f1f1;\n",
       "}\n",
       "#T_12155_row0_col9, #T_12155_row2_col5, #T_12155_row2_col11, #T_12155_row7_col11, #T_12155_row13_col10 {\n",
       "  background-color: #b1494a;\n",
       "  color: #f1f1f1;\n",
       "}\n",
       "#T_12155_row0_col10, #T_12155_row8_col11, #T_12155_row9_col14, #T_12155_row10_col5, #T_12155_row10_col8, #T_12155_row12_col9 {\n",
       "  background-color: #ae4244;\n",
       "  color: #f1f1f1;\n",
       "}\n",
       "#T_12155_row0_col11, #T_12155_row0_col12, #T_12155_row1_col14, #T_12155_row8_col9, #T_12155_row11_col14, #T_12155_row14_col5, #T_12155_row14_col11 {\n",
       "  background-color: #b04748;\n",
       "  color: #f1f1f1;\n",
       "}\n",
       "#T_12155_row0_col14, #T_12155_row2_col12, #T_12155_row5_col11, #T_12155_row6_col11, #T_12155_row8_col10, #T_12155_row10_col14, #T_12155_row14_col6, #T_12155_row14_col9 {\n",
       "  background-color: #af4647;\n",
       "  color: #f1f1f1;\n",
       "}\n",
       "#T_12155_row1_col2, #T_12155_row6_col14 {\n",
       "  background-color: #b75555;\n",
       "  color: #f1f1f1;\n",
       "}\n",
       "#T_12155_row1_col3, #T_12155_row4_col10 {\n",
       "  background-color: #b95b5a;\n",
       "  color: #f1f1f1;\n",
       "}\n",
       "#T_12155_row1_col5, #T_12155_row1_col7, #T_12155_row2_col10 {\n",
       "  background-color: #ca827f;\n",
       "  color: #f1f1f1;\n",
       "}\n",
       "#T_12155_row1_col6, #T_12155_row9_col13 {\n",
       "  background-color: #c16c6a;\n",
       "  color: #f1f1f1;\n",
       "}\n",
       "#T_12155_row1_col8, #T_12155_row7_col3, #T_12155_row8_col4 {\n",
       "  background-color: #be6463;\n",
       "  color: #f1f1f1;\n",
       "}\n",
       "#T_12155_row1_col12, #T_12155_row5_col1, #T_12155_row8_col13, #T_12155_row12_col7 {\n",
       "  background-color: #d59c99;\n",
       "  color: #f1f1f1;\n",
       "}\n",
       "#T_12155_row1_col13, #T_12155_row4_col5 {\n",
       "  background-color: #d29491;\n",
       "  color: #f1f1f1;\n",
       "}\n",
       "#T_12155_row2_col0, #T_12155_row5_col0, #T_12155_row7_col0, #T_12155_row11_col0, #T_12155_row12_col0 {\n",
       "  background-color: #aa3a3e;\n",
       "  color: #f1f1f1;\n",
       "}\n",
       "#T_12155_row2_col1, #T_12155_row2_col6, #T_12155_row10_col1, #T_12155_row11_col10 {\n",
       "  background-color: #b24c4c;\n",
       "  color: #f1f1f1;\n",
       "}\n",
       "#T_12155_row2_col3 {\n",
       "  background-color: #d9dce5;\n",
       "  color: #000000;\n",
       "}\n",
       "#T_12155_row2_col7 {\n",
       "  background-color: #ab3c3f;\n",
       "  color: #f1f1f1;\n",
       "}\n",
       "#T_12155_row2_col9, #T_12155_row5_col13 {\n",
       "  background-color: #e7c7c5;\n",
       "  color: #000000;\n",
       "}\n",
       "#T_12155_row2_col13, #T_12155_row6_col9, #T_12155_row7_col2, #T_12155_row11_col1, #T_12155_row14_col2 {\n",
       "  background-color: #b55252;\n",
       "  color: #f1f1f1;\n",
       "}\n",
       "#T_12155_row3_col2 {\n",
       "  background-color: #e4e5eb;\n",
       "  color: #000000;\n",
       "}\n",
       "#T_12155_row3_col4 {\n",
       "  background-color: #dcaeab;\n",
       "  color: #000000;\n",
       "}\n",
       "#T_12155_row3_col9, #T_12155_row4_col2, #T_12155_row5_col7, #T_12155_row6_col4 {\n",
       "  background-color: #d1918e;\n",
       "  color: #f1f1f1;\n",
       "}\n",
       "#T_12155_row3_col10, #T_12155_row4_col1, #T_12155_row4_col8 {\n",
       "  background-color: #bf6765;\n",
       "  color: #f1f1f1;\n",
       "}\n",
       "#T_12155_row3_col12, #T_12155_row4_col11, #T_12155_row9_col6 {\n",
       "  background-color: #ac3f42;\n",
       "  color: #f1f1f1;\n",
       "}\n",
       "#T_12155_row4_col3 {\n",
       "  background-color: #eed7d5;\n",
       "  color: #000000;\n",
       "}\n",
       "#T_12155_row4_col6 {\n",
       "  background-color: #cf8c8a;\n",
       "  color: #f1f1f1;\n",
       "}\n",
       "#T_12155_row4_col7 {\n",
       "  background-color: #c97f7d;\n",
       "  color: #f1f1f1;\n",
       "}\n",
       "#T_12155_row4_col12 {\n",
       "  background-color: #cb8481;\n",
       "  color: #f1f1f1;\n",
       "}\n",
       "#T_12155_row4_col13 {\n",
       "  background-color: #5c85bd;\n",
       "  color: #f1f1f1;\n",
       "}\n",
       "#T_12155_row4_col14 {\n",
       "  background-color: #deb1ae;\n",
       "  color: #000000;\n",
       "}\n",
       "#T_12155_row5_col2, #T_12155_row8_col3 {\n",
       "  background-color: #c26f6d;\n",
       "  color: #f1f1f1;\n",
       "}\n",
       "#T_12155_row5_col3, #T_12155_row8_col1 {\n",
       "  background-color: #c67875;\n",
       "  color: #f1f1f1;\n",
       "}\n",
       "#T_12155_row5_col4 {\n",
       "  background-color: #d49a97;\n",
       "  color: #f1f1f1;\n",
       "}\n",
       "#T_12155_row5_col6, #T_12155_row6_col5 {\n",
       "  background-color: #abb9d0;\n",
       "  color: #000000;\n",
       "}\n",
       "#T_12155_row5_col9, #T_12155_row8_col14, #T_12155_row11_col9 {\n",
       "  background-color: #b65453;\n",
       "  color: #f1f1f1;\n",
       "}\n",
       "#T_12155_row5_col10, #T_12155_row7_col9, #T_12155_row14_col8 {\n",
       "  background-color: #b34d4e;\n",
       "  color: #f1f1f1;\n",
       "}\n",
       "#T_12155_row5_col12 {\n",
       "  background-color: #f6e8e7;\n",
       "  color: #000000;\n",
       "}\n",
       "#T_12155_row6_col1 {\n",
       "  background-color: #cc8784;\n",
       "  color: #f1f1f1;\n",
       "}\n",
       "#T_12155_row6_col2, #T_12155_row12_col3 {\n",
       "  background-color: #c3706e;\n",
       "  color: #f1f1f1;\n",
       "}\n",
       "#T_12155_row6_col3, #T_12155_row10_col13, #T_12155_row12_col4 {\n",
       "  background-color: #c87c7a;\n",
       "  color: #f1f1f1;\n",
       "}\n",
       "#T_12155_row6_col7 {\n",
       "  background-color: #cc8582;\n",
       "  color: #f1f1f1;\n",
       "}\n",
       "#T_12155_row6_col8, #T_12155_row8_col5 {\n",
       "  background-color: #b95a59;\n",
       "  color: #f1f1f1;\n",
       "}\n",
       "#T_12155_row6_col12 {\n",
       "  background-color: #e5c2c0;\n",
       "  color: #000000;\n",
       "}\n",
       "#T_12155_row6_col13 {\n",
       "  background-color: #e2bcb9;\n",
       "  color: #000000;\n",
       "}\n",
       "#T_12155_row7_col1, #T_12155_row13_col6 {\n",
       "  background-color: #ce8b88;\n",
       "  color: #f1f1f1;\n",
       "}\n",
       "#T_12155_row7_col4, #T_12155_row7_col6, #T_12155_row11_col3, #T_12155_row11_col13 {\n",
       "  background-color: #c47371;\n",
       "  color: #f1f1f1;\n",
       "}\n",
       "#T_12155_row7_col5 {\n",
       "  background-color: #ca817e;\n",
       "  color: #f1f1f1;\n",
       "}\n",
       "#T_12155_row7_col8 {\n",
       "  background-color: #f9eeed;\n",
       "  color: #000000;\n",
       "}\n",
       "#T_12155_row7_col12 {\n",
       "  background-color: #d39794;\n",
       "  color: #f1f1f1;\n",
       "}\n",
       "#T_12155_row7_col13 {\n",
       "  background-color: #dcacaa;\n",
       "  color: #000000;\n",
       "}\n",
       "#T_12155_row7_col14, #T_12155_row8_col6, #T_12155_row12_col14 {\n",
       "  background-color: #b55151;\n",
       "  color: #f1f1f1;\n",
       "}\n",
       "#T_12155_row8_col7 {\n",
       "  background-color: #faf3f2;\n",
       "  color: #000000;\n",
       "}\n",
       "#T_12155_row8_col12 {\n",
       "  background-color: #be6664;\n",
       "  color: #f1f1f1;\n",
       "}\n",
       "#T_12155_row9_col1, #T_12155_row10_col6 {\n",
       "  background-color: #af4446;\n",
       "  color: #f1f1f1;\n",
       "}\n",
       "#T_12155_row9_col2 {\n",
       "  background-color: #edd5d3;\n",
       "  color: #000000;\n",
       "}\n",
       "#T_12155_row9_col3 {\n",
       "  background-color: #dfb5b3;\n",
       "  color: #000000;\n",
       "}\n",
       "#T_12155_row9_col10 {\n",
       "  background-color: #e5c3c1;\n",
       "  color: #000000;\n",
       "}\n",
       "#T_12155_row10_col2 {\n",
       "  background-color: #d49896;\n",
       "  color: #f1f1f1;\n",
       "}\n",
       "#T_12155_row10_col3, #T_12155_row13_col5 {\n",
       "  background-color: #d29593;\n",
       "  color: #f1f1f1;\n",
       "}\n",
       "#T_12155_row10_col9 {\n",
       "  background-color: #e7c8c6;\n",
       "  color: #000000;\n",
       "}\n",
       "#T_12155_row12_col1 {\n",
       "  background-color: #daa8a5;\n",
       "  color: #000000;\n",
       "}\n",
       "#T_12155_row12_col2 {\n",
       "  background-color: #bb5e5d;\n",
       "  color: #f1f1f1;\n",
       "}\n",
       "#T_12155_row12_col5, #T_12155_row14_col13 {\n",
       "  background-color: #f2e0df;\n",
       "  color: #000000;\n",
       "}\n",
       "#T_12155_row12_col6 {\n",
       "  background-color: #e1b9b6;\n",
       "  color: #000000;\n",
       "}\n",
       "#T_12155_row12_col13 {\n",
       "  background-color: #ddafad;\n",
       "  color: #000000;\n",
       "}\n",
       "#T_12155_row13_col4 {\n",
       "  background-color: #658abe;\n",
       "  color: #f1f1f1;\n",
       "}\n",
       "#T_12155_row13_col7 {\n",
       "  background-color: #cd8987;\n",
       "  color: #f1f1f1;\n",
       "}\n",
       "#T_12155_row13_col8 {\n",
       "  background-color: #c16d6b;\n",
       "  color: #f1f1f1;\n",
       "}\n",
       "#T_12155_row13_col12 {\n",
       "  background-color: #cd8885;\n",
       "  color: #f1f1f1;\n",
       "}\n",
       "#T_12155_row13_col14 {\n",
       "  background-color: #e3bfbd;\n",
       "  color: #000000;\n",
       "}\n",
       "#T_12155_row14_col3 {\n",
       "  background-color: #c06967;\n",
       "  color: #f1f1f1;\n",
       "}\n",
       "#T_12155_row14_col4 {\n",
       "  background-color: #daa9a7;\n",
       "  color: #000000;\n",
       "}\n",
       "</style>\n",
       "<table id=\"T_12155_\">\n",
       "  <thead>\n",
       "    <tr>\n",
       "      <th class=\"blank level0\" >&nbsp;</th>\n",
       "      <th class=\"col_heading level0 col0\" >id</th>\n",
       "      <th class=\"col_heading level0 col1\" >age</th>\n",
       "      <th class=\"col_heading level0 col2\" >gender</th>\n",
       "      <th class=\"col_heading level0 col3\" >height</th>\n",
       "      <th class=\"col_heading level0 col4\" >weight</th>\n",
       "      <th class=\"col_heading level0 col5\" >ap_hi</th>\n",
       "      <th class=\"col_heading level0 col6\" >ap_lo</th>\n",
       "      <th class=\"col_heading level0 col7\" >cholesterol</th>\n",
       "      <th class=\"col_heading level0 col8\" >gluc</th>\n",
       "      <th class=\"col_heading level0 col9\" >smoke</th>\n",
       "      <th class=\"col_heading level0 col10\" >alco</th>\n",
       "      <th class=\"col_heading level0 col11\" >active</th>\n",
       "      <th class=\"col_heading level0 col12\" >cardio</th>\n",
       "      <th class=\"col_heading level0 col13\" >bmi</th>\n",
       "      <th class=\"col_heading level0 col14\" >extremebmi</th>\n",
       "    </tr>\n",
       "  </thead>\n",
       "  <tbody>\n",
       "    <tr>\n",
       "      <th id=\"T_12155_level0_row0\" class=\"row_heading level0 row0\" >id</th>\n",
       "      <td id=\"T_12155_row0_col0\" class=\"data row0 col0\" >1.000000</td>\n",
       "      <td id=\"T_12155_row0_col1\" class=\"data row0 col1\" >0.003547</td>\n",
       "      <td id=\"T_12155_row0_col2\" class=\"data row0 col2\" >0.004988</td>\n",
       "      <td id=\"T_12155_row0_col3\" class=\"data row0 col3\" >0.000843</td>\n",
       "      <td id=\"T_12155_row0_col4\" class=\"data row0 col4\" >0.001475</td>\n",
       "      <td id=\"T_12155_row0_col5\" class=\"data row0 col5\" >0.006418</td>\n",
       "      <td id=\"T_12155_row0_col6\" class=\"data row0 col6\" >0.003351</td>\n",
       "      <td id=\"T_12155_row0_col7\" class=\"data row0 col7\" >0.007073</td>\n",
       "      <td id=\"T_12155_row0_col8\" class=\"data row0 col8\" >0.003471</td>\n",
       "      <td id=\"T_12155_row0_col9\" class=\"data row0 col9\" >-0.002066</td>\n",
       "      <td id=\"T_12155_row0_col10\" class=\"data row0 col10\" >0.000048</td>\n",
       "      <td id=\"T_12155_row0_col11\" class=\"data row0 col11\" >0.004988</td>\n",
       "      <td id=\"T_12155_row0_col12\" class=\"data row0 col12\" >0.005989</td>\n",
       "      <td id=\"T_12155_row0_col13\" class=\"data row0 col13\" >0.000652</td>\n",
       "      <td id=\"T_12155_row0_col14\" class=\"data row0 col14\" >-0.003893</td>\n",
       "    </tr>\n",
       "    <tr>\n",
       "      <th id=\"T_12155_level0_row1\" class=\"row_heading level0 row1\" >age</th>\n",
       "      <td id=\"T_12155_row1_col0\" class=\"data row1 col0\" >0.003547</td>\n",
       "      <td id=\"T_12155_row1_col1\" class=\"data row1 col1\" >1.000000</td>\n",
       "      <td id=\"T_12155_row1_col2\" class=\"data row1 col2\" >-0.029027</td>\n",
       "      <td id=\"T_12155_row1_col3\" class=\"data row1 col3\" >-0.084883</td>\n",
       "      <td id=\"T_12155_row1_col4\" class=\"data row1 col4\" >0.047012</td>\n",
       "      <td id=\"T_12155_row1_col5\" class=\"data row1 col5\" >0.196244</td>\n",
       "      <td id=\"T_12155_row1_col6\" class=\"data row1 col6\" >0.136374</td>\n",
       "      <td id=\"T_12155_row1_col7\" class=\"data row1 col7\" >0.150052</td>\n",
       "      <td id=\"T_12155_row1_col8\" class=\"data row1 col8\" >0.095675</td>\n",
       "      <td id=\"T_12155_row1_col9\" class=\"data row1 col9\" >-0.049457</td>\n",
       "      <td id=\"T_12155_row1_col10\" class=\"data row1 col10\" >-0.029487</td>\n",
       "      <td id=\"T_12155_row1_col11\" class=\"data row1 col11\" >-0.010423</td>\n",
       "      <td id=\"T_12155_row1_col12\" class=\"data row1 col12\" >0.229783</td>\n",
       "      <td id=\"T_12155_row1_col13\" class=\"data row1 col13\" >0.091892</td>\n",
       "      <td id=\"T_12155_row1_col14\" class=\"data row1 col14\" >0.003454</td>\n",
       "    </tr>\n",
       "    <tr>\n",
       "      <th id=\"T_12155_level0_row2\" class=\"row_heading level0 row2\" >gender</th>\n",
       "      <td id=\"T_12155_row2_col0\" class=\"data row2 col0\" >0.004988</td>\n",
       "      <td id=\"T_12155_row2_col1\" class=\"data row2 col1\" >-0.029027</td>\n",
       "      <td id=\"T_12155_row2_col2\" class=\"data row2 col2\" >1.000000</td>\n",
       "      <td id=\"T_12155_row2_col3\" class=\"data row2 col3\" >0.522069</td>\n",
       "      <td id=\"T_12155_row2_col4\" class=\"data row2 col4\" >0.147584</td>\n",
       "      <td id=\"T_12155_row2_col5\" class=\"data row2 col5\" >0.047285</td>\n",
       "      <td id=\"T_12155_row2_col6\" class=\"data row2 col6\" >0.051447</td>\n",
       "      <td id=\"T_12155_row2_col7\" class=\"data row2 col7\" >-0.038747</td>\n",
       "      <td id=\"T_12155_row2_col8\" class=\"data row2 col8\" >-0.023324</td>\n",
       "      <td id=\"T_12155_row2_col9\" class=\"data row2 col9\" >0.335969</td>\n",
       "      <td id=\"T_12155_row2_col10\" class=\"data row2 col10\" >0.169548</td>\n",
       "      <td id=\"T_12155_row2_col11\" class=\"data row2 col11\" >0.007141</td>\n",
       "      <td id=\"T_12155_row2_col12\" class=\"data row2 col12\" >-0.000036</td>\n",
       "      <td id=\"T_12155_row2_col13\" class=\"data row2 col13\" >-0.112684</td>\n",
       "      <td id=\"T_12155_row2_col14\" class=\"data row2 col14\" >-0.036540</td>\n",
       "    </tr>\n",
       "    <tr>\n",
       "      <th id=\"T_12155_level0_row3\" class=\"row_heading level0 row3\" >height</th>\n",
       "      <td id=\"T_12155_row3_col0\" class=\"data row3 col0\" >0.000843</td>\n",
       "      <td id=\"T_12155_row3_col1\" class=\"data row3 col1\" >-0.084883</td>\n",
       "      <td id=\"T_12155_row3_col2\" class=\"data row3 col2\" >0.522069</td>\n",
       "      <td id=\"T_12155_row3_col3\" class=\"data row3 col3\" >1.000000</td>\n",
       "      <td id=\"T_12155_row3_col4\" class=\"data row3 col4\" >0.296171</td>\n",
       "      <td id=\"T_12155_row3_col5\" class=\"data row3 col5\" >0.004641</td>\n",
       "      <td id=\"T_12155_row3_col6\" class=\"data row3 col6\" >0.018681</td>\n",
       "      <td id=\"T_12155_row3_col7\" class=\"data row3 col7\" >-0.055060</td>\n",
       "      <td id=\"T_12155_row3_col8\" class=\"data row3 col8\" >-0.023693</td>\n",
       "      <td id=\"T_12155_row3_col9\" class=\"data row3 col9\" >0.194373</td>\n",
       "      <td id=\"T_12155_row3_col10\" class=\"data row3 col10\" >0.097031</td>\n",
       "      <td id=\"T_12155_row3_col11\" class=\"data row3 col11\" >-0.010173</td>\n",
       "      <td id=\"T_12155_row3_col12\" class=\"data row3 col12\" >-0.017401</td>\n",
       "      <td id=\"T_12155_row3_col13\" class=\"data row3 col13\" >-0.193105</td>\n",
       "      <td id=\"T_12155_row3_col14\" class=\"data row3 col14\" >-0.040560</td>\n",
       "    </tr>\n",
       "    <tr>\n",
       "      <th id=\"T_12155_level0_row4\" class=\"row_heading level0 row4\" >weight</th>\n",
       "      <td id=\"T_12155_row4_col0\" class=\"data row4 col0\" >0.001475</td>\n",
       "      <td id=\"T_12155_row4_col1\" class=\"data row4 col1\" >0.047012</td>\n",
       "      <td id=\"T_12155_row4_col2\" class=\"data row4 col2\" >0.147584</td>\n",
       "      <td id=\"T_12155_row4_col3\" class=\"data row4 col3\" >0.296171</td>\n",
       "      <td id=\"T_12155_row4_col4\" class=\"data row4 col4\" >1.000000</td>\n",
       "      <td id=\"T_12155_row4_col5\" class=\"data row4 col5\" >0.243388</td>\n",
       "      <td id=\"T_12155_row4_col6\" class=\"data row4 col6\" >0.220711</td>\n",
       "      <td id=\"T_12155_row4_col7\" class=\"data row4 col7\" >0.140324</td>\n",
       "      <td id=\"T_12155_row4_col8\" class=\"data row4 col8\" >0.103184</td>\n",
       "      <td id=\"T_12155_row4_col9\" class=\"data row4 col9\" >0.065285</td>\n",
       "      <td id=\"T_12155_row4_col10\" class=\"data row4 col10\" >0.064993</td>\n",
       "      <td id=\"T_12155_row4_col11\" class=\"data row4 col11\" >-0.015162</td>\n",
       "      <td id=\"T_12155_row4_col12\" class=\"data row4 col12\" >0.166527</td>\n",
       "      <td id=\"T_12155_row4_col13\" class=\"data row4 col13\" >0.874435</td>\n",
       "      <td id=\"T_12155_row4_col14\" class=\"data row4 col14\" >0.285878</td>\n",
       "    </tr>\n",
       "    <tr>\n",
       "      <th id=\"T_12155_level0_row5\" class=\"row_heading level0 row5\" >ap_hi</th>\n",
       "      <td id=\"T_12155_row5_col0\" class=\"data row5 col0\" >0.006418</td>\n",
       "      <td id=\"T_12155_row5_col1\" class=\"data row5 col1\" >0.196244</td>\n",
       "      <td id=\"T_12155_row5_col2\" class=\"data row5 col2\" >0.047285</td>\n",
       "      <td id=\"T_12155_row5_col3\" class=\"data row5 col3\" >0.004641</td>\n",
       "      <td id=\"T_12155_row5_col4\" class=\"data row5 col4\" >0.243388</td>\n",
       "      <td id=\"T_12155_row5_col5\" class=\"data row5 col5\" >1.000000</td>\n",
       "      <td id=\"T_12155_row5_col6\" class=\"data row5 col6\" >0.709271</td>\n",
       "      <td id=\"T_12155_row5_col7\" class=\"data row5 col7\" >0.191926</td>\n",
       "      <td id=\"T_12155_row5_col8\" class=\"data row5 col8\" >0.087899</td>\n",
       "      <td id=\"T_12155_row5_col9\" class=\"data row5 col9\" >0.025361</td>\n",
       "      <td id=\"T_12155_row5_col10\" class=\"data row5 col10\" >0.029608</td>\n",
       "      <td id=\"T_12155_row5_col11\" class=\"data row5 col11\" >0.001742</td>\n",
       "      <td id=\"T_12155_row5_col12\" class=\"data row5 col12\" >0.431645</td>\n",
       "      <td id=\"T_12155_row5_col13\" class=\"data row5 col13\" >0.246155</td>\n",
       "      <td id=\"T_12155_row5_col14\" class=\"data row5 col14\" >0.043377</td>\n",
       "    </tr>\n",
       "    <tr>\n",
       "      <th id=\"T_12155_level0_row6\" class=\"row_heading level0 row6\" >ap_lo</th>\n",
       "      <td id=\"T_12155_row6_col0\" class=\"data row6 col0\" >0.003351</td>\n",
       "      <td id=\"T_12155_row6_col1\" class=\"data row6 col1\" >0.136374</td>\n",
       "      <td id=\"T_12155_row6_col2\" class=\"data row6 col2\" >0.051447</td>\n",
       "      <td id=\"T_12155_row6_col3\" class=\"data row6 col3\" >0.018681</td>\n",
       "      <td id=\"T_12155_row6_col4\" class=\"data row6 col4\" >0.220711</td>\n",
       "      <td id=\"T_12155_row6_col5\" class=\"data row6 col5\" >0.709271</td>\n",
       "      <td id=\"T_12155_row6_col6\" class=\"data row6 col6\" >1.000000</td>\n",
       "      <td id=\"T_12155_row6_col7\" class=\"data row6 col7\" >0.155364</td>\n",
       "      <td id=\"T_12155_row6_col8\" class=\"data row6 col8\" >0.066090</td>\n",
       "      <td id=\"T_12155_row6_col9\" class=\"data row6 col9\" >0.023280</td>\n",
       "      <td id=\"T_12155_row6_col10\" class=\"data row6 col10\" >0.033848</td>\n",
       "      <td id=\"T_12155_row6_col11\" class=\"data row6 col11\" >0.000673</td>\n",
       "      <td id=\"T_12155_row6_col12\" class=\"data row6 col12\" >0.333253</td>\n",
       "      <td id=\"T_12155_row6_col13\" class=\"data row6 col13\" >0.215687</td>\n",
       "      <td id=\"T_12155_row6_col14\" class=\"data row6 col14\" >0.036923</td>\n",
       "    </tr>\n",
       "    <tr>\n",
       "      <th id=\"T_12155_level0_row7\" class=\"row_heading level0 row7\" >cholesterol</th>\n",
       "      <td id=\"T_12155_row7_col0\" class=\"data row7 col0\" >0.007073</td>\n",
       "      <td id=\"T_12155_row7_col1\" class=\"data row7 col1\" >0.150052</td>\n",
       "      <td id=\"T_12155_row7_col2\" class=\"data row7 col2\" >-0.038747</td>\n",
       "      <td id=\"T_12155_row7_col3\" class=\"data row7 col3\" >-0.055060</td>\n",
       "      <td id=\"T_12155_row7_col4\" class=\"data row7 col4\" >0.140324</td>\n",
       "      <td id=\"T_12155_row7_col5\" class=\"data row7 col5\" >0.191926</td>\n",
       "      <td id=\"T_12155_row7_col6\" class=\"data row7 col6\" >0.155364</td>\n",
       "      <td id=\"T_12155_row7_col7\" class=\"data row7 col7\" >1.000000</td>\n",
       "      <td id=\"T_12155_row7_col8\" class=\"data row7 col8\" >0.453117</td>\n",
       "      <td id=\"T_12155_row7_col9\" class=\"data row7 col9\" >0.010044</td>\n",
       "      <td id=\"T_12155_row7_col10\" class=\"data row7 col10\" >0.031420</td>\n",
       "      <td id=\"T_12155_row7_col11\" class=\"data row7 col11\" >0.008963</td>\n",
       "      <td id=\"T_12155_row7_col12\" class=\"data row7 col12\" >0.218209</td>\n",
       "      <td id=\"T_12155_row7_col13\" class=\"data row7 col13\" >0.170307</td>\n",
       "      <td id=\"T_12155_row7_col14\" class=\"data row7 col14\" >0.027854</td>\n",
       "    </tr>\n",
       "    <tr>\n",
       "      <th id=\"T_12155_level0_row8\" class=\"row_heading level0 row8\" >gluc</th>\n",
       "      <td id=\"T_12155_row8_col0\" class=\"data row8 col0\" >0.003471</td>\n",
       "      <td id=\"T_12155_row8_col1\" class=\"data row8 col1\" >0.095675</td>\n",
       "      <td id=\"T_12155_row8_col2\" class=\"data row8 col2\" >-0.023324</td>\n",
       "      <td id=\"T_12155_row8_col3\" class=\"data row8 col3\" >-0.023693</td>\n",
       "      <td id=\"T_12155_row8_col4\" class=\"data row8 col4\" >0.103184</td>\n",
       "      <td id=\"T_12155_row8_col5\" class=\"data row8 col5\" >0.087899</td>\n",
       "      <td id=\"T_12155_row8_col6\" class=\"data row8 col6\" >0.066090</td>\n",
       "      <td id=\"T_12155_row8_col7\" class=\"data row8 col7\" >0.453117</td>\n",
       "      <td id=\"T_12155_row8_col8\" class=\"data row8 col8\" >1.000000</td>\n",
       "      <td id=\"T_12155_row8_col9\" class=\"data row8 col9\" >-0.006289</td>\n",
       "      <td id=\"T_12155_row8_col10\" class=\"data row8 col10\" >0.008221</td>\n",
       "      <td id=\"T_12155_row8_col11\" class=\"data row8 col11\" >-0.006946</td>\n",
       "      <td id=\"T_12155_row8_col12\" class=\"data row8 col12\" >0.084487</td>\n",
       "      <td id=\"T_12155_row8_col13\" class=\"data row8 col13\" >0.116698</td>\n",
       "      <td id=\"T_12155_row8_col14\" class=\"data row8 col14\" >0.033857</td>\n",
       "    </tr>\n",
       "    <tr>\n",
       "      <th id=\"T_12155_level0_row9\" class=\"row_heading level0 row9\" >smoke</th>\n",
       "      <td id=\"T_12155_row9_col0\" class=\"data row9 col0\" >-0.002066</td>\n",
       "      <td id=\"T_12155_row9_col1\" class=\"data row9 col1\" >-0.049457</td>\n",
       "      <td id=\"T_12155_row9_col2\" class=\"data row9 col2\" >0.335969</td>\n",
       "      <td id=\"T_12155_row9_col3\" class=\"data row9 col3\" >0.194373</td>\n",
       "      <td id=\"T_12155_row9_col4\" class=\"data row9 col4\" >0.065285</td>\n",
       "      <td id=\"T_12155_row9_col5\" class=\"data row9 col5\" >0.025361</td>\n",
       "      <td id=\"T_12155_row9_col6\" class=\"data row9 col6\" >0.023280</td>\n",
       "      <td id=\"T_12155_row9_col7\" class=\"data row9 col7\" >0.010044</td>\n",
       "      <td id=\"T_12155_row9_col8\" class=\"data row9 col8\" >-0.006289</td>\n",
       "      <td id=\"T_12155_row9_col9\" class=\"data row9 col9\" >1.000000</td>\n",
       "      <td id=\"T_12155_row9_col10\" class=\"data row9 col10\" >0.342553</td>\n",
       "      <td id=\"T_12155_row9_col11\" class=\"data row9 col11\" >0.024765</td>\n",
       "      <td id=\"T_12155_row9_col12\" class=\"data row9 col12\" >-0.018748</td>\n",
       "      <td id=\"T_12155_row9_col13\" class=\"data row9 col13\" >-0.030837</td>\n",
       "      <td id=\"T_12155_row9_col14\" class=\"data row9 col14\" >-0.008684</td>\n",
       "    </tr>\n",
       "    <tr>\n",
       "      <th id=\"T_12155_level0_row10\" class=\"row_heading level0 row10\" >alco</th>\n",
       "      <td id=\"T_12155_row10_col0\" class=\"data row10 col0\" >0.000048</td>\n",
       "      <td id=\"T_12155_row10_col1\" class=\"data row10 col1\" >-0.029487</td>\n",
       "      <td id=\"T_12155_row10_col2\" class=\"data row10 col2\" >0.169548</td>\n",
       "      <td id=\"T_12155_row10_col3\" class=\"data row10 col3\" >0.097031</td>\n",
       "      <td id=\"T_12155_row10_col4\" class=\"data row10 col4\" >0.064993</td>\n",
       "      <td id=\"T_12155_row10_col5\" class=\"data row10 col5\" >0.029608</td>\n",
       "      <td id=\"T_12155_row10_col6\" class=\"data row10 col6\" >0.033848</td>\n",
       "      <td id=\"T_12155_row10_col7\" class=\"data row10 col7\" >0.031420</td>\n",
       "      <td id=\"T_12155_row10_col8\" class=\"data row10 col8\" >0.008221</td>\n",
       "      <td id=\"T_12155_row10_col9\" class=\"data row10 col9\" >0.342553</td>\n",
       "      <td id=\"T_12155_row10_col10\" class=\"data row10 col10\" >1.000000</td>\n",
       "      <td id=\"T_12155_row10_col11\" class=\"data row10 col11\" >0.025149</td>\n",
       "      <td id=\"T_12155_row10_col12\" class=\"data row10 col12\" >-0.010778</td>\n",
       "      <td id=\"T_12155_row10_col13\" class=\"data row10 col13\" >0.017530</td>\n",
       "      <td id=\"T_12155_row10_col14\" class=\"data row10 col14\" >-0.001486</td>\n",
       "    </tr>\n",
       "    <tr>\n",
       "      <th id=\"T_12155_level0_row11\" class=\"row_heading level0 row11\" >active</th>\n",
       "      <td id=\"T_12155_row11_col0\" class=\"data row11 col0\" >0.004988</td>\n",
       "      <td id=\"T_12155_row11_col1\" class=\"data row11 col1\" >-0.010423</td>\n",
       "      <td id=\"T_12155_row11_col2\" class=\"data row11 col2\" >0.007141</td>\n",
       "      <td id=\"T_12155_row11_col3\" class=\"data row11 col3\" >-0.010173</td>\n",
       "      <td id=\"T_12155_row11_col4\" class=\"data row11 col4\" >-0.015162</td>\n",
       "      <td id=\"T_12155_row11_col5\" class=\"data row11 col5\" >0.001742</td>\n",
       "      <td id=\"T_12155_row11_col6\" class=\"data row11 col6\" >0.000673</td>\n",
       "      <td id=\"T_12155_row11_col7\" class=\"data row11 col7\" >0.008963</td>\n",
       "      <td id=\"T_12155_row11_col8\" class=\"data row11 col8\" >-0.006946</td>\n",
       "      <td id=\"T_12155_row11_col9\" class=\"data row11 col9\" >0.024765</td>\n",
       "      <td id=\"T_12155_row11_col10\" class=\"data row11 col10\" >0.025149</td>\n",
       "      <td id=\"T_12155_row11_col11\" class=\"data row11 col11\" >1.000000</td>\n",
       "      <td id=\"T_12155_row11_col12\" class=\"data row11 col12\" >-0.038006</td>\n",
       "      <td id=\"T_12155_row11_col13\" class=\"data row11 col13\" >-0.011119</td>\n",
       "      <td id=\"T_12155_row11_col14\" class=\"data row11 col14\" >0.002971</td>\n",
       "    </tr>\n",
       "    <tr>\n",
       "      <th id=\"T_12155_level0_row12\" class=\"row_heading level0 row12\" >cardio</th>\n",
       "      <td id=\"T_12155_row12_col0\" class=\"data row12 col0\" >0.005989</td>\n",
       "      <td id=\"T_12155_row12_col1\" class=\"data row12 col1\" >0.229783</td>\n",
       "      <td id=\"T_12155_row12_col2\" class=\"data row12 col2\" >-0.000036</td>\n",
       "      <td id=\"T_12155_row12_col3\" class=\"data row12 col3\" >-0.017401</td>\n",
       "      <td id=\"T_12155_row12_col4\" class=\"data row12 col4\" >0.166527</td>\n",
       "      <td id=\"T_12155_row12_col5\" class=\"data row12 col5\" >0.431645</td>\n",
       "      <td id=\"T_12155_row12_col6\" class=\"data row12 col6\" >0.333253</td>\n",
       "      <td id=\"T_12155_row12_col7\" class=\"data row12 col7\" >0.218209</td>\n",
       "      <td id=\"T_12155_row12_col8\" class=\"data row12 col8\" >0.084487</td>\n",
       "      <td id=\"T_12155_row12_col9\" class=\"data row12 col9\" >-0.018748</td>\n",
       "      <td id=\"T_12155_row12_col10\" class=\"data row12 col10\" >-0.010778</td>\n",
       "      <td id=\"T_12155_row12_col11\" class=\"data row12 col11\" >-0.038006</td>\n",
       "      <td id=\"T_12155_row12_col12\" class=\"data row12 col12\" >1.000000</td>\n",
       "      <td id=\"T_12155_row12_col13\" class=\"data row12 col13\" >0.178303</td>\n",
       "      <td id=\"T_12155_row12_col14\" class=\"data row12 col14\" >0.026600</td>\n",
       "    </tr>\n",
       "    <tr>\n",
       "      <th id=\"T_12155_level0_row13\" class=\"row_heading level0 row13\" >bmi</th>\n",
       "      <td id=\"T_12155_row13_col0\" class=\"data row13 col0\" >0.000652</td>\n",
       "      <td id=\"T_12155_row13_col1\" class=\"data row13 col1\" >0.091892</td>\n",
       "      <td id=\"T_12155_row13_col2\" class=\"data row13 col2\" >-0.112684</td>\n",
       "      <td id=\"T_12155_row13_col3\" class=\"data row13 col3\" >-0.193105</td>\n",
       "      <td id=\"T_12155_row13_col4\" class=\"data row13 col4\" >0.874435</td>\n",
       "      <td id=\"T_12155_row13_col5\" class=\"data row13 col5\" >0.246155</td>\n",
       "      <td id=\"T_12155_row13_col6\" class=\"data row13 col6\" >0.215687</td>\n",
       "      <td id=\"T_12155_row13_col7\" class=\"data row13 col7\" >0.170307</td>\n",
       "      <td id=\"T_12155_row13_col8\" class=\"data row13 col8\" >0.116698</td>\n",
       "      <td id=\"T_12155_row13_col9\" class=\"data row13 col9\" >-0.030837</td>\n",
       "      <td id=\"T_12155_row13_col10\" class=\"data row13 col10\" >0.017530</td>\n",
       "      <td id=\"T_12155_row13_col11\" class=\"data row13 col11\" >-0.011119</td>\n",
       "      <td id=\"T_12155_row13_col12\" class=\"data row13 col12\" >0.178303</td>\n",
       "      <td id=\"T_12155_row13_col13\" class=\"data row13 col13\" >1.000000</td>\n",
       "      <td id=\"T_12155_row13_col14\" class=\"data row13 col14\" >0.322095</td>\n",
       "    </tr>\n",
       "    <tr>\n",
       "      <th id=\"T_12155_level0_row14\" class=\"row_heading level0 row14\" >extremebmi</th>\n",
       "      <td id=\"T_12155_row14_col0\" class=\"data row14 col0\" >-0.003893</td>\n",
       "      <td id=\"T_12155_row14_col1\" class=\"data row14 col1\" >0.003454</td>\n",
       "      <td id=\"T_12155_row14_col2\" class=\"data row14 col2\" >-0.036540</td>\n",
       "      <td id=\"T_12155_row14_col3\" class=\"data row14 col3\" >-0.040560</td>\n",
       "      <td id=\"T_12155_row14_col4\" class=\"data row14 col4\" >0.285878</td>\n",
       "      <td id=\"T_12155_row14_col5\" class=\"data row14 col5\" >0.043377</td>\n",
       "      <td id=\"T_12155_row14_col6\" class=\"data row14 col6\" >0.036923</td>\n",
       "      <td id=\"T_12155_row14_col7\" class=\"data row14 col7\" >0.027854</td>\n",
       "      <td id=\"T_12155_row14_col8\" class=\"data row14 col8\" >0.033857</td>\n",
       "      <td id=\"T_12155_row14_col9\" class=\"data row14 col9\" >-0.008684</td>\n",
       "      <td id=\"T_12155_row14_col10\" class=\"data row14 col10\" >-0.001486</td>\n",
       "      <td id=\"T_12155_row14_col11\" class=\"data row14 col11\" >0.002971</td>\n",
       "      <td id=\"T_12155_row14_col12\" class=\"data row14 col12\" >0.026600</td>\n",
       "      <td id=\"T_12155_row14_col13\" class=\"data row14 col13\" >0.322095</td>\n",
       "      <td id=\"T_12155_row14_col14\" class=\"data row14 col14\" >1.000000</td>\n",
       "    </tr>\n",
       "  </tbody>\n",
       "</table>\n"
      ],
      "text/plain": [
       "<pandas.io.formats.style.Styler at 0x20d0d4d8b20>"
      ]
     },
     "execution_count": 631,
     "metadata": {},
     "output_type": "execute_result"
    }
   ],
   "source": [
    "corr = df3.corr(method=\"pearson\")\n",
    "cmap = sns.cm.vlag_r\n",
    "corr.style.background_gradient(cmap=cmap)"
   ]
  },
  {
   "cell_type": "code",
   "execution_count": 632,
   "id": "8b67f656",
   "metadata": {},
   "outputs": [
    {
     "data": {
      "image/png": "[encoded data removed]",
      "text/plain": [
       "<Figure size 576x864 with 2 Axes>"
      ]
     },
     "metadata": {
      "needs_background": "light"
     },
     "output_type": "display_data"
    }
   ],
   "source": [
    "plt.figure(figsize=(8, 12))\n",
    "heatmap = sns.heatmap(df3.corr()[['cardio']].sort_values(by='cardio', ascending=False), vmin=0, vmax=1, annot=True, cmap='BrBG')\n",
    "heatmap.set_title('Features Correlating with Cardiovascular disease', fontdict={'fontsize':18}, pad=16);"
   ]
  },
  {
   "cell_type": "markdown",
   "id": "82315e89",
   "metadata": {},
   "source": [
    "#### also found it interesting that chol and gluc had such a high correlation"
   ]
  },
  {
   "cell_type": "markdown",
   "id": "a353bd06",
   "metadata": {},
   "source": [
    "#### Setting up data to be more graphical ready"
   ]
  },
  {
   "cell_type": "code",
   "execution_count": 633,
   "id": "02909f5f",
   "metadata": {},
   "outputs": [],
   "source": [
    "stats=df3.copy()\n",
    "def prepareForStats():\n",
    "    ranges1 = [10,20,30,40,50,60,70,80,90,100]\n",
    "    stats['bmi']=pd.cut(stats.bmi, ranges)\n",
    "    ranges2 = [0,10,20,30,40,50,60,70,80,90,100]\n",
    "    stats['age']=pd.cut(df3.age, ranges)"
   ]
  },
  {
   "cell_type": "code",
   "execution_count": 634,
   "id": "a7d72b33",
   "metadata": {},
   "outputs": [],
   "source": [
    "prepareForStats();"
   ]
  },
  {
   "cell_type": "code",
   "execution_count": 635,
   "id": "02c3ce41",
   "metadata": {},
   "outputs": [
    {
     "data": {
      "text/plain": [
       "<AxesSubplot:xlabel='gender'>"
      ]
     },
     "execution_count": 635,
     "metadata": {},
     "output_type": "execute_result"
    },
    {
     "data": {
      "image/png": "[encoded data removed]",
      "text/plain": [
       "<Figure size 432x288 with 1 Axes>"
      ]
     },
     "metadata": {
      "needs_background": "light"
     },
     "output_type": "display_data"
    }
   ],
   "source": [
    "stats.groupby('gender')['cardio'].mean().plot(kind='bar')"
   ]
  },
  {
   "cell_type": "code",
   "execution_count": 695,
   "id": "949b908b",
   "metadata": {},
   "outputs": [
    {
     "data": {
      "text/plain": [
       "<AxesSubplot:xlabel='cholesterol'>"
      ]
     },
     "execution_count": 695,
     "metadata": {},
     "output_type": "execute_result"
    },
    {
     "data": {
      "image/png": "[encoded data removed]",
      "text/plain": [
       "<Figure size 432x288 with 1 Axes>"
      ]
     },
     "metadata": {
      "needs_background": "light"
     },
     "output_type": "display_data"
    }
   ],
   "source": [
    "stats.groupby('cholesterol')['cardio'].mean().plot(kind='bar')"
   ]
  },
  {
   "cell_type": "code",
   "execution_count": 636,
   "id": "b2a9ab81",
   "metadata": {},
   "outputs": [
    {
     "data": {
      "text/plain": [
       "<AxesSubplot:xlabel='cholesterol'>"
      ]
     },
     "execution_count": 636,
     "metadata": {},
     "output_type": "execute_result"
    },
    {
     "data": {
      "image/png": "[encoded data removed]",
      "text/plain": [
       "<Figure size 432x288 with 1 Axes>"
      ]
     },
     "metadata": {
      "needs_background": "light"
     },
     "output_type": "display_data"
    }
   ],
   "source": [
    "stats.groupby('cholesterol')['cardio'].mean().plot(kind='line')"
   ]
  },
  {
   "cell_type": "code",
   "execution_count": 637,
   "id": "f31ddd7d",
   "metadata": {},
   "outputs": [
    {
     "data": {
      "text/plain": [
       "<AxesSubplot:ylabel='cardio'>"
      ]
     },
     "execution_count": 637,
     "metadata": {},
     "output_type": "execute_result"
    },
    {
     "data": {
      "image/png": "[encoded data removed]",
      "text/plain": [
       "<Figure size 432x288 with 1 Axes>"
      ]
     },
     "metadata": {},
     "output_type": "display_data"
    }
   ],
   "source": [
    "stats.groupby('age')['cardio'].mean().plot(kind='pie')"
   ]
  },
  {
   "cell_type": "code",
   "execution_count": 638,
   "id": "88d0c759",
   "metadata": {},
   "outputs": [
    {
     "data": {
      "text/plain": [
       "<AxesSubplot:xlabel='bmi'>"
      ]
     },
     "execution_count": 638,
     "metadata": {},
     "output_type": "execute_result"
    },
    {
     "data": {
      "image/png": "[encoded data removed]",
      "text/plain": [
       "<Figure size 432x288 with 1 Axes>"
      ]
     },
     "metadata": {
      "needs_background": "light"
     },
     "output_type": "display_data"
    }
   ],
   "source": [
    "stats.groupby('bmi')['cardio'].mean().plot(kind='line')"
   ]
  },
  {
   "cell_type": "markdown",
   "id": "3dabbaca",
   "metadata": {},
   "source": [
    "### Deciding on the values to use for the model"
   ]
  },
  {
   "cell_type": "code",
   "execution_count": null,
   "id": "9235a680",
   "metadata": {},
   "outputs": [],
   "source": [
    "heartModelData=df3[['bmi', 'age', 'cholesterol','ap_lo','ap_hi','weight','cardio']].copy()\n",
    "heartModelData"
   ]
  },
  {
   "cell_type": "code",
   "execution_count": 640,
   "id": "d792ee71",
   "metadata": {},
   "outputs": [
    {
     "data": {
      "text/html": [
       "<div>\n",
       "<style scoped>\n",
       "    .dataframe tbody tr th:only-of-type {\n",
       "        vertical-align: middle;\n",
       "    }\n",
       "\n",
       "    .dataframe tbody tr th {\n",
       "        vertical-align: top;\n",
       "    }\n",
       "\n",
       "    .dataframe thead th {\n",
       "        text-align: right;\n",
       "    }\n",
       "</style>\n",
       "<table border=\"1\" class=\"dataframe\">\n",
       "  <thead>\n",
       "    <tr style=\"text-align: right;\">\n",
       "      <th></th>\n",
       "      <th>bmi</th>\n",
       "      <th>age</th>\n",
       "      <th>cholesterol</th>\n",
       "      <th>ap_lo</th>\n",
       "      <th>ap_hi</th>\n",
       "      <th>gluc</th>\n",
       "      <th>weight</th>\n",
       "      <th>cardio</th>\n",
       "    </tr>\n",
       "  </thead>\n",
       "  <tbody>\n",
       "    <tr>\n",
       "      <th>0</th>\n",
       "      <td>21</td>\n",
       "      <td>50</td>\n",
       "      <td>1</td>\n",
       "      <td>80</td>\n",
       "      <td>110</td>\n",
       "      <td>1</td>\n",
       "      <td>62.0</td>\n",
       "      <td>0</td>\n",
       "    </tr>\n",
       "    <tr>\n",
       "      <th>1</th>\n",
       "      <td>34</td>\n",
       "      <td>55</td>\n",
       "      <td>3</td>\n",
       "      <td>90</td>\n",
       "      <td>140</td>\n",
       "      <td>1</td>\n",
       "      <td>85.0</td>\n",
       "      <td>1</td>\n",
       "    </tr>\n",
       "    <tr>\n",
       "      <th>2</th>\n",
       "      <td>23</td>\n",
       "      <td>51</td>\n",
       "      <td>3</td>\n",
       "      <td>70</td>\n",
       "      <td>130</td>\n",
       "      <td>1</td>\n",
       "      <td>64.0</td>\n",
       "      <td>1</td>\n",
       "    </tr>\n",
       "    <tr>\n",
       "      <th>3</th>\n",
       "      <td>28</td>\n",
       "      <td>48</td>\n",
       "      <td>1</td>\n",
       "      <td>100</td>\n",
       "      <td>150</td>\n",
       "      <td>1</td>\n",
       "      <td>82.0</td>\n",
       "      <td>1</td>\n",
       "    </tr>\n",
       "    <tr>\n",
       "      <th>5</th>\n",
       "      <td>29</td>\n",
       "      <td>60</td>\n",
       "      <td>2</td>\n",
       "      <td>80</td>\n",
       "      <td>120</td>\n",
       "      <td>2</td>\n",
       "      <td>67.0</td>\n",
       "      <td>0</td>\n",
       "    </tr>\n",
       "    <tr>\n",
       "      <th>...</th>\n",
       "      <td>...</td>\n",
       "      <td>...</td>\n",
       "      <td>...</td>\n",
       "      <td>...</td>\n",
       "      <td>...</td>\n",
       "      <td>...</td>\n",
       "      <td>...</td>\n",
       "      <td>...</td>\n",
       "    </tr>\n",
       "    <tr>\n",
       "      <th>69994</th>\n",
       "      <td>29</td>\n",
       "      <td>57</td>\n",
       "      <td>1</td>\n",
       "      <td>80</td>\n",
       "      <td>150</td>\n",
       "      <td>1</td>\n",
       "      <td>80.0</td>\n",
       "      <td>1</td>\n",
       "    </tr>\n",
       "    <tr>\n",
       "      <th>69995</th>\n",
       "      <td>26</td>\n",
       "      <td>52</td>\n",
       "      <td>1</td>\n",
       "      <td>80</td>\n",
       "      <td>120</td>\n",
       "      <td>1</td>\n",
       "      <td>76.0</td>\n",
       "      <td>0</td>\n",
       "    </tr>\n",
       "    <tr>\n",
       "      <th>69996</th>\n",
       "      <td>50</td>\n",
       "      <td>61</td>\n",
       "      <td>2</td>\n",
       "      <td>90</td>\n",
       "      <td>140</td>\n",
       "      <td>2</td>\n",
       "      <td>126.0</td>\n",
       "      <td>1</td>\n",
       "    </tr>\n",
       "    <tr>\n",
       "      <th>69998</th>\n",
       "      <td>27</td>\n",
       "      <td>61</td>\n",
       "      <td>1</td>\n",
       "      <td>80</td>\n",
       "      <td>135</td>\n",
       "      <td>2</td>\n",
       "      <td>72.0</td>\n",
       "      <td>1</td>\n",
       "    </tr>\n",
       "    <tr>\n",
       "      <th>69999</th>\n",
       "      <td>24</td>\n",
       "      <td>56</td>\n",
       "      <td>2</td>\n",
       "      <td>80</td>\n",
       "      <td>120</td>\n",
       "      <td>1</td>\n",
       "      <td>72.0</td>\n",
       "      <td>0</td>\n",
       "    </tr>\n",
       "  </tbody>\n",
       "</table>\n",
       "<p>62761 rows × 8 columns</p>\n",
       "</div>"
      ],
      "text/plain": [
       "       bmi  age  cholesterol  ap_lo  ap_hi  gluc  weight  cardio\n",
       "0       21   50            1     80    110     1    62.0       0\n",
       "1       34   55            3     90    140     1    85.0       1\n",
       "2       23   51            3     70    130     1    64.0       1\n",
       "3       28   48            1    100    150     1    82.0       1\n",
       "5       29   60            2     80    120     2    67.0       0\n",
       "...    ...  ...          ...    ...    ...   ...     ...     ...\n",
       "69994   29   57            1     80    150     1    80.0       1\n",
       "69995   26   52            1     80    120     1    76.0       0\n",
       "69996   50   61            2     90    140     2   126.0       1\n",
       "69998   27   61            1     80    135     2    72.0       1\n",
       "69999   24   56            2     80    120     1    72.0       0\n",
       "\n",
       "[62761 rows x 8 columns]"
      ]
     },
     "execution_count": 640,
     "metadata": {},
     "output_type": "execute_result"
    }
   ],
   "source": [
    "# Convert the dataset into two arrays\n",
    "\n",
    "array = heartModelData.values\n",
    "# Create two (sub) arrays from it\n",
    "X = array[:,0:6] # data without class\n",
    "y = array[:,7]   # just class\n",
    "X\n",
    "heartModelData"
   ]
  },
  {
   "cell_type": "code",
   "execution_count": 653,
   "id": "137f3384",
   "metadata": {},
   "outputs": [],
   "source": [
    "from sklearn.model_selection import train_test_split\n",
    "\n",
    "X_train, X_test, Y_train, Y_test = train_test_split(X, y,test_size=0.2, random_state=25)"
   ]
  },
  {
   "cell_type": "code",
   "execution_count": 654,
   "id": "572f5147",
   "metadata": {},
   "outputs": [
    {
     "data": {
      "text/plain": [
       "array([[ 29.,  49.,   3.,  80., 120.,   1.],\n",
       "       [ 23.,  56.,   1.,  80., 120.,   1.],\n",
       "       [ 22.,  54.,   1.,  80., 120.,   1.],\n",
       "       ...,\n",
       "       [ 24.,  50.,   1.,  80., 120.,   1.],\n",
       "       [ 23.,  55.,   1.,  70., 110.,   1.],\n",
       "       [ 23.,  58.,   1.,  80., 120.,   1.]])"
      ]
     },
     "execution_count": 654,
     "metadata": {},
     "output_type": "execute_result"
    }
   ],
   "source": [
    "X_train"
   ]
  },
  {
   "cell_type": "code",
   "execution_count": 655,
   "id": "187f788f",
   "metadata": {},
   "outputs": [
    {
     "data": {
      "text/plain": [
       "array([0., 0., 0., ..., 0., 0., 0.])"
      ]
     },
     "execution_count": 655,
     "metadata": {},
     "output_type": "execute_result"
    }
   ],
   "source": [
    "Y_train"
   ]
  },
  {
   "cell_type": "markdown",
   "id": "da815e5b",
   "metadata": {},
   "source": [
    "# Improving model / finding better model"
   ]
  },
  {
   "cell_type": "code",
   "execution_count": 656,
   "id": "ea7ae3b4",
   "metadata": {},
   "outputs": [],
   "source": [
    "from sklearn import model_selection\n",
    "from sklearn.metrics import classification_report\n",
    "from sklearn.metrics import confusion_matrix\n",
    "from sklearn.metrics import accuracy_score\n",
    "from sklearn.linear_model import LogisticRegression\n",
    "from sklearn.linear_model import LinearRegression\n",
    "from sklearn.tree import DecisionTreeClassifier\n",
    "from sklearn.neighbors import KNeighborsClassifier\n",
    "from sklearn.naive_bayes import GaussianNB\n",
    "from sklearn.svm import SVC\n",
    "import sklearn.ensemble as ske\n",
    "from sklearn.cluster import KMeans"
   ]
  },
  {
   "cell_type": "code",
   "execution_count": 657,
   "id": "70ed714e",
   "metadata": {},
   "outputs": [],
   "source": [
    "models = []\n",
    "models.append(('KNN', KNeighborsClassifier()))\n",
    "models.append(('NB', GaussianNB()))\n",
    "models.append(('Forrest',ske.RandomForestClassifier()))\n",
    "#models.append(('Decision Tree',DecisionTreeClassifier()))\n",
    "models.append(('Logression',LogisticRegression()))\n",
    "#models.append(('Kmeans',KMeans()))\n",
    "models.append(('SVC',SVC()))"
   ]
  },
  {
   "cell_type": "code",
   "execution_count": 658,
   "id": "962d59c0",
   "metadata": {},
   "outputs": [],
   "source": [
    "# value for seed to be used in all tests\n",
    "seed = 7\n",
    "\n",
    "#  the number of repeated trainings of one model\n",
    "num_repeat = 10"
   ]
  },
  {
   "cell_type": "code",
   "execution_count": 659,
   "id": "0234a842",
   "metadata": {},
   "outputs": [],
   "source": [
    "scoring = 'accuracy'"
   ]
  },
  {
   "cell_type": "code",
   "execution_count": 660,
   "id": "ab838e3f",
   "metadata": {},
   "outputs": [],
   "source": [
    "results = []\n",
    "names = []\n",
    "def runModelFitting():\n",
    "    for name, model in models:\n",
    "        # prepare randomization of splits\n",
    "        kfold = model_selection.KFold(n_splits=num_repeat, random_state=seed, shuffle=True)\n",
    "\n",
    "        # implement the model and calculate a score based on 'accuracy' (scoring)\n",
    "        cv_results = model_selection.cross_val_score(model, X_test, Y_test, cv=kfold, scoring=scoring)\n",
    "        # store the result of this method in array results[]\n",
    "        results.append(cv_results)\n",
    "\n",
    "        # store the name of this method in array names[]\n",
    "        names.append(name)\n",
    "\n",
    "        # tell what you have done so far\n",
    "        msg = \"%s: %f (%f)\" % (name, cv_results.mean(), cv_results.std())\n",
    "        print(msg)\n",
    "    \n",
    "# repeat the same for next method"
   ]
  },
  {
   "cell_type": "code",
   "execution_count": 661,
   "id": "4a27d32b",
   "metadata": {},
   "outputs": [
    {
     "name": "stdout",
     "output_type": "stream",
     "text": [
      "KNN: 0.683661 (0.012746)\n",
      "NB: 0.706524 (0.010917)\n",
      "Forrest: 0.679598 (0.009598)\n"
     ]
    },
    {
     "name": "stderr",
     "output_type": "stream",
     "text": [
      "C:\\Users\\matti\\anaconda3\\lib\\site-packages\\sklearn\\linear_model\\_logistic.py:763: ConvergenceWarning: lbfgs failed to converge (status=1):\n",
      "STOP: TOTAL NO. of ITERATIONS REACHED LIMIT.\n",
      "\n",
      "Increase the number of iterations (max_iter) or scale the data as shown in:\n",
      "    https://scikit-learn.org/stable/modules/preprocessing.html\n",
      "Please also refer to the documentation for alternative solver options:\n",
      "    https://scikit-learn.org/stable/modules/linear_model.html#logistic-regression\n",
      "  n_iter_i = _check_optimize_result(\n",
      "C:\\Users\\matti\\anaconda3\\lib\\site-packages\\sklearn\\linear_model\\_logistic.py:763: ConvergenceWarning: lbfgs failed to converge (status=1):\n",
      "STOP: TOTAL NO. of ITERATIONS REACHED LIMIT.\n",
      "\n",
      "Increase the number of iterations (max_iter) or scale the data as shown in:\n",
      "    https://scikit-learn.org/stable/modules/preprocessing.html\n",
      "Please also refer to the documentation for alternative solver options:\n",
      "    https://scikit-learn.org/stable/modules/linear_model.html#logistic-regression\n",
      "  n_iter_i = _check_optimize_result(\n"
     ]
    },
    {
     "name": "stdout",
     "output_type": "stream",
     "text": [
      "Logression: 0.719349 (0.007939)\n",
      "SVC: 0.710428 (0.009528)\n"
     ]
    }
   ],
   "source": [
    "#runModelFitting();"
   ]
  },
  {
   "cell_type": "markdown",
   "id": "f365d877",
   "metadata": {},
   "source": [
    "### Top 3: Logression, SVC and NB\n",
    "#### Now that I know they are the best I will look closer at different metrics"
   ]
  },
  {
   "cell_type": "code",
   "execution_count": 662,
   "id": "92ed511f",
   "metadata": {},
   "outputs": [
    {
     "data": {
      "image/png": "[encoded data removed]",
      "text/plain": [
       "<Figure size 432x288 with 1 Axes>"
      ]
     },
     "metadata": {
      "needs_background": "light"
     },
     "output_type": "display_data"
    }
   ],
   "source": [
    "# Compare algorithms frame\n",
    "fig = plt.figure()\n",
    "fig.suptitle('Algorithm Comparison')\n",
    "\n",
    "# x axis includes sub-plots\n",
    "ax = fig.add_subplot(111)\n",
    "\n",
    "# y axis result values\n",
    "plt.boxplot(results)\n",
    "\n",
    "# x axis labels\n",
    "ax.set_xticklabels(names)\n",
    "\n",
    "plt.show()"
   ]
  },
  {
   "cell_type": "code",
   "execution_count": 663,
   "id": "ac816a91",
   "metadata": {},
   "outputs": [
    {
     "name": "stdout",
     "output_type": "stream",
     "text": [
      "0.7179160360073289\n",
      "[[4906 1333]\n",
      " [2208 4106]]\n",
      "              precision    recall  f1-score   support\n",
      "\n",
      "         0.0       0.69      0.79      0.73      6239\n",
      "         1.0       0.75      0.65      0.70      6314\n",
      "\n",
      "    accuracy                           0.72     12553\n",
      "   macro avg       0.72      0.72      0.72     12553\n",
      "weighted avg       0.72      0.72      0.72     12553\n",
      "\n"
     ]
    }
   ],
   "source": [
    "\n",
    "log = LogisticRegression()\n",
    "log.fit(X_train, Y_train)\n",
    "predictions = log.predict(X_test)\n",
    "\n",
    "# Calculated accuracy of the model over the validation set\n",
    "print(accuracy_score(Y_test, predictions))\n",
    "\n",
    "# Confusion matrix provides an indication of the three errors made ???? errors of predictions?\n",
    "print(confusion_matrix(Y_test, predictions))\n",
    "\n",
    "# Classification report provides a breakdown of each class by precision, recall, f1-score and support ????\n",
    "print(classification_report(Y_test, predictions))"
   ]
  },
  {
   "cell_type": "code",
   "execution_count": 664,
   "id": "12a9bf3d",
   "metadata": {},
   "outputs": [
    {
     "name": "stdout",
     "output_type": "stream",
     "text": [
      "0.7147295467218991\n",
      "[[5094 1145]\n",
      " [2436 3878]]\n",
      "              precision    recall  f1-score   support\n",
      "\n",
      "         0.0       0.68      0.82      0.74      6239\n",
      "         1.0       0.77      0.61      0.68      6314\n",
      "\n",
      "    accuracy                           0.71     12553\n",
      "   macro avg       0.72      0.72      0.71     12553\n",
      "weighted avg       0.72      0.71      0.71     12553\n",
      "\n"
     ]
    }
   ],
   "source": [
    "svc = SVC()\n",
    "svc.fit(X_train, Y_train)\n",
    "predictions = svc.predict(X_test)\n",
    "\n",
    "# Calculated accuracy of the model over the validation set\n",
    "print(accuracy_score(Y_test, predictions))\n",
    "\n",
    "# Confusion matrix provides an indication of the three errors made ???? errors of predictions?\n",
    "print(confusion_matrix(Y_test, predictions))\n",
    "\n",
    "# Classification report provides a breakdown of each class by precision, recall, f1-score and support ????\n",
    "print(classification_report(Y_test, predictions))"
   ]
  },
  {
   "cell_type": "code",
   "execution_count": 665,
   "id": "183b66b8",
   "metadata": {},
   "outputs": [
    {
     "name": "stdout",
     "output_type": "stream",
     "text": [
      "0.703576834222895\n",
      "[[4983 1256]\n",
      " [2465 3849]]\n",
      "              precision    recall  f1-score   support\n",
      "\n",
      "         0.0       0.67      0.80      0.73      6239\n",
      "         1.0       0.75      0.61      0.67      6314\n",
      "\n",
      "    accuracy                           0.70     12553\n",
      "   macro avg       0.71      0.70      0.70     12553\n",
      "weighted avg       0.71      0.70      0.70     12553\n",
      "\n"
     ]
    }
   ],
   "source": [
    "nb = GaussianNB()\n",
    "nb.fit(X_train, Y_train)\n",
    "predictions = nb.predict(X_test)\n",
    "\n",
    "# Calculated accuracy of the model over the validation set\n",
    "print(accuracy_score(Y_test, predictions))\n",
    "\n",
    "# Confusion matrix provides an indication of the three errors made ???? errors of predictions?\n",
    "print(confusion_matrix(Y_test, predictions))\n",
    "\n",
    "# Classification report provides a breakdown of each class by precision, recall, f1-score and support ????\n",
    "print(classification_report(Y_test, predictions))"
   ]
  },
  {
   "cell_type": "code",
   "execution_count": null,
   "id": "3fee4dd7",
   "metadata": {},
   "outputs": [],
   "source": [
    "df3.describe()"
   ]
  },
  {
   "cell_type": "code",
   "execution_count": null,
   "id": "dfea42de",
   "metadata": {},
   "outputs": [],
   "source": [
    "print(df3.shape)\n"
   ]
  },
  {
   "cell_type": "code",
   "execution_count": null,
   "id": "29304f38",
   "metadata": {},
   "outputs": [],
   "source": []
  },
  {
   "cell_type": "code",
   "execution_count": null,
   "id": "0bf013c6",
   "metadata": {},
   "outputs": [],
   "source": []
  }
 ],
 "metadata": {
  "kernelspec": {
   "display_name": "Python 3 (ipykernel)",
   "language": "python",
   "name": "python3"
  },
  "language_info": {
   "codemirror_mode": {
    "name": "ipython",
    "version": 3
   },
   "file_extension": ".py",
   "mimetype": "text/x-python",
   "name": "python",
   "nbconvert_exporter": "python",
   "pygments_lexer": "ipython3",
   "version": "3.9.7"
  }
 },
 "nbformat": 4,
 "nbformat_minor": 5
}
